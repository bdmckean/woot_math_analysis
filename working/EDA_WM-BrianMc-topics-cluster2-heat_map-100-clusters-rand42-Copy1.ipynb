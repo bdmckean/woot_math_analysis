{
 "cells": [
  {
   "cell_type": "code",
   "execution_count": 1,
   "metadata": {
    "collapsed": false
   },
   "outputs": [],
   "source": [
    "import pymongo\n",
    "import pandas as pd\n",
    "import numpy as np\n",
    "\n",
    "from pymongo import MongoClient\n",
    "from bson.objectid import ObjectId\n",
    "\n",
    "import datetime\n",
    "\n",
    "import matplotlib.pyplot as plt\n",
    "\n",
    "from collections import defaultdict\n",
    "\n",
    "\n",
    "%matplotlib inline\n",
    "import json\n",
    "plt.style.use('ggplot')\n",
    "\n",
    "import seaborn as sns\n",
    "\n",
    "from math import log10, floor"
   ]
  },
  {
   "cell_type": "code",
   "execution_count": 2,
   "metadata": {
    "collapsed": false
   },
   "outputs": [
    {
     "name": "stdout",
     "output_type": "stream",
     "text": [
      "Setup db access\n"
     ]
    }
   ],
   "source": [
    "## Connect to local DB\n",
    "\n",
    "client = MongoClient('localhost', 27017)\n",
    "print (\"Setup db access\")"
   ]
  },
  {
   "cell_type": "code",
   "execution_count": 3,
   "metadata": {
    "collapsed": false
   },
   "outputs": [],
   "source": [
    "#\n",
    "# Get collections from mongodb\n",
    "#\n",
    "#db = client.my_test_db\n",
    "db = client.test\n"
   ]
  },
  {
   "cell_type": "code",
   "execution_count": 4,
   "metadata": {
    "collapsed": true
   },
   "outputs": [],
   "source": [
    "chunk = 100000\n",
    "start = 0\n",
    "end = start + chunk"
   ]
  },
  {
   "cell_type": "code",
   "execution_count": 5,
   "metadata": {
    "collapsed": true
   },
   "outputs": [],
   "source": [
    "#reponses = db.anon_student_task_responses.find({'correct':False})[start:end]\n",
    "reponses = db.anon_student_task_responses.find()[start:end]"
   ]
  },
  {
   "cell_type": "code",
   "execution_count": 6,
   "metadata": {
    "collapsed": false
   },
   "outputs": [],
   "source": [
    "df_responses = pd.DataFrame(list(reponses))"
   ]
  },
  {
   "cell_type": "code",
   "execution_count": 7,
   "metadata": {
    "collapsed": false
   },
   "outputs": [
    {
     "name": "stdout",
     "output_type": "stream",
     "text": [
      "                        _id               behavioral_traits  bonus  correct  \\\n",
      "0  5a00f1739100de1a390000d0                              []  False     True   \n",
      "1  5a00f1739100de1a390000d5  [measuring_tools, orange_tick]  False     True   \n",
      "2  5a00f1739100de1a390000d9                              []  False     True   \n",
      "3  5a00f1739100de1a390000dc                              []  False     True   \n",
      "4  5a00f1739100de1a390000df                              []  False     True   \n",
      "\n",
      "       diff          id  incomplete         lesson  \\\n",
      "0  0.000000  nvrm82_9Yv       False       nline_1b   \n",
      "1  0.563288  jVG3p9f-20       False       nline_1b   \n",
      "2  0.601043  _NUUDSBMum       False  equivalence_0   \n",
      "3  0.686276  B6HmMEMpoL       False  equivalence_0   \n",
      "4  0.642014  IYWiIP26on       False  equivalence_0   \n",
      "\n",
      "                                       level_summary  \\\n",
      "0  {'entered': True, 'path': 'nline_1b', 'lm_stat...   \n",
      "1  {'entered': True, 'path': 'nline_1b', 'lm_stat...   \n",
      "2  {'subject': 'fractions', 'unit_name': 'frac_eq...   \n",
      "3  {'subject': 'fractions', 'unit_name': 'frac_eq...   \n",
      "4  {'subject': 'fractions', 'unit_name': 'frac_eq...   \n",
      "\n",
      "                                         problem_set    ...     \\\n",
      "0  lessons/fractions/lesson13_1/part_a/media/prob...    ...      \n",
      "1  lessons/fractions/lesson13_1/part_b/media/prob...    ...      \n",
      "2  lessons/fractions/lesson22_4/part_a/media/prob...    ...      \n",
      "3  lessons/fractions/lesson22_4/part_a/media/prob...    ...      \n",
      "4  lessons/fractions/lesson22_4/part_b/media/prob...    ...      \n",
      "\n",
      "                                      screenshot_url second_try  \\\n",
      "0  http://woot_math_cub.s3.amazonaws.com/ss/73538...      False   \n",
      "1  http://woot_math_cub.s3.amazonaws.com/ss/73538...      False   \n",
      "2  http://woot_math_cub.s3.amazonaws.com/ss/50253...      False   \n",
      "3  http://woot_math_cub.s3.amazonaws.com/ss/50253...      False   \n",
      "4  http://woot_math_cub.s3.amazonaws.com/ss/50253...      False   \n",
      "\n",
      "                             session_id  \\\n",
      "0  efaa1ff0-47dc-4eab-89f1-93d6b76de5a5   \n",
      "1  efaa1ff0-47dc-4eab-89f1-93d6b76de5a5   \n",
      "2  c258e462-a7e8-411a-bfa8-7d949a8a9a79   \n",
      "3  c258e462-a7e8-411a-bfa8-7d949a8a9a79   \n",
      "4  c258e462-a7e8-411a-bfa8-7d949a8a9a79   \n",
      "\n",
      "                                             student            sublesson  \\\n",
      "0  {'school_id': 'U4U2K7E1', 'grade': '3', 'secti...       nline_1b.parta   \n",
      "1  {'school_id': 'U4U2K7E1', 'grade': '3', 'secti...       nline_1b.partb   \n",
      "2  {'student_id': 'J3N5Q2O0C5', 'grade': '4', 'se...  equivalence_0.parta   \n",
      "3  {'student_id': 'J3N5Q2O0C5', 'grade': '4', 'se...  equivalence_0.parta   \n",
      "4  {'student_id': 'J3N5Q2O0C5', 'grade': '4', 'se...  equivalence_0.partb   \n",
      "\n",
      "              t time_spent     timestamp  \\\n",
      "0  1.470065e+12    43677.0  1.470065e+12   \n",
      "1  1.470065e+12    24239.0  1.470065e+12   \n",
      "2  1.470065e+12    19765.0  1.470065e+12   \n",
      "3  1.470065e+12     7236.0  1.470065e+12   \n",
      "4  1.470065e+12     4808.0  1.470065e+12   \n",
      "\n",
      "                                                 txt untouched  \n",
      "0  Use the 1/2 pieces to figure out how far the d...     False  \n",
      "1  Drag the panda to 4/4 of a yard from the start...     False  \n",
      "2  Model how many eighths are equal to one fourth...     False  \n",
      "3  Model how many halves are equal to four eighth...     False  \n",
      "4  Cameron ate  4/8  of a pizza.\\nCover the pizza...     False  \n",
      "\n",
      "[5 rows x 27 columns]\n"
     ]
    }
   ],
   "source": [
    "print (df_responses.head())"
   ]
  },
  {
   "cell_type": "code",
   "execution_count": 8,
   "metadata": {
    "collapsed": false
   },
   "outputs": [
    {
     "data": {
      "text/plain": [
       "(100000, 27)"
      ]
     },
     "execution_count": 8,
     "metadata": {},
     "output_type": "execute_result"
    }
   ],
   "source": [
    "df_responses.shape"
   ]
  },
  {
   "cell_type": "code",
   "execution_count": 9,
   "metadata": {
    "collapsed": true
   },
   "outputs": [],
   "source": [
    "df2 = df_responses.join(pd.DataFrame(df_responses[\"student\"].to_dict()).T)"
   ]
  },
  {
   "cell_type": "code",
   "execution_count": 10,
   "metadata": {
    "collapsed": true
   },
   "outputs": [],
   "source": [
    "df2 = df2.join(pd.DataFrame(df2['level_summary'].to_dict()).T)"
   ]
  },
  {
   "cell_type": "code",
   "execution_count": 11,
   "metadata": {
    "collapsed": true
   },
   "outputs": [],
   "source": [
    "df2 = df2.join(pd.DataFrame(df2['problems'].to_dict()).T)"
   ]
  },
  {
   "cell_type": "code",
   "execution_count": 12,
   "metadata": {
    "collapsed": false
   },
   "outputs": [],
   "source": [
    "df3  = df2.copy()"
   ]
  },
  {
   "cell_type": "code",
   "execution_count": 13,
   "metadata": {
    "collapsed": false
   },
   "outputs": [
    {
     "data": {
      "text/plain": [
       "_id                                              5a00f1739100de1a390001a8\n",
       "behavioral_traits                                                      []\n",
       "bonus                                                               False\n",
       "correct                                                             False\n",
       "diff                                                                    0\n",
       "id                                                             q2ElZZuy7P\n",
       "incomplete                                                          False\n",
       "lesson                                                         division_8\n",
       "level_summary           {'entered': True, 't_elapsed': 115577, 'unit_n...\n",
       "problem_set             lessons/fractions/lesson85/part_b/media/proble...\n",
       "problem_set_id                                                 qIkkuC4fAD\n",
       "problem_set_subspace                                                partb\n",
       "qual_id                                       qIkkuC4fAD.partb.q2ElZZuy7P\n",
       "randomly_selected                                                   False\n",
       "response                                                             None\n",
       "response_idx                                                            1\n",
       "retried                                                              True\n",
       "screenshot_url          http://woot_math_cub.s3.amazonaws.com/ss/74181...\n",
       "second_try                                                           True\n",
       "session_id                           87a38238-0f57-48a6-936a-ff89939a7050\n",
       "student                 {'grade': '6', 'student_id': 'A1Z8C1W4D7', 'sc...\n",
       "sublesson                                                division_8.partb\n",
       "t                                                             1.47008e+12\n",
       "time_spent                                                          13205\n",
       "timestamp                                                     1.47008e+12\n",
       "txt                     Drag the correct amount to complete this math ...\n",
       "untouched                                                           False\n",
       "grade                                                                   6\n",
       "mvt_group                                                             NaN\n",
       "mvt_group_code                                                        NaN\n",
       "school_id                                                        R9Y4K8C7\n",
       "section_id                                                       X3B9E2L7\n",
       "student_id                                                     A1Z8C1W4D7\n",
       "blank_slate_mastery     {'mean': 0.0011428465839074383, 'std_dev': 0.2...\n",
       "description             In the first part of this lesson, students lea...\n",
       "entered                                                              True\n",
       "lesson_type                                                             l\n",
       "lm_stats                {'created': 1470078123885.0, 'subject': 'fract...\n",
       "mastery                 {'mean': 0.0011428465839074383, 'std_dev': 0.2...\n",
       "name                                                           division_8\n",
       "path                                                           division_8\n",
       "problems                {'nuntouched': 0, 'nwrong': 4, 'nretry_wrong':...\n",
       "stars                                             {'old': 0, 'earned': 0}\n",
       "subject                                                         fractions\n",
       "t_elapsed                                                          115577\n",
       "time_entered                                                  1.47008e+12\n",
       "time_exited                                                   1.47008e+12\n",
       "title                            Interpreting and Expressing a/b when a>b\n",
       "type                                                               lesson\n",
       "unit_name                                                      frac_div_1\n",
       "unit_rank                                                               1\n",
       "nretry_right                                                            3\n",
       "nretry_wrong                                                            1\n",
       "nright                                                                  3\n",
       "ntotal                                                                  7\n",
       "nuntouched                                                              0\n",
       "nwrong                                                                  4\n",
       "Name: 70, dtype: object"
      ]
     },
     "execution_count": 13,
     "metadata": {},
     "output_type": "execute_result"
    }
   ],
   "source": [
    "df2.iloc[70]"
   ]
  },
  {
   "cell_type": "code",
   "execution_count": 14,
   "metadata": {
    "collapsed": false
   },
   "outputs": [
    {
     "name": "stdout",
     "output_type": "stream",
     "text": [
      "Index(['_id', 'behavioral_traits', 'bonus', 'correct', 'diff', 'id',\n",
      "       'incomplete', 'lesson', 'level_summary', 'problem_set',\n",
      "       'problem_set_id', 'problem_set_subspace', 'qual_id',\n",
      "       'randomly_selected', 'response', 'response_idx', 'retried',\n",
      "       'screenshot_url', 'second_try', 'session_id', 'student', 'sublesson',\n",
      "       't', 'time_spent', 'timestamp', 'txt', 'untouched'],\n",
      "      dtype='object')\n"
     ]
    }
   ],
   "source": [
    "## Look act columns\n",
    "print (df_responses.columns)"
   ]
  },
  {
   "cell_type": "code",
   "execution_count": 15,
   "metadata": {
    "collapsed": false
   },
   "outputs": [
    {
     "name": "stdout",
     "output_type": "stream",
     "text": [
      "100000 Number of entries\n"
     ]
    }
   ],
   "source": [
    "## How many data samples\n",
    "print (len(df_responses), \"Number of entries\")"
   ]
  },
  {
   "cell_type": "code",
   "execution_count": 16,
   "metadata": {
    "collapsed": true
   },
   "outputs": [],
   "source": [
    "## Make 'description' a feature wih important words mapped"
   ]
  },
  {
   "cell_type": "code",
   "execution_count": 17,
   "metadata": {
    "collapsed": false
   },
   "outputs": [
    {
     "data": {
      "text/plain": [
       "Index(['_id', 'behavioral_traits', 'bonus', 'correct', 'diff', 'id',\n",
       "       'incomplete', 'lesson', 'level_summary', 'problem_set',\n",
       "       'problem_set_id', 'problem_set_subspace', 'qual_id',\n",
       "       'randomly_selected', 'response', 'response_idx', 'retried',\n",
       "       'screenshot_url', 'second_try', 'session_id', 'student', 'sublesson',\n",
       "       't', 'time_spent', 'timestamp', 'txt', 'untouched', 'grade',\n",
       "       'mvt_group', 'mvt_group_code', 'school_id', 'section_id', 'student_id',\n",
       "       'blank_slate_mastery', 'description', 'entered', 'lesson_type',\n",
       "       'lm_stats', 'mastery', 'name', 'path', 'problems', 'stars', 'subject',\n",
       "       't_elapsed', 'time_entered', 'time_exited', 'title', 'type',\n",
       "       'unit_name', 'unit_rank', 'nretry_right', 'nretry_wrong', 'nright',\n",
       "       'ntotal', 'nuntouched', 'nwrong'],\n",
       "      dtype='object')"
      ]
     },
     "execution_count": 17,
     "metadata": {},
     "output_type": "execute_result"
    }
   ],
   "source": [
    "df3.columns"
   ]
  },
  {
   "cell_type": "code",
   "execution_count": 18,
   "metadata": {
    "collapsed": false
   },
   "outputs": [],
   "source": [
    "df3['percent_prob_correct'] = df3['nright'].astype(float) / df3['ntotal']"
   ]
  },
  {
   "cell_type": "code",
   "execution_count": null,
   "metadata": {
    "collapsed": true
   },
   "outputs": [],
   "source": []
  },
  {
   "cell_type": "code",
   "execution_count": 19,
   "metadata": {
    "collapsed": false
   },
   "outputs": [
    {
     "data": {
      "text/plain": [
       "_id                                              5a00f1739100de1a390000d0\n",
       "behavioral_traits                                                      []\n",
       "bonus                                                               False\n",
       "correct                                                              True\n",
       "diff                                                                    0\n",
       "id                                                             nvrm82_9Yv\n",
       "incomplete                                                          False\n",
       "lesson                                                           nline_1b\n",
       "level_summary           {'entered': True, 'path': 'nline_1b', 'lm_stat...\n",
       "problem_set             lessons/fractions/lesson13_1/part_a/media/prob...\n",
       "problem_set_id                                                 _Pd6uU3viE\n",
       "problem_set_subspace                                                parta\n",
       "qual_id                                       _Pd6uU3viE.parta.nvrm82_9Yv\n",
       "randomly_selected                                                   False\n",
       "response                {'fraction_cblock_chains': [{'right': 442, 'su...\n",
       "response_idx                                                            0\n",
       "retried                                                               NaN\n",
       "screenshot_url          http://woot_math_cub.s3.amazonaws.com/ss/73538...\n",
       "second_try                                                          False\n",
       "session_id                           efaa1ff0-47dc-4eab-89f1-93d6b76de5a5\n",
       "student                 {'school_id': 'U4U2K7E1', 'grade': '3', 'secti...\n",
       "sublesson                                                  nline_1b.parta\n",
       "t                                                             1.47006e+12\n",
       "time_spent                                                          43677\n",
       "timestamp                                                     1.47006e+12\n",
       "txt                     Use the 1/2 pieces to figure out how far the d...\n",
       "untouched                                                           False\n",
       "grade                                                                   3\n",
       "mvt_group                                                             NaN\n",
       "mvt_group_code                                                        NaN\n",
       "school_id                                                        U4U2K7E1\n",
       "section_id                                                       C0Z5U5B2\n",
       "student_id                                                     U8T3K5I3A7\n",
       "blank_slate_mastery     {'std_dev': 0.34480277948866417, 'mean': 0.761...\n",
       "description             In the first part of this lesson, student part...\n",
       "entered                                                              True\n",
       "lesson_type                                                             l\n",
       "lm_stats                {'last_update': 1470064457093.0, 'lesson_name'...\n",
       "mastery                 {'std_dev': 0.16389859255739028, 'mean': -0.02...\n",
       "name                                                             nline_1b\n",
       "path                                                             nline_1b\n",
       "problems                {'nretry_right': 0, 'nuntouched': 0, 'ntotal':...\n",
       "stars                                             {'old': 0, 'earned': 3}\n",
       "subject                                                         fractions\n",
       "t_elapsed                                                          416692\n",
       "time_entered                                                  1.47006e+12\n",
       "time_exited                                                   1.47006e+12\n",
       "title                                        Partitioning the Number Line\n",
       "type                                                               lesson\n",
       "unit_name                                                    frac_nline_1\n",
       "unit_rank                                                               1\n",
       "nretry_right                                                            0\n",
       "nretry_wrong                                                            0\n",
       "nright                                                                  9\n",
       "ntotal                                                                  9\n",
       "nuntouched                                                              0\n",
       "nwrong                                                                  0\n",
       "percent_prob_correct                                                    1\n",
       "Name: 0, dtype: object"
      ]
     },
     "execution_count": 19,
     "metadata": {},
     "output_type": "execute_result"
    }
   ],
   "source": [
    "df3.iloc[0]"
   ]
  },
  {
   "cell_type": "code",
   "execution_count": 20,
   "metadata": {
    "collapsed": false,
    "scrolled": false
   },
   "outputs": [
    {
     "name": "stdout",
     "output_type": "stream",
     "text": [
      "index\" 0\n",
      "nline_1b\n",
      "{'fraction_cblock_chains': [{'right': 442, 'sum': {'numerator': 1, 'denominator': 2, '__as3_type': 'Fraction'}, 'pieces': ['1/2'], 'left': 97, 'lcm_sum': {'numerator': 1, 'denominator': 2, '__as3_type': 'Fraction'}}], 'plain_image_groups': [{'total': 1, 'url': 'assets/cms/wootmath_fractions/number_line/markers/end_marker_noline.swf'}, {'total': 1, 'url': 'assets/cms/wootmath_fractions/number_line/markers/start_marker.swf'}, {'total': 1, 'url': 'assets/cms/wootmath_fractions/number_line/objects/dog.swf'}, {'total': 1, 'url': 'assets/cms/wootmath_fractions/number_line/objects/cat_dog_trail.swf'}], 'den': '2', 'fraction_input_value': '1/2', 'num': '1', 'fraction_cblock_total_count': 1, 'numberline_associations': [[]], 'fraction_cblock_counts': {'1/2': 1}, 'fraction_cblock_containment': {}, 'whole': ''}\n",
      "index\" 1\n",
      "nline_1b\n",
      "{'fraction_cblock_total_count': 4, 'plain_image_groups': [{'total': 1, 'url': 'assets/cms/wootmath_fractions/number_line/objects/panda.swf'}, {'total': 1, 'url': 'assets/cms/wootmath_fractions/number_line/markers/start_marker.swf'}], 'input': '4', 'fraction_cblock_chains': [{'right': 856, 'sum': {'numerator': 1, 'denominator': 1, '__as3_type': 'Fraction'}, 'pieces': ['1/4', '1/4', '1/4', '1/4'], 'left': 165, 'lcm_sum': {'numerator': 4, 'denominator': 4, '__as3_type': 'Fraction'}}], 'numberline_associations': [[{'obj_value': None, 'position': 720.6521739130434, 'pos_value': 1.0009451795841209, 'obj_name': 'object'}]], 'fraction_cblock_counts': {'1/4': 4}, 'fraction_cblock_containment': {}}\n",
      "index\" 2\n",
      "equivalence_0\n",
      "{'fraction_cblock_chains': [{'left': 176, 'lcm_sum': {'numerator': 2, 'denominator': 8, '__as3_type': 'Fraction'}, 'right': 348, 'pieces': ['1/8', '1/8'], 'sum': {'numerator': 1, 'denominator': 4, '__as3_type': 'Fraction'}}, {'left': 590, 'lcm_sum': {'numerator': 1, 'denominator': 6, '__as3_type': 'Fraction'}, 'right': 705, 'pieces': ['1/6'], 'sum': {'numerator': 1, 'denominator': 6, '__as3_type': 'Fraction'}}, {'left': 176, 'lcm_sum': {'numerator': 1, 'denominator': 4, '__as3_type': 'Fraction'}, 'right': 348, 'pieces': ['1/4'], 'sum': {'numerator': 1, 'denominator': 4, '__as3_type': 'Fraction'}}, {'left': 176, 'lcm_sum': {'numerator': 1, 'denominator': 1, '__as3_type': 'Fraction'}, 'right': 866, 'pieces': ['1'], 'sum': {'numerator': 1, 'denominator': 1, '__as3_type': 'Fraction'}}], 'fraction_cblock_total_count': 5, 'fraction_cblock_counts': {'1': 1, '1/8': 2, '1/6': 1, '1/4': 1}, 'fraction_cblock_containment': {'piece0': {'lcm_sum': {'numerator': 2, 'denominator': 8, '__as3_type': 'Fraction'}, 'homogenous': True, 'pieces': ['1/8', '1/8'], 'sum': {'numerator': 1, 'denominator': 4, '__as3_type': 'Fraction'}}}}\n",
      "index\" 3\n",
      "equivalence_0\n",
      "{'fraction_cblock_chains': [{'left': 176, 'lcm_sum': {'numerator': 1, 'denominator': 2, '__as3_type': 'Fraction'}, 'right': 521, 'pieces': ['1/2'], 'sum': {'numerator': 1, 'denominator': 2, '__as3_type': 'Fraction'}}, {'left': 176, 'lcm_sum': {'numerator': 4, 'denominator': 8, '__as3_type': 'Fraction'}, 'right': 521, 'pieces': ['1/8', '1/8', '1/8', '1/8'], 'sum': {'numerator': 1, 'denominator': 2, '__as3_type': 'Fraction'}}, {'left': 176, 'lcm_sum': {'numerator': 1, 'denominator': 1, '__as3_type': 'Fraction'}, 'right': 866, 'pieces': ['1'], 'sum': {'numerator': 1, 'denominator': 1, '__as3_type': 'Fraction'}}], 'fraction_cblock_total_count': 6, 'fraction_cblock_counts': {'1': 1, '1/2': 1, '1/8': 4}, 'fraction_cblock_containment': {'[Fraction] 1/2': {'lcm_sum': {'numerator': 4, 'denominator': 8, '__as3_type': 'Fraction'}, 'homogenous': True, 'pieces': ['1/8', '1/8', '1/8', '1/8'], 'sum': {'numerator': 1, 'denominator': 2, '__as3_type': 'Fraction'}}}}\n",
      "index\" 4\n",
      "equivalence_0\n",
      "{'fraction_circle_containment': {'[Fraction] 1/2': {'lcm_sum': {'numerator': 4, 'denominator': 8, '__as3_type': 'Fraction'}, 'homogenous': True, 'pieces': ['1/8', '1/8', '1/8', '1/8'], 'sum': {'numerator': 1, 'denominator': 2, '__as3_type': 'Fraction'}}}, 'fraction_circle_total_count': 6, 'fraction_circle_groups': [{'x': 512, 'y': 300, 'scale': 0.9999999999999991, 'pieces': ['1/2', '1/8', '1/8', '1/8', '1/8', '1'], 'chains': [{'right': 180, 'pieces': ['1/8', '1/8', '1/8', '1/8'], 'left': 0}]}], 'fraction_circle_counts': {'1': 1, '1/2': 1, '1/8': 4}}\n",
      "index\" 5\n",
      "review_lesson_4\n",
      "{'image_object_groups': [{'total': 6, 'on': 3, 'url': 'assets/objects/singles/watch.swf', 'off': 3}]}\n",
      "index\" 6\n",
      "review_lesson_4\n",
      "None\n",
      "index\" 7\n",
      "review_lesson_4\n",
      "None\n",
      "index\" 8\n",
      "model_symbol_6\n",
      "{'fraction_circle_groups': [{'x': 512, 'scale': 1, 'chains': [{'pieces': ['1/8', '1/8', '1/8', '1/8'], 'left': 0, 'right': 180}], 'pieces': ['1/8', '1/8', '1/8', '1/8', '1/2', '1'], 'y': 300}], 'fraction_circle_containment': {'piece_0': {'sum': {'denominator': 2, 'numerator': 1, '__as3_type': 'Fraction'}, 'homogenous': True, 'pieces': ['1/8', '1/8', '1/8', '1/8'], 'lcm_sum': {'denominator': 8, 'numerator': 4, '__as3_type': 'Fraction'}}}, 'fraction_circle_counts': {'1': 1, '1/2': 1, '1/8': 4}, 'fraction_circle_total_count': 6}\n",
      "index\" 9\n",
      "model_symbol_6\n",
      "{'fraction_circle_groups': [{'x': 512, 'scale': 0.9999999999999994, 'chains': [{'pieces': ['1/8', '1/8', '1/8', '1/8'], 'left': 0, 'right': 180}], 'pieces': ['1/2', '1/8', '1/8', '1/8', '1/8', '1'], 'y': 300}], 'fraction_circle_containment': {'[Fraction] 1/2': {'sum': {'denominator': 2, 'numerator': 1, '__as3_type': 'Fraction'}, 'homogenous': True, 'pieces': ['1/8', '1/8', '1/8', '1/8'], 'lcm_sum': {'denominator': 8, 'numerator': 4, '__as3_type': 'Fraction'}}}, 'fraction_circle_counts': {'1': 1, '1/2': 1, '1/8': 4}, 'fraction_circle_total_count': 6}\n",
      "index\" 10\n",
      "model_symbol_6\n",
      "{'fraction_circle_groups': [{'x': 512, 'scale': 0.9999999999999993, 'chains': [{'pieces': ['1/4', '1/4'], 'left': 0, 'right': 180}], 'pieces': ['1/2', '1/4', '1/4', '1'], 'y': 300}], 'fraction_circle_containment': {'[Fraction] 1/2': {'sum': {'denominator': 2, 'numerator': 1, '__as3_type': 'Fraction'}, 'homogenous': True, 'pieces': ['1/4', '1/4'], 'lcm_sum': {'denominator': 4, 'numerator': 2, '__as3_type': 'Fraction'}}}, 'fraction_circle_counts': {'1': 1, '1/2': 1, '1/4': 2}, 'fraction_circle_total_count': 4}\n",
      "index\" 11\n",
      "num_den_1\n",
      "{'radio_choice': 'C', 'radio_group_problem': {'choice': 'C', 'text': '3/6'}, 'radio_text': '3/6'}\n",
      "index\" 12\n",
      "num_den_1\n",
      "{'fraction_cblock_chains': [{'sum': {'denominator': 10, 'numerator': 1, '__as3_type': 'Fraction'}, 'lcm_sum': {'denominator': 10, 'numerator': 1, '__as3_type': 'Fraction'}, 'pieces': ['1/10'], 'left': 1024, 'right': 1458}, {'sum': {'denominator': 5, 'numerator': 1, '__as3_type': 'Fraction'}, 'lcm_sum': {'denominator': 10, 'numerator': 2, '__as3_type': 'Fraction'}, 'pieces': ['1/10', '1/10'], 'left': 1024, 'right': 1297}, {'sum': {'denominator': 10, 'numerator': 1, '__as3_type': 'Fraction'}, 'lcm_sum': {'denominator': 10, 'numerator': 1, '__as3_type': 'Fraction'}, 'pieces': ['1/10'], 'left': 1024, 'right': 1531}, {'sum': {'denominator': 10, 'numerator': 1, '__as3_type': 'Fraction'}, 'lcm_sum': {'denominator': 10, 'numerator': 1, '__as3_type': 'Fraction'}, 'pieces': ['1/10'], 'left': 1024, 'right': 1214}, {'sum': {'denominator': 10, 'numerator': 1, '__as3_type': 'Fraction'}, 'lcm_sum': {'denominator': 10, 'numerator': 1, '__as3_type': 'Fraction'}, 'pieces': ['1/10'], 'left': 1024, 'right': 1424}, {'sum': {'denominator': 5, 'numerator': 2, '__as3_type': 'Fraction'}, 'lcm_sum': {'denominator': 10, 'numerator': 4, '__as3_type': 'Fraction'}, 'pieces': ['1/10', '1/10', '1/10', '1/10'], 'left': 544, 'right': 820}, {'sum': {'denominator': 84, 'numerator': 73, '__as3_type': 'Fraction'}, 'lcm_sum': {'denominator': 84, 'numerator': 73, '__as3_type': 'Fraction'}, 'pieces': ['1/7', '1/7', '1/6', '1/6', '1/4'], 'left': 1001, 'right': 1272}, {'sum': {'denominator': 35, 'numerator': 17, '__as3_type': 'Fraction'}, 'lcm_sum': {'denominator': 35, 'numerator': 17, '__as3_type': 'Fraction'}, 'pieces': ['1/7', '1/7', '1/5'], 'left': 981, 'right': 1316}, {'sum': {'denominator': 28, 'numerator': 11, '__as3_type': 'Fraction'}, 'lcm_sum': {'denominator': 28, 'numerator': 11, '__as3_type': 'Fraction'}, 'pieces': ['1/7', '1/4'], 'left': 1001, 'right': 1272}, {'sum': {'denominator': 7, 'numerator': 1, '__as3_type': 'Fraction'}, 'lcm_sum': {'denominator': 7, 'numerator': 1, '__as3_type': 'Fraction'}, 'pieces': ['1/7'], 'left': 1024, 'right': 1300}, {'sum': {'denominator': 7, 'numerator': 1, '__as3_type': 'Fraction'}, 'lcm_sum': {'denominator': 7, 'numerator': 1, '__as3_type': 'Fraction'}, 'pieces': ['1/7'], 'left': 1024, 'right': 1248}, {'sum': {'denominator': 6, 'numerator': 1, '__as3_type': 'Fraction'}, 'lcm_sum': {'denominator': 6, 'numerator': 1, '__as3_type': 'Fraction'}, 'pieces': ['1/6'], 'left': 1024, 'right': 1316}, {'sum': {'denominator': 6, 'numerator': 1, '__as3_type': 'Fraction'}, 'lcm_sum': {'denominator': 6, 'numerator': 1, '__as3_type': 'Fraction'}, 'pieces': ['1/6'], 'left': 1024, 'right': 1387}, {'sum': {'denominator': 6, 'numerator': 1, '__as3_type': 'Fraction'}, 'lcm_sum': {'denominator': 6, 'numerator': 1, '__as3_type': 'Fraction'}, 'pieces': ['1/6'], 'left': 1024, 'right': 1220}, {'sum': {'denominator': 6, 'numerator': 1, '__as3_type': 'Fraction'}, 'lcm_sum': {'denominator': 6, 'numerator': 1, '__as3_type': 'Fraction'}, 'pieces': ['1/6'], 'left': 1024, 'right': 1387}, {'sum': {'denominator': 5, 'numerator': 1, '__as3_type': 'Fraction'}, 'lcm_sum': {'denominator': 5, 'numerator': 1, '__as3_type': 'Fraction'}, 'pieces': ['1/5'], 'left': 1024, 'right': 1358}, {'sum': {'denominator': 5, 'numerator': 3, '__as3_type': 'Fraction'}, 'lcm_sum': {'denominator': 5, 'numerator': 3, '__as3_type': 'Fraction'}, 'pieces': ['1/5', '1/5', '1/5'], 'left': 1024, 'right': 1337}, {'sum': {'denominator': 2, 'numerator': 1, '__as3_type': 'Fraction'}, 'lcm_sum': {'denominator': 4, 'numerator': 2, '__as3_type': 'Fraction'}, 'pieces': ['1/4', '1/4'], 'left': 1024, 'right': 1523}, {'sum': {'denominator': 4, 'numerator': 1, '__as3_type': 'Fraction'}, 'lcm_sum': {'denominator': 4, 'numerator': 1, '__as3_type': 'Fraction'}, 'pieces': ['1/4'], 'left': 1024, 'right': 1272}, {'sum': {'denominator': 4, 'numerator': 1, '__as3_type': 'Fraction'}, 'lcm_sum': {'denominator': 4, 'numerator': 1, '__as3_type': 'Fraction'}, 'pieces': ['1/4'], 'left': 1024, 'right': 1358}, {'sum': {'denominator': 2, 'numerator': 1, '__as3_type': 'Fraction'}, 'lcm_sum': {'denominator': 2, 'numerator': 1, '__as3_type': 'Fraction'}, 'pieces': ['1/2'], 'left': 1024, 'right': 1531}, {'sum': {'denominator': 2, 'numerator': 1, '__as3_type': 'Fraction'}, 'lcm_sum': {'denominator': 4, 'numerator': 2, '__as3_type': 'Fraction'}, 'pieces': ['1/4', '1/4'], 'left': 1024, 'right': 1389}, {'sum': {'denominator': 4, 'numerator': 1, '__as3_type': 'Fraction'}, 'lcm_sum': {'denominator': 4, 'numerator': 1, '__as3_type': 'Fraction'}, 'pieces': ['1/4'], 'left': 1024, 'right': 1216}, {'sum': {'denominator': 4, 'numerator': 1, '__as3_type': 'Fraction'}, 'lcm_sum': {'denominator': 4, 'numerator': 1, '__as3_type': 'Fraction'}, 'pieces': ['1/4'], 'left': 1024, 'right': 1351}, {'sum': {'denominator': 1, 'numerator': 1, '__as3_type': 'Fraction'}, 'lcm_sum': {'denominator': 1, 'numerator': 1, '__as3_type': 'Fraction'}, 'pieces': ['1'], 'left': 1024, 'right': 2045}, {'sum': {'denominator': 1, 'numerator': 1, '__as3_type': 'Fraction'}, 'lcm_sum': {'denominator': 1, 'numerator': 1, '__as3_type': 'Fraction'}, 'pieces': ['1'], 'left': 130, 'right': 820}], 'fraction_cblock_containment': {'bar1': {'sum': {'denominator': 5, 'numerator': 2, '__as3_type': 'Fraction'}, 'homogenous': True, 'pieces': ['1/10', '1/10', '1/10', '1/10'], 'lcm_sum': {'denominator': 10, 'numerator': 4, '__as3_type': 'Fraction'}}, '[Fraction] 1/4': {'sum': {'denominator': 5, 'numerator': 1, '__as3_type': 'Fraction'}, 'homogenous': True, 'pieces': ['1/5'], 'lcm_sum': {'denominator': 5, 'numerator': 1, '__as3_type': 'Fraction'}}, '[Fraction] 1': {'sum': {'denominator': 10, 'numerator': 1, '__as3_type': 'Fraction'}, 'homogenous': True, 'pieces': ['1/10'], 'lcm_sum': {'denominator': 10, 'numerator': 1, '__as3_type': 'Fraction'}}}, 'fraction_cblock_total_count': 41, 'fraction_cblock_counts': {'1': 2, '1/7': 7, '1/4': 10, '1/6': 6, '1/5': 5, '1/2': 1, '1/10': 10}}\n",
      "index\" 13\n",
      "nline_1b\n",
      "{'whole': '', 'fraction_input_value': '4/6', 'fraction_cblock_chains': [{'sum': {'denominator': 3, 'numerator': 2, '__as3_type': 'Fraction'}, 'lcm_sum': {'denominator': 6, 'numerator': 4, '__as3_type': 'Fraction'}, 'pieces': ['1/6', '1/6', '1/6', '1/6'], 'left': 96, 'right': 522}], 'fraction_cblock_containment': {}, 'num': '4', 'plain_image_groups': [{'total': 1, 'url': 'assets/cms/wootmath_fractions/number_line/markers/end_marker.swf'}, {'total': 1, 'url': 'assets/cms/wootmath_fractions/number_line/markers/start_marker.swf'}, {'total': 1, 'url': 'assets/cms/wootmath_fractions/number_line/objects/beetle.swf'}, {'total': 1, 'url': 'assets/cms/wootmath_fractions/number_line/objects/beetle_trail.swf'}], 'numberline_associations': [[]], 'den': '6', 'fraction_cblock_total_count': 4, 'fraction_cblock_counts': {'1/6': 4}}\n",
      "index\" 14\n",
      "nline_1b\n",
      "{'plain_image_groups': [{'total': 1, 'url': 'assets/cms/wootmath_fractions/number_line/objects/panda.swf'}, {'total': 1, 'url': 'assets/cms/wootmath_fractions/number_line/markers/start_marker.swf'}], 'fraction_cblock_containment': {}, 'input': '8', 'numberline_associations': [[{'position': 634, 'pos_value': 0.8753623188405797, 'obj_name': 'object', 'obj_value': None}]], 'fraction_cblock_chains': [{'sum': {'denominator': 8, 'numerator': 7, '__as3_type': 'Fraction'}, 'lcm_sum': {'denominator': 8, 'numerator': 7, '__as3_type': 'Fraction'}, 'pieces': ['1/8', '1/8', '1/8', '1/8', '1/8', '1/8', '1/8'], 'left': 165, 'right': 769}], 'fraction_cblock_total_count': 7, 'fraction_cblock_counts': {'1/8': 7}}\n",
      "index\" 15\n",
      "nline_1b\n",
      "{'numberline_associations': [[]], 'input': '8'}\n",
      "index\" 16\n",
      "nline_1c\n",
      "{'numberline_associations': [[{'position': 580.5, 'pos_value': 0.9972826086956521, 'obj_name': 'answer_text', 'obj_value': '3/3'}]], 'input': ''}\n",
      "index\" 17\n",
      "review_lesson_1\n",
      "{'plain_image_groups': [{'total': 1, 'url': 'assets/cms/wootmath_fractions/number_line/objects/shark.swf'}, {'total': 1, 'url': 'assets/cms/wootmath_fractions/number_line/markers/start_marker.swf'}], 'fraction_cblock_containment': {}, 'input': '6', 'numberline_associations': [[{'position': 722, 'pos_value': 1.0028985507246377, 'obj_name': 'object', 'obj_value': None}]], 'fraction_cblock_chains': [{'sum': {'denominator': 1, 'numerator': 1, '__as3_type': 'Fraction'}, 'lcm_sum': {'denominator': 6, 'numerator': 6, '__as3_type': 'Fraction'}, 'pieces': ['1/6', '1/6', '1/6', '1/6', '1/6', '1/6'], 'left': 165, 'right': 856}], 'fraction_cblock_total_count': 6, 'fraction_cblock_counts': {'1/6': 6}}\n",
      "index\" 18\n",
      "review_lesson_1\n",
      "{'whole': '', 'fraction_input_value': '1/3', 'fraction_cblock_chains': [{'sum': {'denominator': 1, 'numerator': 1, '__as3_type': 'Fraction'}, 'lcm_sum': {'denominator': 3, 'numerator': 3, '__as3_type': 'Fraction'}, 'pieces': ['1/3', '1/3', '1/3'], 'left': 96, 'right': 657}], 'fraction_cblock_containment': {}, 'num': '1', 'plain_image_groups': [{'total': 1, 'url': 'assets/cms/wootmath_fractions/number_line/markers/end_marker.swf'}, {'total': 1, 'url': 'assets/cms/wootmath_fractions/number_line/markers/start_marker.swf'}, {'total': 1, 'url': 'assets/cms/wootmath_fractions/number_line/objects/snail.swf'}, {'total': 1, 'url': 'assets/cms/wootmath_fractions/number_line/objects/snail_trail.swf'}], 'numberline_associations': [[]], 'den': '3', 'fraction_cblock_total_count': 3, 'fraction_cblock_counts': {'1/3': 3}}\n",
      "index\" 19\n",
      "review_lesson_1\n",
      "{'whole': '', 'fraction_input_value': '3/4', 'fraction_cblock_chains': [{'sum': {'denominator': 4, 'numerator': 3, '__as3_type': 'Fraction'}, 'lcm_sum': {'denominator': 4, 'numerator': 3, '__as3_type': 'Fraction'}, 'pieces': ['1/4', '1/4', '1/4'], 'left': 96, 'right': 545}], 'fraction_cblock_containment': {}, 'num': '3', 'plain_image_groups': [{'total': 1, 'url': 'assets/cms/wootmath_fractions/number_line/markers/end_marker_noline.swf'}, {'total': 1, 'url': 'assets/cms/wootmath_fractions/number_line/markers/start_marker.swf'}, {'total': 1, 'url': 'assets/cms/wootmath_fractions/number_line/objects/dog.swf'}, {'total': 1, 'url': 'assets/cms/wootmath_fractions/number_line/objects/cat_dog_trail.swf'}], 'numberline_associations': [[]], 'den': '4', 'fraction_cblock_total_count': 3, 'fraction_cblock_counts': {'1/4': 3}}\n",
      "index\" 20\n",
      "review_lesson_1\n",
      "{'plain_image_groups': [{'total': 1, 'url': 'assets/cms/wootmath_fractions/number_line/objects_v2/kangaroo.swf'}], 'numberline_associations': [[{'position': 219, 'pos_value': 0.27391304347826084, 'obj_name': 'object', 'obj_value': None}]], 'input_A': '', 'bitmap_text_inputs': {'den_input': ['']}, 'bitmap_text_interp': {'den_input': '?'}}\n",
      "index\" 21\n",
      "review_lesson_1\n",
      "{'numberline_associations': [[{'position': 167.5, 'pos_value': 0.24909420289855072, 'obj_name': 'answer_text', 'obj_value': '1/4'}]], 'input': ''}\n",
      "index\" 22\n",
      "mult_whole_frac_review_1\n",
      "{'fraction_circle_containment': {'circle1': {'pieces': ['1/5', '1/5', '1/5', '1/5'], 'lcm_sum': {'denominator': 5, 'numerator': 4, '__as3_type': 'Fraction'}, 'homogenous': True, 'sum': {'denominator': 5, 'numerator': 4, '__as3_type': 'Fraction'}}}, 'num': '4', 'plain_image_groups': [{'url': 'assets/cms/wootmath_fractions/cloud/cloud_round.swf', 'total': 2}], 'den': '5', 'fraction_input_value': '4/5', 'fraction_circle_total_count': 6, 'whole': '', 'fraction_circle_groups': [{'pieces': ['1/5', '1/5', '1/5', '1/5', '1'], 'x': 710, 'scale': 0.49999999999999994, 'chains': [{'pieces': ['1/5', '1/5', '1/5', '1/5'], 'left': 342, 'right': 54}], 'y': 415}, {'pieces': ['1'], 'x': 310, 'scale': 0.5, 'y': 415}], 'fraction_circle_counts': {'1': 2, '1/5': 4}}\n",
      "index\" 23\n",
      "mult_whole_frac_review_1\n",
      "{'input_1': '12', 'plain_image_groups': [{'url': 'assets/objects/singles/football.swf', 'total': 12}], 'input_2': '3'}\n",
      "index\" 24\n",
      "mult_whole_frac_review_1\n",
      "{'input_a': '8', 'input': '8'}\n",
      "index\" 25\n",
      "mult_whole_frac_review_2\n",
      "{'input': '12', 'numberline_associations': [[{'pos_value': 1.5122282608695654, 'obj_name': 'a_text', 'position': 403.0000000000001, 'obj_value': 'A'}]]}\n",
      "index\" 26\n",
      "mult_whole_frac_review_2\n",
      "{'input': '15', 'numberline_associations': [[{'pos_value': 1.5991847826086958, 'obj_name': 'a_text', 'position': 424.33333333333337, 'obj_value': 'A'}]]}\n",
      "index\" 27\n",
      "mult_whole_frac_review_2\n",
      "{'input': '9', 'numberline_associations': [[{'pos_value': 2.012228260869565, 'obj_name': 'a_text', 'position': 525.6666666666666, 'obj_value': 'A'}]]}\n",
      "index\" 28\n",
      "nline_1a\n",
      "{'num': '1', 'fraction_input_value': '[Fraction] 1', 'numberline_associations': [[]], 'whole': '', 'den': '3'}\n",
      "index\" 29\n",
      "nline_1a\n",
      "{'num': '3', 'fraction_input_value': '[Fraction] 1', 'numberline_associations': [[]], 'whole': '', 'den': '4'}\n",
      "index\" 30\n",
      "nline_1a\n",
      "{'num': '2', 'fraction_input_value': '[Fraction] 1', 'numberline_associations': [[]], 'whole': '', 'den': '4'}\n",
      "index\" 31\n",
      "nline_1a\n",
      "{'num': '2', 'fraction_input_value': '[Fraction] 1', 'numberline_associations': [[]], 'whole': '', 'den': '3'}\n",
      "index\" 32\n",
      "nline_1a\n",
      "{'whole': '', 'fraction_input_value': '[Fraction] 1', 'den_input': '', 'num': '1', 'numberline_associations': [[]], 'den': '3'}\n",
      "index\" 33\n",
      "nline_1a\n",
      "{'whole': '', 'fraction_input_value': '[Fraction] 1', 'den_input': '4', 'num': '1', 'numberline_associations': [[]], 'den': '4'}\n",
      "index\" 34\n",
      "nline_1a\n",
      "{'whole': '', 'fraction_input_value': '[Fraction] 1', 'den_input': '2', 'num': '2', 'numberline_associations': [[]], 'den': '2'}\n",
      "index\" 35\n",
      "nline_2\n",
      "{'numberline_associations': [[{'position': 375, 'pos_value': 0.5, 'obj_name': None, 'obj_value': '1/2 mile'}]], 'input': '2'}\n",
      "index\" 36\n",
      "nline_2\n",
      "{'numberline_associations': [[{'position': 547, 'pos_value': 0.7492753623188406, 'obj_name': None, 'obj_value': '6/8 mile'}]], 'input': '8'}\n",
      "index\" 37\n",
      "nline_2\n",
      "{'den_input': '6', 'numberline_associations': [[{'position': 492, 'pos_value': 0.6695652173913044, 'obj_name': None, 'obj_value': '4/6 mile'}]]}\n",
      "index\" 38\n",
      "nline_2\n",
      "{'num': '5', 'numberline_associations': [[]], 'fraction_input_value': '5/6', 'whole': '', 'den': '6'}\n",
      "index\" 39\n",
      "nline_3a\n",
      "{'whole': '', 'fraction_input_value': '8/6', 'fraction_cblock_chains': [{'sum': {'denominator': 3, 'numerator': 4, '__as3_type': 'Fraction'}, 'lcm_sum': {'denominator': 6, 'numerator': 8, '__as3_type': 'Fraction'}, 'pieces': ['1/6', '1/6', '1/6', '1/6', '1/6', '1/6', '1/6', '1/6'], 'left': 96, 'right': 657}], 'fraction_cblock_containment': {}, 'num': '8', 'plain_image_groups': [{'total': 1, 'url': 'assets/cms/wootmath_fractions/number_line/markers/end_marker_noline.swf'}, {'total': 1, 'url': 'assets/cms/wootmath_fractions/number_line/markers/start_marker.swf'}, {'total': 1, 'url': 'assets/cms/wootmath_fractions/number_line/objects/seahorse.swf'}, {'total': 1, 'url': 'assets/cms/wootmath_fractions/number_line/objects/shark_trail.swf'}], 'numberline_associations': [[]], 'den': '6', 'fraction_cblock_total_count': 8, 'fraction_cblock_counts': {'1/6': 8}}\n",
      "index\" 40\n",
      "nline_3b\n",
      "{'numberline_associations': [[]], 'fraction_input_value': '[Fraction] 1', 'input_A': '3', 'bitmap_text_inputs': {'answer_text': ['3']}, 'bitmap_text_interp': {'answer_text': '1 =  3/3'}}\n",
      "index\" 41\n",
      "nline_3b\n",
      "{'numberline_associations': [[]], 'fraction_input_value': '[Fraction] 1', 'input_A': '6', 'bitmap_text_inputs': {'answer_text': ['6']}, 'bitmap_text_interp': {'answer_text': '1 =  6/6'}}\n",
      "index\" 42\n",
      "nline_3b\n",
      "{'numberline_associations': [[{'position': 400.5, 'pos_value': 1.0013586956521738, 'obj_name': 'answer_text', 'obj_value': '   1 \\nyard'}]], 'input': '6'}\n",
      "index\" 43\n",
      "review_lesson_2\n",
      "{'num': '1', 'fraction_input_value': '[Fraction] 1', 'numberline_associations': [[]], 'whole': '', 'den': '6'}\n",
      "index\" 44\n",
      "review_lesson_2\n",
      "{'whole': '', 'fraction_input_value': '[Fraction] 1', 'den_input': '6', 'num': '5', 'numberline_associations': [[]], 'den': '6'}\n",
      "index\" 45\n",
      "basic_ordering_3\n",
      "{'plain_image_groups': [{'total': 1, 'url': 'assets/cms/wootmath_fractions/number_line/mug/mug_thirds_02.swf'}, {'total': 1, 'url': 'assets/cms/wootmath_fractions/number_line/mug/mug_fourths_02.swf'}], 'input_a': '<', 'input': '<'}\n",
      "index\" 46\n",
      "basic_ordering_3\n",
      "{'fraction_circle_containment': {'unit1': {'sum': {'denominator': 2, 'numerator': 1, '__as3_type': 'Fraction'}, 'homogenous': True, 'pieces': ['1/8', '1/8', '1/8', '1/8'], 'lcm_sum': {'denominator': 8, 'numerator': 4, '__as3_type': 'Fraction'}}, 'unit2': {'sum': {'denominator': 3, 'numerator': 2, '__as3_type': 'Fraction'}, 'homogenous': True, 'pieces': ['1/6', '1/6', '1/6', '1/6'], 'lcm_sum': {'denominator': 6, 'numerator': 4, '__as3_type': 'Fraction'}}}, 'input_a': '<', 'fraction_circle_total_count': 10, 'fraction_circle_groups': [{'x': 700, 'scale': 0.9, 'chains': [{'pieces': ['1/6', '1/6', '1/6', '1/6'], 'left': 180, 'right': 300}], 'pieces': ['1/6', '1/6', '1/6', '1/6', '1'], 'y': 300}, {'x': 300, 'scale': 0.9, 'chains': [{'pieces': ['1/8', '1/8', '1/8', '1/8'], 'left': 180, 'right': 0}], 'pieces': ['1/8', '1/8', '1/8', '1/8', '1'], 'y': 300}], 'fraction_circle_counts': {'1': 2, '1/6': 4, '1/8': 4}, 'input': '<'}\n",
      "index\" 47\n",
      "basic_ordering_1\n",
      "{'fraction_cblock_containment': {'unit1': {'sum': {'denominator': 2, 'numerator': 1, '__as3_type': 'Fraction'}, 'homogenous': True, 'pieces': ['1/2'], 'lcm_sum': {'denominator': 2, 'numerator': 1, '__as3_type': 'Fraction'}}, 'unit2': {'sum': {'denominator': 6, 'numerator': 1, '__as3_type': 'Fraction'}, 'homogenous': True, 'pieces': ['1/6'], 'lcm_sum': {'denominator': 6, 'numerator': 1, '__as3_type': 'Fraction'}}}, 'input_a': '>', 'fraction_cblock_chains': [{'sum': {'denominator': 6, 'numerator': 1, '__as3_type': 'Fraction'}, 'lcm_sum': {'denominator': 6, 'numerator': 1, '__as3_type': 'Fraction'}, 'pieces': ['1/6'], 'left': 175, 'right': 290}, {'sum': {'denominator': 2, 'numerator': 1, '__as3_type': 'Fraction'}, 'lcm_sum': {'denominator': 2, 'numerator': 1, '__as3_type': 'Fraction'}, 'pieces': ['1/2'], 'left': 175, 'right': 520}, {'sum': {'denominator': 1, 'numerator': 1, '__as3_type': 'Fraction'}, 'lcm_sum': {'denominator': 1, 'numerator': 1, '__as3_type': 'Fraction'}, 'pieces': ['1'], 'left': 175, 'right': 865}, {'sum': {'denominator': 1, 'numerator': 1, '__as3_type': 'Fraction'}, 'lcm_sum': {'denominator': 1, 'numerator': 1, '__as3_type': 'Fraction'}, 'pieces': ['1'], 'left': 175, 'right': 865}], 'fraction_cblock_total_count': 4, 'input': '>', 'fraction_cblock_counts': {'1': 2, '1/6': 1, '1/2': 1}}\n",
      "index\" 48\n",
      "basic_ordering_1\n",
      "{'fraction_circle_groups': [{'x': 512, 'scale': 0.9, 'chains': [{'pieces': ['1/8', '1/8', '1/8', '1/8', '1/8', '1/8', '1/8', '1/8'], 'left': 315, 'right': 315}], 'pieces': ['1/8', '1/8', '1/8', '1/8', '1/8', '1/8', '1/8', '1/8', '1'], 'y': 350}], 'fraction_circle_containment': {'unit': {'sum': {'denominator': 1, 'numerator': 1, '__as3_type': 'Fraction'}, 'homogenous': True, 'pieces': ['1/8', '1/8', '1/8', '1/8', '1/8', '1/8', '1/8', '1/8'], 'lcm_sum': {'denominator': 8, 'numerator': 8, '__as3_type': 'Fraction'}}}, 'fraction_circle_counts': {'1': 1, '1/8': 8}, 'fraction_circle_total_count': 9}\n",
      "index\" 49\n",
      "ordering_1_v2\n",
      "{'radio_choice': 'B', 'fraction_cblock_containment': {'bar2': {'sum': {'denominator': 7, 'numerator': 1, '__as3_type': 'Fraction'}, 'homogenous': True, 'pieces': ['1/7'], 'lcm_sum': {'denominator': 7, 'numerator': 1, '__as3_type': 'Fraction'}}, 'bar1': {'sum': {'denominator': 9, 'numerator': 1, '__as3_type': 'Fraction'}, 'homogenous': True, 'pieces': ['1/9'], 'lcm_sum': {'denominator': 9, 'numerator': 1, '__as3_type': 'Fraction'}}}, 'radio_text': '1/9  is less than  1/7', 'radio_group_gtlt': {'choice': 'B', 'text': '1/9  is less than  1/7'}, 'fraction_cblock_chains': [{'sum': {'denominator': 7, 'numerator': 1, '__as3_type': 'Fraction'}, 'lcm_sum': {'denominator': 7, 'numerator': 1, '__as3_type': 'Fraction'}, 'pieces': ['1/7'], 'left': 200, 'right': 298}, {'sum': {'denominator': 9, 'numerator': 1, '__as3_type': 'Fraction'}, 'lcm_sum': {'denominator': 9, 'numerator': 1, '__as3_type': 'Fraction'}, 'pieces': ['1/9'], 'left': 200, 'right': 276}, {'sum': {'denominator': 1, 'numerator': 1, '__as3_type': 'Fraction'}, 'lcm_sum': {'denominator': 1, 'numerator': 1, '__as3_type': 'Fraction'}, 'pieces': ['1'], 'left': 200, 'right': 890}, {'sum': {'denominator': 1, 'numerator': 1, '__as3_type': 'Fraction'}, 'lcm_sum': {'denominator': 1, 'numerator': 1, '__as3_type': 'Fraction'}, 'pieces': ['1'], 'left': 200, 'right': 890}], 'fraction_cblock_total_count': 4, 'fraction_cblock_counts': {'1': 2, '1/7': 1, '1/9': 1}}\n",
      "index\" 50\n",
      "ordering_1_v2\n",
      "{'fraction_cblock_chains': [{'sum': {'denominator': 5, 'numerator': 1, '__as3_type': 'Fraction'}, 'lcm_sum': {'denominator': 5, 'numerator': 1, '__as3_type': 'Fraction'}, 'pieces': ['1/5'], 'left': 100, 'right': 238}, {'sum': {'denominator': 7, 'numerator': 1, '__as3_type': 'Fraction'}, 'lcm_sum': {'denominator': 7, 'numerator': 1, '__as3_type': 'Fraction'}, 'pieces': ['1/7'], 'left': 1024, 'right': 1274}, {'sum': {'denominator': 6, 'numerator': 1, '__as3_type': 'Fraction'}, 'lcm_sum': {'denominator': 6, 'numerator': 1, '__as3_type': 'Fraction'}, 'pieces': ['1/6'], 'left': 1024, 'right': 1587}, {'sum': {'denominator': 6, 'numerator': 1, '__as3_type': 'Fraction'}, 'lcm_sum': {'denominator': 6, 'numerator': 1, '__as3_type': 'Fraction'}, 'pieces': ['1/6'], 'left': 1024, 'right': 1274}, {'sum': {'denominator': 6, 'numerator': 1, '__as3_type': 'Fraction'}, 'lcm_sum': {'denominator': 6, 'numerator': 1, '__as3_type': 'Fraction'}, 'pieces': ['1/6'], 'left': 1024, 'right': 1153}, {'sum': {'denominator': 30, 'numerator': 11, '__as3_type': 'Fraction'}, 'lcm_sum': {'denominator': 30, 'numerator': 11, '__as3_type': 'Fraction'}, 'pieces': ['1/6', '1/5'], 'left': -251, 'right': 2}, {'sum': {'denominator': 4, 'numerator': 1, '__as3_type': 'Fraction'}, 'lcm_sum': {'denominator': 4, 'numerator': 1, '__as3_type': 'Fraction'}, 'pieces': ['1/4'], 'left': 1024, 'right': 1763}, {'sum': {'denominator': 6, 'numerator': 1, '__as3_type': 'Fraction'}, 'lcm_sum': {'denominator': 6, 'numerator': 1, '__as3_type': 'Fraction'}, 'pieces': ['1/6'], 'left': 100, 'right': 215}, {'sum': {'denominator': 1, 'numerator': 1, '__as3_type': 'Fraction'}, 'lcm_sum': {'denominator': 1, 'numerator': 1, '__as3_type': 'Fraction'}, 'pieces': ['1'], 'left': 100, 'right': 790}, {'sum': {'denominator': 1, 'numerator': 1, '__as3_type': 'Fraction'}, 'lcm_sum': {'denominator': 1, 'numerator': 1, '__as3_type': 'Fraction'}, 'pieces': ['1'], 'left': 100, 'right': 790}, {'sum': {'denominator': 4, 'numerator': 1, '__as3_type': 'Fraction'}, 'lcm_sum': {'denominator': 4, 'numerator': 1, '__as3_type': 'Fraction'}, 'pieces': ['1/4'], 'left': 100, 'right': 272}, {'sum': {'denominator': 1, 'numerator': 1, '__as3_type': 'Fraction'}, 'lcm_sum': {'denominator': 1, 'numerator': 1, '__as3_type': 'Fraction'}, 'pieces': ['1'], 'left': 100, 'right': 790}], 'fraction_cblock_containment': {'[Fraction] 1/6': {'sum': {'denominator': 7, 'numerator': 1, '__as3_type': 'Fraction'}, 'homogenous': True, 'pieces': ['1/7'], 'lcm_sum': {'denominator': 7, 'numerator': 1, '__as3_type': 'Fraction'}}, 'bar3': {'sum': {'denominator': 6, 'numerator': 1, '__as3_type': 'Fraction'}, 'homogenous': True, 'pieces': ['1/6'], 'lcm_sum': {'denominator': 6, 'numerator': 1, '__as3_type': 'Fraction'}}, 'bar2': {'sum': {'denominator': 5, 'numerator': 1, '__as3_type': 'Fraction'}, 'homogenous': True, 'pieces': ['1/5'], 'lcm_sum': {'denominator': 5, 'numerator': 1, '__as3_type': 'Fraction'}}, 'bar1': {'sum': {'denominator': 4, 'numerator': 1, '__as3_type': 'Fraction'}, 'homogenous': True, 'pieces': ['1/4'], 'lcm_sum': {'denominator': 4, 'numerator': 1, '__as3_type': 'Fraction'}}}, 'fraction_cblock_total_count': 13, 'fraction_cblock_counts': {'1': 3, '1/7': 1, '1/5': 2, '1/6': 5, '1/4': 2}}\n",
      "index\" 51\n",
      "ordering_1_v2\n",
      "{'radio_choice': 'B', 'radio_group_problem': {'choice': 'B', 'text': 'I think 1/11 is less than 1/8 because a piece that came from a cherry pie'}, 'radio_text': 'I think 1/11 is less than 1/8 because a piece that came from a cherry pie'}\n",
      "index\" 52\n",
      "advanced_add_0\n",
      "{'fraction_circle_groups': [{'x': 800, 'y': 350, 'scale': 1, 'pieces': ['1/10', '1/10', '1/10', '1/10', '1/10', '1'], 'chains': [{'right': 0, 'pieces': ['1/10', '1/10', '1/10', '1/10', '1/10'], 'left': 180}]}], 'fraction_circle_total_count': 6, 'fraction_circle_containment': {'unit': {'lcm_sum': {'numerator': 5, 'denominator': 10, '__as3_type': 'Fraction'}, 'homogenous': True, 'pieces': ['1/10', '1/10', '1/10', '1/10', '1/10'], 'sum': {'numerator': 1, 'denominator': 2, '__as3_type': 'Fraction'}}}, 'fraction_circle_counts': {'1': 1, '1/10': 5}}\n",
      "index\" 53\n",
      "advanced_add_0\n",
      "{'fraction_circle_groups': [{'x': 800, 'y': 350, 'scale': 1, 'pieces': ['1/12', '1/12', '1/12', '1/12', '1/12', '1/12', '1/12', '1'], 'chains': [{'right': 0, 'pieces': ['1/12', '1/12', '1/12', '1/12', '1/12', '1/12', '1/12'], 'left': 210}]}], 'fraction_circle_total_count': 8, 'fraction_circle_containment': {'unit': {'lcm_sum': {'numerator': 7, 'denominator': 12, '__as3_type': 'Fraction'}, 'homogenous': True, 'pieces': ['1/12', '1/12', '1/12', '1/12', '1/12', '1/12', '1/12'], 'sum': {'numerator': 7, 'denominator': 12, '__as3_type': 'Fraction'}}}, 'fraction_circle_counts': {'1': 1, '1/12': 7}}\n",
      "index\" 54\n",
      "advanced_add_0\n",
      "{'fraction_cblock_chains': [{'left': 176, 'lcm_sum': {'numerator': 7, 'denominator': 9, '__as3_type': 'Fraction'}, 'right': 712, 'pieces': ['1/9', '1/9', '1/9', '1/9', '1/9', '1/9', '1/9'], 'sum': {'numerator': 7, 'denominator': 9, '__as3_type': 'Fraction'}}, {'left': 176, 'lcm_sum': {'numerator': 1, 'denominator': 1, '__as3_type': 'Fraction'}, 'right': 866, 'pieces': ['1'], 'sum': {'numerator': 1, 'denominator': 1, '__as3_type': 'Fraction'}}], 'fraction_cblock_counts': {'1': 1, '1/9': 7}, 'fraction_cblock_total_count': 8, 'fraction_cblock_containment': {'unit': {'lcm_sum': {'numerator': 7, 'denominator': 9, '__as3_type': 'Fraction'}, 'homogenous': True, 'pieces': ['1/9', '1/9', '1/9', '1/9', '1/9', '1/9', '1/9'], 'sum': {'numerator': 7, 'denominator': 9, '__as3_type': 'Fraction'}}}}\n",
      "index\" 55\n",
      "adv_ordering_1\n",
      "{'fraction_circle_total_count': 4, 'fraction_circle_counts': {'1': 2, '1/2': 2}, 'input_a': '=', 'fraction_circle_containment': {'unit2': {'sum': {'numerator': 1, 'denominator': 2, '__as3_type': 'Fraction'}, 'pieces': ['1/2'], 'homogenous': True, 'lcm_sum': {'numerator': 1, 'denominator': 2, '__as3_type': 'Fraction'}}, 'unit1': {'sum': {'numerator': 1, 'denominator': 2, '__as3_type': 'Fraction'}, 'pieces': ['1/2'], 'homogenous': True, 'lcm_sum': {'numerator': 1, 'denominator': 2, '__as3_type': 'Fraction'}}}, 'input': '=', 'fraction_circle_groups': [{'x': 700, 'scale': 0.9, 'pieces': ['1/2', '1'], 'y': 300}, {'x': 250, 'scale': 0.9, 'pieces': ['1/2', '1'], 'y': 300}]}\n",
      "index\" 56\n",
      "adv_ordering_1\n",
      "{'fraction_circle_total_count': 15, 'fraction_circle_counts': {'1': 2, '1/8': 13}, 'input_a': '<', 'fraction_circle_containment': {'unit2': {'sum': {'numerator': 7, 'denominator': 8, '__as3_type': 'Fraction'}, 'pieces': ['1/8', '1/8', '1/8', '1/8', '1/8', '1/8', '1/8'], 'homogenous': True, 'lcm_sum': {'numerator': 7, 'denominator': 8, '__as3_type': 'Fraction'}}, 'unit1': {'sum': {'numerator': 3, 'denominator': 4, '__as3_type': 'Fraction'}, 'pieces': ['1/8', '1/8', '1/8', '1/8', '1/8', '1/8'], 'homogenous': True, 'lcm_sum': {'numerator': 6, 'denominator': 8, '__as3_type': 'Fraction'}}}, 'input': '<', 'fraction_circle_groups': [{'x': 700, 'scale': 0.9, 'pieces': ['1/8', '1/8', '1/8', '1/8', '1/8', '1/8', '1/8', '1'], 'y': 300, 'chains': [{'right': 142, 'left': 97, 'pieces': ['1/8', '1/8', '1/8', '1/8', '1/8', '1/8', '1/8']}]}, {'x': 250, 'scale': 0.9, 'pieces': ['1/8', '1/8', '1/8', '1/8', '1/8', '1/8', '1'], 'y': 300, 'chains': [{'right': 155, 'left': 65, 'pieces': ['1/8', '1/8', '1/8', '1/8', '1/8', '1/8']}]}]}\n",
      "index\" 57\n",
      "adv_ordering_1\n",
      "None\n",
      "index\" 58\n",
      "adv_ordering_2\n",
      "{'fraction_cblock_counts': {'1': 3, '1/4': 1, '1/6': 1, '1/8': 1}, 'fraction_cblock_chains': [{'right': 290, 'sum': {'numerator': 1, 'denominator': 6, '__as3_type': 'Fraction'}, 'pieces': ['1/6'], 'left': 175, 'lcm_sum': {'numerator': 1, 'denominator': 6, '__as3_type': 'Fraction'}}, {'right': 261, 'sum': {'numerator': 1, 'denominator': 8, '__as3_type': 'Fraction'}, 'pieces': ['1/8'], 'left': 175, 'lcm_sum': {'numerator': 1, 'denominator': 8, '__as3_type': 'Fraction'}}, {'right': 347, 'sum': {'numerator': 1, 'denominator': 4, '__as3_type': 'Fraction'}, 'pieces': ['1/4'], 'left': 175, 'lcm_sum': {'numerator': 1, 'denominator': 4, '__as3_type': 'Fraction'}}, {'right': 865, 'sum': {'numerator': 1, 'denominator': 1, '__as3_type': 'Fraction'}, 'pieces': ['1'], 'left': 175, 'lcm_sum': {'numerator': 1, 'denominator': 1, '__as3_type': 'Fraction'}}, {'right': 865, 'sum': {'numerator': 1, 'denominator': 1, '__as3_type': 'Fraction'}, 'pieces': ['1'], 'left': 175, 'lcm_sum': {'numerator': 1, 'denominator': 1, '__as3_type': 'Fraction'}}, {'right': 865, 'sum': {'numerator': 1, 'denominator': 1, '__as3_type': 'Fraction'}, 'pieces': ['1'], 'left': 175, 'lcm_sum': {'numerator': 1, 'denominator': 1, '__as3_type': 'Fraction'}}], 'fraction_cblock_total_count': 6, 'fraction_cblock_containment': {'unit3': {'sum': {'numerator': 1, 'denominator': 6, '__as3_type': 'Fraction'}, 'pieces': ['1/6'], 'homogenous': True, 'lcm_sum': {'numerator': 1, 'denominator': 6, '__as3_type': 'Fraction'}}, 'unit2': {'sum': {'numerator': 1, 'denominator': 8, '__as3_type': 'Fraction'}, 'pieces': ['1/8'], 'homogenous': True, 'lcm_sum': {'numerator': 1, 'denominator': 8, '__as3_type': 'Fraction'}}, 'unit1': {'sum': {'numerator': 1, 'denominator': 4, '__as3_type': 'Fraction'}, 'pieces': ['1/4'], 'homogenous': True, 'lcm_sum': {'numerator': 1, 'denominator': 4, '__as3_type': 'Fraction'}}}}\n",
      "index\" 59\n",
      "adv_ordering_2\n",
      "{'fraction_cblock_counts': {'1': 3, '1/6': 5, '1/12': 5, '1/8': 5}, 'fraction_cblock_chains': [{'right': 750, 'sum': {'numerator': 5, 'denominator': 6, '__as3_type': 'Fraction'}, 'pieces': ['1/6', '1/6', '1/6', '1/6', '1/6'], 'left': 175, 'lcm_sum': {'numerator': 5, 'denominator': 6, '__as3_type': 'Fraction'}}, {'right': 462, 'sum': {'numerator': 1, 'denominator': 12, '__as3_type': 'Fraction'}, 'pieces': ['1/12'], 'left': 405, 'lcm_sum': {'numerator': 1, 'denominator': 12, '__as3_type': 'Fraction'}}, {'right': 404, 'sum': {'numerator': 1, 'denominator': 12, '__as3_type': 'Fraction'}, 'pieces': ['1/12'], 'left': 347, 'lcm_sum': {'numerator': 1, 'denominator': 12, '__as3_type': 'Fraction'}}, {'right': 347, 'sum': {'numerator': 1, 'denominator': 12, '__as3_type': 'Fraction'}, 'pieces': ['1/12'], 'left': 290, 'lcm_sum': {'numerator': 1, 'denominator': 12, '__as3_type': 'Fraction'}}, {'right': 289, 'sum': {'numerator': 1, 'denominator': 12, '__as3_type': 'Fraction'}, 'pieces': ['1/12'], 'left': 232, 'lcm_sum': {'numerator': 1, 'denominator': 12, '__as3_type': 'Fraction'}}, {'right': 232, 'sum': {'numerator': 1, 'denominator': 12, '__as3_type': 'Fraction'}, 'pieces': ['1/12'], 'left': 175, 'lcm_sum': {'numerator': 1, 'denominator': 12, '__as3_type': 'Fraction'}}, {'right': 606, 'sum': {'numerator': 1, 'denominator': 8, '__as3_type': 'Fraction'}, 'pieces': ['1/8'], 'left': 520, 'lcm_sum': {'numerator': 1, 'denominator': 8, '__as3_type': 'Fraction'}}, {'right': 519, 'sum': {'numerator': 1, 'denominator': 8, '__as3_type': 'Fraction'}, 'pieces': ['1/8'], 'left': 433, 'lcm_sum': {'numerator': 1, 'denominator': 8, '__as3_type': 'Fraction'}}, {'right': 433, 'sum': {'numerator': 1, 'denominator': 8, '__as3_type': 'Fraction'}, 'pieces': ['1/8'], 'left': 347, 'lcm_sum': {'numerator': 1, 'denominator': 8, '__as3_type': 'Fraction'}}, {'right': 347, 'sum': {'numerator': 1, 'denominator': 8, '__as3_type': 'Fraction'}, 'pieces': ['1/8'], 'left': 261, 'lcm_sum': {'numerator': 1, 'denominator': 8, '__as3_type': 'Fraction'}}, {'right': 261, 'sum': {'numerator': 1, 'denominator': 8, '__as3_type': 'Fraction'}, 'pieces': ['1/8'], 'left': 175, 'lcm_sum': {'numerator': 1, 'denominator': 8, '__as3_type': 'Fraction'}}, {'right': 865, 'sum': {'numerator': 1, 'denominator': 1, '__as3_type': 'Fraction'}, 'pieces': ['1'], 'left': 175, 'lcm_sum': {'numerator': 1, 'denominator': 1, '__as3_type': 'Fraction'}}, {'right': 865, 'sum': {'numerator': 1, 'denominator': 1, '__as3_type': 'Fraction'}, 'pieces': ['1'], 'left': 175, 'lcm_sum': {'numerator': 1, 'denominator': 1, '__as3_type': 'Fraction'}}, {'right': 865, 'sum': {'numerator': 1, 'denominator': 1, '__as3_type': 'Fraction'}, 'pieces': ['1'], 'left': 175, 'lcm_sum': {'numerator': 1, 'denominator': 1, '__as3_type': 'Fraction'}}], 'fraction_cblock_total_count': 18, 'fraction_cblock_containment': {'unit3': {'sum': {'numerator': 5, 'denominator': 6, '__as3_type': 'Fraction'}, 'pieces': ['1/6', '1/6', '1/6', '1/6', '1/6'], 'homogenous': True, 'lcm_sum': {'numerator': 5, 'denominator': 6, '__as3_type': 'Fraction'}}}}\n",
      "index\" 60\n",
      "ordering_5\n",
      "{'input_a': '>', 'fraction_input_value': '[Fraction] 3/6'}\n",
      "index\" 61\n",
      "simplify_0\n",
      "{'input_A': '3', 'plain_image_groups': [{'total': 1, 'url': 'assets/cms/wootmath_fractions/number_line/markers/end_marker_noline.swf'}, {'total': 1, 'url': 'assets/cms/wootmath_fractions/number_line/markers/start_marker.swf'}, {'total': 1, 'url': 'assets/cms/wootmath_fractions/number_line/objects/seahorse.swf'}, {'total': 1, 'url': 'assets/cms/wootmath_fractions/number_line/objects/shark_trail.swf'}], 'bitmap_text_interp': {'equation_text': '9/12  =  3/4'}, 'fraction_cblock_containment': {}, 'numberline_associations': [[]], 'fraction_cblock_counts': {'1/12': 9}, 'bitmap_text_inputs': {'equation_text': ['3']}, 'fraction_cblock_chains': [{'right': 706, 'sum': {'numerator': 3, 'denominator': 4, '__as3_type': 'Fraction'}, 'pieces': ['1/12', '1/12', '1/12', '1/12', '1/12', '1/12', '1/12', '1/12', '1/12'], 'left': 96, 'lcm_sum': {'numerator': 9, 'denominator': 12, '__as3_type': 'Fraction'}}], 'fraction_cblock_total_count': 9}\n",
      "index\" 62\n",
      "simplify_1\n",
      "{'fraction_cblock_counts': {'1': 2, '1/4': 1, '1/8': 2}, 'fraction_cblock_containment': {'bar1': {'sum': {'numerator': 1, 'denominator': 4, '__as3_type': 'Fraction'}, 'pieces': ['1/8', '1/8'], 'homogenous': True, 'lcm_sum': {'numerator': 2, 'denominator': 8, '__as3_type': 'Fraction'}}, 'bar2': {'sum': {'numerator': 1, 'denominator': 4, '__as3_type': 'Fraction'}, 'pieces': ['1/4'], 'homogenous': True, 'lcm_sum': {'numerator': 1, 'denominator': 4, '__as3_type': 'Fraction'}}}, 'fraction_cblock_chains': [{'right': 272, 'sum': {'numerator': 1, 'denominator': 4, '__as3_type': 'Fraction'}, 'pieces': ['1/4'], 'left': 100, 'lcm_sum': {'numerator': 1, 'denominator': 4, '__as3_type': 'Fraction'}}, {'right': 272, 'sum': {'numerator': 1, 'denominator': 4, '__as3_type': 'Fraction'}, 'pieces': ['1/8', '1/8'], 'left': 100, 'lcm_sum': {'numerator': 2, 'denominator': 8, '__as3_type': 'Fraction'}}, {'right': 790, 'sum': {'numerator': 1, 'denominator': 1, '__as3_type': 'Fraction'}, 'pieces': ['1'], 'left': 100, 'lcm_sum': {'numerator': 1, 'denominator': 1, '__as3_type': 'Fraction'}}, {'right': 790, 'sum': {'numerator': 1, 'denominator': 1, '__as3_type': 'Fraction'}, 'pieces': ['1'], 'left': 100, 'lcm_sum': {'numerator': 1, 'denominator': 1, '__as3_type': 'Fraction'}}], 'fraction_cblock_total_count': 5}\n",
      "index\" 63\n",
      "simplify_1\n",
      "{'fraction_cblock_counts': {'1': 1, '1/4': 3}, 'fraction_cblock_containment': {}, 'fraction_cblock_chains': [{'right': 617, 'sum': {'numerator': 3, 'denominator': 4, '__as3_type': 'Fraction'}, 'pieces': ['1/4', '1/4', '1/4'], 'left': 100, 'lcm_sum': {'numerator': 3, 'denominator': 4, '__as3_type': 'Fraction'}}, {'right': 790, 'sum': {'numerator': 1, 'denominator': 1, '__as3_type': 'Fraction'}, 'pieces': ['1'], 'left': 100, 'lcm_sum': {'numerator': 1, 'denominator': 1, '__as3_type': 'Fraction'}}], 'fraction_cblock_total_count': 4}\n",
      "index\" 64\n",
      "simplify_1\n",
      "{'fraction_cblock_counts': {'1': 2, '1/4': 1, '1/12': 3}, 'fraction_cblock_containment': {'bar1': {'sum': {'numerator': 1, 'denominator': 4, '__as3_type': 'Fraction'}, 'pieces': ['1/12', '1/12', '1/12'], 'homogenous': True, 'lcm_sum': {'numerator': 3, 'denominator': 12, '__as3_type': 'Fraction'}}, 'bar2': {'sum': {'numerator': 1, 'denominator': 4, '__as3_type': 'Fraction'}, 'pieces': ['1/4'], 'homogenous': True, 'lcm_sum': {'numerator': 1, 'denominator': 4, '__as3_type': 'Fraction'}}}, 'fraction_cblock_chains': [{'right': 272, 'sum': {'numerator': 1, 'denominator': 4, '__as3_type': 'Fraction'}, 'pieces': ['1/4'], 'left': 100, 'lcm_sum': {'numerator': 1, 'denominator': 4, '__as3_type': 'Fraction'}}, {'right': 272, 'sum': {'numerator': 1, 'denominator': 4, '__as3_type': 'Fraction'}, 'pieces': ['1/12', '1/12', '1/12'], 'left': 100, 'lcm_sum': {'numerator': 3, 'denominator': 12, '__as3_type': 'Fraction'}}, {'right': 790, 'sum': {'numerator': 1, 'denominator': 1, '__as3_type': 'Fraction'}, 'pieces': ['1'], 'left': 100, 'lcm_sum': {'numerator': 1, 'denominator': 1, '__as3_type': 'Fraction'}}, {'right': 790, 'sum': {'numerator': 1, 'denominator': 1, '__as3_type': 'Fraction'}, 'pieces': ['1'], 'left': 100, 'lcm_sum': {'numerator': 1, 'denominator': 1, '__as3_type': 'Fraction'}}], 'fraction_cblock_total_count': 6}\n",
      "index\" 65\n",
      "simplify_2\n",
      "{'mult_n': '2', 'mult_d': '2'}\n",
      "index\" 66\n",
      "simplify_2\n",
      "{'mult_n': '4', 'mult_d': '4'}\n",
      "index\" 67\n",
      "simplify_3\n",
      "{'den': '2', 'whole': '', 'fraction_input_value': '1/2', 'num': '1'}\n",
      "index\" 68\n",
      "simplify_3\n",
      "{'den': '3', 'whole': '', 'fraction_cblock_containment': {'[Fraction] 1/4': {'sum': {'numerator': 1, 'denominator': 6, '__as3_type': 'Fraction'}, 'pieces': ['1/6'], 'homogenous': True, 'lcm_sum': {'numerator': 1, 'denominator': 6, '__as3_type': 'Fraction'}}, 'model1': {'sum': {'numerator': 1, 'denominator': 4, '__as3_type': 'Fraction'}, 'pieces': ['1/4'], 'homogenous': True, 'lcm_sum': {'numerator': 1, 'denominator': 4, '__as3_type': 'Fraction'}}}, 'num': '1', 'fraction_cblock_counts': {'1': 1, '1/4': 5, '1/6': 1, '1/3': 3}, 'fraction_input_value': '1/3', 'fraction_cblock_chains': [{'right': 790, 'sum': {'numerator': 7, 'denominator': 4, '__as3_type': 'Fraction'}, 'pieces': ['1/4', '1/4', '1/4', '1/4', '1/6', '1/4', '1/3'], 'left': 100, 'lcm_sum': {'numerator': 21, 'denominator': 12, '__as3_type': 'Fraction'}}, {'right': 851, 'sum': {'numerator': 1, 'denominator': 3, '__as3_type': 'Fraction'}, 'pieces': ['1/3'], 'left': 621, 'lcm_sum': {'numerator': 1, 'denominator': 3, '__as3_type': 'Fraction'}}, {'right': 527, 'sum': {'numerator': 1, 'denominator': 3, '__as3_type': 'Fraction'}, 'pieces': ['1/3'], 'left': 297, 'lcm_sum': {'numerator': 1, 'denominator': 3, '__as3_type': 'Fraction'}}, {'right': 790, 'sum': {'numerator': 1, 'denominator': 1, '__as3_type': 'Fraction'}, 'pieces': ['1'], 'left': 100, 'lcm_sum': {'numerator': 1, 'denominator': 1, '__as3_type': 'Fraction'}}], 'fraction_cblock_total_count': 10}\n",
      "index\" 69\n",
      "division_7\n",
      "None\n",
      "index\" 70\n",
      "division_8\n",
      "None\n",
      "index\" 71\n",
      "division_8\n",
      "None\n",
      "index\" 72\n",
      "division_8\n",
      "None\n",
      "index\" 73\n",
      "division_8\n",
      "None\n",
      "index\" 74\n",
      "division_13_0\n",
      "{'input_a': '9', 'plain_image_groups': [{'url': 'assets/cms/wootmath_fractions/number_line/markers/end_marker_noline.swf', 'total': 1}, {'url': 'assets/cms/wootmath_fractions/number_line/markers/start_marker.swf', 'total': 1}, {'url': 'assets/cms/wootmath_fractions/number_line/objects/cat.swf', 'total': 1}, {'url': 'assets/cms/wootmath_fractions/number_line/objects/cat_dog_trail.swf', 'total': 1}], 'numberline_associations': [[]]}\n",
      "index\" 75\n",
      "mult_whole_frac_review_1\n",
      "{'input_1': '3', 'plain_image_groups': [{'url': 'assets/objects/singles/peach.swf', 'total': 6}], 'input_2': '9'}\n",
      "index\" 76\n",
      "explore_fract_1_v2\n",
      "{'fraction_circle_groups': [{'pieces': ['1/10', '1/10', '1/10', '1/10', '1/10', '1/10', '1/10', '1/10', '1/10', '1/10'], 'x': 613, 'scale': 0.9999999999999979, 'chains': [{'pieces': ['1/10', '1/10', '1/10', '1/10', '1/10', '1/10', '1/10', '1/10', '1/10', '1/10'], 'left': 198, 'right': 198}], 'y': 303}, {'pieces': ['1'], 'x': 300, 'scale': 1, 'y': 300}], 'fraction_circle_counts': {'1': 1, '1/10': 10}, 'input_a': '10', 'fraction_circle_total_count': 11, 'fraction_circle_containment': {}, 'input': '10'}\n",
      "index\" 77\n",
      "explore_fract_1_v2\n",
      "{'fraction_circle_groups': [{'pieces': ['1/12', '1/12', '1/12', '1/12', '1/12', '1/12'], 'x': 562, 'scale': 0.9999999999999959, 'chains': [{'pieces': ['1/12', '1/12', '1/12', '1/12', '1/12', '1/12'], 'left': 90, 'right': 270}], 'y': 293}, {'pieces': ['1/2'], 'x': 300, 'scale': 1, 'y': 300}], 'fraction_circle_counts': {'1/12': 6, '1/2': 1}, 'input_a': '6', 'fraction_circle_total_count': 7, 'fraction_circle_containment': {}, 'input': '6'}\n",
      "index\" 78\n",
      "advanced_sub_0\n",
      "{'fraction_circle_total_count': 5, 'fraction_circle_containment': {'unit': {'pieces': ['1/6'], 'sum': {'denominator': 6, 'numerator': 1, '__as3_type': 'Fraction'}, 'homogenous': True, 'lcm_sum': {'denominator': 6, 'numerator': 1, '__as3_type': 'Fraction'}}}, 'fraction_circle_counts': {'1': 1, '1/6': 4}, 'fraction_circle_groups': [{'pieces': ['1/6', '1/6', '1/6'], 'x': 860, 'scale': 0.8999999999999998, 'chains': [{'pieces': ['1/6', '1/6', '1/6'], 'left': 0, 'right': 180}], 'y': 216}, {'pieces': ['1/6', '1'], 'x': 512, 'scale': 0.9, 'y': 350}]}\n",
      "index\" 79\n",
      "advanced_sub_0\n",
      "{'fraction_circle_total_count': 9, 'fraction_circle_containment': {'unit': {'pieces': ['1/12', '1/12', '1/12', '1/12'], 'sum': {'denominator': 3, 'numerator': 1, '__as3_type': 'Fraction'}, 'homogenous': True, 'lcm_sum': {'denominator': 12, 'numerator': 4, '__as3_type': 'Fraction'}}}, 'fraction_circle_counts': {'1': 1, '1/12': 8}, 'fraction_circle_groups': [{'pieces': ['1/12', '1/12'], 'x': 880, 'scale': 0.9, 'chains': [{'pieces': ['1/12', '1/12'], 'left': 300, 'right': 240}], 'y': 197}, {'pieces': ['1/12'], 'x': 667, 'scale': 0.9000000000000001, 'y': 315}, {'pieces': ['1/12'], 'x': 610, 'scale': 0.9, 'y': 156}, {'pieces': ['1/12', '1/12', '1/12', '1/12', '1'], 'x': 512, 'scale': 0.9, 'chains': [{'pieces': ['1/12', '1/12', '1/12'], 'left': 210, 'right': 120}], 'y': 350}]}\n",
      "index\" 80\n",
      "advanced_sub_0\n",
      "{'fraction_circle_total_count': 10, 'fraction_circle_containment': {'unit1': {'pieces': ['1/6', '1/6', '1/6', '1/6', '1/6'], 'sum': {'denominator': 6, 'numerator': 5, '__as3_type': 'Fraction'}, 'homogenous': True, 'lcm_sum': {'denominator': 6, 'numerator': 5, '__as3_type': 'Fraction'}}}, 'fraction_circle_counts': {'1': 2, '1/6': 8}, 'fraction_circle_groups': [{'pieces': ['1/6', '1/6', '1/6'], 'x': 847, 'scale': 0.9000000000000012, 'chains': [{'pieces': ['1/6', '1/6', '1/6'], 'left': 0, 'right': 180}], 'y': 165}, {'pieces': ['1'], 'x': 700, 'scale': 0.9, 'y': 350}, {'pieces': ['1/6', '1/6', '1/6', '1/6', '1/6', '1'], 'x': 325, 'scale': 0.9, 'chains': [{'pieces': ['1/6', '1/6', '1/6', '1/6', '1/6'], 'left': 300, 'right': 0}], 'y': 350}]}\n",
      "index\" 81\n",
      "advanced_sub_1\n",
      "{'fraction_circle_total_count': 9, 'fraction_circle_containment': {'[Fraction] 1': {'pieces': ['1/4', '1/4', '1/4', '1/4'], 'sum': {'denominator': 1, 'numerator': 1, '__as3_type': 'Fraction'}, 'homogenous': True, 'lcm_sum': {'denominator': 4, 'numerator': 4, '__as3_type': 'Fraction'}}, 'circle1': {'pieces': ['1/4', '1/4'], 'sum': {'denominator': 2, 'numerator': 1, '__as3_type': 'Fraction'}, 'homogenous': True, 'lcm_sum': {'denominator': 4, 'numerator': 2, '__as3_type': 'Fraction'}}}, 'fraction_circle_counts': {'1': 2, '1/4': 7}, 'whole': '1', 'fraction_circle_groups': [{'pieces': ['1/4'], 'x': 920, 'scale': 0.8000000000000003, 'y': 370}, {'pieces': ['1/4', '1/4', '1'], 'x': 725, 'scale': 0.8, 'chains': [{'pieces': ['1/4', '1/4'], 'left': 270, 'right': 90}], 'y': 350}, {'pieces': ['1/4', '1/4', '1/4', '1/4', '1'], 'x': 275, 'scale': 0.8, 'chains': [{'pieces': ['1/4', '1/4', '1/4', '1/4'], 'left': 0, 'right': 0}], 'y': 350}], 'den': '2', 'fraction_input_value': '1 1/2', 'num': '1'}\n",
      "index\" 82\n",
      "advanced_sub_1\n",
      "{'fraction_circle_total_count': 25, 'fraction_circle_containment': {'[Fraction] 1': {'pieces': ['1/8', '1/8', '1/8', '1/8', '1/8', '1/8', '1/8', '1/8'], 'sum': {'denominator': 1, 'numerator': 1, '__as3_type': 'Fraction'}, 'homogenous': True, 'lcm_sum': {'denominator': 8, 'numerator': 8, '__as3_type': 'Fraction'}}, 'circle1': {'pieces': ['1/8', '1/8', '1/8', '1/8'], 'sum': {'denominator': 2, 'numerator': 1, '__as3_type': 'Fraction'}, 'homogenous': True, 'lcm_sum': {'denominator': 8, 'numerator': 4, '__as3_type': 'Fraction'}}}, 'fraction_circle_counts': {'1': 3, '1/8': 22}, 'whole': '2', 'fraction_circle_groups': [{'pieces': ['1/8'], 'x': 671, 'scale': 0.8, 'y': 602}, {'pieces': ['1/8'], 'x': 743, 'scale': 0.8, 'y': 502}, {'pieces': ['1/8', '1/8', '1/8', '1/8', '1'], 'x': 850, 'scale': 0.8, 'chains': [{'pieces': ['1/8', '1/8', '1/8'], 'left': 0, 'right': 225}], 'y': 350}, {'pieces': ['1/8', '1/8', '1/8', '1/8', '1/8', '1/8', '1/8', '1/8', '1'], 'x': 525, 'scale': 0.8, 'chains': [{'pieces': ['1/8', '1/8', '1/8', '1/8', '1/8', '1/8', '1/8', '1/8'], 'left': 0, 'right': 0}], 'y': 350}, {'pieces': ['1/8', '1/8', '1/8', '1/8', '1/8', '1/8', '1/8', '1/8', '1'], 'x': 200, 'scale': 0.8, 'chains': [{'pieces': ['1/8', '1/8', '1/8', '1/8', '1/8', '1/8', '1/8', '1/8'], 'left': 0, 'right': 0}], 'y': 350}], 'den': '', 'fraction_input_value': '2 ', 'num': ''}\n",
      "index\" 83\n",
      "advanced_sub_1\n",
      "None\n",
      "index\" 84\n",
      "explore_fract_1_v2\n",
      "{'fraction_circle_containment': {'[Fraction] 1': {'sum': {'denominator': 1, 'numerator': 1, '__as3_type': 'Fraction'}, 'homogenous': True, 'pieces': ['1/3', '1/3', '1/3'], 'lcm_sum': {'denominator': 3, 'numerator': 3, '__as3_type': 'Fraction'}}}, 'fraction_circle_total_count': 5, 'input_a': '3', 'fraction_circle_counts': {'1': 1, '1/3': 3, '1/4': 1}, 'input': '3', 'fraction_circle_groups': [{'x': 300, 'scale': 0.9999999999999981, 'chains': [{'pieces': ['1/3', '1/3', '1/3'], 'left': 120, 'right': 120}], 'pieces': ['1/3', '1/3', '1/3', '1'], 'y': 300}, {'x': 470, 'scale': 1, 'pieces': ['1/4'], 'y': 857}]}\n",
      "index\" 85\n",
      "explore_fract_1_v2\n",
      "{'fraction_circle_containment': {'[Fraction] 1/2': {'sum': {'denominator': 12, 'numerator': 7, '__as3_type': 'Fraction'}, 'homogenous': True, 'pieces': ['1/12', '1/12', '1/12', '1/12', '1/12', '1/12', '1/12'], 'lcm_sum': {'denominator': 12, 'numerator': 7, '__as3_type': 'Fraction'}}, '[Fraction] 1/12': {'sum': {'denominator': 12, 'numerator': 1, '__as3_type': 'Fraction'}, 'homogenous': True, 'pieces': ['1/12'], 'lcm_sum': {'denominator': 12, 'numerator': 1, '__as3_type': 'Fraction'}}}, 'fraction_circle_total_count': 8, 'input_a': '5', 'fraction_circle_counts': {'1/12': 7, '1/2': 1}, 'input': '5', 'fraction_circle_groups': [{'x': 300, 'scale': 1, 'chains': [{'pieces': ['1/12', '1/12', '1/12', '1/12', '1/12', '1/12'], 'left': 90, 'right': 270}], 'pieces': ['1/12', '1/12', '1/12', '1/12', '1/12', '1/12', '1/12', '1/2'], 'y': 300}]}\n",
      "index\" 86\n",
      "explore_fract_1_v2\n",
      "{'fraction_circle_containment': {'[Fraction] 1/4': {'sum': {'denominator': 5, 'numerator': 1, '__as3_type': 'Fraction'}, 'homogenous': True, 'pieces': ['1/15', '1/15', '1/15'], 'lcm_sum': {'denominator': 15, 'numerator': 3, '__as3_type': 'Fraction'}}, '[Fraction] 1/7': {'sum': {'denominator': 10, 'numerator': 1, '__as3_type': 'Fraction'}, 'homogenous': True, 'pieces': ['1/10'], 'lcm_sum': {'denominator': 10, 'numerator': 1, '__as3_type': 'Fraction'}}}, 'fraction_circle_total_count': 11, 'input_a': '4', 'fraction_circle_counts': {'1/10': 2, '1/4': 1, '1/7': 2, '1/15': 6}, 'input': '4', 'fraction_circle_groups': [{'x': 300, 'scale': 1, 'chains': [{'pieces': ['1/15', '1/15', '1/15', '1/15', '1/15'], 'left': 30, 'right': 270}], 'pieces': ['1/15', '1/15', '1/15', '1/15', '1/15', '1/4'], 'y': 300}, {'x': 349, 'scale': 0.9999999999999994, 'chains': [{'pieces': ['1/15', '1/10'], 'left': 0, 'right': 300}], 'pieces': ['1/10', '1/15'], 'y': 575}, {'x': 467, 'scale': 0.9999999999999983, 'pieces': ['1/10', '1/7'], 'y': 523}, {'x': 770, 'scale': 0.9999999999999992, 'pieces': ['1/7'], 'y': 536}]}\n",
      "index\" 87\n",
      "explore_fract_1_v2\n",
      "{'fraction_circle_containment': {'[Fraction] 1/9': {'sum': {'denominator': 9, 'numerator': 1, '__as3_type': 'Fraction'}, 'homogenous': True, 'pieces': ['1/9'], 'lcm_sum': {'denominator': 9, 'numerator': 1, '__as3_type': 'Fraction'}}}, 'fraction_circle_total_count': 12, 'input_a': '54525', 'fraction_circle_counts': {'1/3': 1, '1/9': 11}, 'input': '54525', 'fraction_circle_groups': [{'x': 300, 'scale': 1, 'chains': [{'pieces': ['1/9', '1/9', '1/9', '1/9', '1/9', '1/9', '1/9', '1/9', '1/9', '1/9'], 'left': 7, 'right': 327}], 'pieces': ['1/9', '1/9', '1/9', '1/9', '1/9', '1/9', '1/9', '1/9', '1/9', '1/9', '1/9', '1/3'], 'y': 300}]}\n",
      "index\" 88\n",
      "explore_fract_1_v2\n",
      "None\n",
      "index\" 89\n",
      "mult_whole_frac_6\n",
      "{'numberline_associations': [[{'obj_name': None, 'position': 578.9560975609756, 'obj_value': 'A', 'pos_value': 2.622976316719689}]], 'input': '20'}\n",
      "index\" 90\n",
      "mult_whole_frac_6\n",
      "{'numberline_associations': [[{'obj_name': None, 'position': 588.9463414634146, 'obj_value': 'A', 'pos_value': 2.0034287734181686}]], 'input': '15'}\n",
      "index\" 91\n",
      "mult_whole_frac_6\n",
      "{'numberline_associations': [[{'obj_name': None, 'position': 532.7512195121951, 'obj_value': 'A', 'pos_value': 2.3997643454695416}]], 'input': '20'}\n",
      "index\" 92\n",
      "mult_whole_frac_6\n",
      "{'numberline_associations': [[{'obj_name': None, 'position': 495.7301728780492, 'obj_value': 'A', 'pos_value': 1.6656890321668452}]], 'input': '18'}\n",
      "index\" 93\n",
      "division_11\n",
      "{'fraction_circle_counts': {'1': 8}, 'fraction_circle_groups': [{'x': 850, 'scale': 0.55, 'pieces': ['1'], 'y': 535}, {'x': 625, 'scale': 0.55, 'pieces': ['1'], 'y': 535}, {'x': 400, 'scale': 0.55, 'pieces': ['1'], 'y': 535}, {'x': 175, 'scale': 0.55, 'pieces': ['1'], 'y': 535}, {'x': 850, 'scale': 0.55, 'pieces': ['1'], 'y': 325}, {'x': 625, 'scale': 0.55, 'pieces': ['1'], 'y': 325}, {'x': 400, 'scale': 0.55, 'pieces': ['1'], 'y': 325}, {'x': 175, 'scale': 0.55, 'pieces': ['1'], 'y': 325}], 'fraction_circle_total_count': 8, 'fraction_circle_containment': {}}\n",
      "index\" 94\n",
      "division_11\n",
      "{'fraction_circle_counts': {'1': 8}, 'fraction_circle_groups': [{'x': 850, 'scale': 0.55, 'pieces': ['1'], 'y': 535}, {'x': 625, 'scale': 0.55, 'pieces': ['1'], 'y': 535}, {'x': 400, 'scale': 0.55, 'pieces': ['1'], 'y': 535}, {'x': 175, 'scale': 0.55, 'pieces': ['1'], 'y': 535}, {'x': 850, 'scale': 0.55, 'pieces': ['1'], 'y': 325}, {'x': 625, 'scale': 0.55, 'pieces': ['1'], 'y': 325}, {'x': 400, 'scale': 0.55, 'pieces': ['1'], 'y': 325}, {'x': 175, 'scale': 0.55, 'pieces': ['1'], 'y': 325}], 'fraction_circle_total_count': 8, 'fraction_circle_containment': {}}\n",
      "index\" 95\n",
      "division_11\n",
      "{'fraction_circle_counts': {'1': 8}, 'fraction_circle_groups': [{'x': 850, 'scale': 0.55, 'pieces': ['1'], 'y': 535}, {'x': 625, 'scale': 0.55, 'pieces': ['1'], 'y': 535}, {'x': 400, 'scale': 0.55, 'pieces': ['1'], 'y': 535}, {'x': 175, 'scale': 0.55, 'pieces': ['1'], 'y': 535}, {'x': 850, 'scale': 0.55, 'pieces': ['1'], 'y': 325}, {'x': 625, 'scale': 0.55, 'pieces': ['1'], 'y': 325}, {'x': 400, 'scale': 0.55, 'pieces': ['1'], 'y': 325}, {'x': 175, 'scale': 0.55, 'pieces': ['1'], 'y': 325}], 'fraction_circle_total_count': 8, 'fraction_circle_containment': {}}\n",
      "index\" 96\n",
      "parts_whole_1\n",
      "{'radio_group_mc2': {'choice': 'B', 'text': 'No'}, 'radio_group_mc1': {'choice': 'A', 'text': 'Yes'}, 'plain_image_groups': [{'url': 'assets/cms/wootmath_fractions/equal_parts/fourths/fourth_13.swf', 'total': 1}, {'url': 'assets/cms/wootmath_fractions/equal_parts/fourths/fourth_12.swf', 'total': 1}]}\n",
      "index\" 97\n",
      "parts_whole_1\n",
      "{'radio_group_mc2': {'choice': 'A', 'text': 'Yes'}, 'radio_group_mc1': {'choice': 'A', 'text': 'Yes'}, 'plain_image_groups': [{'url': 'assets/cms/wootmath_fractions/equal_parts/fourths/fourth_12.swf', 'total': 1}, {'url': 'assets/cms/wootmath_fractions/equal_parts/fourths/fourth_25.swf', 'total': 1}]}\n",
      "index\" 98\n",
      "parts_whole_1\n",
      "{'radio_group_mc2': {'choice': 'A', 'text': 'Yes'}, 'radio_group_mc1': {'choice': 'B', 'text': 'No'}, 'plain_image_groups': [{'url': 'assets/cms/wootmath_fractions/equal_parts/fourths/fourth_08.swf', 'total': 1}, {'url': 'assets/cms/wootmath_fractions/equal_parts/fourths/fourth_09.swf', 'total': 1}]}\n",
      "index\" 99\n",
      "parts_whole_1\n",
      "{'radio_group_mc2': {'choice': 'A', 'text': 'Yes'}, 'radio_group_mc1': {'choice': 'B', 'text': 'No'}, 'plain_image_groups': [{'url': 'assets/cms/wootmath_fractions/equal_parts/ninths/ninth_02.swf', 'total': 1}, {'url': 'assets/cms/wootmath_fractions/equal_parts/ninths/ninth_01.swf', 'total': 1}]}\n"
     ]
    }
   ],
   "source": [
    "for idx in range(100):\n",
    "    print ('index\"', idx)\n",
    "    print (df3.iloc[idx]['lesson'])\n",
    "    print (df3.iloc[idx]['response'])"
   ]
  },
  {
   "cell_type": "code",
   "execution_count": null,
   "metadata": {
    "collapsed": true
   },
   "outputs": [],
   "source": []
  },
  {
   "cell_type": "code",
   "execution_count": 21,
   "metadata": {
    "collapsed": true
   },
   "outputs": [],
   "source": [
    "def stringify_response(resp):\n",
    "    my_val = str(resp).replace(\"': \",\"_\")\n",
    "    my_val = my_val.replace(\"_{\",\" \")\n",
    "    my_val = my_val.replace(\"_[\",\", \")\n",
    "    for c in [']','[','{','}',\"'\",\"\",\",\"]:\n",
    "        my_val = my_val.replace(c,'')\n",
    "    return my_val\n"
   ]
  },
  {
   "cell_type": "code",
   "execution_count": 22,
   "metadata": {
    "collapsed": false
   },
   "outputs": [
    {
     "data": {
      "text/plain": [
       "'fraction_cblock_chains right_442 sum numerator_1 denominator_2 __as3_type_Fraction pieces 1/2 left_97 lcm_sum numerator_1 denominator_2 __as3_type_Fraction plain_image_groups total_1 url_assets/cms/wootmath_fractions/number_line/markers/end_marker_noline.swf total_1 url_assets/cms/wootmath_fractions/number_line/markers/start_marker.swf total_1 url_assets/cms/wootmath_fractions/number_line/objects/dog.swf total_1 url_assets/cms/wootmath_fractions/number_line/objects/cat_dog_trail.swf den_2 fraction_input_value_1/2 num_1 fraction_cblock_total_count_1 numberline_associations  fraction_cblock_counts 1/2_1 fraction_cblock_containment  whole_'"
      ]
     },
     "execution_count": 22,
     "metadata": {},
     "output_type": "execute_result"
    }
   ],
   "source": [
    "stringify_response(df3.iloc[0]['response'])"
   ]
  },
  {
   "cell_type": "code",
   "execution_count": 23,
   "metadata": {
    "collapsed": false
   },
   "outputs": [],
   "source": [
    "df3['response_str'] = df3['response'].apply(stringify_response)"
   ]
  },
  {
   "cell_type": "code",
   "execution_count": 24,
   "metadata": {
    "collapsed": false
   },
   "outputs": [
    {
     "name": "stdout",
     "output_type": "stream",
     "text": [
      "0 fraction_cblock_chains right_442 sum numerator_1 denominator_2 __as3_type_Fraction pieces 1/2 left_97 lcm_sum numerator_1 denominator_2 __as3_type_Fraction plain_image_groups total_1 url_assets/cms/wootmath_fractions/number_line/markers/end_marker_noline.swf total_1 url_assets/cms/wootmath_fractions/number_line/markers/start_marker.swf total_1 url_assets/cms/wootmath_fractions/number_line/objects/dog.swf total_1 url_assets/cms/wootmath_fractions/number_line/objects/cat_dog_trail.swf den_2 fraction_input_value_1/2 num_1 fraction_cblock_total_count_1 numberline_associations  fraction_cblock_counts 1/2_1 fraction_cblock_containment  whole_\n",
      "1 fraction_cblock_total_count_4 plain_image_groups total_1 url_assets/cms/wootmath_fractions/number_line/objects/panda.swf total_1 url_assets/cms/wootmath_fractions/number_line/markers/start_marker.swf input_4 fraction_cblock_chains right_856 sum numerator_1 denominator_1 __as3_type_Fraction pieces 1/4 1/4 1/4 1/4 left_165 lcm_sum numerator_4 denominator_4 __as3_type_Fraction numberline_associations obj_value_None position_720.6521739130434 pos_value_1.0009451795841209 obj_name_object fraction_cblock_counts 1/4_4 fraction_cblock_containment \n",
      "2 fraction_cblock_chains left_176 lcm_sum numerator_2 denominator_8 __as3_type_Fraction right_348 pieces 1/8 1/8 sum numerator_1 denominator_4 __as3_type_Fraction left_590 lcm_sum numerator_1 denominator_6 __as3_type_Fraction right_705 pieces 1/6 sum numerator_1 denominator_6 __as3_type_Fraction left_176 lcm_sum numerator_1 denominator_4 __as3_type_Fraction right_348 pieces 1/4 sum numerator_1 denominator_4 __as3_type_Fraction left_176 lcm_sum numerator_1 denominator_1 __as3_type_Fraction right_866 pieces 1 sum numerator_1 denominator_1 __as3_type_Fraction fraction_cblock_total_count_5 fraction_cblock_counts 1_1 1/8_2 1/6_1 1/4_1 fraction_cblock_containment piece0 lcm_sum numerator_2 denominator_8 __as3_type_Fraction homogenous_True pieces 1/8 1/8 sum numerator_1 denominator_4 __as3_type_Fraction\n",
      "3 fraction_cblock_chains left_176 lcm_sum numerator_1 denominator_2 __as3_type_Fraction right_521 pieces 1/2 sum numerator_1 denominator_2 __as3_type_Fraction left_176 lcm_sum numerator_4 denominator_8 __as3_type_Fraction right_521 pieces 1/8 1/8 1/8 1/8 sum numerator_1 denominator_2 __as3_type_Fraction left_176 lcm_sum numerator_1 denominator_1 __as3_type_Fraction right_866 pieces 1 sum numerator_1 denominator_1 __as3_type_Fraction fraction_cblock_total_count_6 fraction_cblock_counts 1_1 1/2_1 1/8_4 fraction_cblock_containment Fraction 1/2 lcm_sum numerator_4 denominator_8 __as3_type_Fraction homogenous_True pieces 1/8 1/8 1/8 1/8 sum numerator_1 denominator_2 __as3_type_Fraction\n",
      "4 fraction_circle_containment Fraction 1/2 lcm_sum numerator_4 denominator_8 __as3_type_Fraction homogenous_True pieces 1/8 1/8 1/8 1/8 sum numerator_1 denominator_2 __as3_type_Fraction fraction_circle_total_count_6 fraction_circle_groups x_512 y_300 scale_0.9999999999999991 pieces 1/2 1/8 1/8 1/8 1/8 1 chains right_180 pieces 1/8 1/8 1/8 1/8 left_0 fraction_circle_counts 1_1 1/2_1 1/8_4\n",
      "5 image_object_groups total_6 on_3 url_assets/objects/singles/watch.swf off_3\n",
      "6 None\n",
      "7 None\n",
      "8 fraction_circle_groups x_512 scale_1 chains pieces 1/8 1/8 1/8 1/8 left_0 right_180 pieces 1/8 1/8 1/8 1/8 1/2 1 y_300 fraction_circle_containment piece_0 sum denominator_2 numerator_1 __as3_type_Fraction homogenous_True pieces 1/8 1/8 1/8 1/8 lcm_sum denominator_8 numerator_4 __as3_type_Fraction fraction_circle_counts 1_1 1/2_1 1/8_4 fraction_circle_total_count_6\n",
      "9 fraction_circle_groups x_512 scale_0.9999999999999994 chains pieces 1/8 1/8 1/8 1/8 left_0 right_180 pieces 1/2 1/8 1/8 1/8 1/8 1 y_300 fraction_circle_containment Fraction 1/2 sum denominator_2 numerator_1 __as3_type_Fraction homogenous_True pieces 1/8 1/8 1/8 1/8 lcm_sum denominator_8 numerator_4 __as3_type_Fraction fraction_circle_counts 1_1 1/2_1 1/8_4 fraction_circle_total_count_6\n",
      "10 fraction_circle_groups x_512 scale_0.9999999999999993 chains pieces 1/4 1/4 left_0 right_180 pieces 1/2 1/4 1/4 1 y_300 fraction_circle_containment Fraction 1/2 sum denominator_2 numerator_1 __as3_type_Fraction homogenous_True pieces 1/4 1/4 lcm_sum denominator_4 numerator_2 __as3_type_Fraction fraction_circle_counts 1_1 1/2_1 1/4_2 fraction_circle_total_count_4\n",
      "11 radio_choice_C radio_group_problem choice_C text_3/6 radio_text_3/6\n",
      "12 fraction_cblock_chains sum denominator_10 numerator_1 __as3_type_Fraction lcm_sum denominator_10 numerator_1 __as3_type_Fraction pieces 1/10 left_1024 right_1458 sum denominator_5 numerator_1 __as3_type_Fraction lcm_sum denominator_10 numerator_2 __as3_type_Fraction pieces 1/10 1/10 left_1024 right_1297 sum denominator_10 numerator_1 __as3_type_Fraction lcm_sum denominator_10 numerator_1 __as3_type_Fraction pieces 1/10 left_1024 right_1531 sum denominator_10 numerator_1 __as3_type_Fraction lcm_sum denominator_10 numerator_1 __as3_type_Fraction pieces 1/10 left_1024 right_1214 sum denominator_10 numerator_1 __as3_type_Fraction lcm_sum denominator_10 numerator_1 __as3_type_Fraction pieces 1/10 left_1024 right_1424 sum denominator_5 numerator_2 __as3_type_Fraction lcm_sum denominator_10 numerator_4 __as3_type_Fraction pieces 1/10 1/10 1/10 1/10 left_544 right_820 sum denominator_84 numerator_73 __as3_type_Fraction lcm_sum denominator_84 numerator_73 __as3_type_Fraction pieces 1/7 1/7 1/6 1/6 1/4 left_1001 right_1272 sum denominator_35 numerator_17 __as3_type_Fraction lcm_sum denominator_35 numerator_17 __as3_type_Fraction pieces 1/7 1/7 1/5 left_981 right_1316 sum denominator_28 numerator_11 __as3_type_Fraction lcm_sum denominator_28 numerator_11 __as3_type_Fraction pieces 1/7 1/4 left_1001 right_1272 sum denominator_7 numerator_1 __as3_type_Fraction lcm_sum denominator_7 numerator_1 __as3_type_Fraction pieces 1/7 left_1024 right_1300 sum denominator_7 numerator_1 __as3_type_Fraction lcm_sum denominator_7 numerator_1 __as3_type_Fraction pieces 1/7 left_1024 right_1248 sum denominator_6 numerator_1 __as3_type_Fraction lcm_sum denominator_6 numerator_1 __as3_type_Fraction pieces 1/6 left_1024 right_1316 sum denominator_6 numerator_1 __as3_type_Fraction lcm_sum denominator_6 numerator_1 __as3_type_Fraction pieces 1/6 left_1024 right_1387 sum denominator_6 numerator_1 __as3_type_Fraction lcm_sum denominator_6 numerator_1 __as3_type_Fraction pieces 1/6 left_1024 right_1220 sum denominator_6 numerator_1 __as3_type_Fraction lcm_sum denominator_6 numerator_1 __as3_type_Fraction pieces 1/6 left_1024 right_1387 sum denominator_5 numerator_1 __as3_type_Fraction lcm_sum denominator_5 numerator_1 __as3_type_Fraction pieces 1/5 left_1024 right_1358 sum denominator_5 numerator_3 __as3_type_Fraction lcm_sum denominator_5 numerator_3 __as3_type_Fraction pieces 1/5 1/5 1/5 left_1024 right_1337 sum denominator_2 numerator_1 __as3_type_Fraction lcm_sum denominator_4 numerator_2 __as3_type_Fraction pieces 1/4 1/4 left_1024 right_1523 sum denominator_4 numerator_1 __as3_type_Fraction lcm_sum denominator_4 numerator_1 __as3_type_Fraction pieces 1/4 left_1024 right_1272 sum denominator_4 numerator_1 __as3_type_Fraction lcm_sum denominator_4 numerator_1 __as3_type_Fraction pieces 1/4 left_1024 right_1358 sum denominator_2 numerator_1 __as3_type_Fraction lcm_sum denominator_2 numerator_1 __as3_type_Fraction pieces 1/2 left_1024 right_1531 sum denominator_2 numerator_1 __as3_type_Fraction lcm_sum denominator_4 numerator_2 __as3_type_Fraction pieces 1/4 1/4 left_1024 right_1389 sum denominator_4 numerator_1 __as3_type_Fraction lcm_sum denominator_4 numerator_1 __as3_type_Fraction pieces 1/4 left_1024 right_1216 sum denominator_4 numerator_1 __as3_type_Fraction lcm_sum denominator_4 numerator_1 __as3_type_Fraction pieces 1/4 left_1024 right_1351 sum denominator_1 numerator_1 __as3_type_Fraction lcm_sum denominator_1 numerator_1 __as3_type_Fraction pieces 1 left_1024 right_2045 sum denominator_1 numerator_1 __as3_type_Fraction lcm_sum denominator_1 numerator_1 __as3_type_Fraction pieces 1 left_130 right_820 fraction_cblock_containment bar1 sum denominator_5 numerator_2 __as3_type_Fraction homogenous_True pieces 1/10 1/10 1/10 1/10 lcm_sum denominator_10 numerator_4 __as3_type_Fraction Fraction 1/4 sum denominator_5 numerator_1 __as3_type_Fraction homogenous_True pieces 1/5 lcm_sum denominator_5 numerator_1 __as3_type_Fraction Fraction 1 sum denominator_10 numerator_1 __as3_type_Fraction homogenous_True pieces 1/10 lcm_sum denominator_10 numerator_1 __as3_type_Fraction fraction_cblock_total_count_41 fraction_cblock_counts 1_2 1/7_7 1/4_10 1/6_6 1/5_5 1/2_1 1/10_10\n",
      "13 whole_ fraction_input_value_4/6 fraction_cblock_chains sum denominator_3 numerator_2 __as3_type_Fraction lcm_sum denominator_6 numerator_4 __as3_type_Fraction pieces 1/6 1/6 1/6 1/6 left_96 right_522 fraction_cblock_containment  num_4 plain_image_groups total_1 url_assets/cms/wootmath_fractions/number_line/markers/end_marker.swf total_1 url_assets/cms/wootmath_fractions/number_line/markers/start_marker.swf total_1 url_assets/cms/wootmath_fractions/number_line/objects/beetle.swf total_1 url_assets/cms/wootmath_fractions/number_line/objects/beetle_trail.swf numberline_associations  den_6 fraction_cblock_total_count_4 fraction_cblock_counts 1/6_4\n",
      "14 plain_image_groups total_1 url_assets/cms/wootmath_fractions/number_line/objects/panda.swf total_1 url_assets/cms/wootmath_fractions/number_line/markers/start_marker.swf fraction_cblock_containment  input_8 numberline_associations position_634 pos_value_0.8753623188405797 obj_name_object obj_value_None fraction_cblock_chains sum denominator_8 numerator_7 __as3_type_Fraction lcm_sum denominator_8 numerator_7 __as3_type_Fraction pieces 1/8 1/8 1/8 1/8 1/8 1/8 1/8 left_165 right_769 fraction_cblock_total_count_7 fraction_cblock_counts 1/8_7\n",
      "15 numberline_associations  input_8\n",
      "16 numberline_associations position_580.5 pos_value_0.9972826086956521 obj_name_answer_text obj_value_3/3 input_\n",
      "17 plain_image_groups total_1 url_assets/cms/wootmath_fractions/number_line/objects/shark.swf total_1 url_assets/cms/wootmath_fractions/number_line/markers/start_marker.swf fraction_cblock_containment  input_6 numberline_associations position_722 pos_value_1.0028985507246377 obj_name_object obj_value_None fraction_cblock_chains sum denominator_1 numerator_1 __as3_type_Fraction lcm_sum denominator_6 numerator_6 __as3_type_Fraction pieces 1/6 1/6 1/6 1/6 1/6 1/6 left_165 right_856 fraction_cblock_total_count_6 fraction_cblock_counts 1/6_6\n",
      "18 whole_ fraction_input_value_1/3 fraction_cblock_chains sum denominator_1 numerator_1 __as3_type_Fraction lcm_sum denominator_3 numerator_3 __as3_type_Fraction pieces 1/3 1/3 1/3 left_96 right_657 fraction_cblock_containment  num_1 plain_image_groups total_1 url_assets/cms/wootmath_fractions/number_line/markers/end_marker.swf total_1 url_assets/cms/wootmath_fractions/number_line/markers/start_marker.swf total_1 url_assets/cms/wootmath_fractions/number_line/objects/snail.swf total_1 url_assets/cms/wootmath_fractions/number_line/objects/snail_trail.swf numberline_associations  den_3 fraction_cblock_total_count_3 fraction_cblock_counts 1/3_3\n",
      "19 whole_ fraction_input_value_3/4 fraction_cblock_chains sum denominator_4 numerator_3 __as3_type_Fraction lcm_sum denominator_4 numerator_3 __as3_type_Fraction pieces 1/4 1/4 1/4 left_96 right_545 fraction_cblock_containment  num_3 plain_image_groups total_1 url_assets/cms/wootmath_fractions/number_line/markers/end_marker_noline.swf total_1 url_assets/cms/wootmath_fractions/number_line/markers/start_marker.swf total_1 url_assets/cms/wootmath_fractions/number_line/objects/dog.swf total_1 url_assets/cms/wootmath_fractions/number_line/objects/cat_dog_trail.swf numberline_associations  den_4 fraction_cblock_total_count_3 fraction_cblock_counts 1/4_3\n"
     ]
    }
   ],
   "source": [
    "for idx in range(20):\n",
    "    print (idx, df3['response_str'].iloc[idx])"
   ]
  },
  {
   "cell_type": "code",
   "execution_count": 25,
   "metadata": {
    "collapsed": false
   },
   "outputs": [
    {
     "data": {
      "text/plain": [
       "Index(['_id', 'behavioral_traits', 'bonus', 'correct', 'diff', 'id',\n",
       "       'incomplete', 'lesson', 'level_summary', 'problem_set',\n",
       "       'problem_set_id', 'problem_set_subspace', 'qual_id',\n",
       "       'randomly_selected', 'response', 'response_idx', 'retried',\n",
       "       'screenshot_url', 'second_try', 'session_id', 'student', 'sublesson',\n",
       "       't', 'time_spent', 'timestamp', 'txt', 'untouched', 'grade',\n",
       "       'mvt_group', 'mvt_group_code', 'school_id', 'section_id', 'student_id',\n",
       "       'blank_slate_mastery', 'description', 'entered', 'lesson_type',\n",
       "       'lm_stats', 'mastery', 'name', 'path', 'problems', 'stars', 'subject',\n",
       "       't_elapsed', 'time_entered', 'time_exited', 'title', 'type',\n",
       "       'unit_name', 'unit_rank', 'nretry_right', 'nretry_wrong', 'nright',\n",
       "       'ntotal', 'nuntouched', 'nwrong', 'percent_prob_correct',\n",
       "       'response_str'],\n",
       "      dtype='object')"
      ]
     },
     "execution_count": 25,
     "metadata": {},
     "output_type": "execute_result"
    }
   ],
   "source": [
    "df3.columns"
   ]
  },
  {
   "cell_type": "code",
   "execution_count": 26,
   "metadata": {
    "collapsed": false
   },
   "outputs": [],
   "source": [
    "## In Response:\n",
    "### convert K, V, and all K_V into words in a text doc\n",
    "### Then add text\n",
    "### The add description\n"
   ]
  },
  {
   "cell_type": "code",
   "execution_count": 27,
   "metadata": {
    "collapsed": false
   },
   "outputs": [],
   "source": [
    "def make_string_from_list(key, elem_list):\n",
    "    # Append key to each item in list\n",
    "    ans = ''\n",
    "    for elem in elem_list:\n",
    "        ans += key + '_' + elem \n",
    "        \n",
    "        \n",
    "\n",
    "        \n",
    "    \n",
    "\n",
    "def make_string(elem, key=None, top=True):\n",
    "    ans = ''\n",
    "    if not elem:\n",
    "        return ans\n",
    "    if top:\n",
    "        top = False\n",
    "        top_keys = []\n",
    "        for idx in range(len(elem.keys())):\n",
    "            top_keys.append(True)\n",
    "            \n",
    "    for idx, key in enumerate(elem.keys()):\n",
    "        if top_keys[idx]:\n",
    "            top = True\n",
    "            top_keys[idx] = False\n",
    "            ans += ' '\n",
    "        else:\n",
    "            top = False\n",
    "        #print ('ans = ', ans)\n",
    "        #print (type(elem[key]))\n",
    "        if type(elem[key]) is str or\\\n",
    "                type(elem[key]) is int:\n",
    "            #print ('add value', elem[key])\n",
    "            value = str(elem[key])\n",
    "            #ans += key + '_' + value + ' ' + value + ' '\n",
    "            ans += key + '_' + value + ' '\n",
    "        elif type(elem[key]) is list:\n",
    "            #print ('add list', elem[key])\n",
    "            temp_elem = dict()\n",
    "            for item in elem[key]:\n",
    "                temp_elem[key] = item\n",
    "                ans += make_string(temp_elem, top) \n",
    "        elif type(elem[key]) is dict:\n",
    "            #print ('add dict', elem[key])\n",
    "            for item_key in elem[key].keys():\n",
    "                temp_elem = dict()\n",
    "                temp_elem[item_key] = elem[key][item_key]\n",
    "                ans += key + '_' + make_string(temp_elem, top)\n",
    "        elif type(elem[key]) is float:\n",
    "            #print ('add dict', elem[key])\n",
    "            sig = 2\n",
    "            value = elem[key]\n",
    "            value = round(value, sig-int(\n",
    "            floor(log10(abs(value))))-1)\n",
    "            value = str(value)\n",
    "            #ans += key + '_' + value + ' ' + value + ' '\n",
    "            ans += key + '_' + value + ' '\n",
    "        # ans += ' ' + key + ' '\n",
    "        #print ('not handled', elem[key])\n",
    "     \n",
    "        \n",
    "    return ans\n",
    "        \n",
    "            \n",
    "        \n",
    "            \n",
    "            "
   ]
  },
  {
   "cell_type": "code",
   "execution_count": 28,
   "metadata": {
    "collapsed": false
   },
   "outputs": [],
   "source": [
    "df3['response_doc'] = df3['response'].map(make_string)"
   ]
  },
  {
   "cell_type": "code",
   "execution_count": 29,
   "metadata": {
    "collapsed": false
   },
   "outputs": [],
   "source": [
    "df3['response_doc'] = df3['response_doc'].map(lambda x: x + ' ')"
   ]
  },
  {
   "cell_type": "code",
   "execution_count": 32,
   "metadata": {
    "collapsed": true
   },
   "outputs": [],
   "source": [
    "df3['response_doc'] = df3['response_doc'].map(lambda x: x.replace('/','_'))"
   ]
  },
  {
   "cell_type": "code",
   "execution_count": 33,
   "metadata": {
    "collapsed": false
   },
   "outputs": [],
   "source": [
    "df3['response_doc'] = df3['response_doc'] + ' ' + df3['txt'] "
   ]
  },
  {
   "cell_type": "code",
   "execution_count": 36,
   "metadata": {
    "collapsed": false
   },
   "outputs": [],
   "source": [
    "df3['response_doc'] = df3['response_doc'].map(lambda x: x + ' ')"
   ]
  },
  {
   "cell_type": "code",
   "execution_count": 37,
   "metadata": {
    "collapsed": false
   },
   "outputs": [],
   "source": [
    "df3['response_doc'] = df3['response_doc'] +  ' ' + df3['description']"
   ]
  },
  {
   "cell_type": "code",
   "execution_count": 38,
   "metadata": {
    "collapsed": false
   },
   "outputs": [],
   "source": [
    "df3['response_doc'] = df3['response_doc'].map(lambda x: x.replace(\"\\n\", \"\"))"
   ]
  },
  {
   "cell_type": "code",
   "execution_count": 39,
   "metadata": {
    "collapsed": true
   },
   "outputs": [],
   "source": [
    "df3['response_doc'] = df3['response_doc'].map(lambda x: x.replace(\"?\", \" \"))"
   ]
  },
  {
   "cell_type": "code",
   "execution_count": 40,
   "metadata": {
    "collapsed": false
   },
   "outputs": [
    {
     "data": {
      "text/plain": [
       "\" radio_group_mc2_ choice_A radio_group_mc2_ text_Yes  radio_group_mc1_ choice_B radio_group_mc1_ text_No   plain_image_groups_ url_assets_cms_wootmath_fractions_equal_parts_sixths_sixth_15.swf plain_image_groups_ total_1  plain_image_groups_ url_assets_cms_wootmath_fractions_equal_parts_sixths_sixth_06.swf plain_image_groups_ total_1   Do these shapes have 5/6 shaded Answer: [object Object]   Students deepen their understanding of fractions by identifying area models that are divided into equal parts and those that aren't. \""
      ]
     },
     "execution_count": 40,
     "metadata": {},
     "output_type": "execute_result"
    }
   ],
   "source": [
    "df3.iloc[100]['response_doc']"
   ]
  },
  {
   "cell_type": "code",
   "execution_count": 41,
   "metadata": {
    "collapsed": false
   },
   "outputs": [
    {
     "data": {
      "text/plain": [
       "{'plain_image_groups': [{'total': 1,\n",
       "   'url': 'assets/cms/wootmath_fractions/equal_parts/sixths/sixth_15.swf'},\n",
       "  {'total': 1,\n",
       "   'url': 'assets/cms/wootmath_fractions/equal_parts/sixths/sixth_06.swf'}],\n",
       " 'radio_group_mc1': {'choice': 'B', 'text': 'No'},\n",
       " 'radio_group_mc2': {'choice': 'A', 'text': 'Yes'}}"
      ]
     },
     "execution_count": 41,
     "metadata": {},
     "output_type": "execute_result"
    }
   ],
   "source": [
    "df3.iloc[100]['response']"
   ]
  },
  {
   "cell_type": "code",
   "execution_count": 42,
   "metadata": {
    "collapsed": false
   },
   "outputs": [
    {
     "data": {
      "text/plain": [
       "_id                                              5a00f1739100de1a390001fa\n",
       "behavioral_traits                                                      []\n",
       "bonus                                                               False\n",
       "correct                                                              True\n",
       "diff                                                             0.304348\n",
       "id                                                             Z3I2H8eOfO\n",
       "incomplete                                                          False\n",
       "lesson                                                      parts_whole_1\n",
       "level_summary           {'subject': 'fractions', 'path': 'parts_whole_...\n",
       "problem_set             lessons/fractions/lesson07/eq_parts/media/prob...\n",
       "problem_set_id                                                 6nBHKepQ3Y\n",
       "problem_set_subspace                                                 set2\n",
       "qual_id                                        6nBHKepQ3Y.set2.Z3I2H8eOfO\n",
       "randomly_selected                                                   False\n",
       "response                {'radio_group_mc2': {'choice': 'A', 'text': 'Y...\n",
       "response_idx                                                           13\n",
       "retried                                                               NaN\n",
       "screenshot_url          http://woot_math_cub.s3.amazonaws.com/ss/43725...\n",
       "second_try                                                          False\n",
       "session_id                           6146f71e-f3dd-46a1-bb6a-afc4a2a14637\n",
       "student                 {'school_id': 'R2V6N7D3', 'student_id': 'Q5T2T...\n",
       "sublesson                                              parts_whole_1.set2\n",
       "t                                                             1.47008e+12\n",
       "time_spent                                                           6485\n",
       "timestamp                                                     1.47008e+12\n",
       "txt                     Do these shapes have 5/6 shaded?\\nAnswer: [obj...\n",
       "untouched                                                           False\n",
       "grade                                                                   3\n",
       "mvt_group                                                             NaN\n",
       "mvt_group_code                                                        NaN\n",
       "school_id                                                        R2V6N7D3\n",
       "section_id                                                       E5D7G9D4\n",
       "student_id                                                     Q5T2T7S3P4\n",
       "blank_slate_mastery     {'std_dev': 0.30100179944165534, 'mean': 0.264...\n",
       "description             Students deepen their understanding of fractio...\n",
       "entered                                                              True\n",
       "lesson_type                                                             l\n",
       "lm_stats                {'subject': 'fractions', 'star_count': 0, 'cre...\n",
       "mastery                 {'std_dev': 0.276848614353733, 'mean': 0.38534...\n",
       "name                                                        parts_whole_1\n",
       "path                                                        parts_whole_1\n",
       "problems                {'nuntouched': 0, 'nwrong': 3, 'ntotal': 11, '...\n",
       "stars                                             {'earned': 2, 'old': 0}\n",
       "subject                                                         fractions\n",
       "t_elapsed                                                          213639\n",
       "time_entered                                                  1.47008e+12\n",
       "time_exited                                                   1.47008e+12\n",
       "title                                    Equally Sized Parts of the Whole\n",
       "type                                                               lesson\n",
       "unit_name                                             frac_number_sense_1\n",
       "unit_rank                                                               3\n",
       "nretry_right                                                            3\n",
       "nretry_wrong                                                            0\n",
       "nright                                                                  8\n",
       "ntotal                                                                 11\n",
       "nuntouched                                                              0\n",
       "nwrong                                                                  3\n",
       "percent_prob_correct                                             0.727273\n",
       "response_str            radio_group_mc2 choice_A text_Yes radio_group_...\n",
       "response_doc             radio_group_mc2_ choice_A radio_group_mc2_ te...\n",
       "Name: 100, dtype: object"
      ]
     },
     "execution_count": 42,
     "metadata": {},
     "output_type": "execute_result"
    }
   ],
   "source": [
    "df3.iloc[100]"
   ]
  },
  {
   "cell_type": "code",
   "execution_count": 43,
   "metadata": {
    "collapsed": false,
    "scrolled": false
   },
   "outputs": [
    {
     "name": "stdout",
     "output_type": "stream",
     "text": [
      "0   fraction_cblock_chains_ right_442 fraction_cblock_chains_ sum_ numerator_1 sum_ denominator_2 sum_ __as3_type_Fraction fraction_cblock_chains_  pieces_1_2 fraction_cblock_chains_ left_97 fraction_cblock_chains_ lcm_sum_ numerator_1 lcm_sum_ denominator_2 lcm_sum_ __as3_type_Fraction   plain_image_groups_ total_1 plain_image_groups_ url_assets_cms_wootmath_fractions_number_line_markers_end_marker_noline.swf  plain_image_groups_ total_1 plain_image_groups_ url_assets_cms_wootmath_fractions_number_line_markers_start_marker.swf  plain_image_groups_ total_1 plain_image_groups_ url_assets_cms_wootmath_fractions_number_line_objects_dog.swf  plain_image_groups_ total_1 plain_image_groups_ url_assets_cms_wootmath_fractions_number_line_objects_cat_dog_trail.swf  den_2  fraction_input_value_1_2  num_1  fraction_cblock_total_count_1    fraction_cblock_counts_ 1_2_1   whole_   Use the 1/2 pieces to figure out how far the dog traveled.Answer: 1/2   In the first part of this lesson, student partition the number line into the number of given pieces to determine how far the bug traveled. In the second part of the lesson students partition the number line and then drag the bug to the given location.\n",
      "1  fraction_cblock_total_count_4   plain_image_groups_ total_1 plain_image_groups_ url_assets_cms_wootmath_fractions_number_line_objects_panda.swf  plain_image_groups_ total_1 plain_image_groups_ url_assets_cms_wootmath_fractions_number_line_markers_start_marker.swf  input_4   fraction_cblock_chains_ right_856 fraction_cblock_chains_ sum_ numerator_1 sum_ denominator_1 sum_ __as3_type_Fraction fraction_cblock_chains_  pieces_1_4  pieces_1_4  pieces_1_4  pieces_1_4 fraction_cblock_chains_ left_165 fraction_cblock_chains_ lcm_sum_ numerator_4 lcm_sum_ denominator_4 lcm_sum_ __as3_type_Fraction    numberline_associations_ numberline_associations_ position_720.0 numberline_associations_ pos_value_1.0 numberline_associations_ obj_name_object  fraction_cblock_counts_ 1_4_4    Drag the panda to 4/4 of a yard from the start.Answer: 4/4   In the first part of this lesson, student partition the number line into the number of given pieces to determine how far the bug traveled. In the second part of the lesson students partition the number line and then drag the bug to the given location.\n",
      "2   fraction_cblock_chains_ left_176 fraction_cblock_chains_ lcm_sum_ numerator_2 lcm_sum_ denominator_8 lcm_sum_ __as3_type_Fraction fraction_cblock_chains_ right_348 fraction_cblock_chains_  pieces_1_8  pieces_1_8 fraction_cblock_chains_ sum_ numerator_1 sum_ denominator_4 sum_ __as3_type_Fraction  fraction_cblock_chains_ left_590 fraction_cblock_chains_ lcm_sum_ numerator_1 lcm_sum_ denominator_6 lcm_sum_ __as3_type_Fraction fraction_cblock_chains_ right_705 fraction_cblock_chains_  pieces_1_6 fraction_cblock_chains_ sum_ numerator_1 sum_ denominator_6 sum_ __as3_type_Fraction  fraction_cblock_chains_ left_176 fraction_cblock_chains_ lcm_sum_ numerator_1 lcm_sum_ denominator_4 lcm_sum_ __as3_type_Fraction fraction_cblock_chains_ right_348 fraction_cblock_chains_  pieces_1_4 fraction_cblock_chains_ sum_ numerator_1 sum_ denominator_4 sum_ __as3_type_Fraction  fraction_cblock_chains_ left_176 fraction_cblock_chains_ lcm_sum_ numerator_1 lcm_sum_ denominator_1 lcm_sum_ __as3_type_Fraction fraction_cblock_chains_ right_866 fraction_cblock_chains_  pieces_1 fraction_cblock_chains_ sum_ numerator_1 sum_ denominator_1 sum_ __as3_type_Fraction  fraction_cblock_total_count_5  fraction_cblock_counts_ 1_1 fraction_cblock_counts_ 1_8_2 fraction_cblock_counts_ 1_6_1 fraction_cblock_counts_ 1_4_1  fraction_cblock_containment_ piece0_ lcm_sum_ numerator_2 lcm_sum_ denominator_8 lcm_sum_ __as3_type_Fraction piece0_ piece0_  pieces_1_8  pieces_1_8 piece0_ sum_ numerator_1 sum_ denominator_4 sum_ __as3_type_Fraction   Model how many eighths are equal to one fourth.Answer: 2   In this lesson, students use visual fraction models to determine simple equivalent fractions in real world contexts.\n",
      "3   fraction_cblock_chains_ left_176 fraction_cblock_chains_ lcm_sum_ numerator_1 lcm_sum_ denominator_2 lcm_sum_ __as3_type_Fraction fraction_cblock_chains_ right_521 fraction_cblock_chains_  pieces_1_2 fraction_cblock_chains_ sum_ numerator_1 sum_ denominator_2 sum_ __as3_type_Fraction  fraction_cblock_chains_ left_176 fraction_cblock_chains_ lcm_sum_ numerator_4 lcm_sum_ denominator_8 lcm_sum_ __as3_type_Fraction fraction_cblock_chains_ right_521 fraction_cblock_chains_  pieces_1_8  pieces_1_8  pieces_1_8  pieces_1_8 fraction_cblock_chains_ sum_ numerator_1 sum_ denominator_2 sum_ __as3_type_Fraction  fraction_cblock_chains_ left_176 fraction_cblock_chains_ lcm_sum_ numerator_1 lcm_sum_ denominator_1 lcm_sum_ __as3_type_Fraction fraction_cblock_chains_ right_866 fraction_cblock_chains_  pieces_1 fraction_cblock_chains_ sum_ numerator_1 sum_ denominator_1 sum_ __as3_type_Fraction  fraction_cblock_total_count_6  fraction_cblock_counts_ 1_1 fraction_cblock_counts_ 1_2_1 fraction_cblock_counts_ 1_8_4  fraction_cblock_containment_ [Fraction] 1_2_ lcm_sum_ numerator_4 lcm_sum_ denominator_8 lcm_sum_ __as3_type_Fraction [Fraction] 1_2_ [Fraction] 1_2_  pieces_1_8  pieces_1_8  pieces_1_8  pieces_1_8 [Fraction] 1_2_ sum_ numerator_1 sum_ denominator_2 sum_ __as3_type_Fraction   Model how many halves are equal to four eighths.Answer: 1   In this lesson, students use visual fraction models to determine simple equivalent fractions in real world contexts.\n",
      "4  fraction_circle_containment_ [Fraction] 1_2_ lcm_sum_ numerator_4 lcm_sum_ denominator_8 lcm_sum_ __as3_type_Fraction [Fraction] 1_2_ [Fraction] 1_2_  pieces_1_8  pieces_1_8  pieces_1_8  pieces_1_8 [Fraction] 1_2_ sum_ numerator_1 sum_ denominator_2 sum_ __as3_type_Fraction  fraction_circle_total_count_6   fraction_circle_groups_ x_512 fraction_circle_groups_ y_300 fraction_circle_groups_ scale_1.0 fraction_circle_groups_  pieces_1_2  pieces_1_8  pieces_1_8  pieces_1_8  pieces_1_8  pieces_1 fraction_circle_groups_  chains_ right_180 chains_  pieces_1_8  pieces_1_8  pieces_1_8  pieces_1_8 chains_ left_0  fraction_circle_counts_ 1_1 fraction_circle_counts_ 1_2_1 fraction_circle_counts_ 1_8_4   Cameron ate  4/8  of a pizza.Cover the pizza to model how many halves of a pizza he ate.Answer: 1   In this lesson, students use visual fraction models to determine simple equivalent fractions in real world contexts.\n",
      "5   image_object_groups_ total_6 image_object_groups_ on_3 image_object_groups_ url_assets_objects_singles_watch.swf image_object_groups_ off_3   Shade 1/2 of the 6 watches.Answer: 1/2   A review of material from earlier lessons. The following topics were selected for review: One Fourth of Shapes and Sets - Supplemental 1; One Fourth of Shapes and Sets; and Equivalent Fractions in Partitioning Sets.\n",
      "6   Shade 1/4 of the circle.answer={:n=>3, :d=>12}   A review of material from earlier lessons. The following topics were selected for review: One Fourth of Shapes and Sets - Supplemental 1; One Fourth of Shapes and Sets; and Equivalent Fractions in Partitioning Sets.\n",
      "7   Shade 1/3 of the rectangle.answer={:n=>2, :d=>6}   A review of material from earlier lessons. The following topics were selected for review: One Third of Shapes and Sets; One Fourth of Shapes and Sets; and Equivalent Fractions in Partitioning Sets.\n",
      "8   fraction_circle_groups_ x_512 fraction_circle_groups_ scale_1 fraction_circle_groups_  chains_  pieces_1_8  pieces_1_8  pieces_1_8  pieces_1_8 chains_ left_0 chains_ right_180 fraction_circle_groups_  pieces_1_8  pieces_1_8  pieces_1_8  pieces_1_8  pieces_1_2  pieces_1 fraction_circle_groups_ y_300  fraction_circle_containment_ piece_0_ sum_ denominator_2 sum_ numerator_1 sum_ __as3_type_Fraction piece_0_ piece_0_  pieces_1_8  pieces_1_8  pieces_1_8  pieces_1_8 piece_0_ lcm_sum_ denominator_8 lcm_sum_ numerator_4 lcm_sum_ __as3_type_Fraction  fraction_circle_counts_ 1_1 fraction_circle_counts_ 1_2_1 fraction_circle_counts_ 1_8_4  fraction_circle_total_count_6   Drag one eighth pieces to cover all of the  1/2  piece.Answer: 4   In this lesson, students learn to relate fraction pieces to each other by covering one fraction exactly with another.\n",
      "9   fraction_circle_groups_ x_512 fraction_circle_groups_ scale_1.0 fraction_circle_groups_  chains_  pieces_1_8  pieces_1_8  pieces_1_8  pieces_1_8 chains_ left_0 chains_ right_180 fraction_circle_groups_  pieces_1_2  pieces_1_8  pieces_1_8  pieces_1_8  pieces_1_8  pieces_1 fraction_circle_groups_ y_300  fraction_circle_containment_ [Fraction] 1_2_ sum_ denominator_2 sum_ numerator_1 sum_ __as3_type_Fraction [Fraction] 1_2_ [Fraction] 1_2_  pieces_1_8  pieces_1_8  pieces_1_8  pieces_1_8 [Fraction] 1_2_ lcm_sum_ denominator_8 lcm_sum_ numerator_4 lcm_sum_ __as3_type_Fraction  fraction_circle_counts_ 1_1 fraction_circle_counts_ 1_2_1 fraction_circle_counts_ 1_8_4  fraction_circle_total_count_6   Drag one half pieces to cover all of the  4/8  shown.Answer: 1   In this lesson, students learn to relate fraction pieces to each other by covering one fraction exactly with another.\n",
      "10   fraction_circle_groups_ x_512 fraction_circle_groups_ scale_1.0 fraction_circle_groups_  chains_  pieces_1_4  pieces_1_4 chains_ left_0 chains_ right_180 fraction_circle_groups_  pieces_1_2  pieces_1_4  pieces_1_4  pieces_1 fraction_circle_groups_ y_300  fraction_circle_containment_ [Fraction] 1_2_ sum_ denominator_2 sum_ numerator_1 sum_ __as3_type_Fraction [Fraction] 1_2_ [Fraction] 1_2_  pieces_1_4  pieces_1_4 [Fraction] 1_2_ lcm_sum_ denominator_4 lcm_sum_ numerator_2 lcm_sum_ __as3_type_Fraction  fraction_circle_counts_ 1_1 fraction_circle_counts_ 1_2_1 fraction_circle_counts_ 1_4_2  fraction_circle_total_count_4   Drag one half pieces to cover all of the  2/4  shown.Answer: 1   In this lesson, students learn to relate fraction pieces to each other by covering one fraction exactly with another.\n",
      "11  radio_choice_C  radio_group_problem_ choice_C radio_group_problem_ text_3_6  radio_text_3_6   What fraction has 6 as the denominator  () 6/7 () 4/5 () 3/6Answer: 3/6   Students identify the numerator and denominator of given fractions.\n",
      "12   fraction_cblock_chains_ sum_ denominator_10 sum_ numerator_1 sum_ __as3_type_Fraction fraction_cblock_chains_ lcm_sum_ denominator_10 lcm_sum_ numerator_1 lcm_sum_ __as3_type_Fraction fraction_cblock_chains_  pieces_1_10 fraction_cblock_chains_ left_1024 fraction_cblock_chains_ right_1458  fraction_cblock_chains_ sum_ denominator_5 sum_ numerator_1 sum_ __as3_type_Fraction fraction_cblock_chains_ lcm_sum_ denominator_10 lcm_sum_ numerator_2 lcm_sum_ __as3_type_Fraction fraction_cblock_chains_  pieces_1_10  pieces_1_10 fraction_cblock_chains_ left_1024 fraction_cblock_chains_ right_1297  fraction_cblock_chains_ sum_ denominator_10 sum_ numerator_1 sum_ __as3_type_Fraction fraction_cblock_chains_ lcm_sum_ denominator_10 lcm_sum_ numerator_1 lcm_sum_ __as3_type_Fraction fraction_cblock_chains_  pieces_1_10 fraction_cblock_chains_ left_1024 fraction_cblock_chains_ right_1531  fraction_cblock_chains_ sum_ denominator_10 sum_ numerator_1 sum_ __as3_type_Fraction fraction_cblock_chains_ lcm_sum_ denominator_10 lcm_sum_ numerator_1 lcm_sum_ __as3_type_Fraction fraction_cblock_chains_  pieces_1_10 fraction_cblock_chains_ left_1024 fraction_cblock_chains_ right_1214  fraction_cblock_chains_ sum_ denominator_10 sum_ numerator_1 sum_ __as3_type_Fraction fraction_cblock_chains_ lcm_sum_ denominator_10 lcm_sum_ numerator_1 lcm_sum_ __as3_type_Fraction fraction_cblock_chains_  pieces_1_10 fraction_cblock_chains_ left_1024 fraction_cblock_chains_ right_1424  fraction_cblock_chains_ sum_ denominator_5 sum_ numerator_2 sum_ __as3_type_Fraction fraction_cblock_chains_ lcm_sum_ denominator_10 lcm_sum_ numerator_4 lcm_sum_ __as3_type_Fraction fraction_cblock_chains_  pieces_1_10  pieces_1_10  pieces_1_10  pieces_1_10 fraction_cblock_chains_ left_544 fraction_cblock_chains_ right_820  fraction_cblock_chains_ sum_ denominator_84 sum_ numerator_73 sum_ __as3_type_Fraction fraction_cblock_chains_ lcm_sum_ denominator_84 lcm_sum_ numerator_73 lcm_sum_ __as3_type_Fraction fraction_cblock_chains_  pieces_1_7  pieces_1_7  pieces_1_6  pieces_1_6  pieces_1_4 fraction_cblock_chains_ left_1001 fraction_cblock_chains_ right_1272  fraction_cblock_chains_ sum_ denominator_35 sum_ numerator_17 sum_ __as3_type_Fraction fraction_cblock_chains_ lcm_sum_ denominator_35 lcm_sum_ numerator_17 lcm_sum_ __as3_type_Fraction fraction_cblock_chains_  pieces_1_7  pieces_1_7  pieces_1_5 fraction_cblock_chains_ left_981 fraction_cblock_chains_ right_1316  fraction_cblock_chains_ sum_ denominator_28 sum_ numerator_11 sum_ __as3_type_Fraction fraction_cblock_chains_ lcm_sum_ denominator_28 lcm_sum_ numerator_11 lcm_sum_ __as3_type_Fraction fraction_cblock_chains_  pieces_1_7  pieces_1_4 fraction_cblock_chains_ left_1001 fraction_cblock_chains_ right_1272  fraction_cblock_chains_ sum_ denominator_7 sum_ numerator_1 sum_ __as3_type_Fraction fraction_cblock_chains_ lcm_sum_ denominator_7 lcm_sum_ numerator_1 lcm_sum_ __as3_type_Fraction fraction_cblock_chains_  pieces_1_7 fraction_cblock_chains_ left_1024 fraction_cblock_chains_ right_1300  fraction_cblock_chains_ sum_ denominator_7 sum_ numerator_1 sum_ __as3_type_Fraction fraction_cblock_chains_ lcm_sum_ denominator_7 lcm_sum_ numerator_1 lcm_sum_ __as3_type_Fraction fraction_cblock_chains_  pieces_1_7 fraction_cblock_chains_ left_1024 fraction_cblock_chains_ right_1248  fraction_cblock_chains_ sum_ denominator_6 sum_ numerator_1 sum_ __as3_type_Fraction fraction_cblock_chains_ lcm_sum_ denominator_6 lcm_sum_ numerator_1 lcm_sum_ __as3_type_Fraction fraction_cblock_chains_  pieces_1_6 fraction_cblock_chains_ left_1024 fraction_cblock_chains_ right_1316  fraction_cblock_chains_ sum_ denominator_6 sum_ numerator_1 sum_ __as3_type_Fraction fraction_cblock_chains_ lcm_sum_ denominator_6 lcm_sum_ numerator_1 lcm_sum_ __as3_type_Fraction fraction_cblock_chains_  pieces_1_6 fraction_cblock_chains_ left_1024 fraction_cblock_chains_ right_1387  fraction_cblock_chains_ sum_ denominator_6 sum_ numerator_1 sum_ __as3_type_Fraction fraction_cblock_chains_ lcm_sum_ denominator_6 lcm_sum_ numerator_1 lcm_sum_ __as3_type_Fraction fraction_cblock_chains_  pieces_1_6 fraction_cblock_chains_ left_1024 fraction_cblock_chains_ right_1220  fraction_cblock_chains_ sum_ denominator_6 sum_ numerator_1 sum_ __as3_type_Fraction fraction_cblock_chains_ lcm_sum_ denominator_6 lcm_sum_ numerator_1 lcm_sum_ __as3_type_Fraction fraction_cblock_chains_  pieces_1_6 fraction_cblock_chains_ left_1024 fraction_cblock_chains_ right_1387  fraction_cblock_chains_ sum_ denominator_5 sum_ numerator_1 sum_ __as3_type_Fraction fraction_cblock_chains_ lcm_sum_ denominator_5 lcm_sum_ numerator_1 lcm_sum_ __as3_type_Fraction fraction_cblock_chains_  pieces_1_5 fraction_cblock_chains_ left_1024 fraction_cblock_chains_ right_1358  fraction_cblock_chains_ sum_ denominator_5 sum_ numerator_3 sum_ __as3_type_Fraction fraction_cblock_chains_ lcm_sum_ denominator_5 lcm_sum_ numerator_3 lcm_sum_ __as3_type_Fraction fraction_cblock_chains_  pieces_1_5  pieces_1_5  pieces_1_5 fraction_cblock_chains_ left_1024 fraction_cblock_chains_ right_1337  fraction_cblock_chains_ sum_ denominator_2 sum_ numerator_1 sum_ __as3_type_Fraction fraction_cblock_chains_ lcm_sum_ denominator_4 lcm_sum_ numerator_2 lcm_sum_ __as3_type_Fraction fraction_cblock_chains_  pieces_1_4  pieces_1_4 fraction_cblock_chains_ left_1024 fraction_cblock_chains_ right_1523  fraction_cblock_chains_ sum_ denominator_4 sum_ numerator_1 sum_ __as3_type_Fraction fraction_cblock_chains_ lcm_sum_ denominator_4 lcm_sum_ numerator_1 lcm_sum_ __as3_type_Fraction fraction_cblock_chains_  pieces_1_4 fraction_cblock_chains_ left_1024 fraction_cblock_chains_ right_1272  fraction_cblock_chains_ sum_ denominator_4 sum_ numerator_1 sum_ __as3_type_Fraction fraction_cblock_chains_ lcm_sum_ denominator_4 lcm_sum_ numerator_1 lcm_sum_ __as3_type_Fraction fraction_cblock_chains_  pieces_1_4 fraction_cblock_chains_ left_1024 fraction_cblock_chains_ right_1358  fraction_cblock_chains_ sum_ denominator_2 sum_ numerator_1 sum_ __as3_type_Fraction fraction_cblock_chains_ lcm_sum_ denominator_2 lcm_sum_ numerator_1 lcm_sum_ __as3_type_Fraction fraction_cblock_chains_  pieces_1_2 fraction_cblock_chains_ left_1024 fraction_cblock_chains_ right_1531  fraction_cblock_chains_ sum_ denominator_2 sum_ numerator_1 sum_ __as3_type_Fraction fraction_cblock_chains_ lcm_sum_ denominator_4 lcm_sum_ numerator_2 lcm_sum_ __as3_type_Fraction fraction_cblock_chains_  pieces_1_4  pieces_1_4 fraction_cblock_chains_ left_1024 fraction_cblock_chains_ right_1389  fraction_cblock_chains_ sum_ denominator_4 sum_ numerator_1 sum_ __as3_type_Fraction fraction_cblock_chains_ lcm_sum_ denominator_4 lcm_sum_ numerator_1 lcm_sum_ __as3_type_Fraction fraction_cblock_chains_  pieces_1_4 fraction_cblock_chains_ left_1024 fraction_cblock_chains_ right_1216  fraction_cblock_chains_ sum_ denominator_4 sum_ numerator_1 sum_ __as3_type_Fraction fraction_cblock_chains_ lcm_sum_ denominator_4 lcm_sum_ numerator_1 lcm_sum_ __as3_type_Fraction fraction_cblock_chains_  pieces_1_4 fraction_cblock_chains_ left_1024 fraction_cblock_chains_ right_1351  fraction_cblock_chains_ sum_ denominator_1 sum_ numerator_1 sum_ __as3_type_Fraction fraction_cblock_chains_ lcm_sum_ denominator_1 lcm_sum_ numerator_1 lcm_sum_ __as3_type_Fraction fraction_cblock_chains_  pieces_1 fraction_cblock_chains_ left_1024 fraction_cblock_chains_ right_2045  fraction_cblock_chains_ sum_ denominator_1 sum_ numerator_1 sum_ __as3_type_Fraction fraction_cblock_chains_ lcm_sum_ denominator_1 lcm_sum_ numerator_1 lcm_sum_ __as3_type_Fraction fraction_cblock_chains_  pieces_1 fraction_cblock_chains_ left_130 fraction_cblock_chains_ right_820  fraction_cblock_containment_ bar1_ sum_ denominator_5 sum_ numerator_2 sum_ __as3_type_Fraction bar1_ bar1_  pieces_1_10  pieces_1_10  pieces_1_10  pieces_1_10 bar1_ lcm_sum_ denominator_10 lcm_sum_ numerator_4 lcm_sum_ __as3_type_Fraction fraction_cblock_containment_ [Fraction] 1_4_ sum_ denominator_5 sum_ numerator_1 sum_ __as3_type_Fraction [Fraction] 1_4_ [Fraction] 1_4_  pieces_1_5 [Fraction] 1_4_ lcm_sum_ denominator_5 lcm_sum_ numerator_1 lcm_sum_ __as3_type_Fraction fraction_cblock_containment_ [Fraction] 1_ sum_ denominator_10 sum_ numerator_1 sum_ __as3_type_Fraction [Fraction] 1_ [Fraction] 1_  pieces_1_10 [Fraction] 1_ lcm_sum_ denominator_10 lcm_sum_ numerator_1 lcm_sum_ __as3_type_Fraction  fraction_cblock_total_count_41  fraction_cblock_counts_ 1_2 fraction_cblock_counts_ 1_7_7 fraction_cblock_counts_ 1_4_10 fraction_cblock_counts_ 1_6_6 fraction_cblock_counts_ 1_5_5 fraction_cblock_counts_ 1_2_1 fraction_cblock_counts_ 1_10_10   Model 4/10 on the black bar using the fraction pieces below.Answer: [object Object]   Students identify the numerator and denominator of given fractions.\n",
      "13  whole_  fraction_input_value_4_6   fraction_cblock_chains_ sum_ denominator_3 sum_ numerator_2 sum_ __as3_type_Fraction fraction_cblock_chains_ lcm_sum_ denominator_6 lcm_sum_ numerator_4 lcm_sum_ __as3_type_Fraction fraction_cblock_chains_  pieces_1_6  pieces_1_6  pieces_1_6  pieces_1_6 fraction_cblock_chains_ left_96 fraction_cblock_chains_ right_522   num_4   plain_image_groups_ total_1 plain_image_groups_ url_assets_cms_wootmath_fractions_number_line_markers_end_marker.swf  plain_image_groups_ total_1 plain_image_groups_ url_assets_cms_wootmath_fractions_number_line_markers_start_marker.swf  plain_image_groups_ total_1 plain_image_groups_ url_assets_cms_wootmath_fractions_number_line_objects_beetle.swf  plain_image_groups_ total_1 plain_image_groups_ url_assets_cms_wootmath_fractions_number_line_objects_beetle_trail.swf    den_6  fraction_cblock_total_count_4  fraction_cblock_counts_ 1_6_4   Use the 1/6 pieces to figure out how far the beetle traveled.Answer: 4/6   In the first part of this lesson, student partition the number line into the number of given pieces to determine how far the bug traveled. In the second part of the lesson students partition the number line and then drag the bug to the given location.\n",
      "14   plain_image_groups_ total_1 plain_image_groups_ url_assets_cms_wootmath_fractions_number_line_objects_panda.swf  plain_image_groups_ total_1 plain_image_groups_ url_assets_cms_wootmath_fractions_number_line_markers_start_marker.swf   input_8    numberline_associations_ position_634 numberline_associations_ pos_value_0.88 numberline_associations_ obj_name_object numberline_associations_   fraction_cblock_chains_ sum_ denominator_8 sum_ numerator_7 sum_ __as3_type_Fraction fraction_cblock_chains_ lcm_sum_ denominator_8 lcm_sum_ numerator_7 lcm_sum_ __as3_type_Fraction fraction_cblock_chains_  pieces_1_8  pieces_1_8  pieces_1_8  pieces_1_8  pieces_1_8  pieces_1_8  pieces_1_8 fraction_cblock_chains_ left_165 fraction_cblock_chains_ right_769  fraction_cblock_total_count_7  fraction_cblock_counts_ 1_8_7   Drag the panda to 7/8 of a yard from the start.Answer: 7/8   In the first part of this lesson, student partition the number line into the number of given pieces to determine how far the bug traveled. In the second part of the lesson students partition the number line and then drag the bug to the given location.\n",
      "15    input_8   One yard on the number line is divided intoAnswer: sixths   In the first part of this lesson, student partition the number line into the number of given pieces to determine how far the bug traveled. In the second part of the lesson students partition the number line and then drag the bug to the given location.\n",
      "16    numberline_associations_ position_580.0 numberline_associations_ pos_value_1.0 numberline_associations_ obj_name_answer_text numberline_associations_ obj_value_3_3  input_   Drag the fraction to its correct location on the number line.Answer: 3/3   In this lesson, students learn how to place unit and non-unit fraction on a number line.\n",
      "17   plain_image_groups_ total_1 plain_image_groups_ url_assets_cms_wootmath_fractions_number_line_objects_shark.swf  plain_image_groups_ total_1 plain_image_groups_ url_assets_cms_wootmath_fractions_number_line_markers_start_marker.swf   input_6    numberline_associations_ position_722 numberline_associations_ pos_value_1.0 numberline_associations_ obj_name_object numberline_associations_   fraction_cblock_chains_ sum_ denominator_1 sum_ numerator_1 sum_ __as3_type_Fraction fraction_cblock_chains_ lcm_sum_ denominator_6 lcm_sum_ numerator_6 lcm_sum_ __as3_type_Fraction fraction_cblock_chains_  pieces_1_6  pieces_1_6  pieces_1_6  pieces_1_6  pieces_1_6  pieces_1_6 fraction_cblock_chains_ left_165 fraction_cblock_chains_ right_856  fraction_cblock_total_count_6  fraction_cblock_counts_ 1_6_6   Drag the shark to 1/6 of a yard from the start.Answer: 1/6   A review of material from earlier lessons. The following topics were selected for review: Introducing 1/b on the Number Line; Partitioning the Number Line; and Labeling  Number Lines\n",
      "18  whole_  fraction_input_value_1_3   fraction_cblock_chains_ sum_ denominator_1 sum_ numerator_1 sum_ __as3_type_Fraction fraction_cblock_chains_ lcm_sum_ denominator_3 lcm_sum_ numerator_3 lcm_sum_ __as3_type_Fraction fraction_cblock_chains_  pieces_1_3  pieces_1_3  pieces_1_3 fraction_cblock_chains_ left_96 fraction_cblock_chains_ right_657   num_1   plain_image_groups_ total_1 plain_image_groups_ url_assets_cms_wootmath_fractions_number_line_markers_end_marker.swf  plain_image_groups_ total_1 plain_image_groups_ url_assets_cms_wootmath_fractions_number_line_markers_start_marker.swf  plain_image_groups_ total_1 plain_image_groups_ url_assets_cms_wootmath_fractions_number_line_objects_snail.swf  plain_image_groups_ total_1 plain_image_groups_ url_assets_cms_wootmath_fractions_number_line_objects_snail_trail.swf    den_3  fraction_cblock_total_count_3  fraction_cblock_counts_ 1_3_3   Use the 1/3 pieces to figure out how far the snail traveled.Answer: 3/3   A review of material from earlier lessons. The following topics were selected for review: Introducing 1/b on the Number Line; Partitioning the Number Line; and Labeling  Number Lines\n",
      "19  whole_  fraction_input_value_3_4   fraction_cblock_chains_ sum_ denominator_4 sum_ numerator_3 sum_ __as3_type_Fraction fraction_cblock_chains_ lcm_sum_ denominator_4 lcm_sum_ numerator_3 lcm_sum_ __as3_type_Fraction fraction_cblock_chains_  pieces_1_4  pieces_1_4  pieces_1_4 fraction_cblock_chains_ left_96 fraction_cblock_chains_ right_545   num_3   plain_image_groups_ total_1 plain_image_groups_ url_assets_cms_wootmath_fractions_number_line_markers_end_marker_noline.swf  plain_image_groups_ total_1 plain_image_groups_ url_assets_cms_wootmath_fractions_number_line_markers_start_marker.swf  plain_image_groups_ total_1 plain_image_groups_ url_assets_cms_wootmath_fractions_number_line_objects_dog.swf  plain_image_groups_ total_1 plain_image_groups_ url_assets_cms_wootmath_fractions_number_line_objects_cat_dog_trail.swf    den_4  fraction_cblock_total_count_3  fraction_cblock_counts_ 1_4_3   Use the 1/4 pieces to figure out how far the dog traveled.Answer: 3/4   A review of material from earlier lessons. The following topics were selected for review: Introducing 1/b on the Number Line; Partitioning the Number Line; and Labeling  Number Lines\n"
     ]
    }
   ],
   "source": [
    "for idx in range(20):\n",
    "    print (idx, df3['response_doc'].iloc[idx])"
   ]
  },
  {
   "cell_type": "code",
   "execution_count": 44,
   "metadata": {
    "collapsed": false
   },
   "outputs": [],
   "source": [
    "#df3['response_doc'] = df3['response_doc'].map( lambda x: \" \".join(x.split('/')) if '/' in x else x)"
   ]
  },
  {
   "cell_type": "code",
   "execution_count": 45,
   "metadata": {
    "collapsed": false
   },
   "outputs": [
    {
     "data": {
      "text/plain": [
       "\" radio_group_mc2_ choice_A radio_group_mc2_ text_Yes  radio_group_mc1_ choice_B radio_group_mc1_ text_No   plain_image_groups_ url_assets_cms_wootmath_fractions_equal_parts_sixths_sixth_15.swf plain_image_groups_ total_1  plain_image_groups_ url_assets_cms_wootmath_fractions_equal_parts_sixths_sixth_06.swf plain_image_groups_ total_1   Do these shapes have 5/6 shaded Answer: [object Object]   Students deepen their understanding of fractions by identifying area models that are divided into equal parts and those that aren't. \""
      ]
     },
     "execution_count": 45,
     "metadata": {},
     "output_type": "execute_result"
    }
   ],
   "source": [
    "df3.iloc[100]['response_doc']"
   ]
  },
  {
   "cell_type": "code",
   "execution_count": 46,
   "metadata": {
    "collapsed": true
   },
   "outputs": [],
   "source": [
    "df3['response_doc'] = df3['response_doc'].map( lambda x: x.replace('[',' '))\n",
    "df3['response_doc'] = df3['response_doc'].map( lambda x: x.replace(']',' '))"
   ]
  },
  {
   "cell_type": "code",
   "execution_count": 47,
   "metadata": {
    "collapsed": false
   },
   "outputs": [
    {
     "data": {
      "text/plain": [
       "\" radio_group_mc2_ choice_A radio_group_mc2_ text_Yes  radio_group_mc1_ choice_B radio_group_mc1_ text_No   plain_image_groups_ url_assets_cms_wootmath_fractions_equal_parts_sixths_sixth_15.swf plain_image_groups_ total_1  plain_image_groups_ url_assets_cms_wootmath_fractions_equal_parts_sixths_sixth_06.swf plain_image_groups_ total_1   Do these shapes have 5/6 shaded Answer:  object Object    Students deepen their understanding of fractions by identifying area models that are divided into equal parts and those that aren't. \""
      ]
     },
     "execution_count": 47,
     "metadata": {},
     "output_type": "execute_result"
    }
   ],
   "source": [
    "df3.iloc[100]['response_doc']"
   ]
  },
  {
   "cell_type": "code",
   "execution_count": 48,
   "metadata": {
    "collapsed": false
   },
   "outputs": [
    {
     "name": "stdout",
     "output_type": "stream",
     "text": [
      "Cluster  0 :   fraction_cblock_chains_ right_442 fraction_cblock_chains_ sum_ numerator_1 sum_ denominator_2 sum_ __as3_type_Fraction fraction_cblock_chains_  pieces_1_2 fraction_cblock_chains_ left_97 fraction_cblock_chains_ lcm_sum_ numerator_1 lcm_sum_ denominator_2 lcm_sum_ __as3_type_Fraction   plain_image_groups_ total_1 plain_image_groups_ url_assets_cms_wootmath_fractions_number_line_markers_end_marker_noline.swf  plain_image_groups_ total_1 plain_image_groups_ url_assets_cms_wootmath_fractions_number_line_markers_start_marker.swf  plain_image_groups_ total_1 plain_image_groups_ url_assets_cms_wootmath_fractions_number_line_objects_dog.swf  plain_image_groups_ total_1 plain_image_groups_ url_assets_cms_wootmath_fractions_number_line_objects_cat_dog_trail.swf  den_2  fraction_input_value_1_2  num_1  fraction_cblock_total_count_1    fraction_cblock_counts_ 1_2_1   whole_   Use the 1/2 pieces to figure out how far the dog traveled.Answer: 1/2   In the first part of this lesson, student partition the number line into the number of given pieces to determine how far the bug traveled. In the second part of the lesson students partition the number line and then drag the bug to the given location.\n",
      "Cluster  1 :  fraction_cblock_total_count_4   plain_image_groups_ total_1 plain_image_groups_ url_assets_cms_wootmath_fractions_number_line_objects_panda.swf  plain_image_groups_ total_1 plain_image_groups_ url_assets_cms_wootmath_fractions_number_line_markers_start_marker.swf  input_4   fraction_cblock_chains_ right_856 fraction_cblock_chains_ sum_ numerator_1 sum_ denominator_1 sum_ __as3_type_Fraction fraction_cblock_chains_  pieces_1_4  pieces_1_4  pieces_1_4  pieces_1_4 fraction_cblock_chains_ left_165 fraction_cblock_chains_ lcm_sum_ numerator_4 lcm_sum_ denominator_4 lcm_sum_ __as3_type_Fraction    numberline_associations_ numberline_associations_ position_720.0 numberline_associations_ pos_value_1.0 numberline_associations_ obj_name_object  fraction_cblock_counts_ 1_4_4    Drag the panda to 4/4 of a yard from the start.Answer: 4/4   In the first part of this lesson, student partition the number line into the number of given pieces to determine how far the bug traveled. In the second part of the lesson students partition the number line and then drag the bug to the given location.\n",
      "Cluster  2 :   fraction_cblock_chains_ left_176 fraction_cblock_chains_ lcm_sum_ numerator_2 lcm_sum_ denominator_8 lcm_sum_ __as3_type_Fraction fraction_cblock_chains_ right_348 fraction_cblock_chains_  pieces_1_8  pieces_1_8 fraction_cblock_chains_ sum_ numerator_1 sum_ denominator_4 sum_ __as3_type_Fraction  fraction_cblock_chains_ left_590 fraction_cblock_chains_ lcm_sum_ numerator_1 lcm_sum_ denominator_6 lcm_sum_ __as3_type_Fraction fraction_cblock_chains_ right_705 fraction_cblock_chains_  pieces_1_6 fraction_cblock_chains_ sum_ numerator_1 sum_ denominator_6 sum_ __as3_type_Fraction  fraction_cblock_chains_ left_176 fraction_cblock_chains_ lcm_sum_ numerator_1 lcm_sum_ denominator_4 lcm_sum_ __as3_type_Fraction fraction_cblock_chains_ right_348 fraction_cblock_chains_  pieces_1_4 fraction_cblock_chains_ sum_ numerator_1 sum_ denominator_4 sum_ __as3_type_Fraction  fraction_cblock_chains_ left_176 fraction_cblock_chains_ lcm_sum_ numerator_1 lcm_sum_ denominator_1 lcm_sum_ __as3_type_Fraction fraction_cblock_chains_ right_866 fraction_cblock_chains_  pieces_1 fraction_cblock_chains_ sum_ numerator_1 sum_ denominator_1 sum_ __as3_type_Fraction  fraction_cblock_total_count_5  fraction_cblock_counts_ 1_1 fraction_cblock_counts_ 1_8_2 fraction_cblock_counts_ 1_6_1 fraction_cblock_counts_ 1_4_1  fraction_cblock_containment_ piece0_ lcm_sum_ numerator_2 lcm_sum_ denominator_8 lcm_sum_ __as3_type_Fraction piece0_ piece0_  pieces_1_8  pieces_1_8 piece0_ sum_ numerator_1 sum_ denominator_4 sum_ __as3_type_Fraction   Model how many eighths are equal to one fourth.Answer: 2   In this lesson, students use visual fraction models to determine simple equivalent fractions in real world contexts.\n",
      "Cluster  3 :   fraction_cblock_chains_ left_176 fraction_cblock_chains_ lcm_sum_ numerator_1 lcm_sum_ denominator_2 lcm_sum_ __as3_type_Fraction fraction_cblock_chains_ right_521 fraction_cblock_chains_  pieces_1_2 fraction_cblock_chains_ sum_ numerator_1 sum_ denominator_2 sum_ __as3_type_Fraction  fraction_cblock_chains_ left_176 fraction_cblock_chains_ lcm_sum_ numerator_4 lcm_sum_ denominator_8 lcm_sum_ __as3_type_Fraction fraction_cblock_chains_ right_521 fraction_cblock_chains_  pieces_1_8  pieces_1_8  pieces_1_8  pieces_1_8 fraction_cblock_chains_ sum_ numerator_1 sum_ denominator_2 sum_ __as3_type_Fraction  fraction_cblock_chains_ left_176 fraction_cblock_chains_ lcm_sum_ numerator_1 lcm_sum_ denominator_1 lcm_sum_ __as3_type_Fraction fraction_cblock_chains_ right_866 fraction_cblock_chains_  pieces_1 fraction_cblock_chains_ sum_ numerator_1 sum_ denominator_1 sum_ __as3_type_Fraction  fraction_cblock_total_count_6  fraction_cblock_counts_ 1_1 fraction_cblock_counts_ 1_2_1 fraction_cblock_counts_ 1_8_4  fraction_cblock_containment_  Fraction  1_2_ lcm_sum_ numerator_4 lcm_sum_ denominator_8 lcm_sum_ __as3_type_Fraction  Fraction  1_2_  Fraction  1_2_  pieces_1_8  pieces_1_8  pieces_1_8  pieces_1_8  Fraction  1_2_ sum_ numerator_1 sum_ denominator_2 sum_ __as3_type_Fraction   Model how many halves are equal to four eighths.Answer: 1   In this lesson, students use visual fraction models to determine simple equivalent fractions in real world contexts.\n",
      "Cluster  4 :  fraction_circle_containment_  Fraction  1_2_ lcm_sum_ numerator_4 lcm_sum_ denominator_8 lcm_sum_ __as3_type_Fraction  Fraction  1_2_  Fraction  1_2_  pieces_1_8  pieces_1_8  pieces_1_8  pieces_1_8  Fraction  1_2_ sum_ numerator_1 sum_ denominator_2 sum_ __as3_type_Fraction  fraction_circle_total_count_6   fraction_circle_groups_ x_512 fraction_circle_groups_ y_300 fraction_circle_groups_ scale_1.0 fraction_circle_groups_  pieces_1_2  pieces_1_8  pieces_1_8  pieces_1_8  pieces_1_8  pieces_1 fraction_circle_groups_  chains_ right_180 chains_  pieces_1_8  pieces_1_8  pieces_1_8  pieces_1_8 chains_ left_0  fraction_circle_counts_ 1_1 fraction_circle_counts_ 1_2_1 fraction_circle_counts_ 1_8_4   Cameron ate  4/8  of a pizza.Cover the pizza to model how many halves of a pizza he ate.Answer: 1   In this lesson, students use visual fraction models to determine simple equivalent fractions in real world contexts.\n",
      "Cluster  5 :   image_object_groups_ total_6 image_object_groups_ on_3 image_object_groups_ url_assets_objects_singles_watch.swf image_object_groups_ off_3   Shade 1/2 of the 6 watches.Answer: 1/2   A review of material from earlier lessons. The following topics were selected for review: One Fourth of Shapes and Sets - Supplemental 1; One Fourth of Shapes and Sets; and Equivalent Fractions in Partitioning Sets.\n",
      "Cluster  6 :   Shade 1/4 of the circle.answer={:n=>3, :d=>12}   A review of material from earlier lessons. The following topics were selected for review: One Fourth of Shapes and Sets - Supplemental 1; One Fourth of Shapes and Sets; and Equivalent Fractions in Partitioning Sets.\n",
      "Cluster  7 :   Shade 1/3 of the rectangle.answer={:n=>2, :d=>6}   A review of material from earlier lessons. The following topics were selected for review: One Third of Shapes and Sets; One Fourth of Shapes and Sets; and Equivalent Fractions in Partitioning Sets.\n",
      "Cluster  8 :   fraction_circle_groups_ x_512 fraction_circle_groups_ scale_1 fraction_circle_groups_  chains_  pieces_1_8  pieces_1_8  pieces_1_8  pieces_1_8 chains_ left_0 chains_ right_180 fraction_circle_groups_  pieces_1_8  pieces_1_8  pieces_1_8  pieces_1_8  pieces_1_2  pieces_1 fraction_circle_groups_ y_300  fraction_circle_containment_ piece_0_ sum_ denominator_2 sum_ numerator_1 sum_ __as3_type_Fraction piece_0_ piece_0_  pieces_1_8  pieces_1_8  pieces_1_8  pieces_1_8 piece_0_ lcm_sum_ denominator_8 lcm_sum_ numerator_4 lcm_sum_ __as3_type_Fraction  fraction_circle_counts_ 1_1 fraction_circle_counts_ 1_2_1 fraction_circle_counts_ 1_8_4  fraction_circle_total_count_6   Drag one eighth pieces to cover all of the  1/2  piece.Answer: 4   In this lesson, students learn to relate fraction pieces to each other by covering one fraction exactly with another.\n",
      "Cluster  9 :   fraction_circle_groups_ x_512 fraction_circle_groups_ scale_1.0 fraction_circle_groups_  chains_  pieces_1_8  pieces_1_8  pieces_1_8  pieces_1_8 chains_ left_0 chains_ right_180 fraction_circle_groups_  pieces_1_2  pieces_1_8  pieces_1_8  pieces_1_8  pieces_1_8  pieces_1 fraction_circle_groups_ y_300  fraction_circle_containment_  Fraction  1_2_ sum_ denominator_2 sum_ numerator_1 sum_ __as3_type_Fraction  Fraction  1_2_  Fraction  1_2_  pieces_1_8  pieces_1_8  pieces_1_8  pieces_1_8  Fraction  1_2_ lcm_sum_ denominator_8 lcm_sum_ numerator_4 lcm_sum_ __as3_type_Fraction  fraction_circle_counts_ 1_1 fraction_circle_counts_ 1_2_1 fraction_circle_counts_ 1_8_4  fraction_circle_total_count_6   Drag one half pieces to cover all of the  4/8  shown.Answer: 1   In this lesson, students learn to relate fraction pieces to each other by covering one fraction exactly with another.\n"
     ]
    }
   ],
   "source": [
    "for idx in range(10):\n",
    "    print ('Cluster ', + idx, ': ' + df3.iloc[idx]['response_doc'])"
   ]
  },
  {
   "cell_type": "code",
   "execution_count": null,
   "metadata": {
    "collapsed": true
   },
   "outputs": [],
   "source": []
  },
  {
   "cell_type": "code",
   "execution_count": null,
   "metadata": {
    "collapsed": true
   },
   "outputs": [],
   "source": []
  },
  {
   "cell_type": "code",
   "execution_count": null,
   "metadata": {
    "collapsed": true
   },
   "outputs": [],
   "source": []
  },
  {
   "cell_type": "code",
   "execution_count": null,
   "metadata": {
    "collapsed": true
   },
   "outputs": [],
   "source": []
  },
  {
   "cell_type": "code",
   "execution_count": null,
   "metadata": {
    "collapsed": true
   },
   "outputs": [],
   "source": []
  },
  {
   "cell_type": "code",
   "execution_count": 49,
   "metadata": {
    "collapsed": true
   },
   "outputs": [],
   "source": [
    "docs = list(df3['response_doc'])"
   ]
  },
  {
   "cell_type": "code",
   "execution_count": 50,
   "metadata": {
    "collapsed": true
   },
   "outputs": [],
   "source": [
    "from time import time\n",
    "\n",
    "from sklearn.feature_extraction.text import TfidfVectorizer, CountVectorizer\n",
    "from sklearn.decomposition import NMF, LatentDirichletAllocation"
   ]
  },
  {
   "cell_type": "code",
   "execution_count": 51,
   "metadata": {
    "collapsed": true
   },
   "outputs": [],
   "source": [
    "data_samples = docs"
   ]
  },
  {
   "cell_type": "code",
   "execution_count": 52,
   "metadata": {
    "collapsed": true
   },
   "outputs": [],
   "source": [
    "n_features = 1000\n",
    "n_samples = len(data_samples)\n",
    "n_topics = 50\n",
    "n_top_words = 20"
   ]
  },
  {
   "cell_type": "code",
   "execution_count": 53,
   "metadata": {
    "collapsed": false
   },
   "outputs": [
    {
     "name": "stdout",
     "output_type": "stream",
     "text": [
      "Extracting tf-idf features for NMF...\n"
     ]
    }
   ],
   "source": [
    "print(\"Extracting tf-idf features for NMF...\")\n",
    "tfidf_vectorizer = TfidfVectorizer(max_df=0.95, min_df=2,\n",
    "                                   max_features=n_features,\n",
    "                                   stop_words='english')"
   ]
  },
  {
   "cell_type": "code",
   "execution_count": 54,
   "metadata": {
    "collapsed": false
   },
   "outputs": [
    {
     "name": "stdout",
     "output_type": "stream",
     "text": [
      "done in 10.859s.\n"
     ]
    }
   ],
   "source": [
    "t0 = time()\n",
    "tfidf = tfidf_vectorizer.fit_transform(data_samples)\n",
    "print(\"done in %0.3fs.\" % (time() - t0))\n"
   ]
  },
  {
   "cell_type": "code",
   "execution_count": 55,
   "metadata": {
    "collapsed": false
   },
   "outputs": [
    {
     "name": "stdout",
     "output_type": "stream",
     "text": [
      "Extracting tf features for LDA...\n",
      "done in 11.803s.\n"
     ]
    }
   ],
   "source": [
    "print(\"Extracting tf features for LDA...\")\n",
    "tf_vectorizer = CountVectorizer(max_df=0.95, min_df=2,\n",
    "                                max_features=n_features,\n",
    "                                stop_words='english')\n",
    "t0 = time()\n",
    "tf = tf_vectorizer.fit_transform(data_samples)\n",
    "print(\"done in %0.3fs.\" % (time() - t0))\n"
   ]
  },
  {
   "cell_type": "code",
   "execution_count": 56,
   "metadata": {
    "collapsed": true
   },
   "outputs": [],
   "source": [
    "n_features = 1000\n",
    "n_samples = len(data_samples)\n",
    "n_topics = 100\n",
    "n_top_words = 30"
   ]
  },
  {
   "cell_type": "code",
   "execution_count": 57,
   "metadata": {
    "collapsed": false
   },
   "outputs": [
    {
     "name": "stdout",
     "output_type": "stream",
     "text": [
      "Extracting tf-idf features for NMF...\n",
      "done in 10.448s.\n",
      "Extracting tf features for LDA...\n",
      "done in 11.587s.\n"
     ]
    }
   ],
   "source": [
    "print(\"Extracting tf-idf features for NMF...\")\n",
    "tfidf_vectorizer = TfidfVectorizer(max_df=0.95, min_df=2,\n",
    "                                   max_features=n_features,\n",
    "                                   stop_words='english')\n",
    "t0 = time()\n",
    "tfidf = tfidf_vectorizer.fit_transform(data_samples)\n",
    "print(\"done in %0.3fs.\" % (time() - t0))\n",
    "\n",
    "\n",
    "print(\"Extracting tf features for LDA...\")\n",
    "tf_vectorizer = CountVectorizer(max_df=0.95, min_df=2,\n",
    "                                max_features=n_features,\n",
    "                                stop_words='english')\n",
    "t0 = time()\n",
    "tf = tf_vectorizer.fit_transform(data_samples)\n",
    "print(\"done in %0.3fs.\" % (time() - t0))\n"
   ]
  },
  {
   "cell_type": "code",
   "execution_count": null,
   "metadata": {
    "collapsed": true
   },
   "outputs": [],
   "source": []
  },
  {
   "cell_type": "code",
   "execution_count": 58,
   "metadata": {
    "collapsed": false
   },
   "outputs": [],
   "source": [
    "\n",
    "from sklearn.cluster import KMeans, MiniBatchKMeans\n",
    "true_k = 100\n",
    "\n",
    "km = MiniBatchKMeans(n_clusters=true_k, init='k-means++', n_init=1,\n",
    "                         init_size=1000, batch_size=1000, random_state=42)"
   ]
  },
  {
   "cell_type": "code",
   "execution_count": 59,
   "metadata": {
    "collapsed": false
   },
   "outputs": [
    {
     "name": "stdout",
     "output_type": "stream",
     "text": [
      "Clustering sparse data with MiniBatchKMeans(batch_size=1000, compute_labels=True, init='k-means++',\n",
      "        init_size=1000, max_iter=100, max_no_improvement=10,\n",
      "        n_clusters=100, n_init=1, random_state=42, reassignment_ratio=0.01,\n",
      "        tol=0.0, verbose=0)\n",
      "done in 3.731s\n",
      "\n"
     ]
    }
   ],
   "source": [
    "print(\"Clustering sparse data with %s\" % km)\n",
    "t0 = time()\n",
    "km.fit(tf)\n",
    "print(\"done in %0.3fs\" % (time() - t0))\n",
    "print()"
   ]
  },
  {
   "cell_type": "code",
   "execution_count": 60,
   "metadata": {
    "collapsed": false,
    "scrolled": false
   },
   "outputs": [
    {
     "name": "stdout",
     "output_type": "stream",
     "text": [
      "Top terms per cluster:\n",
      "Cluster 0:\n",
      " --- number\n",
      " --- students\n",
      " --- answer\n",
      " --- mixed\n",
      " --- object\n",
      " --- enter\n",
      " --- fractions\n",
      " --- form\n",
      " --- simplest\n",
      " --- numbers\n",
      " --- line\n",
      " --- lesson\n",
      " --- using\n",
      " --- learn\n",
      " --- models\n",
      " --- num_1\n",
      " --- whole_1\n",
      " --- denominator\n",
      " --- fraction_input_value_1\n",
      " --- visual\n",
      " --- subtract\n",
      " --- improper\n",
      " --- proper\n",
      " --- location\n",
      " --- fraction\n",
      " --- whole_\n",
      " --- context\n",
      " --- mile\n",
      " --- world\n",
      " --- review\n",
      "\n",
      "Cluster 1:\n",
      " --- fraction_cblock_chains_\n",
      " --- lcm_sum_\n",
      " --- sum_\n",
      " --- __as3_type_fraction\n",
      " --- numerator_1\n",
      " --- denominator_1\n",
      " --- fraction_cblock_counts_\n",
      " --- bar1_\n",
      " --- bar2_\n",
      " --- left_60\n",
      " --- pieces_1\n",
      " --- fraction_cblock_containment_\n",
      " --- bar3_\n",
      " --- fraction\n",
      " --- denominator_2\n",
      " --- denominator_5\n",
      " --- pieces_1_15\n",
      " --- denominator_3\n",
      " --- denominator_4\n",
      " --- right_750\n",
      " --- left_100\n",
      " --- pieces_1_5\n",
      " --- pieces_1_2\n",
      " --- fractions\n",
      " --- pieces_1_10\n",
      " --- students\n",
      " --- denominator_15\n",
      " --- answer\n",
      " --- bar\n",
      " --- model\n",
      "\n",
      "Cluster 2:\n",
      " --- fraction_cblock_chains_\n",
      " --- sum_\n",
      " --- lcm_sum_\n",
      " --- __as3_type_fraction\n",
      " --- numerator_1\n",
      " --- pieces_1_4\n",
      " --- denominator_1\n",
      " --- denominator_4\n",
      " --- fraction\n",
      " --- fraction_cblock_counts_\n",
      " --- denominator_2\n",
      " --- bar1_\n",
      " --- pieces_1\n",
      " --- students\n",
      " --- bar\n",
      " --- answer\n",
      " --- model\n",
      " --- using\n",
      " --- left_130\n",
      " --- fraction_cblock_containment_\n",
      " --- pieces_1_2\n",
      " --- numerator_2\n",
      " --- pieces\n",
      " --- lesson\n",
      " --- unit2_\n",
      " --- right_820\n",
      " --- 1_1\n",
      " --- fractions\n",
      " --- left_90\n",
      " --- piece\n",
      "\n",
      "Cluster 3:\n",
      " --- parts\n",
      " --- fractional\n",
      " --- lesson\n",
      " --- various\n",
      " --- using\n",
      " --- symbols\n",
      " --- answer\n",
      " --- students\n",
      " --- shapes\n",
      " --- set\n",
      " --- fraction\n",
      " --- whole_\n",
      " --- num_2\n",
      " --- den_6\n",
      " --- cats\n",
      " --- fraction_input_value_2_6\n",
      " --- shaded\n",
      " --- equal\n",
      " --- den_8\n",
      " --- 10\n",
      " --- den_5\n",
      " --- num_4\n",
      " --- num_1\n",
      " --- num_3\n",
      " --- den_10\n",
      " --- flower\n",
      " --- num_5\n",
      " --- den_4\n",
      " --- boxes\n",
      " --- piranhas\n",
      "\n",
      "Cluster 4:\n",
      " --- fraction_circle_groups_\n",
      " --- pieces_1_8\n",
      " --- chains_\n",
      " --- fraction_circle_counts_\n",
      " --- sum_\n",
      " --- lcm_sum_\n",
      " --- scale_1\n",
      " --- fraction\n",
      " --- __as3_type_fraction\n",
      " --- scale_0\n",
      " --- unit_\n",
      " --- denominator_8\n",
      " --- pieces_1\n",
      " --- pieces_1_4\n",
      " --- answer\n",
      " --- fraction_circle_containment_\n",
      " --- students\n",
      " --- lesson\n",
      " --- pizza\n",
      " --- model\n",
      " --- unit1_\n",
      " --- numerator_1\n",
      " --- pieces_1_7\n",
      " --- pieces\n",
      " --- pieces_1_5\n",
      " --- y_350\n",
      " --- 1_\n",
      " --- fractions\n",
      " --- numerator_3\n",
      " --- 1_1\n",
      "\n",
      "Cluster 5:\n",
      " --- fraction_cblock_chains_\n",
      " --- sum_\n",
      " --- lcm_sum_\n",
      " --- __as3_type_fraction\n",
      " --- numerator_1\n",
      " --- denominator_12\n",
      " --- denominator_8\n",
      " --- pieces_1_6\n",
      " --- denominator_1\n",
      " --- pieces_1_12\n",
      " --- left_175\n",
      " --- pieces_1_8\n",
      " --- fraction_cblock_counts_\n",
      " --- denominator_6\n",
      " --- pieces_1\n",
      " --- right_865\n",
      " --- unit2_\n",
      " --- fractions\n",
      " --- left_347\n",
      " --- right_347\n",
      " --- numerator_5\n",
      " --- fraction\n",
      " --- unit3_\n",
      " --- right_519\n",
      " --- fraction_cblock_containment_\n",
      " --- pieces_1_15\n",
      " --- answer\n",
      " --- numerator_2\n",
      " --- numerator\n",
      " --- using\n",
      "\n",
      "Cluster 6:\n",
      " --- pieces_1_12\n",
      " --- fraction\n",
      " --- plain_image_groups_\n",
      " --- fraction_circle_groups_\n",
      " --- students\n",
      " --- answer\n",
      " --- learn\n",
      " --- juice\n",
      " --- represent\n",
      " --- contexts\n",
      " --- line\n",
      " --- whole_\n",
      " --- swf\n",
      " --- total_1\n",
      " --- number\n",
      " --- pitcher\n",
      " --- real\n",
      " --- orange\n",
      " --- den_8\n",
      " --- num_7\n",
      " --- world\n",
      " --- chains_\n",
      " --- sum_\n",
      " --- lcm_sum_\n",
      " --- __as3_type_fraction\n",
      " --- scale_1\n",
      " --- denominator_12\n",
      " --- fraction_cblock_chains_\n",
      " --- 1_4_\n",
      " --- unit2_\n",
      "\n",
      "Cluster 7:\n",
      " --- fraction_cblock_chains_\n",
      " --- sum_\n",
      " --- lcm_sum_\n",
      " --- __as3_type_fraction\n",
      " --- pieces_1_10\n",
      " --- numerator_1\n",
      " --- denominator_1\n",
      " --- denominator_10\n",
      " --- bar1_\n",
      " --- denominator_2\n",
      " --- fraction_cblock_counts_\n",
      " --- bar2_\n",
      " --- left_100\n",
      " --- pieces_1\n",
      " --- fraction_cblock_containment_\n",
      " --- fraction\n",
      " --- numerator_3\n",
      " --- fractions\n",
      " --- right_790\n",
      " --- denominator_5\n",
      " --- pieces_1_2\n",
      " --- answer\n",
      " --- using\n",
      " --- students\n",
      " --- 1_2\n",
      " --- model\n",
      " --- 10\n",
      " --- numerator_2\n",
      " --- models\n",
      " --- right_445\n",
      "\n",
      "Cluster 8:\n",
      " --- fraction_circle_groups_\n",
      " --- chains_\n",
      " --- sum_\n",
      " --- lcm_sum_\n",
      " --- fraction\n",
      " --- scale_1\n",
      " --- fraction_circle_counts_\n",
      " --- pieces_1_12\n",
      " --- __as3_type_fraction\n",
      " --- pieces_1_10\n",
      " --- pieces_1_4\n",
      " --- scale_0\n",
      " --- pieces_1_9\n",
      " --- numerator_1\n",
      " --- pieces_1_6\n",
      " --- pieces_1_7\n",
      " --- fraction_circle_containment_\n",
      " --- pieces_1_8\n",
      " --- pieces_1_15\n",
      " --- pieces_1_3\n",
      " --- answer\n",
      " --- unit_\n",
      " --- pieces_1_2\n",
      " --- pieces_1_5\n",
      " --- students\n",
      " --- pieces_1\n",
      " --- pieces\n",
      " --- 1_2_\n",
      " --- fractions\n",
      " --- piece\n",
      "\n",
      "Cluster 9:\n",
      " --- numberline_associations_\n",
      " --- number\n",
      " --- line\n",
      " --- location\n",
      " --- drag\n",
      " --- pos_value_0\n",
      " --- answer\n",
      " --- correct\n",
      " --- students\n",
      " --- obj_value_0\n",
      " --- fractions\n",
      " --- learn\n",
      " --- obj_value_1\n",
      " --- distance\n",
      " --- pos_value_1\n",
      " --- improper\n",
      " --- numbers\n",
      " --- lesson\n",
      " --- represent\n",
      " --- mixed\n",
      " --- input_8\n",
      " --- labels\n",
      " --- input_9\n",
      " --- partitioning\n",
      " --- obj_name_answer_text2\n",
      " --- obj_name_answer_text1\n",
      " --- correction\n",
      " --- interval\n",
      " --- understand\n",
      " --- label\n",
      "\n",
      "Cluster 10:\n",
      " --- pieces_1_10\n",
      " --- fraction_circle_groups_\n",
      " --- chains_\n",
      " --- lcm_sum_\n",
      " --- sum_\n",
      " --- fraction\n",
      " --- __as3_type_fraction\n",
      " --- fraction_circle_counts_\n",
      " --- denominator_10\n",
      " --- 1_\n",
      " --- pieces_1\n",
      " --- pieces\n",
      " --- fraction_circle_containment_\n",
      " --- answer\n",
      " --- circle\n",
      " --- scale_1\n",
      " --- students\n",
      " --- scale_0\n",
      " --- 10\n",
      " --- unit1_\n",
      " --- numerator_1\n",
      " --- unit_\n",
      " --- pieces_1_8\n",
      " --- object\n",
      " --- unit2_\n",
      " --- size\n",
      " --- circle1_\n",
      " --- 1_1\n",
      " --- black\n",
      " --- x_300\n",
      "\n",
      "Cluster 11:\n",
      " --- pieces_1_8\n",
      " --- fraction_circle_groups_\n",
      " --- chains_\n",
      " --- fraction\n",
      " --- sum_\n",
      " --- lcm_sum_\n",
      " --- fraction_circle_counts_\n",
      " --- __as3_type_fraction\n",
      " --- 1_2_\n",
      " --- denominator_8\n",
      " --- pieces\n",
      " --- fraction_circle_containment_\n",
      " --- students\n",
      " --- answer\n",
      " --- scale_1\n",
      " --- numerator_1\n",
      " --- pieces_1\n",
      " --- y_300\n",
      " --- lesson\n",
      " --- pieces_1_2\n",
      " --- pieces_1_4\n",
      " --- 1_1\n",
      " --- 1_8_4\n",
      " --- denominator_2\n",
      " --- numerator_4\n",
      " --- unit_\n",
      " --- 1_2_1\n",
      " --- left_0\n",
      " --- unit1_\n",
      " --- x_512\n",
      "\n",
      "Cluster 12:\n",
      " --- fraction_cblock_chains_\n",
      " --- lcm_sum_\n",
      " --- sum_\n",
      " --- __as3_type_fraction\n",
      " --- numerator_1\n",
      " --- denominator_1\n",
      " --- left_175\n",
      " --- fraction_cblock_counts_\n",
      " --- denominator_4\n",
      " --- pieces_1_6\n",
      " --- pieces_1\n",
      " --- denominator_12\n",
      " --- right_865\n",
      " --- unit3_\n",
      " --- denominator_8\n",
      " --- fractions\n",
      " --- pieces_1_4\n",
      " --- denominator_6\n",
      " --- pieces_1_12\n",
      " --- denominator_3\n",
      " --- numerator_2\n",
      " --- right_347\n",
      " --- pieces_1_8\n",
      " --- fraction\n",
      " --- answer\n",
      " --- students\n",
      " --- numerator\n",
      " --- using\n",
      " --- lesson\n",
      " --- compare\n",
      "\n",
      "Cluster 13:\n",
      " --- pieces_1_5\n",
      " --- fraction_circle_groups_\n",
      " --- sum_\n",
      " --- lcm_sum_\n",
      " --- chains_\n",
      " --- __as3_type_fraction\n",
      " --- denominator_5\n",
      " --- scale_0\n",
      " --- unit1_\n",
      " --- unit2_\n",
      " --- pieces_1\n",
      " --- fraction_circle_counts_\n",
      " --- fraction_circle_containment_\n",
      " --- numerator_1\n",
      " --- answer\n",
      " --- fraction\n",
      " --- object\n",
      " --- students\n",
      " --- lesson\n",
      " --- denominator_1\n",
      " --- mixed\n",
      " --- numerator_5\n",
      " --- number\n",
      " --- unit3_\n",
      " --- left_270\n",
      " --- fractions\n",
      " --- numerator_3\n",
      " --- den_5\n",
      " --- y_350\n",
      " --- enter\n",
      "\n",
      "Cluster 14:\n",
      " --- fraction_cblock_chains_\n",
      " --- lcm_sum_\n",
      " --- sum_\n",
      " --- __as3_type_fraction\n",
      " --- bar1_\n",
      " --- pieces_1_8\n",
      " --- numerator_1\n",
      " --- fraction\n",
      " --- pieces_1_7\n",
      " --- pieces\n",
      " --- bar\n",
      " --- numerator_2\n",
      " --- size\n",
      " --- students\n",
      " --- black\n",
      " --- fraction_cblock_counts_\n",
      " --- names\n",
      " --- denominator_1\n",
      " --- model\n",
      " --- object\n",
      " --- left_130\n",
      " --- denominator_8\n",
      " --- denominator_4\n",
      " --- answer\n",
      " --- 1_1\n",
      " --- equal\n",
      " --- pieces_1\n",
      " --- help\n",
      " --- used\n",
      " --- understand\n",
      "\n",
      "Cluster 15:\n",
      " --- fractions\n",
      " --- students\n",
      " --- fraction\n",
      " --- answer\n",
      " --- common\n",
      " --- lesson\n",
      " --- denominator\n",
      " --- compare\n",
      " --- numerator\n",
      " --- using\n",
      " --- order\n",
      " --- correct\n",
      " --- enter\n",
      " --- comparison\n",
      " --- review\n",
      " --- denominators\n",
      " --- whole_\n",
      " --- drag\n",
      " --- numerators\n",
      " --- benchmark\n",
      " --- models\n",
      " --- greatest\n",
      " --- choose\n",
      " --- boxes\n",
      " --- input_a_\n",
      " --- fraction_input_value_\n",
      " --- 12\n",
      " --- having\n",
      " --- 10\n",
      " --- shade\n",
      "\n",
      "Cluster 16:\n",
      " --- pieces_1_8\n",
      " --- fraction_circle_groups_\n",
      " --- sum_\n",
      " --- lcm_sum_\n",
      " --- pieces_1_4\n",
      " --- chains_\n",
      " --- __as3_type_fraction\n",
      " --- fraction_circle_counts_\n",
      " --- denominator_4\n",
      " --- fraction_circle_containment_\n",
      " --- fraction\n",
      " --- denominator_8\n",
      " --- piece_1_\n",
      " --- piece_2_\n",
      " --- piece_0_\n",
      " --- numerator_1\n",
      " --- numerator_2\n",
      " --- pieces\n",
      " --- pieces_1\n",
      " --- unit_\n",
      " --- unit2_\n",
      " --- left_0\n",
      " --- right_90\n",
      " --- numerator_3\n",
      " --- scale_1\n",
      " --- answer\n",
      " --- students\n",
      " --- lesson\n",
      " --- 1_8_6\n",
      " --- 1_4_3\n",
      "\n",
      "Cluster 17:\n",
      " --- fraction_cblock_chains_\n",
      " --- sum_\n",
      " --- lcm_sum_\n",
      " --- __as3_type_fraction\n",
      " --- numerator_1\n",
      " --- fraction_cblock_counts_\n",
      " --- bar1_\n",
      " --- denominator_1\n",
      " --- fractions\n",
      " --- answer\n",
      " --- fraction\n",
      " --- pieces_1_4\n",
      " --- students\n",
      " --- pieces_1\n",
      " --- 1_1\n",
      " --- using\n",
      " --- left_130\n",
      " --- pieces_1_3\n",
      " --- fraction_cblock_containment_\n",
      " --- bar\n",
      " --- numerator_2\n",
      " --- denominator_4\n",
      " --- denominator_3\n",
      " --- denominator_2\n",
      " --- model\n",
      " --- pieces_1_15\n",
      " --- lesson\n",
      " --- pieces_1_5\n",
      " --- numerator_3\n",
      " --- pieces_1_6\n",
      "\n",
      "Cluster 18:\n",
      " --- fraction_cblock_chains_\n",
      " --- sum_\n",
      " --- lcm_sum_\n",
      " --- pieces_1_12\n",
      " --- __as3_type_fraction\n",
      " --- numerator_1\n",
      " --- denominator_12\n",
      " --- unit2_\n",
      " --- unit1_\n",
      " --- denominator_1\n",
      " --- left_167\n",
      " --- denominator_3\n",
      " --- numerator_4\n",
      " --- fraction_cblock_counts_\n",
      " --- fraction_cblock_containment_\n",
      " --- pieces_1\n",
      " --- fractions\n",
      " --- 12\n",
      " --- add\n",
      " --- model\n",
      " --- using\n",
      " --- review\n",
      " --- 1_2\n",
      " --- models\n",
      " --- answer\n",
      " --- bars\n",
      " --- students\n",
      " --- lesson\n",
      " --- pieces\n",
      " --- black\n",
      "\n",
      "Cluster 19:\n",
      " --- pieces_1_6\n",
      " --- fraction_circle_groups_\n",
      " --- chains_\n",
      " --- lcm_sum_\n",
      " --- sum_\n",
      " --- fraction\n",
      " --- __as3_type_fraction\n",
      " --- fraction_circle_counts_\n",
      " --- denominator_6\n",
      " --- fraction_circle_containment_\n",
      " --- pieces\n",
      " --- numerator_1\n",
      " --- pieces_1\n",
      " --- answer\n",
      " --- students\n",
      " --- scale_1\n",
      " --- pieces_1_3\n",
      " --- y_300\n",
      " --- piece_0_\n",
      " --- 1_1\n",
      " --- 1_\n",
      " --- circle\n",
      " --- unit_\n",
      " --- lesson\n",
      " --- left_0\n",
      " --- scale_0\n",
      " --- fractions\n",
      " --- numerator_2\n",
      " --- piece_1_\n",
      " --- denominator_3\n",
      "\n",
      "Cluster 20:\n",
      " --- fraction_cblock_chains_\n",
      " --- sum_\n",
      " --- lcm_sum_\n",
      " --- __as3_type_fraction\n",
      " --- numerator_1\n",
      " --- denominator_8\n",
      " --- pieces_1_8\n",
      " --- pieces_1_10\n",
      " --- fraction\n",
      " --- denominator_1\n",
      " --- fraction_cblock_counts_\n",
      " --- left_90\n",
      " --- 1_8_\n",
      " --- unit2_\n",
      " --- denominator_10\n",
      " --- pieces_1\n",
      " --- fraction_cblock_containment_\n",
      " --- review\n",
      " --- right_780\n",
      " --- model\n",
      " --- numerator_3\n",
      " --- right_607\n",
      " --- numerator_15\n",
      " --- equivalent\n",
      " --- denominator_4\n",
      " --- denominator_20\n",
      " --- pieces_1_4\n",
      " --- answer\n",
      " --- left_176\n",
      " --- using\n",
      "\n",
      "Cluster 21:\n",
      " --- fractions\n",
      " --- order\n",
      " --- common\n",
      " --- numerator\n",
      " --- fraction\n",
      " --- arrange\n",
      " --- boxes\n",
      " --- greatest\n",
      " --- drag\n",
      " --- students\n",
      " --- proper\n",
      " --- compare\n",
      " --- benchmark\n",
      " --- denominator\n",
      " --- using\n",
      " --- strategies\n",
      " --- variety\n",
      " --- number\n",
      " --- sense\n",
      " --- aways\n",
      " --- large\n",
      " --- numbers\n",
      " --- 51\n",
      " --- 20\n",
      " --- review\n",
      " --- ordering\n",
      " --- 81\n",
      " --- following\n",
      " --- lessons\n",
      " --- topics\n",
      "\n",
      "Cluster 22:\n",
      " --- fraction_cblock_chains_\n",
      " --- pieces_1_15\n",
      " --- sum_\n",
      " --- lcm_sum_\n",
      " --- __as3_type_fraction\n",
      " --- numerator_1\n",
      " --- denominator_15\n",
      " --- denominator_1\n",
      " --- fraction_cblock_counts_\n",
      " --- fraction\n",
      " --- left_90\n",
      " --- pieces_1\n",
      " --- denominator_3\n",
      " --- numerator_2\n",
      " --- denominator_5\n",
      " --- fraction_cblock_containment_\n",
      " --- fractions\n",
      " --- 15\n",
      " --- bar1_\n",
      " --- answer\n",
      " --- pieces_1_3\n",
      " --- unit1_\n",
      " --- pieces_1_5\n",
      " --- right_780\n",
      " --- using\n",
      " --- unit2_\n",
      " --- students\n",
      " --- equivalent\n",
      " --- left_130\n",
      " --- lesson\n",
      "\n",
      "Cluster 23:\n",
      " --- fraction_cblock_chains_\n",
      " --- lcm_sum_\n",
      " --- sum_\n",
      " --- __as3_type_fraction\n",
      " --- numerator_1\n",
      " --- pieces_1_8\n",
      " --- denominator_8\n",
      " --- denominator_1\n",
      " --- fraction_cblock_counts_\n",
      " --- fraction\n",
      " --- pieces_1\n",
      " --- denominator_4\n",
      " --- fraction_cblock_containment_\n",
      " --- bar1_\n",
      " --- bar2_\n",
      " --- fractions\n",
      " --- answer\n",
      " --- students\n",
      " --- numerator_3\n",
      " --- numerator_2\n",
      " --- using\n",
      " --- denominator_2\n",
      " --- pieces_1_4\n",
      " --- bar\n",
      " --- left_100\n",
      " --- left_80\n",
      " --- pieces_1_7\n",
      " --- model\n",
      " --- 1_\n",
      " --- numerator_5\n",
      "\n",
      "Cluster 24:\n",
      " --- pieces_1_4\n",
      " --- fraction_circle_groups_\n",
      " --- sum_\n",
      " --- lcm_sum_\n",
      " --- chains_\n",
      " --- __as3_type_fraction\n",
      " --- denominator_4\n",
      " --- unit1_\n",
      " --- unit2_\n",
      " --- fraction\n",
      " --- fraction_circle_containment_\n",
      " --- pieces_1\n",
      " --- scale_0\n",
      " --- numerator_1\n",
      " --- unit3_\n",
      " --- fraction_circle_counts_\n",
      " --- left_270\n",
      " --- answer\n",
      " --- denominator_1\n",
      " --- mixed\n",
      " --- numerator_4\n",
      " --- right_270\n",
      " --- improper\n",
      " --- number\n",
      " --- object\n",
      " --- numerator_3\n",
      " --- students\n",
      " --- fractions\n",
      " --- y_400\n",
      " --- enter\n",
      "\n",
      "Cluster 25:\n",
      " --- fraction_circle_groups_\n",
      " --- fraction_circle_counts_\n",
      " --- scale_0\n",
      " --- answer\n",
      " --- piece\n",
      " --- unit_\n",
      " --- scale_1\n",
      " --- fraction\n",
      " --- sum_\n",
      " --- lcm_sum_\n",
      " --- pieces\n",
      " --- students\n",
      " --- lesson\n",
      " --- drag\n",
      " --- box\n",
      " --- x_200\n",
      " --- pieces_1_4\n",
      " --- fractions\n",
      " --- relative\n",
      " --- x_675\n",
      " --- learn\n",
      " --- size\n",
      " --- sense\n",
      " --- magnitude\n",
      " --- modeling\n",
      " --- x_811\n",
      " --- pieces_1_9\n",
      " --- pieces_1_6\n",
      " --- pieces_1_10\n",
      " --- __as3_type_fraction\n",
      "\n",
      "Cluster 26:\n",
      " --- fraction_circle_groups_\n",
      " --- pieces_1_4\n",
      " --- fraction\n",
      " --- sum_\n",
      " --- lcm_sum_\n",
      " --- chains_\n",
      " --- pieces_1_2\n",
      " --- __as3_type_fraction\n",
      " --- fraction_circle_counts_\n",
      " --- 1_2_\n",
      " --- numerator_1\n",
      " --- pieces\n",
      " --- 1_\n",
      " --- fraction_circle_containment_\n",
      " --- denominator_2\n",
      " --- scale_1\n",
      " --- students\n",
      " --- circle\n",
      " --- answer\n",
      " --- pieces_1\n",
      " --- denominator_4\n",
      " --- 1_1\n",
      " --- y_300\n",
      " --- numerator_2\n",
      " --- black\n",
      " --- size\n",
      " --- x_300\n",
      " --- unit_\n",
      " --- lesson\n",
      " --- denominator_1\n",
      "\n",
      "Cluster 27:\n",
      " --- fraction_cblock_chains_\n",
      " --- lcm_sum_\n",
      " --- sum_\n",
      " --- __as3_type_fraction\n",
      " --- numerator_1\n",
      " --- denominator_3\n",
      " --- numerator_2\n",
      " --- pieces_1_6\n",
      " --- denominator_1\n",
      " --- pieces_1_3\n",
      " --- fraction_cblock_counts_\n",
      " --- pieces_1\n",
      " --- fraction_cblock_containment_\n",
      " --- bar1_\n",
      " --- unit1_\n",
      " --- unit2_\n",
      " --- denominator_6\n",
      " --- fraction\n",
      " --- fractions\n",
      " --- left_80\n",
      " --- bar2_\n",
      " --- using\n",
      " --- answer\n",
      " --- students\n",
      " --- 1_2\n",
      " --- pieces_1_5\n",
      " --- left_100\n",
      " --- model\n",
      " --- models\n",
      " --- left_90\n",
      "\n",
      "Cluster 28:\n",
      " --- plain_image_groups_\n",
      " --- fraction_cblock_chains_\n",
      " --- total_1\n",
      " --- swf\n",
      " --- lcm_sum_\n",
      " --- sum_\n",
      " --- __as3_type_fraction\n",
      " --- number\n",
      " --- line\n",
      " --- traveled\n",
      " --- fraction_cblock_counts_\n",
      " --- answer\n",
      " --- distance\n",
      " --- url_assets_cms_wootmath_fractions_number_line_markers_start_marker\n",
      " --- students\n",
      " --- fraction\n",
      " --- numerator_1\n",
      " --- pieces_1_10\n",
      " --- pieces_1_8\n",
      " --- pieces_1_6\n",
      " --- url_assets_cms_wootmath_fractions_number_line_markers_end_marker\n",
      " --- using\n",
      " --- numberline_associations_\n",
      " --- far\n",
      " --- left_96\n",
      " --- partition\n",
      " --- pieces_1_4\n",
      " --- denominator_3\n",
      " --- animal\n",
      " --- measure\n",
      "\n",
      "Cluster 29:\n",
      " --- fraction_cblock_chains_\n",
      " --- sum_\n",
      " --- lcm_sum_\n",
      " --- __as3_type_fraction\n",
      " --- numerator_1\n",
      " --- denominator_1\n",
      " --- unit2_\n",
      " --- fraction_cblock_counts_\n",
      " --- unit1_\n",
      " --- left_175\n",
      " --- denominator_2\n",
      " --- pieces_1\n",
      " --- fraction_cblock_containment_\n",
      " --- pieces_1_5\n",
      " --- right_865\n",
      " --- using\n",
      " --- numerator_2\n",
      " --- fractions\n",
      " --- pieces_1_2\n",
      " --- denominator_4\n",
      " --- denominator_5\n",
      " --- answer\n",
      " --- denominator_3\n",
      " --- students\n",
      " --- 1_2\n",
      " --- pieces_1_3\n",
      " --- left_80\n",
      " --- models\n",
      " --- compare\n",
      " --- numerator\n",
      "\n",
      "Cluster 30:\n",
      " --- plain_image_groups_\n",
      " --- total_1\n",
      " --- swf\n",
      " --- answer\n",
      " --- students\n",
      " --- parts\n",
      " --- object\n",
      " --- radio_group_mc1_\n",
      " --- radio_group_mc2_\n",
      " --- size\n",
      " --- understanding\n",
      " --- models\n",
      " --- correct\n",
      " --- choice_a\n",
      " --- text_yes\n",
      " --- area\n",
      " --- equal\n",
      " --- fraction\n",
      " --- sized\n",
      " --- evaluate\n",
      " --- partitioned\n",
      " --- demonstrated\n",
      " --- formed\n",
      " --- fractions\n",
      " --- png\n",
      " --- shapes\n",
      " --- shaded\n",
      " --- decimal\n",
      " --- comparison\n",
      " --- context\n",
      "\n",
      "Cluster 31:\n",
      " --- pieces_1_6\n",
      " --- fraction_circle_groups_\n",
      " --- chains_\n",
      " --- lcm_sum_\n",
      " --- sum_\n",
      " --- __as3_type_fraction\n",
      " --- scale_0\n",
      " --- denominator_6\n",
      " --- fraction_circle_counts_\n",
      " --- unit1_\n",
      " --- pieces_1\n",
      " --- fraction_circle_containment_\n",
      " --- unit2_\n",
      " --- fraction\n",
      " --- numerator_1\n",
      " --- answer\n",
      " --- lesson\n",
      " --- students\n",
      " --- y_350\n",
      " --- circle1_\n",
      " --- fractions\n",
      " --- object\n",
      " --- numerator_2\n",
      " --- left_0\n",
      " --- denominator_3\n",
      " --- 1_\n",
      " --- 1_2\n",
      " --- numerator_5\n",
      " --- scale_1\n",
      " --- models\n",
      "\n",
      "Cluster 32:\n",
      " --- pieces_1_8\n",
      " --- fraction_circle_groups_\n",
      " --- chains_\n",
      " --- sum_\n",
      " --- lcm_sum_\n",
      " --- __as3_type_fraction\n",
      " --- unit1_\n",
      " --- unit2_\n",
      " --- denominator_8\n",
      " --- scale_0\n",
      " --- pieces_1\n",
      " --- fraction_circle_counts_\n",
      " --- fraction_circle_containment_\n",
      " --- answer\n",
      " --- numerator_1\n",
      " --- fractions\n",
      " --- lesson\n",
      " --- pieces_1_7\n",
      " --- 1_2\n",
      " --- y_300\n",
      " --- students\n",
      " --- y_350\n",
      " --- fraction\n",
      " --- object\n",
      " --- models\n",
      " --- review\n",
      " --- using\n",
      " --- left_0\n",
      " --- numerator_7\n",
      " --- numerator_5\n",
      "\n",
      "Cluster 33:\n",
      " --- pieces_1_12\n",
      " --- fraction_circle_groups_\n",
      " --- chains_\n",
      " --- lcm_sum_\n",
      " --- sum_\n",
      " --- fraction\n",
      " --- __as3_type_fraction\n",
      " --- fraction_circle_counts_\n",
      " --- scale_1\n",
      " --- denominator_12\n",
      " --- fraction_circle_containment_\n",
      " --- pieces\n",
      " --- answer\n",
      " --- students\n",
      " --- scale_0\n",
      " --- pieces_1\n",
      " --- unit_\n",
      " --- numerator_1\n",
      " --- lesson\n",
      " --- circle\n",
      " --- circle1_\n",
      " --- 12\n",
      " --- model\n",
      " --- pieces_1_4\n",
      " --- names\n",
      " --- unit1_\n",
      " --- object\n",
      " --- unit2_\n",
      " --- 1_1\n",
      " --- size\n",
      "\n",
      "Cluster 34:\n",
      " --- fraction_circle_groups_\n",
      " --- students\n",
      " --- fraction\n",
      " --- pieces\n",
      " --- names\n",
      " --- lesson\n",
      " --- unit\n",
      " --- relative\n",
      " --- given\n",
      " --- piece\n",
      " --- fraction_circle_counts_\n",
      " --- scale_1\n",
      " --- y_350\n",
      " --- circle\n",
      " --- object\n",
      " --- answer\n",
      " --- cover\n",
      " --- goal\n",
      " --- half\n",
      " --- naming\n",
      " --- different\n",
      " --- fourth\n",
      " --- limited\n",
      " --- need\n",
      " --- important\n",
      " --- flexible\n",
      " --- second\n",
      " --- depending\n",
      " --- say\n",
      " --- sum_\n",
      "\n",
      "Cluster 35:\n",
      " --- fraction_cblock_chains_\n",
      " --- sum_\n",
      " --- lcm_sum_\n",
      " --- pieces_1_12\n",
      " --- __as3_type_fraction\n",
      " --- numerator_1\n",
      " --- denominator_1\n",
      " --- denominator_2\n",
      " --- bar1_\n",
      " --- left_100\n",
      " --- bar2_\n",
      " --- fraction_cblock_counts_\n",
      " --- denominator_12\n",
      " --- fraction\n",
      " --- pieces_1\n",
      " --- fraction_cblock_containment_\n",
      " --- right_790\n",
      " --- pieces_1_2\n",
      " --- model\n",
      " --- students\n",
      " --- fractions\n",
      " --- right_445\n",
      " --- pieces\n",
      " --- answer\n",
      " --- 1_2\n",
      " --- size\n",
      " --- numerator_6\n",
      " --- object\n",
      " --- using\n",
      " --- bar\n",
      "\n",
      "Cluster 36:\n",
      " --- fraction_cblock_chains_\n",
      " --- sum_\n",
      " --- lcm_sum_\n",
      " --- __as3_type_fraction\n",
      " --- numerator_1\n",
      " --- denominator_8\n",
      " --- denominator_9\n",
      " --- pieces_1_8\n",
      " --- denominator_1\n",
      " --- pieces_1_9\n",
      " --- fraction\n",
      " --- fraction_cblock_counts_\n",
      " --- pieces_1\n",
      " --- denominator_4\n",
      " --- denominator_3\n",
      " --- pieces_1_4\n",
      " --- denominator_7\n",
      " --- answer\n",
      " --- fraction_cblock_containment_\n",
      " --- denominator_2\n",
      " --- left_165\n",
      " --- pieces_1_7\n",
      " --- fractions\n",
      " --- using\n",
      " --- pieces_1_15\n",
      " --- pieces_1_3\n",
      " --- students\n",
      " --- object\n",
      " --- left_1024\n",
      " --- denominator_12\n",
      "\n",
      "Cluster 37:\n",
      " --- fraction_cblock_chains_\n",
      " --- lcm_sum_\n",
      " --- sum_\n",
      " --- pieces_1_5\n",
      " --- __as3_type_fraction\n",
      " --- denominator_5\n",
      " --- numerator_1\n",
      " --- bar1_\n",
      " --- denominator_1\n",
      " --- fraction_cblock_counts_\n",
      " --- fraction\n",
      " --- bar\n",
      " --- left_130\n",
      " --- students\n",
      " --- numerator_3\n",
      " --- using\n",
      " --- answer\n",
      " --- model\n",
      " --- numerator_4\n",
      " --- pieces_1\n",
      " --- right_820\n",
      " --- numerator_2\n",
      " --- fraction_cblock_containment_\n",
      " --- fractions\n",
      " --- 1_1\n",
      " --- numerator_5\n",
      " --- whole_\n",
      " --- lesson\n",
      " --- pieces\n",
      " --- 1_5_5\n",
      "\n",
      "Cluster 38:\n",
      " --- fraction_cblock_chains_\n",
      " --- sum_\n",
      " --- lcm_sum_\n",
      " --- __as3_type_fraction\n",
      " --- numerator_1\n",
      " --- pieces_1_12\n",
      " --- fraction_cblock_counts_\n",
      " --- denominator_2\n",
      " --- bar2_\n",
      " --- denominator_1\n",
      " --- left_100\n",
      " --- bar1_\n",
      " --- denominator_12\n",
      " --- numerator_3\n",
      " --- denominator_4\n",
      " --- right_790\n",
      " --- pieces_1_2\n",
      " --- pieces_1\n",
      " --- fraction_cblock_containment_\n",
      " --- students\n",
      " --- benchmark\n",
      " --- using\n",
      " --- right_445\n",
      " --- smaller\n",
      " --- denominator_8\n",
      " --- fractions\n",
      " --- models\n",
      " --- fraction\n",
      " --- compare\n",
      " --- lesson\n",
      "\n",
      "Cluster 39:\n",
      " --- pieces_1_10\n",
      " --- fraction_cblock_chains_\n",
      " --- lcm_sum_\n",
      " --- sum_\n",
      " --- __as3_type_fraction\n",
      " --- numerator_1\n",
      " --- denominator_10\n",
      " --- bar1_\n",
      " --- denominator_1\n",
      " --- fraction\n",
      " --- fraction_cblock_counts_\n",
      " --- bar\n",
      " --- left_130\n",
      " --- using\n",
      " --- right_820\n",
      " --- answer\n",
      " --- fraction_cblock_containment_\n",
      " --- 1_1\n",
      " --- pieces_1\n",
      " --- students\n",
      " --- 10\n",
      " --- model\n",
      " --- purple\n",
      " --- whole_\n",
      " --- fractions\n",
      " --- numerator_10\n",
      " --- denominator_2\n",
      " --- den_10\n",
      " --- denominator_5\n",
      " --- 1_10_10\n",
      "\n",
      "Cluster 40:\n",
      " --- pieces_1_3\n",
      " --- fraction_circle_groups_\n",
      " --- sum_\n",
      " --- lcm_sum_\n",
      " --- chains_\n",
      " --- __as3_type_fraction\n",
      " --- denominator_3\n",
      " --- unit2_\n",
      " --- unit1_\n",
      " --- fraction_circle_counts_\n",
      " --- scale_0\n",
      " --- pieces_1\n",
      " --- fraction\n",
      " --- fraction_circle_containment_\n",
      " --- numerator_1\n",
      " --- answer\n",
      " --- numerator_2\n",
      " --- students\n",
      " --- object\n",
      " --- lesson\n",
      " --- numerator_3\n",
      " --- mixed\n",
      " --- denominator_1\n",
      " --- number\n",
      " --- fractions\n",
      " --- 1_2\n",
      " --- left_270\n",
      " --- pieces\n",
      " --- right_270\n",
      " --- y_300\n",
      "\n",
      "Cluster 41:\n",
      " --- fraction_cblock_chains_\n",
      " --- sum_\n",
      " --- lcm_sum_\n",
      " --- pieces_1_6\n",
      " --- __as3_type_fraction\n",
      " --- numerator_1\n",
      " --- bar1_\n",
      " --- denominator_6\n",
      " --- denominator_1\n",
      " --- fraction\n",
      " --- fraction_cblock_counts_\n",
      " --- bar\n",
      " --- left_130\n",
      " --- pieces\n",
      " --- students\n",
      " --- model\n",
      " --- right_820\n",
      " --- fraction_cblock_containment_\n",
      " --- answer\n",
      " --- pieces_1\n",
      " --- 1_1\n",
      " --- black\n",
      " --- object\n",
      " --- names\n",
      " --- size\n",
      " --- denominator_3\n",
      " --- numerator_5\n",
      " --- using\n",
      " --- numerator_2\n",
      " --- lesson\n",
      "\n",
      "Cluster 42:\n",
      " --- fraction_cblock_chains_\n",
      " --- lcm_sum_\n",
      " --- sum_\n",
      " --- __as3_type_fraction\n",
      " --- numerator_1\n",
      " --- denominator_12\n",
      " --- pieces_1_12\n",
      " --- denominator_1\n",
      " --- fraction_cblock_counts_\n",
      " --- fraction\n",
      " --- denominator_3\n",
      " --- pieces_1\n",
      " --- left_90\n",
      " --- denominator_4\n",
      " --- pieces_1_3\n",
      " --- left_125\n",
      " --- numerator_2\n",
      " --- 1_\n",
      " --- equivalent\n",
      " --- fractions\n",
      " --- answer\n",
      " --- 12\n",
      " --- right_780\n",
      " --- denominator_2\n",
      " --- 1_2\n",
      " --- fraction_cblock_containment_\n",
      " --- right_815\n",
      " --- lesson\n",
      " --- pieces_1_4\n",
      " --- model\n",
      "\n",
      "Cluster 43:\n",
      " --- pieces_1_9\n",
      " --- fraction_circle_groups_\n",
      " --- fraction\n",
      " --- lcm_sum_\n",
      " --- sum_\n",
      " --- chains_\n",
      " --- __as3_type_fraction\n",
      " --- fraction_circle_counts_\n",
      " --- 1_\n",
      " --- denominator_9\n",
      " --- pieces\n",
      " --- circle\n",
      " --- scale_1\n",
      " --- fraction_circle_containment_\n",
      " --- students\n",
      " --- pieces_1\n",
      " --- answer\n",
      " --- circle1_\n",
      " --- size\n",
      " --- 1_1\n",
      " --- black\n",
      " --- numerator_1\n",
      " --- x_300\n",
      " --- object\n",
      " --- model\n",
      " --- names\n",
      " --- y_300\n",
      " --- equal\n",
      " --- whites\n",
      " --- input_9\n",
      "\n",
      "Cluster 44:\n",
      " --- pieces_1_8\n",
      " --- fraction_circle_groups_\n",
      " --- pieces_1_4\n",
      " --- chains_\n",
      " --- fraction\n",
      " --- 1_4_\n",
      " --- fraction_circle_counts_\n",
      " --- sum_\n",
      " --- lcm_sum_\n",
      " --- __as3_type_fraction\n",
      " --- right_90\n",
      " --- scale_1\n",
      " --- left_0\n",
      " --- equivalent\n",
      " --- pieces\n",
      " --- numerator_1\n",
      " --- pizza\n",
      " --- pieces_1\n",
      " --- answer\n",
      " --- y_300\n",
      " --- fraction_circle_containment_\n",
      " --- 1_1\n",
      " --- fractions\n",
      " --- numerator_2\n",
      " --- students\n",
      " --- 1_8_6\n",
      " --- models\n",
      " --- denominator_8\n",
      " --- model\n",
      " --- x_512\n",
      "\n",
      "Cluster 45:\n",
      " --- fraction_cblock_chains_\n",
      " --- lcm_sum_\n",
      " --- sum_\n",
      " --- __as3_type_fraction\n",
      " --- numerator_1\n",
      " --- bar1_\n",
      " --- fraction\n",
      " --- bar\n",
      " --- pieces\n",
      " --- denominator_1\n",
      " --- fraction_cblock_counts_\n",
      " --- object\n",
      " --- black\n",
      " --- model\n",
      " --- students\n",
      " --- size\n",
      " --- names\n",
      " --- left_130\n",
      " --- piece\n",
      " --- right_820\n",
      " --- pieces_1\n",
      " --- answer\n",
      " --- fraction_cblock_containment_\n",
      " --- lesson\n",
      " --- dragging\n",
      " --- goal\n",
      " --- denominator\n",
      " --- numerator\n",
      " --- help\n",
      " --- 1_1\n",
      "\n",
      "Cluster 46:\n",
      " --- complete\n",
      " --- addition\n",
      " --- problem_text_1\n",
      " --- answer\n",
      " --- bitmap_text_inputs_\n",
      " --- bitmap_text_interp_\n",
      " --- sentences\n",
      " --- sentence\n",
      " --- students\n",
      " --- missing\n",
      " --- addends\n",
      " --- 1_8\n",
      " --- problem_text_1_2\n",
      " --- input_a_1\n",
      " --- input_b_1\n",
      " --- problem_text_2\n",
      " --- lesson\n",
      " --- fraction_circle_groups_\n",
      " --- pieces_1_10\n",
      " --- input_a_2\n",
      " --- subtraction\n",
      " --- 1_4\n",
      " --- input_b_2\n",
      " --- 10\n",
      " --- input_1\n",
      " --- chains_\n",
      " --- 2_8\n",
      " --- 1_10\n",
      " --- fraction_circle_counts_\n",
      " --- scale_0\n",
      "\n",
      "Cluster 47:\n",
      " --- fraction_cblock_chains_\n",
      " --- sum_\n",
      " --- lcm_sum_\n",
      " --- __as3_type_fraction\n",
      " --- numerator_1\n",
      " --- denominator_9\n",
      " --- pieces_1_9\n",
      " --- denominator_1\n",
      " --- fraction_cblock_counts_\n",
      " --- fraction\n",
      " --- pieces_1\n",
      " --- left_90\n",
      " --- numerator_2\n",
      " --- unit2_\n",
      " --- denominator_3\n",
      " --- left_80\n",
      " --- pieces_1_3\n",
      " --- fractions\n",
      " --- answer\n",
      " --- fraction_cblock_containment_\n",
      " --- using\n",
      " --- pieces_1_10\n",
      " --- right_780\n",
      " --- 1_2\n",
      " --- 1_\n",
      " --- students\n",
      " --- pieces_1_7\n",
      " --- pieces_1_8\n",
      " --- equivalent\n",
      " --- pieces_1_6\n",
      "\n",
      "Cluster 48:\n",
      " --- numberline_associations_\n",
      " --- number\n",
      " --- line\n",
      " --- drag\n",
      " --- plain_image_groups_\n",
      " --- students\n",
      " --- location\n",
      " --- answer\n",
      " --- pos_value_0\n",
      " --- correct\n",
      " --- fraction\n",
      " --- total_1\n",
      " --- swf\n",
      " --- mile\n",
      " --- label\n",
      " --- obj_name_object\n",
      " --- pos_value_1\n",
      " --- learn\n",
      " --- real\n",
      " --- world\n",
      " --- tenths\n",
      " --- fractions\n",
      " --- review\n",
      " --- fraction_cblock_chains_\n",
      " --- yard\n",
      " --- contexts\n",
      " --- represent\n",
      " --- obj_value_\n",
      " --- mixed\n",
      " --- url_assets_cms_wootmath_fractions_number_line_markers_start_marker\n",
      "\n",
      "Cluster 49:\n",
      " --- pieces_1_7\n",
      " --- fraction_circle_groups_\n",
      " --- chains_\n",
      " --- sum_\n",
      " --- lcm_sum_\n",
      " --- fraction\n",
      " --- __as3_type_fraction\n",
      " --- fraction_circle_counts_\n",
      " --- denominator_7\n",
      " --- fraction_circle_containment_\n",
      " --- pieces\n",
      " --- pieces_1\n",
      " --- unit1_\n",
      " --- circle1_\n",
      " --- answer\n",
      " --- students\n",
      " --- circle\n",
      " --- unit2_\n",
      " --- scale_1\n",
      " --- scale_0\n",
      " --- 1_\n",
      " --- object\n",
      " --- size\n",
      " --- numerator_1\n",
      " --- lesson\n",
      " --- model\n",
      " --- y_350\n",
      " --- 1_1\n",
      " --- black\n",
      " --- x_300\n",
      "\n",
      "Cluster 50:\n",
      " --- numberline_associations_\n",
      " --- number\n",
      " --- pieces_1_2\n",
      " --- line\n",
      " --- lcm_sum_\n",
      " --- sum_\n",
      " --- location\n",
      " --- fraction_cblock_chains_\n",
      " --- __as3_type_fraction\n",
      " --- students\n",
      " --- answer\n",
      " --- drag\n",
      " --- label\n",
      " --- correct\n",
      " --- obj_value_\n",
      " --- identify\n",
      " --- fraction_circle_groups_\n",
      " --- obj_name_eqn\n",
      " --- input_\n",
      " --- fraction\n",
      " --- pos_value_0\n",
      " --- miles\n",
      " --- numerator_1\n",
      " --- denominator_2\n",
      " --- 1_2_\n",
      " --- pieces_1_4\n",
      " --- pieces_1_3\n",
      " --- chains_\n",
      " --- fraction_cblock_counts_\n",
      " --- fraction_circle_containment_\n",
      "\n",
      "Cluster 51:\n",
      " --- fraction_cblock_chains_\n",
      " --- sum_\n",
      " --- lcm_sum_\n",
      " --- __as3_type_fraction\n",
      " --- numerator_1\n",
      " --- denominator_1\n",
      " --- fraction_cblock_counts_\n",
      " --- fraction\n",
      " --- denominator_3\n",
      " --- pieces_1_3\n",
      " --- pieces_1_5\n",
      " --- pieces_1\n",
      " --- answer\n",
      " --- left_90\n",
      " --- students\n",
      " --- denominator_5\n",
      " --- fractions\n",
      " --- bar1_\n",
      " --- using\n",
      " --- right_780\n",
      " --- lesson\n",
      " --- bar\n",
      " --- fraction_cblock_containment_\n",
      " --- unit2_\n",
      " --- numerator_2\n",
      " --- pieces_1_9\n",
      " --- pieces_1_15\n",
      " --- plain_image_groups_\n",
      " --- model\n",
      " --- 1_1\n",
      "\n",
      "Cluster 52:\n",
      " --- fraction_cblock_chains_\n",
      " --- pieces_1_7\n",
      " --- sum_\n",
      " --- lcm_sum_\n",
      " --- __as3_type_fraction\n",
      " --- denominator_7\n",
      " --- bar1_\n",
      " --- numerator_1\n",
      " --- bar\n",
      " --- fraction\n",
      " --- denominator_1\n",
      " --- fraction_cblock_counts_\n",
      " --- pieces\n",
      " --- left_130\n",
      " --- model\n",
      " --- students\n",
      " --- black\n",
      " --- object\n",
      " --- names\n",
      " --- size\n",
      " --- right_820\n",
      " --- answer\n",
      " --- pieces_1\n",
      " --- 1_1\n",
      " --- fraction_cblock_containment_\n",
      " --- numerator_6\n",
      " --- numerator_4\n",
      " --- numerator_5\n",
      " --- numerator_3\n",
      " --- lesson\n",
      "\n",
      "Cluster 53:\n",
      " --- fraction_cblock_chains_\n",
      " --- sum_\n",
      " --- lcm_sum_\n",
      " --- __as3_type_fraction\n",
      " --- numerator_1\n",
      " --- fraction\n",
      " --- denominator_1\n",
      " --- 1_\n",
      " --- fraction_cblock_counts_\n",
      " --- denominator_2\n",
      " --- pieces_1\n",
      " --- denominator_4\n",
      " --- left_90\n",
      " --- pieces_1_4\n",
      " --- pieces_1_2\n",
      " --- answer\n",
      " --- fractions\n",
      " --- equivalent\n",
      " --- left_125\n",
      " --- fraction_cblock_containment_\n",
      " --- right_780\n",
      " --- 1_2\n",
      " --- students\n",
      " --- pieces_1_6\n",
      " --- lesson\n",
      " --- denominator_8\n",
      " --- denominator_3\n",
      " --- enter\n",
      " --- model\n",
      " --- fraction_cblock_total_count_5\n",
      "\n",
      "Cluster 54:\n",
      " --- pieces_1_5\n",
      " --- fraction_circle_groups_\n",
      " --- fraction\n",
      " --- chains_\n",
      " --- lcm_sum_\n",
      " --- sum_\n",
      " --- fraction_circle_counts_\n",
      " --- __as3_type_fraction\n",
      " --- pieces\n",
      " --- 1_\n",
      " --- circle\n",
      " --- denominator_5\n",
      " --- scale_1\n",
      " --- students\n",
      " --- answer\n",
      " --- pieces_1\n",
      " --- circle1_\n",
      " --- size\n",
      " --- fraction_circle_containment_\n",
      " --- 1_1\n",
      " --- black\n",
      " --- unit_\n",
      " --- x_300\n",
      " --- object\n",
      " --- 1_5_5\n",
      " --- model\n",
      " --- names\n",
      " --- numerator_1\n",
      " --- fraction_circle_total_count_6\n",
      " --- lesson\n",
      "\n",
      "Cluster 55:\n",
      " --- fraction_cblock_chains_\n",
      " --- sum_\n",
      " --- lcm_sum_\n",
      " --- __as3_type_fraction\n",
      " --- numerator_1\n",
      " --- denominator_1\n",
      " --- fraction_cblock_counts_\n",
      " --- denominator_4\n",
      " --- fraction\n",
      " --- pieces_1\n",
      " --- denominator_5\n",
      " --- denominator_3\n",
      " --- left_80\n",
      " --- numerator_2\n",
      " --- pieces_1_5\n",
      " --- pieces_1_6\n",
      " --- pieces_1_4\n",
      " --- denominator_12\n",
      " --- pieces_1_3\n",
      " --- denominator_7\n",
      " --- fraction_cblock_containment_\n",
      " --- answer\n",
      " --- denominator_9\n",
      " --- fractions\n",
      " --- using\n",
      " --- unit2_\n",
      " --- students\n",
      " --- pieces_1_7\n",
      " --- denominator_2\n",
      " --- pieces_1_12\n",
      "\n",
      "Cluster 56:\n",
      " --- pieces_1_8\n",
      " --- fraction_cblock_chains_\n",
      " --- sum_\n",
      " --- lcm_sum_\n",
      " --- __as3_type_fraction\n",
      " --- numerator_1\n",
      " --- denominator_1\n",
      " --- denominator_8\n",
      " --- bar1_\n",
      " --- fraction\n",
      " --- fraction_cblock_counts_\n",
      " --- bar\n",
      " --- left_130\n",
      " --- pieces_1\n",
      " --- students\n",
      " --- using\n",
      " --- model\n",
      " --- right_820\n",
      " --- answer\n",
      " --- fraction_cblock_containment_\n",
      " --- numerator_8\n",
      " --- unit2_\n",
      " --- pieces\n",
      " --- 1_1\n",
      " --- numerator_7\n",
      " --- fractions\n",
      " --- lesson\n",
      " --- left_90\n",
      " --- right_780\n",
      " --- equal\n",
      "\n",
      "Cluster 57:\n",
      " --- fraction_cblock_chains_\n",
      " --- sum_\n",
      " --- lcm_sum_\n",
      " --- __as3_type_fraction\n",
      " --- numerator_1\n",
      " --- pieces_1_12\n",
      " --- denominator_12\n",
      " --- denominator_1\n",
      " --- fraction_cblock_counts_\n",
      " --- fraction\n",
      " --- denominator_2\n",
      " --- pieces_1\n",
      " --- left_90\n",
      " --- fraction_cblock_containment_\n",
      " --- denominator_6\n",
      " --- bar1_\n",
      " --- pieces_1_6\n",
      " --- answer\n",
      " --- 12\n",
      " --- 1_\n",
      " --- denominator_4\n",
      " --- pieces_1_2\n",
      " --- students\n",
      " --- fractions\n",
      " --- left_100\n",
      " --- model\n",
      " --- 1_2\n",
      " --- right_780\n",
      " --- bar2_\n",
      " --- unit2_\n",
      "\n",
      "Cluster 58:\n",
      " --- fraction_cblock_chains_\n",
      " --- plain_image_groups_\n",
      " --- sum_\n",
      " --- lcm_sum_\n",
      " --- __as3_type_fraction\n",
      " --- total_1\n",
      " --- swf\n",
      " --- numerator_1\n",
      " --- fraction_cblock_counts_\n",
      " --- fraction\n",
      " --- answer\n",
      " --- traveled\n",
      " --- number\n",
      " --- denominator_3\n",
      " --- line\n",
      " --- url_assets_cms_wootmath_fractions_number_line_markers_start_marker\n",
      " --- students\n",
      " --- pieces_1_12\n",
      " --- denominator_4\n",
      " --- far\n",
      " --- pieces_1_4\n",
      " --- pieces_1_6\n",
      " --- denominator_2\n",
      " --- pieces_1_3\n",
      " --- url_assets_cms_wootmath_fractions_number_line_markers_end_marker\n",
      " --- learn\n",
      " --- real\n",
      " --- world\n",
      " --- denominator_6\n",
      " --- pieces_1_8\n",
      "\n",
      "Cluster 59:\n",
      " --- pieces_1_15\n",
      " --- fraction_circle_groups_\n",
      " --- chains_\n",
      " --- fraction\n",
      " --- lcm_sum_\n",
      " --- sum_\n",
      " --- __as3_type_fraction\n",
      " --- fraction_circle_counts_\n",
      " --- scale_1\n",
      " --- denominator_15\n",
      " --- pieces\n",
      " --- circle1_\n",
      " --- fraction_circle_containment_\n",
      " --- students\n",
      " --- 1_3_\n",
      " --- circle\n",
      " --- answer\n",
      " --- numerator_1\n",
      " --- 15\n",
      " --- size\n",
      " --- pieces_1\n",
      " --- object\n",
      " --- x_300\n",
      " --- pieces_1_10\n",
      " --- model\n",
      " --- pieces_1_5\n",
      " --- names\n",
      " --- equal\n",
      " --- pieces_1_12\n",
      " --- 1_15_\n",
      "\n",
      "Cluster 60:\n",
      " --- pieces_1_4\n",
      " --- fraction_circle_groups_\n",
      " --- sum_\n",
      " --- lcm_sum_\n",
      " --- chains_\n",
      " --- unit_\n",
      " --- fraction_circle_counts_\n",
      " --- __as3_type_fraction\n",
      " --- denominator_4\n",
      " --- scale_1\n",
      " --- fraction_circle_containment_\n",
      " --- numerator_1\n",
      " --- pieces_1\n",
      " --- answer\n",
      " --- students\n",
      " --- fractions\n",
      " --- using\n",
      " --- 1_1\n",
      " --- fraction\n",
      " --- denominator_1\n",
      " --- numerator_4\n",
      " --- simplest\n",
      " --- right_90\n",
      " --- pieces_1_3\n",
      " --- learn\n",
      " --- 1_4_4\n",
      " --- x_512\n",
      " --- pizza\n",
      " --- left_90\n",
      " --- world\n",
      "\n",
      "Cluster 61:\n",
      " --- fraction_cblock_chains_\n",
      " --- sum_\n",
      " --- lcm_sum_\n",
      " --- __as3_type_fraction\n",
      " --- numerator_1\n",
      " --- denominator_8\n",
      " --- pieces_1_8\n",
      " --- denominator_1\n",
      " --- fraction_cblock_counts_\n",
      " --- fraction\n",
      " --- pieces_1\n",
      " --- left_80\n",
      " --- denominator_2\n",
      " --- pieces_1_10\n",
      " --- left_90\n",
      " --- numerator_3\n",
      " --- answer\n",
      " --- unit2_\n",
      " --- fractions\n",
      " --- 1_\n",
      " --- 1_2\n",
      " --- right_770\n",
      " --- using\n",
      " --- unit1_\n",
      " --- fraction_cblock_containment_\n",
      " --- students\n",
      " --- denominator_4\n",
      " --- pieces_1_2\n",
      " --- denominator_10\n",
      " --- equivalent\n",
      "\n",
      "Cluster 62:\n",
      " --- fraction_cblock_chains_\n",
      " --- lcm_sum_\n",
      " --- sum_\n",
      " --- pieces_1_6\n",
      " --- __as3_type_fraction\n",
      " --- numerator_1\n",
      " --- denominator_6\n",
      " --- denominator_1\n",
      " --- unit2_\n",
      " --- fraction_cblock_counts_\n",
      " --- unit1_\n",
      " --- numerator_5\n",
      " --- pieces_1\n",
      " --- left_165\n",
      " --- fraction_cblock_containment_\n",
      " --- fraction\n",
      " --- answer\n",
      " --- using\n",
      " --- object\n",
      " --- denominator_3\n",
      " --- numerator_2\n",
      " --- fractions\n",
      " --- right_855\n",
      " --- students\n",
      " --- models\n",
      " --- bar1_\n",
      " --- lesson\n",
      " --- 1_2\n",
      " --- 1_\n",
      " --- mixed\n",
      "\n",
      "Cluster 63:\n",
      " --- fraction_circle_groups_\n",
      " --- sum_\n",
      " --- lcm_sum_\n",
      " --- fraction_circle_counts_\n",
      " --- __as3_type_fraction\n",
      " --- pieces_1_12\n",
      " --- circle1_1_\n",
      " --- circle1_2_\n",
      " --- students\n",
      " --- numerator_1\n",
      " --- scale_1\n",
      " --- chains_\n",
      " --- fraction\n",
      " --- pieces\n",
      " --- names\n",
      " --- piece\n",
      " --- lesson\n",
      " --- relative\n",
      " --- unit\n",
      " --- given\n",
      " --- fraction_circle_containment_\n",
      " --- y_350\n",
      " --- object\n",
      " --- pieces_1_8\n",
      " --- pieces_1_6\n",
      " --- pieces_1_4\n",
      " --- answer\n",
      " --- circle\n",
      " --- goal\n",
      " --- naming\n",
      "\n",
      "Cluster 64:\n",
      " --- pieces_1_12\n",
      " --- fraction_circle_groups_\n",
      " --- fraction\n",
      " --- chains_\n",
      " --- sum_\n",
      " --- lcm_sum_\n",
      " --- fraction_circle_counts_\n",
      " --- __as3_type_fraction\n",
      " --- pieces\n",
      " --- students\n",
      " --- 1_2_\n",
      " --- scale_1\n",
      " --- denominator_12\n",
      " --- numerator_1\n",
      " --- fraction_circle_containment_\n",
      " --- answer\n",
      " --- 1_3_\n",
      " --- circle\n",
      " --- y_300\n",
      " --- x_300\n",
      " --- reds\n",
      " --- size\n",
      " --- right_270\n",
      " --- piece\n",
      " --- names\n",
      " --- relationships\n",
      " --- equal\n",
      " --- introduced\n",
      " --- lesson\n",
      " --- familiar\n",
      "\n",
      "Cluster 65:\n",
      " --- fraction_cblock_chains_\n",
      " --- lcm_sum_\n",
      " --- sum_\n",
      " --- __as3_type_fraction\n",
      " --- numerator_1\n",
      " --- denominator_1\n",
      " --- denominator_8\n",
      " --- fraction_cblock_counts_\n",
      " --- denominator_4\n",
      " --- pieces_1_6\n",
      " --- left_175\n",
      " --- pieces_1_8\n",
      " --- pieces_1\n",
      " --- denominator_12\n",
      " --- fraction\n",
      " --- pieces_1_4\n",
      " --- denominator_2\n",
      " --- denominator_6\n",
      " --- right_865\n",
      " --- fractions\n",
      " --- unit2_\n",
      " --- pieces_1_12\n",
      " --- fraction_cblock_containment_\n",
      " --- numerator_3\n",
      " --- pieces_1_15\n",
      " --- denominator_5\n",
      " --- right_347\n",
      " --- answer\n",
      " --- students\n",
      " --- pieces_1_5\n",
      "\n",
      "Cluster 66:\n",
      " --- pieces_1_8\n",
      " --- fraction_circle_groups_\n",
      " --- sum_\n",
      " --- lcm_sum_\n",
      " --- chains_\n",
      " --- __as3_type_fraction\n",
      " --- denominator_8\n",
      " --- scale_0\n",
      " --- pieces_1\n",
      " --- fraction_circle_containment_\n",
      " --- numerator_1\n",
      " --- unit1_\n",
      " --- unit3_\n",
      " --- fraction_circle_counts_\n",
      " --- 55\n",
      " --- numerator_8\n",
      " --- denominator_1\n",
      " --- unit0_\n",
      " --- unit2_\n",
      " --- fraction\n",
      " --- circle1_\n",
      " --- answer\n",
      " --- object\n",
      " --- y_300\n",
      " --- 1_\n",
      " --- lesson\n",
      " --- fractions\n",
      " --- number\n",
      " --- mixed\n",
      " --- students\n",
      "\n",
      "Cluster 67:\n",
      " --- fraction_cblock_chains_\n",
      " --- sum_\n",
      " --- lcm_sum_\n",
      " --- __as3_type_fraction\n",
      " --- numerator_1\n",
      " --- denominator_1\n",
      " --- fraction_cblock_counts_\n",
      " --- fraction\n",
      " --- denominator_4\n",
      " --- pieces_1\n",
      " --- pieces_1_9\n",
      " --- denominator_9\n",
      " --- denominator_3\n",
      " --- pieces_1_4\n",
      " --- denominator_7\n",
      " --- denominator_2\n",
      " --- answer\n",
      " --- left_90\n",
      " --- pieces_1_7\n",
      " --- fractions\n",
      " --- pieces_1_3\n",
      " --- denominator_12\n",
      " --- 1_\n",
      " --- fraction_cblock_containment_\n",
      " --- students\n",
      " --- left_175\n",
      " --- 1_2\n",
      " --- using\n",
      " --- pieces_1_6\n",
      " --- unit1_\n",
      "\n",
      "Cluster 68:\n",
      " --- fraction_cblock_chains_\n",
      " --- sum_\n",
      " --- lcm_sum_\n",
      " --- __as3_type_fraction\n",
      " --- pieces_1_10\n",
      " --- numerator_1\n",
      " --- denominator_1\n",
      " --- unit1_\n",
      " --- unit2_\n",
      " --- pieces_1_6\n",
      " --- fraction_cblock_counts_\n",
      " --- denominator_10\n",
      " --- left_80\n",
      " --- denominator_5\n",
      " --- pieces_1\n",
      " --- fraction_cblock_containment_\n",
      " --- pieces_1_5\n",
      " --- numerator_2\n",
      " --- right_770\n",
      " --- fraction\n",
      " --- using\n",
      " --- fractions\n",
      " --- numerator_5\n",
      " --- denominator_6\n",
      " --- numerator_3\n",
      " --- answer\n",
      " --- 1_2\n",
      " --- students\n",
      " --- models\n",
      " --- numerator_4\n",
      "\n",
      "Cluster 69:\n",
      " --- fraction_circle_groups_\n",
      " --- lcm_sum_\n",
      " --- sum_\n",
      " --- pieces_1_15\n",
      " --- pieces_1_12\n",
      " --- __as3_type_fraction\n",
      " --- chains_\n",
      " --- fraction_cblock_chains_\n",
      " --- numerator_1\n",
      " --- fraction_circle_counts_\n",
      " --- circle1_2_\n",
      " --- circle1_1_\n",
      " --- students\n",
      " --- scale_1\n",
      " --- fraction\n",
      " --- pieces_1_10\n",
      " --- fraction_circle_containment_\n",
      " --- numerator_3\n",
      " --- unit\n",
      " --- pieces\n",
      " --- lesson\n",
      " --- piece\n",
      " --- object\n",
      " --- relative\n",
      " --- names\n",
      " --- y_350\n",
      " --- given\n",
      " --- left_270\n",
      " --- blue\n",
      " --- dark\n",
      "\n",
      "Cluster 70:\n",
      " --- fraction_cblock_chains_\n",
      " --- sum_\n",
      " --- lcm_sum_\n",
      " --- __as3_type_fraction\n",
      " --- numerator_1\n",
      " --- fraction\n",
      " --- denominator_3\n",
      " --- denominator_8\n",
      " --- denominator_2\n",
      " --- fraction_cblock_counts_\n",
      " --- pieces_1_10\n",
      " --- denominator_1\n",
      " --- denominator_10\n",
      " --- pieces_1_8\n",
      " --- pieces_1_3\n",
      " --- denominator_5\n",
      " --- pieces_1_2\n",
      " --- denominator_7\n",
      " --- pieces_1_5\n",
      " --- denominator_9\n",
      " --- pieces_1_9\n",
      " --- pieces_1_12\n",
      " --- denominator_12\n",
      " --- fraction_cblock_containment_\n",
      " --- pieces_1\n",
      " --- denominator_4\n",
      " --- pieces_1_7\n",
      " --- denominator_6\n",
      " --- pieces_1_6\n",
      " --- bar1_\n",
      "\n",
      "Cluster 71:\n",
      " --- image_object_groups_\n",
      " --- swf\n",
      " --- answer\n",
      " --- students\n",
      " --- fraction\n",
      " --- shade\n",
      " --- parts\n",
      " --- lesson\n",
      " --- set\n",
      " --- model\n",
      " --- shading\n",
      " --- create\n",
      " --- symbolic\n",
      " --- given\n",
      " --- on_0\n",
      " --- objects\n",
      " --- area_target_contents_\n",
      " --- review\n",
      " --- 14\n",
      " --- sets\n",
      " --- fractions\n",
      " --- number\n",
      " --- off_1\n",
      " --- off_2\n",
      " --- modeling\n",
      " --- 11\n",
      " --- 13\n",
      " --- total_1\n",
      " --- complex\n",
      " --- total_8\n",
      "\n",
      "Cluster 72:\n",
      " --- fraction_cblock_chains_\n",
      " --- pieces_1_8\n",
      " --- lcm_sum_\n",
      " --- sum_\n",
      " --- __as3_type_fraction\n",
      " --- numerator_1\n",
      " --- denominator_1\n",
      " --- denominator_8\n",
      " --- unit2_\n",
      " --- left_90\n",
      " --- right_780\n",
      " --- fraction\n",
      " --- fraction_cblock_counts_\n",
      " --- pieces_1\n",
      " --- using\n",
      " --- numerator_8\n",
      " --- equal\n",
      " --- fraction_cblock_containment_\n",
      " --- model\n",
      " --- answer\n",
      " --- students\n",
      " --- models\n",
      " --- 1_2\n",
      " --- eighths\n",
      " --- fractions\n",
      " --- visual\n",
      " --- lesson\n",
      " --- build\n",
      " --- given\n",
      " --- fraction_cblock_total_count_12\n",
      "\n",
      "Cluster 73:\n",
      " --- fraction_cblock_chains_\n",
      " --- sum_\n",
      " --- lcm_sum_\n",
      " --- __as3_type_fraction\n",
      " --- numerator_1\n",
      " --- denominator_7\n",
      " --- pieces_1_7\n",
      " --- denominator_1\n",
      " --- fraction_cblock_counts_\n",
      " --- pieces_1\n",
      " --- fraction\n",
      " --- left_80\n",
      " --- denominator_4\n",
      " --- answer\n",
      " --- left_90\n",
      " --- pieces_1_10\n",
      " --- fractions\n",
      " --- students\n",
      " --- object\n",
      " --- using\n",
      " --- 1_2\n",
      " --- fraction_cblock_containment_\n",
      " --- pieces_1_4\n",
      " --- left_165\n",
      " --- right_770\n",
      " --- bar1_\n",
      " --- pieces_1_5\n",
      " --- pieces_1_8\n",
      " --- bar\n",
      " --- right_780\n",
      "\n",
      "Cluster 74:\n",
      " --- fraction_cblock_chains_\n",
      " --- lcm_sum_\n",
      " --- sum_\n",
      " --- __as3_type_fraction\n",
      " --- numerator_1\n",
      " --- denominator_1\n",
      " --- bar1_\n",
      " --- bar2_\n",
      " --- left_100\n",
      " --- fraction_cblock_counts_\n",
      " --- denominator_2\n",
      " --- pieces_1\n",
      " --- fraction_cblock_containment_\n",
      " --- fractions\n",
      " --- right_790\n",
      " --- denominator_4\n",
      " --- pieces_1_4\n",
      " --- pieces_1_6\n",
      " --- pieces_1_2\n",
      " --- 1_2\n",
      " --- numerator_2\n",
      " --- model\n",
      " --- fraction\n",
      " --- students\n",
      " --- numerator_3\n",
      " --- denominator_6\n",
      " --- answer\n",
      " --- black\n",
      " --- denominator_3\n",
      " --- using\n",
      "\n",
      "Cluster 75:\n",
      " --- plain_image_groups_\n",
      " --- numberline_associations_\n",
      " --- total_1\n",
      " --- swf\n",
      " --- students\n",
      " --- tenths\n",
      " --- line\n",
      " --- number\n",
      " --- answer\n",
      " --- url_assets_cms_wootmath_fractions_number_line_markers_start_marker\n",
      " --- drag\n",
      " --- pos_value_0\n",
      " --- start\n",
      " --- obj_name_object\n",
      " --- hundredths\n",
      " --- use\n",
      " --- meter\n",
      " --- mile\n",
      " --- decimal\n",
      " --- notation\n",
      " --- locate\n",
      " --- 10\n",
      " --- expressed\n",
      " --- url_assets_cms_wootmath_fractions_number_line_objects_v2_butterfly\n",
      " --- location\n",
      " --- butterfly\n",
      " --- express\n",
      " --- interval\n",
      " --- input_\n",
      " --- shark\n",
      "\n",
      "Cluster 76:\n",
      " --- pieces_1_12\n",
      " --- fraction_cblock_chains_\n",
      " --- lcm_sum_\n",
      " --- sum_\n",
      " --- __as3_type_fraction\n",
      " --- numerator_1\n",
      " --- denominator_12\n",
      " --- fraction_cblock_counts_\n",
      " --- fraction\n",
      " --- denominator_1\n",
      " --- fraction_cblock_containment_\n",
      " --- answer\n",
      " --- using\n",
      " --- students\n",
      " --- fractions\n",
      " --- pieces_1\n",
      " --- unit_\n",
      " --- bar1_\n",
      " --- left_176\n",
      " --- 1_1\n",
      " --- equivalent\n",
      " --- denominator_3\n",
      " --- numerator_3\n",
      " --- denominator_4\n",
      " --- models\n",
      " --- 1_3_\n",
      " --- 12\n",
      " --- numerator_2\n",
      " --- model\n",
      " --- bar\n",
      "\n",
      "Cluster 77:\n",
      " --- pieces_1_10\n",
      " --- fraction_circle_groups_\n",
      " --- chains_\n",
      " --- lcm_sum_\n",
      " --- sum_\n",
      " --- fraction\n",
      " --- fraction_circle_counts_\n",
      " --- __as3_type_fraction\n",
      " --- 1_2_\n",
      " --- pieces\n",
      " --- scale_1\n",
      " --- denominator_10\n",
      " --- unit_\n",
      " --- answer\n",
      " --- fraction_circle_containment_\n",
      " --- students\n",
      " --- circle\n",
      " --- pieces_1\n",
      " --- numerator_1\n",
      " --- 10\n",
      " --- x_300\n",
      " --- introduced\n",
      " --- y_300\n",
      " --- size\n",
      " --- scale_0\n",
      " --- purples\n",
      " --- relationships\n",
      " --- pieces_1_8\n",
      " --- familiar\n",
      " --- 1_1\n",
      "\n",
      "Cluster 78:\n",
      " --- pieces_1_10\n",
      " --- fraction_circle_groups_\n",
      " --- fraction\n",
      " --- 1_\n",
      " --- lcm_sum_\n",
      " --- sum_\n",
      " --- chains_\n",
      " --- pieces\n",
      " --- fraction_circle_counts_\n",
      " --- __as3_type_fraction\n",
      " --- circle\n",
      " --- denominator_10\n",
      " --- students\n",
      " --- size\n",
      " --- scale_1\n",
      " --- answer\n",
      " --- black\n",
      " --- fraction_circle_containment_\n",
      " --- 1_1\n",
      " --- x_300\n",
      " --- pieces_1\n",
      " --- 10\n",
      " --- fraction_circle_total_count_11\n",
      " --- 1_10_10\n",
      " --- purples\n",
      " --- input_10\n",
      " --- numerator_1\n",
      " --- numerator_10\n",
      " --- input_a_10\n",
      " --- denominator_1\n",
      "\n",
      "Cluster 79:\n",
      " --- fraction_circle_groups_\n",
      " --- lcm_sum_\n",
      " --- sum_\n",
      " --- __as3_type_fraction\n",
      " --- unit1_\n",
      " --- unit2_\n",
      " --- chains_\n",
      " --- numerator_1\n",
      " --- fraction_circle_counts_\n",
      " --- scale_0\n",
      " --- fraction_circle_containment_\n",
      " --- pieces_1_6\n",
      " --- pieces_1\n",
      " --- pieces_1_4\n",
      " --- y_300\n",
      " --- pieces_1_2\n",
      " --- denominator_2\n",
      " --- pieces_1_8\n",
      " --- answer\n",
      " --- 1_2\n",
      " --- fractions\n",
      " --- students\n",
      " --- lesson\n",
      " --- pieces_1_3\n",
      " --- using\n",
      " --- pieces_1_12\n",
      " --- x_700\n",
      " --- models\n",
      " --- denominator_3\n",
      " --- compare\n",
      "\n",
      "Cluster 80:\n",
      " --- fraction_circle_groups_\n",
      " --- scale_0\n",
      " --- sum_\n",
      " --- lcm_sum_\n",
      " --- fraction_circle_counts_\n",
      " --- pieces_1_9\n",
      " --- unit_\n",
      " --- __as3_type_fraction\n",
      " --- pieces_1_10\n",
      " --- fraction_cblock_chains_\n",
      " --- numerator_1\n",
      " --- answer\n",
      " --- piece\n",
      " --- denominator_9\n",
      " --- scale_1\n",
      " --- brown\n",
      " --- x_\n",
      " --- fraction\n",
      " --- students\n",
      " --- pieces_1_7\n",
      " --- pieces_1_3\n",
      " --- lesson\n",
      " --- pieces\n",
      " --- fractions\n",
      " --- relative\n",
      " --- unit\n",
      " --- chains_\n",
      " --- size\n",
      " --- fraction_circle_containment_\n",
      " --- learn\n",
      "\n",
      "Cluster 81:\n",
      " --- fraction_circle_groups_\n",
      " --- pieces_1_8\n",
      " --- chains_\n",
      " --- fraction\n",
      " --- lcm_sum_\n",
      " --- sum_\n",
      " --- fraction_circle_counts_\n",
      " --- __as3_type_fraction\n",
      " --- 1_4_\n",
      " --- scale_1\n",
      " --- students\n",
      " --- pieces\n",
      " --- answer\n",
      " --- pieces_1_4\n",
      " --- denominator_8\n",
      " --- numerator_1\n",
      " --- fraction_circle_containment_\n",
      " --- denominator_4\n",
      " --- numerator_2\n",
      " --- lesson\n",
      " --- pieces_1\n",
      " --- piece_0_\n",
      " --- 1_1\n",
      " --- 1_8_2\n",
      " --- fractions\n",
      " --- x_512\n",
      " --- left_0\n",
      " --- equivalent\n",
      " --- y_300\n",
      " --- unit_\n",
      "\n",
      "Cluster 82:\n",
      " --- plain_image_groups_\n",
      " --- swf\n",
      " --- total_1\n",
      " --- number\n",
      " --- line\n",
      " --- distance\n",
      " --- answer\n",
      " --- students\n",
      " --- traveled\n",
      " --- url_assets_cms_wootmath_fractions_number_line_markers_start_marker\n",
      " --- using\n",
      " --- enter\n",
      " --- animal\n",
      " --- partition\n",
      " --- measure\n",
      " --- start\n",
      " --- fraction\n",
      " --- url_assets_cms_wootmath_fractions_number_line_markers_end_marker\n",
      " --- mixed\n",
      " --- bars\n",
      " --- whole_\n",
      " --- far\n",
      " --- learn\n",
      " --- fractions\n",
      " --- animation\n",
      " --- tenths\n",
      " --- input_a_0\n",
      " --- notation\n",
      " --- decimal\n",
      " --- express\n",
      "\n",
      "Cluster 83:\n",
      " --- fraction_circle_groups_\n",
      " --- fraction\n",
      " --- pieces_1_15\n",
      " --- sum_\n",
      " --- lcm_sum_\n",
      " --- chains_\n",
      " --- fraction_circle_counts_\n",
      " --- pieces_1_3\n",
      " --- __as3_type_fraction\n",
      " --- pieces\n",
      " --- 1_3_\n",
      " --- scale_1\n",
      " --- numerator_1\n",
      " --- pieces_1_9\n",
      " --- fraction_circle_containment_\n",
      " --- answer\n",
      " --- circle\n",
      " --- pieces_1_6\n",
      " --- students\n",
      " --- 1_\n",
      " --- y_300\n",
      " --- 1_5_\n",
      " --- x_300\n",
      " --- relationships\n",
      " --- size\n",
      " --- pieces_1_12\n",
      " --- denominator_3\n",
      " --- familiar\n",
      " --- introduced\n",
      " --- math\n",
      "\n",
      "Cluster 84:\n",
      " --- pieces_1_8\n",
      " --- fraction_circle_groups_\n",
      " --- fraction\n",
      " --- sum_\n",
      " --- lcm_sum_\n",
      " --- chains_\n",
      " --- 1_\n",
      " --- __as3_type_fraction\n",
      " --- fraction_circle_counts_\n",
      " --- circle\n",
      " --- pieces\n",
      " --- denominator_8\n",
      " --- scale_1\n",
      " --- fraction_circle_containment_\n",
      " --- numerator_1\n",
      " --- pieces_1\n",
      " --- students\n",
      " --- answer\n",
      " --- x_300\n",
      " --- y_300\n",
      " --- black\n",
      " --- grays\n",
      " --- 1_8_\n",
      " --- 1_1\n",
      " --- size\n",
      " --- familiar\n",
      " --- relationships\n",
      " --- introduced\n",
      " --- input_8\n",
      " --- math\n",
      "\n",
      "Cluster 85:\n",
      " --- model\n",
      " --- grid\n",
      " --- answer\n",
      " --- students\n",
      " --- tenths\n",
      " --- object\n",
      " --- hundredths\n",
      " --- decimal\n",
      " --- 1x10\n",
      " --- models\n",
      " --- visual\n",
      " --- decimals\n",
      " --- build\n",
      " --- using\n",
      " --- notation\n",
      " --- introduced\n",
      " --- correct\n",
      " --- shading\n",
      " --- input_\n",
      " --- review\n",
      " --- shown\n",
      " --- input_a_\n",
      " --- comparison\n",
      " --- choose\n",
      " --- expressed\n",
      " --- 10x10\n",
      " --- 10\n",
      " --- express\n",
      " --- magnitude\n",
      " --- drag\n",
      "\n",
      "Cluster 86:\n",
      " --- fractions\n",
      " --- denominator\n",
      " --- common\n",
      " --- pieces_1_7\n",
      " --- students\n",
      " --- add\n",
      " --- enter\n",
      " --- using\n",
      " --- modeled\n",
      " --- denominators\n",
      " --- symbols\n",
      " --- determine\n",
      " --- learn\n",
      " --- smallest\n",
      " --- 20\n",
      " --- fraction_circle_groups_\n",
      " --- fraction\n",
      " --- chains_\n",
      " --- 1_\n",
      " --- answer\n",
      " --- bitmap_text_interp_\n",
      " --- sum_\n",
      " --- bitmap_text_inputs_\n",
      " --- lcm_sum_\n",
      " --- fraction_circle_counts_\n",
      " --- __as3_type_fraction\n",
      " --- sum\n",
      " --- circle\n",
      " --- pieces\n",
      " --- input_a_7\n",
      "\n",
      "Cluster 87:\n",
      " --- fraction_circle_groups_\n",
      " --- fraction_circle_counts_\n",
      " --- scale_1\n",
      " --- answer\n",
      " --- students\n",
      " --- pieces_1\n",
      " --- chains_\n",
      " --- pieces_1_4\n",
      " --- fraction\n",
      " --- pieces\n",
      " --- lcm_sum_\n",
      " --- sum_\n",
      " --- unit_\n",
      " --- circle\n",
      " --- 1_1\n",
      " --- fractions\n",
      " --- pizza\n",
      " --- __as3_type_fraction\n",
      " --- x_300\n",
      " --- learn\n",
      " --- y_300\n",
      " --- ate\n",
      " --- lesson\n",
      " --- fraction_circle_total_count_1\n",
      " --- relationships\n",
      " --- introduced\n",
      " --- math\n",
      " --- numerator_1\n",
      " --- pieces_1_6\n",
      " --- familiar\n",
      "\n",
      "Cluster 88:\n",
      " --- fraction_cblock_chains_\n",
      " --- sum_\n",
      " --- lcm_sum_\n",
      " --- pieces_1_8\n",
      " --- __as3_type_fraction\n",
      " --- numerator_1\n",
      " --- denominator_8\n",
      " --- fraction\n",
      " --- fraction_cblock_counts_\n",
      " --- denominator_1\n",
      " --- denominator_4\n",
      " --- students\n",
      " --- fraction_cblock_containment_\n",
      " --- pieces_1_4\n",
      " --- answer\n",
      " --- bar1_\n",
      " --- 1_1\n",
      " --- left_176\n",
      " --- pieces_1\n",
      " --- equivalent\n",
      " --- 1_4_\n",
      " --- denominator_2\n",
      " --- bar\n",
      " --- model\n",
      " --- numerator_3\n",
      " --- fractions\n",
      " --- using\n",
      " --- pieces\n",
      " --- unit_\n",
      " --- models\n",
      "\n",
      "Cluster 89:\n",
      " --- fraction_cblock_chains_\n",
      " --- sum_\n",
      " --- lcm_sum_\n",
      " --- __as3_type_fraction\n",
      " --- pieces_1_8\n",
      " --- numerator_1\n",
      " --- denominator_8\n",
      " --- denominator_1\n",
      " --- bar1_\n",
      " --- fraction_cblock_counts_\n",
      " --- denominator_2\n",
      " --- left_100\n",
      " --- bar2_\n",
      " --- pieces_1\n",
      " --- fraction_cblock_containment_\n",
      " --- fraction\n",
      " --- fractions\n",
      " --- right_790\n",
      " --- using\n",
      " --- numerator_3\n",
      " --- students\n",
      " --- numerator_5\n",
      " --- pieces_1_2\n",
      " --- answer\n",
      " --- denominator_4\n",
      " --- model\n",
      " --- 1_2\n",
      " --- models\n",
      " --- right_445\n",
      " --- bar\n",
      "\n",
      "Cluster 90:\n",
      " --- fractions\n",
      " --- answer\n",
      " --- common\n",
      " --- boxes\n",
      " --- drag\n",
      " --- true\n",
      " --- make\n",
      " --- comparison\n",
      " --- denominators\n",
      " --- numerators\n",
      " --- having\n",
      " --- compare\n",
      " --- students\n",
      " --- review\n",
      " --- ordering\n",
      " --- material\n",
      " --- selected\n",
      " --- topics\n",
      " --- earlier\n",
      " --- lessons\n",
      " --- following\n",
      " --- 12\n",
      " --- numerator\n",
      " --- 10\n",
      " --- fraction_cblock_chains_\n",
      " --- intro\n",
      " --- greatest\n",
      " --- arrange\n",
      " --- bars\n",
      " --- fraction\n",
      "\n",
      "Cluster 91:\n",
      " --- plain_image_groups_\n",
      " --- fraction_cblock_chains_\n",
      " --- pieces_1_8\n",
      " --- swf\n",
      " --- total_1\n",
      " --- lcm_sum_\n",
      " --- sum_\n",
      " --- __as3_type_fraction\n",
      " --- fraction\n",
      " --- pieces_1_6\n",
      " --- denominator_8\n",
      " --- answer\n",
      " --- fraction_cblock_counts_\n",
      " --- numerator_1\n",
      " --- fractions\n",
      " --- url_assets_cms_wootmath_fractions_number_line_markers_start_marker\n",
      " --- students\n",
      " --- fraction_circle_groups_\n",
      " --- bitmap_text_inputs_\n",
      " --- bitmap_text_interp_\n",
      " --- left_96\n",
      " --- learn\n",
      " --- eighths\n",
      " --- yard\n",
      " --- did\n",
      " --- travel\n",
      " --- models\n",
      " --- support\n",
      " --- simple\n",
      " --- generate\n",
      "\n",
      "Cluster 92:\n",
      " --- pieces_1_4\n",
      " --- fraction_circle_groups_\n",
      " --- chains_\n",
      " --- lcm_sum_\n",
      " --- sum_\n",
      " --- __as3_type_fraction\n",
      " --- denominator_4\n",
      " --- fraction_circle_containment_\n",
      " --- left_270\n",
      " --- pieces_1\n",
      " --- unit1_\n",
      " --- unit2_\n",
      " --- unit3_\n",
      " --- unit4_\n",
      " --- scale_0\n",
      " --- fraction\n",
      " --- numerator_1\n",
      " --- right_270\n",
      " --- denominator_1\n",
      " --- numerator_4\n",
      " --- fraction_circle_counts_\n",
      " --- object\n",
      " --- answer\n",
      " --- mixed\n",
      " --- number\n",
      " --- numerator_3\n",
      " --- x_250\n",
      " --- students\n",
      " --- improper\n",
      " --- blue\n",
      "\n",
      "Cluster 93:\n",
      " --- fraction_cblock_chains_\n",
      " --- lcm_sum_\n",
      " --- sum_\n",
      " --- __as3_type_fraction\n",
      " --- pieces_1_6\n",
      " --- numerator_1\n",
      " --- fraction\n",
      " --- denominator_6\n",
      " --- denominator_1\n",
      " --- fraction_cblock_counts_\n",
      " --- pieces_1\n",
      " --- left_90\n",
      " --- denominator_3\n",
      " --- denominator_2\n",
      " --- answer\n",
      " --- students\n",
      " --- fraction_cblock_containment_\n",
      " --- numerator_2\n",
      " --- 1_\n",
      " --- right_780\n",
      " --- equivalent\n",
      " --- using\n",
      " --- fractions\n",
      " --- left_176\n",
      " --- model\n",
      " --- lesson\n",
      " --- 1_3_\n",
      " --- bar1_\n",
      " --- numerator_3\n",
      " --- pieces_1_3\n",
      "\n",
      "Cluster 94:\n",
      " --- plain_image_groups_\n",
      " --- number\n",
      " --- fraction\n",
      " --- line\n",
      " --- students\n",
      " --- answer\n",
      " --- swf\n",
      " --- whole_\n",
      " --- total_1\n",
      " --- length\n",
      " --- represent\n",
      " --- bar\n",
      " --- form\n",
      " --- enter\n",
      " --- learn\n",
      " --- real\n",
      " --- world\n",
      " --- simplest\n",
      " --- fractions\n",
      " --- contexts\n",
      " --- use\n",
      " --- num_1\n",
      " --- review\n",
      " --- objects\n",
      " --- fraction_input_value_\n",
      " --- lesson\n",
      " --- yards\n",
      " --- using\n",
      " --- long\n",
      " --- drag\n",
      "\n",
      "Cluster 95:\n",
      " --- fraction_cblock_chains_\n",
      " --- pieces_1_6\n",
      " --- lcm_sum_\n",
      " --- sum_\n",
      " --- __as3_type_fraction\n",
      " --- numerator_1\n",
      " --- fraction\n",
      " --- fraction_circle_groups_\n",
      " --- denominator_5\n",
      " --- circle1_\n",
      " --- chains_\n",
      " --- pieces\n",
      " --- pieces_1_5\n",
      " --- students\n",
      " --- denominator_4\n",
      " --- model\n",
      " --- size\n",
      " --- object\n",
      " --- circle\n",
      " --- fraction_circle_counts_\n",
      " --- names\n",
      " --- denominator_6\n",
      " --- pieces_1_4\n",
      " --- denominator_1\n",
      " --- pieces_1\n",
      " --- lesson\n",
      " --- answer\n",
      " --- number\n",
      " --- denominator\n",
      " --- understand\n",
      "\n",
      "Cluster 96:\n",
      " --- answer\n",
      " --- mixed\n",
      " --- object\n",
      " --- problems\n",
      " --- world\n",
      " --- contexts\n",
      " --- simplest\n",
      " --- numbers\n",
      " --- real\n",
      " --- set\n",
      " --- lesson\n",
      " --- enter\n",
      " --- visual\n",
      " --- form\n",
      " --- models\n",
      " --- fractions\n",
      " --- subtract\n",
      " --- students\n",
      " --- whole_1\n",
      " --- fraction_input_value_1\n",
      " --- number\n",
      " --- num_3\n",
      " --- den_4\n",
      " --- 3_4\n",
      " --- whole_\n",
      " --- den_8\n",
      " --- den_6\n",
      " --- den_5\n",
      " --- num_5\n",
      " --- num_7\n",
      "\n",
      "Cluster 97:\n",
      " --- fraction_cblock_chains_\n",
      " --- lcm_sum_\n",
      " --- sum_\n",
      " --- numerator_1\n",
      " --- __as3_type_fraction\n",
      " --- denominator_1\n",
      " --- left_175\n",
      " --- unit2_\n",
      " --- unit3_\n",
      " --- fraction_cblock_counts_\n",
      " --- unit1_\n",
      " --- denominator_4\n",
      " --- fraction_cblock_containment_\n",
      " --- pieces_1\n",
      " --- right_865\n",
      " --- denominator_8\n",
      " --- denominator_6\n",
      " --- denominator_12\n",
      " --- fractions\n",
      " --- pieces_1_4\n",
      " --- pieces_1_8\n",
      " --- pieces_1_6\n",
      " --- pieces_1_12\n",
      " --- boxes\n",
      " --- fraction_cblock_total_count_6\n",
      " --- greatest\n",
      " --- answer\n",
      " --- numerator\n",
      " --- arrange\n",
      " --- drag\n",
      "\n",
      "Cluster 98:\n",
      " --- fraction_cblock_chains_\n",
      " --- sum_\n",
      " --- lcm_sum_\n",
      " --- fraction\n",
      " --- bar\n",
      " --- equivalent\n",
      " --- __as3_type_fraction\n",
      " --- fractions\n",
      " --- answer\n",
      " --- lesson\n",
      " --- enter\n",
      " --- bitmap_text_interp_\n",
      " --- bitmap_text_inputs_\n",
      " --- names\n",
      " --- shade\n",
      " --- 1_2\n",
      " --- match\n",
      " --- shaded\n",
      " --- fraction_input_value_\n",
      " --- numerator_1\n",
      " --- pieces_1_6\n",
      " --- introduces\n",
      " --- beginning\n",
      " --- input_a_2\n",
      " --- input_b_4\n",
      " --- pieces_1_7\n",
      " --- numerator_5\n",
      " --- fraction_cblock_counts_\n",
      " --- students\n",
      " --- denominator_1\n",
      "\n",
      "Cluster 99:\n",
      " --- pieces_1_9\n",
      " --- fraction_cblock_chains_\n",
      " --- lcm_sum_\n",
      " --- sum_\n",
      " --- __as3_type_fraction\n",
      " --- numerator_1\n",
      " --- denominator_9\n",
      " --- bar1_\n",
      " --- denominator_1\n",
      " --- fraction_cblock_counts_\n",
      " --- fraction\n",
      " --- left_130\n",
      " --- bar\n",
      " --- using\n",
      " --- answer\n",
      " --- students\n",
      " --- fraction_cblock_containment_\n",
      " --- pieces_1\n",
      " --- 1_1\n",
      " --- numerator_9\n",
      " --- right_820\n",
      " --- numerator_7\n",
      " --- whole_\n",
      " --- fractions\n",
      " --- model\n",
      " --- white\n",
      " --- den_9\n",
      " --- lesson\n",
      " --- 1_9_9\n",
      " --- right_819\n",
      "\n"
     ]
    }
   ],
   "source": [
    "print(\"Top terms per cluster:\")\n",
    "\n",
    "\n",
    "order_centroids = km.cluster_centers_.argsort()[:, ::-1]\n",
    "terms = tf_vectorizer.get_feature_names()\n",
    "for i in range(true_k):\n",
    "    print(\"Cluster %d:\\n\" % i, end='')\n",
    "    for ind in order_centroids[i, :30]:\n",
    "        print(' --- %s\\n' % terms[ind], end='')\n",
    "    print()"
   ]
  },
  {
   "cell_type": "code",
   "execution_count": 61,
   "metadata": {
    "collapsed": false
   },
   "outputs": [
    {
     "data": {
      "text/plain": [
       "100000"
      ]
     },
     "execution_count": 61,
     "metadata": {},
     "output_type": "execute_result"
    }
   ],
   "source": [
    "len(km.labels_)"
   ]
  },
  {
   "cell_type": "code",
   "execution_count": 62,
   "metadata": {
    "collapsed": false
   },
   "outputs": [
    {
     "data": {
      "text/plain": [
       "array([ 2730,   757,   647,  1122,   246,   446,    13,   514,   341,\n",
       "         425,   276,   835,  1013,   284,   251, 14179,   285,  1817,\n",
       "          38,  1302,   135,  2290,   379,   317,   125,  2597,  1265,\n",
       "         858,  2328,  1025,  2235,   470,   483,   636,  2293,   581,\n",
       "         345,   628,    80,   431,   283,   651,   262,   736,   138,\n",
       "        1837,   855,   302,  3968,   622,   269,  1053,   637,  1042,\n",
       "         500,  1016,   622,   262,  1149,   283,   481,   457,   333,\n",
       "         921,  1399,  1069,   149,  1006,   374,    53,   197,  1840,\n",
       "          70,   247,  1903,  1143,   470,   580,   346,   747,   303,\n",
       "         583,  1246,  1487,   284,  7886,    72,  1963,   414,   539,\n",
       "         926,   272,    39,   721,  4290,     1,   199,   717,   374,   390])"
      ]
     },
     "execution_count": 62,
     "metadata": {},
     "output_type": "execute_result"
    }
   ],
   "source": [
    "np.bincount(km.labels_)"
   ]
  },
  {
   "cell_type": "code",
   "execution_count": 63,
   "metadata": {
    "collapsed": true
   },
   "outputs": [],
   "source": [
    "df3['cluster_100'] = km.labels_"
   ]
  },
  {
   "cell_type": "code",
   "execution_count": 64,
   "metadata": {
    "collapsed": false
   },
   "outputs": [
    {
     "data": {
      "text/plain": [
       "100"
      ]
     },
     "execution_count": 64,
     "metadata": {},
     "output_type": "execute_result"
    }
   ],
   "source": [
    "len(np.bincount(km.labels_))"
   ]
  },
  {
   "cell_type": "code",
   "execution_count": 65,
   "metadata": {
    "collapsed": false
   },
   "outputs": [
    {
     "data": {
      "text/plain": [
       "(100000, 61)"
      ]
     },
     "execution_count": 65,
     "metadata": {},
     "output_type": "execute_result"
    }
   ],
   "source": [
    "df3.shape"
   ]
  },
  {
   "cell_type": "code",
   "execution_count": 66,
   "metadata": {
    "collapsed": false
   },
   "outputs": [],
   "source": [
    "df3['cluster_100'] = km.labels_\n"
   ]
  },
  {
   "cell_type": "code",
   "execution_count": 67,
   "metadata": {
    "collapsed": false
   },
   "outputs": [],
   "source": [
    "df3['trait_1'] = df3['behavioral_traits'].apply(lambda x : x[0] if len(x) > 0 else 'None' )"
   ]
  },
  {
   "cell_type": "code",
   "execution_count": 68,
   "metadata": {
    "collapsed": true
   },
   "outputs": [],
   "source": [
    "df3['trait_2'] = df3['behavioral_traits'].apply(lambda x : x[1] if len(x) > 1 else 'None' ) "
   ]
  },
  {
   "cell_type": "code",
   "execution_count": 69,
   "metadata": {
    "collapsed": false
   },
   "outputs": [
    {
     "data": {
      "text/plain": [
       "None                             71238\n",
       "how_to_model                      5348\n",
       "inverts_numerator_denominator     4638\n",
       "identifying_gt_lt                 2806\n",
       "deci_understanding_gt_lt          1425\n",
       "recognizing_the_whole             1307\n",
       "deci_incorrect_inequality         1282\n",
       "starting_from_0_nline             1047\n",
       "dragging_to_add                    956\n",
       "counting_hops_not_ticks            892\n",
       "inequality_symbol                  788\n",
       "partially_drawn_parts              680\n",
       "modeled_incorrect_comparison       673\n",
       "comparing_frac_gt_lt               542\n",
       "misplaced_fraction_part_nline      480\n",
       "measuring_tools                    459\n",
       "deci_placing_decimal_points        408\n",
       "partitioning_number_line           398\n",
       "nline_as_whole                     325\n",
       "deci_tens_vs_tenths                317\n",
       "simplifying_mixed_numbers          292\n",
       "simplify_with_common_denom         289\n",
       "simplifying_bars_2                 280\n",
       "deci_forgot_decimal_point          274\n",
       "deci_hops_instead_ticks            274\n",
       "deci_hundredths_vs_tenths          244\n",
       "simplifying_with_bars              222\n",
       "fraction_of_set                    222\n",
       "hops_vs_ticks                      220\n",
       "simplifying_subtraction            192\n",
       "multiplying_whole_by_proper        180\n",
       "deci_compare_no_models             159\n",
       "only_tenths_entered                131\n",
       "using_correct_piece                129\n",
       "multiplication                     121\n",
       "simplifying_mixed_numbers_2        114\n",
       "deci_add_to_model                  113\n",
       "deci_point_location_correct        105\n",
       "simplifying_fractions              102\n",
       "mixed_numbers_on_number_line        83\n",
       "benchmark_quarters                  66\n",
       "deci_building_tenths                46\n",
       "counting_hops_for_division          36\n",
       "using_bars_in_division              20\n",
       "deci_break_tenths_hundredths        19\n",
       "determine_the_frac_part             17\n",
       "area_model                          16\n",
       "numerator_off_by_one_nline           8\n",
       "benchmark_1_2                        8\n",
       "mixed_number_quotient                5\n",
       "modeling_fraction_division           4\n",
       "Name: trait_1, dtype: int64"
      ]
     },
     "execution_count": 69,
     "metadata": {},
     "output_type": "execute_result"
    }
   ],
   "source": [
    "df3['trait_1'].value_counts()"
   ]
  },
  {
   "cell_type": "code",
   "execution_count": 70,
   "metadata": {
    "collapsed": false
   },
   "outputs": [
    {
     "data": {
      "text/plain": [
       "None                            95784\n",
       "simplifying_mixed_numbers         835\n",
       "equally_sized_parts               680\n",
       "modeled_incorrect_numerator       673\n",
       "orange_tick                       459\n",
       "simplifying_answers_nline         421\n",
       "wrong_number_parts                398\n",
       "dragging_to_add_3_circles         292\n",
       "deci_break_tenths_hundredths      236\n",
       "nline_restart_one                 214\n",
       "modulo_ans                          8\n",
       "Name: trait_2, dtype: int64"
      ]
     },
     "execution_count": 70,
     "metadata": {},
     "output_type": "execute_result"
    }
   ],
   "source": [
    "df3['trait_2'].value_counts()"
   ]
  },
  {
   "cell_type": "code",
   "execution_count": 71,
   "metadata": {
    "collapsed": true
   },
   "outputs": [],
   "source": [
    "df_cluster_100 = df3.groupby('cluster_100')"
   ]
  },
  {
   "cell_type": "code",
   "execution_count": null,
   "metadata": {
    "collapsed": true
   },
   "outputs": [],
   "source": []
  },
  {
   "cell_type": "code",
   "execution_count": null,
   "metadata": {
    "collapsed": true
   },
   "outputs": [],
   "source": []
  },
  {
   "cell_type": "code",
   "execution_count": 72,
   "metadata": {
    "collapsed": false
   },
   "outputs": [
    {
     "data": {
      "text/plain": [
       "100"
      ]
     },
     "execution_count": 72,
     "metadata": {},
     "output_type": "execute_result"
    }
   ],
   "source": [
    "len(df_cluster_100)"
   ]
  },
  {
   "cell_type": "code",
   "execution_count": 73,
   "metadata": {
    "collapsed": false,
    "scrolled": false
   },
   "outputs": [],
   "source": [
    "#df_cluster_100.head()"
   ]
  },
  {
   "cell_type": "code",
   "execution_count": 74,
   "metadata": {
    "collapsed": false
   },
   "outputs": [],
   "source": [
    "df_pcorrect = df3['percent_prob_correct'].groupby(df3['cluster_100']).describe()"
   ]
  },
  {
   "cell_type": "code",
   "execution_count": null,
   "metadata": {
    "collapsed": true
   },
   "outputs": [],
   "source": []
  },
  {
   "cell_type": "code",
   "execution_count": 75,
   "metadata": {
    "collapsed": false
   },
   "outputs": [
    {
     "data": {
      "text/plain": [
       "<matplotlib.axes._subplots.AxesSubplot at 0x11a0e0ef0>"
      ]
     },
     "execution_count": 75,
     "metadata": {},
     "output_type": "execute_result"
    },
    {
     "data": {
      "image/png": "[encoded data removed]",
      "text/plain": [
       "<matplotlib.figure.Figure at 0x119f35a90>"
      ]
     },
     "metadata": {},
     "output_type": "display_data"
    }
   ],
   "source": [
    "df_pcorrect['mean'].hist()"
   ]
  },
  {
   "cell_type": "code",
   "execution_count": 76,
   "metadata": {
    "collapsed": true
   },
   "outputs": [],
   "source": [
    "df_correct = df3['correct'].groupby(df3['cluster_100']).mean()"
   ]
  },
  {
   "cell_type": "code",
   "execution_count": 77,
   "metadata": {
    "collapsed": false
   },
   "outputs": [
    {
     "data": {
      "text/plain": [
       "<matplotlib.axes._subplots.AxesSubplot at 0x119eaddd8>"
      ]
     },
     "execution_count": 77,
     "metadata": {},
     "output_type": "execute_result"
    },
    {
     "data": {
      "image/png": "[encoded data removed]",
      "text/plain": [
       "<matplotlib.figure.Figure at 0x11a196d30>"
      ]
     },
     "metadata": {},
     "output_type": "display_data"
    }
   ],
   "source": [
    "df_correct.hist()"
   ]
  },
  {
   "cell_type": "code",
   "execution_count": 78,
   "metadata": {
    "collapsed": false
   },
   "outputs": [],
   "source": [
    "df_true = df3[df3['correct']==True]\n",
    "df_correctx_true = df_true['percent_prob_correct']"
   ]
  },
  {
   "cell_type": "code",
   "execution_count": 79,
   "metadata": {
    "collapsed": false
   },
   "outputs": [
    {
     "data": {
      "text/plain": [
       "<matplotlib.axes._subplots.AxesSubplot at 0x1201aacc0>"
      ]
     },
     "execution_count": 79,
     "metadata": {},
     "output_type": "execute_result"
    },
    {
     "data": {
      "image/png": "[encoded data removed]",
      "text/plain": [
       "<matplotlib.figure.Figure at 0x119f69668>"
      ]
     },
     "metadata": {},
     "output_type": "display_data"
    }
   ],
   "source": [
    "df_correctx_true.hist()"
   ]
  },
  {
   "cell_type": "code",
   "execution_count": 80,
   "metadata": {
    "collapsed": false
   },
   "outputs": [],
   "source": [
    "df_false = df3[df3['correct']!=True]\n",
    "df_correctx_false = df_false['percent_prob_correct']"
   ]
  },
  {
   "cell_type": "code",
   "execution_count": 81,
   "metadata": {
    "collapsed": false
   },
   "outputs": [
    {
     "data": {
      "text/plain": [
       "<matplotlib.axes._subplots.AxesSubplot at 0x120392eb8>"
      ]
     },
     "execution_count": 81,
     "metadata": {},
     "output_type": "execute_result"
    },
    {
     "data": {
      "image/png": "[encoded data removed]",
      "text/plain": [
       "<matplotlib.figure.Figure at 0x1201548d0>"
      ]
     },
     "metadata": {},
     "output_type": "display_data"
    }
   ],
   "source": [
    "df_correctx_false.hist()"
   ]
  },
  {
   "cell_type": "code",
   "execution_count": 82,
   "metadata": {
    "collapsed": false
   },
   "outputs": [],
   "source": [
    "df_trait_1 = df3.groupby(['cluster_100', 'trait_1']).size().unstack(fill_value=0)"
   ]
  },
  {
   "cell_type": "code",
   "execution_count": null,
   "metadata": {
    "collapsed": true
   },
   "outputs": [],
   "source": []
  },
  {
   "cell_type": "code",
   "execution_count": null,
   "metadata": {
    "collapsed": true
   },
   "outputs": [],
   "source": []
  },
  {
   "cell_type": "code",
   "execution_count": 83,
   "metadata": {
    "collapsed": true
   },
   "outputs": [],
   "source": [
    "df_trait_2 = df3.groupby(['cluster_100', 'trait_2']).size().unstack(fill_value=0)"
   ]
  },
  {
   "cell_type": "code",
   "execution_count": 84,
   "metadata": {
    "collapsed": false
   },
   "outputs": [],
   "source": [
    "#df_trait_2"
   ]
  },
  {
   "cell_type": "code",
   "execution_count": 85,
   "metadata": {
    "collapsed": false
   },
   "outputs": [
    {
     "data": {
      "text/plain": [
       "Index(['None', 'deci_break_tenths_hundredths', 'dragging_to_add_3_circles',\n",
       "       'equally_sized_parts', 'modeled_incorrect_numerator', 'modulo_ans',\n",
       "       'nline_restart_one', 'orange_tick', 'simplifying_answers_nline',\n",
       "       'simplifying_mixed_numbers', 'wrong_number_parts'],\n",
       "      dtype='object', name='trait_2')"
      ]
     },
     "execution_count": 85,
     "metadata": {},
     "output_type": "execute_result"
    }
   ],
   "source": [
    "df_trait_2.columns"
   ]
  },
  {
   "cell_type": "code",
   "execution_count": 86,
   "metadata": {
    "collapsed": false
   },
   "outputs": [
    {
     "data": {
      "text/plain": [
       "Index(['None', 'area_model', 'benchmark_1_2', 'benchmark_quarters',\n",
       "       'comparing_frac_gt_lt', 'counting_hops_for_division',\n",
       "       'counting_hops_not_ticks', 'deci_add_to_model',\n",
       "       'deci_break_tenths_hundredths', 'deci_building_tenths',\n",
       "       'deci_compare_no_models', 'deci_forgot_decimal_point',\n",
       "       'deci_hops_instead_ticks', 'deci_hundredths_vs_tenths',\n",
       "       'deci_incorrect_inequality', 'deci_placing_decimal_points',\n",
       "       'deci_point_location_correct', 'deci_tens_vs_tenths',\n",
       "       'deci_understanding_gt_lt', 'determine_the_frac_part',\n",
       "       'dragging_to_add', 'fraction_of_set', 'hops_vs_ticks', 'how_to_model',\n",
       "       'identifying_gt_lt', 'inequality_symbol',\n",
       "       'inverts_numerator_denominator', 'measuring_tools',\n",
       "       'misplaced_fraction_part_nline', 'mixed_number_quotient',\n",
       "       'mixed_numbers_on_number_line', 'modeled_incorrect_comparison',\n",
       "       'modeling_fraction_division', 'multiplication',\n",
       "       'multiplying_whole_by_proper', 'nline_as_whole',\n",
       "       'numerator_off_by_one_nline', 'only_tenths_entered',\n",
       "       'partially_drawn_parts', 'partitioning_number_line',\n",
       "       'recognizing_the_whole', 'simplify_with_common_denom',\n",
       "       'simplifying_bars_2', 'simplifying_fractions',\n",
       "       'simplifying_mixed_numbers', 'simplifying_mixed_numbers_2',\n",
       "       'simplifying_subtraction', 'simplifying_with_bars',\n",
       "       'starting_from_0_nline', 'using_bars_in_division',\n",
       "       'using_correct_piece'],\n",
       "      dtype='object', name='trait_1')"
      ]
     },
     "execution_count": 86,
     "metadata": {},
     "output_type": "execute_result"
    }
   ],
   "source": [
    "df_trait_1.columns"
   ]
  },
  {
   "cell_type": "code",
   "execution_count": 87,
   "metadata": {
    "collapsed": false
   },
   "outputs": [
    {
     "data": {
      "text/plain": [
       "['dragging_to_add_3_circles',\n",
       " 'equally_sized_parts',\n",
       " 'modeled_incorrect_numerator',\n",
       " 'modulo_ans',\n",
       " 'nline_restart_one',\n",
       " 'orange_tick',\n",
       " 'simplifying_answers_nline',\n",
       " 'wrong_number_parts']"
      ]
     },
     "execution_count": 87,
     "metadata": {},
     "output_type": "execute_result"
    }
   ],
   "source": [
    "[x for x in df_trait_2.columns if x not in df_trait_1.columns ]"
   ]
  },
  {
   "cell_type": "code",
   "execution_count": 88,
   "metadata": {
    "collapsed": false
   },
   "outputs": [
    {
     "data": {
      "text/plain": [
       "['area_model',\n",
       " 'benchmark_1_2',\n",
       " 'benchmark_quarters',\n",
       " 'comparing_frac_gt_lt',\n",
       " 'counting_hops_for_division',\n",
       " 'counting_hops_not_ticks',\n",
       " 'deci_add_to_model',\n",
       " 'deci_building_tenths',\n",
       " 'deci_compare_no_models',\n",
       " 'deci_forgot_decimal_point',\n",
       " 'deci_hops_instead_ticks',\n",
       " 'deci_hundredths_vs_tenths',\n",
       " 'deci_incorrect_inequality',\n",
       " 'deci_placing_decimal_points',\n",
       " 'deci_point_location_correct',\n",
       " 'deci_tens_vs_tenths',\n",
       " 'deci_understanding_gt_lt',\n",
       " 'determine_the_frac_part',\n",
       " 'dragging_to_add',\n",
       " 'fraction_of_set',\n",
       " 'hops_vs_ticks',\n",
       " 'how_to_model',\n",
       " 'identifying_gt_lt',\n",
       " 'inequality_symbol',\n",
       " 'inverts_numerator_denominator',\n",
       " 'measuring_tools',\n",
       " 'misplaced_fraction_part_nline',\n",
       " 'mixed_number_quotient',\n",
       " 'mixed_numbers_on_number_line',\n",
       " 'modeled_incorrect_comparison',\n",
       " 'modeling_fraction_division',\n",
       " 'multiplication',\n",
       " 'multiplying_whole_by_proper',\n",
       " 'nline_as_whole',\n",
       " 'numerator_off_by_one_nline',\n",
       " 'only_tenths_entered',\n",
       " 'partially_drawn_parts',\n",
       " 'partitioning_number_line',\n",
       " 'recognizing_the_whole',\n",
       " 'simplify_with_common_denom',\n",
       " 'simplifying_bars_2',\n",
       " 'simplifying_fractions',\n",
       " 'simplifying_mixed_numbers_2',\n",
       " 'simplifying_subtraction',\n",
       " 'simplifying_with_bars',\n",
       " 'starting_from_0_nline',\n",
       " 'using_bars_in_division',\n",
       " 'using_correct_piece']"
      ]
     },
     "execution_count": 88,
     "metadata": {},
     "output_type": "execute_result"
    }
   ],
   "source": [
    "[x for x in df_trait_1.columns if x not in df_trait_2.columns ]"
   ]
  },
  {
   "cell_type": "code",
   "execution_count": 89,
   "metadata": {
    "collapsed": false
   },
   "outputs": [],
   "source": [
    "#df_trait_1 = df_trait_1.drop('None', axis=1)\n",
    "#df_trait_2 = df_trait_2.drop('None', axis=1)"
   ]
  },
  {
   "cell_type": "code",
   "execution_count": 90,
   "metadata": {
    "collapsed": false
   },
   "outputs": [],
   "source": [
    "df_traits = pd.merge(left=df_trait_1,right=df_trait_2, how='left' )\n"
   ]
  },
  {
   "cell_type": "code",
   "execution_count": 91,
   "metadata": {
    "collapsed": false
   },
   "outputs": [],
   "source": [
    "df_trait_1.index.rename('cluster_100', inplace=True)"
   ]
  },
  {
   "cell_type": "code",
   "execution_count": 92,
   "metadata": {
    "collapsed": false
   },
   "outputs": [],
   "source": [
    "df_trait_2.index.rename('cluster_100', inplace=True)"
   ]
  },
  {
   "cell_type": "code",
   "execution_count": 93,
   "metadata": {
    "collapsed": false
   },
   "outputs": [
    {
     "data": {
      "text/plain": [
       "Index(['None', 'area_model', 'benchmark_1_2', 'benchmark_quarters',\n",
       "       'comparing_frac_gt_lt', 'counting_hops_for_division',\n",
       "       'counting_hops_not_ticks', 'deci_add_to_model',\n",
       "       'deci_break_tenths_hundredths', 'deci_building_tenths',\n",
       "       'deci_compare_no_models', 'deci_forgot_decimal_point',\n",
       "       'deci_hops_instead_ticks', 'deci_hundredths_vs_tenths',\n",
       "       'deci_incorrect_inequality', 'deci_placing_decimal_points',\n",
       "       'deci_point_location_correct', 'deci_tens_vs_tenths',\n",
       "       'deci_understanding_gt_lt', 'determine_the_frac_part',\n",
       "       'dragging_to_add', 'fraction_of_set', 'hops_vs_ticks', 'how_to_model',\n",
       "       'identifying_gt_lt', 'inequality_symbol',\n",
       "       'inverts_numerator_denominator', 'measuring_tools',\n",
       "       'misplaced_fraction_part_nline', 'mixed_number_quotient',\n",
       "       'mixed_numbers_on_number_line', 'modeled_incorrect_comparison',\n",
       "       'modeling_fraction_division', 'multiplication',\n",
       "       'multiplying_whole_by_proper', 'nline_as_whole',\n",
       "       'numerator_off_by_one_nline', 'only_tenths_entered',\n",
       "       'partially_drawn_parts', 'partitioning_number_line',\n",
       "       'recognizing_the_whole', 'simplify_with_common_denom',\n",
       "       'simplifying_bars_2', 'simplifying_fractions',\n",
       "       'simplifying_mixed_numbers', 'simplifying_mixed_numbers_2',\n",
       "       'simplifying_subtraction', 'simplifying_with_bars',\n",
       "       'starting_from_0_nline', 'using_bars_in_division',\n",
       "       'using_correct_piece', 'dragging_to_add_3_circles',\n",
       "       'equally_sized_parts', 'modeled_incorrect_numerator', 'modulo_ans',\n",
       "       'nline_restart_one', 'orange_tick', 'simplifying_answers_nline',\n",
       "       'wrong_number_parts'],\n",
       "      dtype='object')"
      ]
     },
     "execution_count": 93,
     "metadata": {},
     "output_type": "execute_result"
    }
   ],
   "source": [
    "df_traits.columns"
   ]
  },
  {
   "cell_type": "code",
   "execution_count": 94,
   "metadata": {
    "collapsed": false
   },
   "outputs": [],
   "source": [
    "df_traits = pd.concat([df_trait_1, df_trait_2], axis=1)"
   ]
  },
  {
   "cell_type": "code",
   "execution_count": 95,
   "metadata": {
    "collapsed": false
   },
   "outputs": [
    {
     "name": "stdout",
     "output_type": "stream",
     "text": [
      "(100, 62)\n",
      "(100, 51)\n",
      "(100, 11)\n"
     ]
    }
   ],
   "source": [
    "print (df_traits.shape)\n",
    "print (df_trait_1.shape)\n",
    "print (df_trait_2.shape)\n"
   ]
  },
  {
   "cell_type": "code",
   "execution_count": 96,
   "metadata": {
    "collapsed": false
   },
   "outputs": [
    {
     "data": {
      "text/plain": [
       "Index(['None', 'area_model', 'benchmark_1_2', 'benchmark_quarters',\n",
       "       'comparing_frac_gt_lt', 'counting_hops_for_division',\n",
       "       'counting_hops_not_ticks', 'deci_add_to_model',\n",
       "       'deci_break_tenths_hundredths', 'deci_building_tenths',\n",
       "       'deci_compare_no_models', 'deci_forgot_decimal_point',\n",
       "       'deci_hops_instead_ticks', 'deci_hundredths_vs_tenths',\n",
       "       'deci_incorrect_inequality', 'deci_placing_decimal_points',\n",
       "       'deci_point_location_correct', 'deci_tens_vs_tenths',\n",
       "       'deci_understanding_gt_lt', 'determine_the_frac_part',\n",
       "       'dragging_to_add', 'fraction_of_set', 'hops_vs_ticks', 'how_to_model',\n",
       "       'identifying_gt_lt', 'inequality_symbol',\n",
       "       'inverts_numerator_denominator', 'measuring_tools',\n",
       "       'misplaced_fraction_part_nline', 'mixed_number_quotient',\n",
       "       'mixed_numbers_on_number_line', 'modeled_incorrect_comparison',\n",
       "       'modeling_fraction_division', 'multiplication',\n",
       "       'multiplying_whole_by_proper', 'nline_as_whole',\n",
       "       'numerator_off_by_one_nline', 'only_tenths_entered',\n",
       "       'partially_drawn_parts', 'partitioning_number_line',\n",
       "       'recognizing_the_whole', 'simplify_with_common_denom',\n",
       "       'simplifying_bars_2', 'simplifying_fractions',\n",
       "       'simplifying_mixed_numbers', 'simplifying_mixed_numbers_2',\n",
       "       'simplifying_subtraction', 'simplifying_with_bars',\n",
       "       'starting_from_0_nline', 'using_bars_in_division',\n",
       "       'using_correct_piece', 'None', 'deci_break_tenths_hundredths',\n",
       "       'dragging_to_add_3_circles', 'equally_sized_parts',\n",
       "       'modeled_incorrect_numerator', 'modulo_ans', 'nline_restart_one',\n",
       "       'orange_tick', 'simplifying_answers_nline', 'simplifying_mixed_numbers',\n",
       "       'wrong_number_parts'],\n",
       "      dtype='object')"
      ]
     },
     "execution_count": 96,
     "metadata": {},
     "output_type": "execute_result"
    }
   ],
   "source": [
    "df_traits.columns"
   ]
  },
  {
   "cell_type": "code",
   "execution_count": 97,
   "metadata": {
    "collapsed": true
   },
   "outputs": [],
   "source": [
    "df_traits = df_traits.groupby(df_traits.columns, axis=1).sum()"
   ]
  },
  {
   "cell_type": "code",
   "execution_count": 98,
   "metadata": {
    "collapsed": false
   },
   "outputs": [],
   "source": [
    "#df_traits"
   ]
  },
  {
   "cell_type": "code",
   "execution_count": 99,
   "metadata": {
    "collapsed": false
   },
   "outputs": [],
   "source": [
    "df_traits = df_traits.drop('None', axis=1)"
   ]
  },
  {
   "cell_type": "code",
   "execution_count": 100,
   "metadata": {
    "collapsed": false
   },
   "outputs": [],
   "source": [
    "#df_traits"
   ]
  },
  {
   "cell_type": "code",
   "execution_count": 101,
   "metadata": {
    "collapsed": true
   },
   "outputs": [],
   "source": [
    "import seaborn as sns"
   ]
  },
  {
   "cell_type": "code",
   "execution_count": 102,
   "metadata": {
    "collapsed": false
   },
   "outputs": [],
   "source": [
    "df_traits_dict = df_traits.to_dict()"
   ]
  },
  {
   "cell_type": "code",
   "execution_count": 103,
   "metadata": {
    "collapsed": false
   },
   "outputs": [],
   "source": [
    "df_traits_dict_cluster = df_traits.transpose().to_dict()"
   ]
  },
  {
   "cell_type": "code",
   "execution_count": 104,
   "metadata": {
    "collapsed": false
   },
   "outputs": [],
   "source": [
    "df_traits_dict_cluster_no0 = {}\n",
    "for cluster, trait_dict in df_traits_dict_cluster.items():\n",
    "    # print (cluster, trait_dict)\n",
    "    df_traits_dict_cluster_no0[cluster] = { k:v for k,v in trait_dict.items() if v != 0}"
   ]
  },
  {
   "cell_type": "code",
   "execution_count": 105,
   "metadata": {
    "collapsed": false
   },
   "outputs": [
    {
     "data": {
      "text/plain": [
       "{'comparing_frac_gt_lt': 5,\n",
       " 'inequality_symbol': 2,\n",
       " 'inverts_numerator_denominator': 5,\n",
       " 'measuring_tools': 6,\n",
       " 'orange_tick': 6,\n",
       " 'simplify_with_common_denom': 5}"
      ]
     },
     "execution_count": 105,
     "metadata": {},
     "output_type": "execute_result"
    }
   ],
   "source": [
    "df_traits_dict_cluster_no0[88]"
   ]
  },
  {
   "cell_type": "code",
   "execution_count": 106,
   "metadata": {
    "collapsed": false
   },
   "outputs": [
    {
     "data": {
      "text/plain": [
       "{'dragging_to_add': 32,\n",
       " 'how_to_model': 22,\n",
       " 'multiplying_whole_by_proper': 18,\n",
       " 'recognizing_the_whole': 5,\n",
       " 'simplifying_mixed_numbers': 32,\n",
       " 'simplifying_subtraction': 2}"
      ]
     },
     "execution_count": 106,
     "metadata": {},
     "output_type": "execute_result"
    }
   ],
   "source": [
    "df_traits_dict_cluster_no0[40]"
   ]
  },
  {
   "cell_type": "code",
   "execution_count": 107,
   "metadata": {
    "collapsed": false
   },
   "outputs": [
    {
     "name": "stdout",
     "output_type": "stream",
     "text": [
      "['area_model', 'benchmark_1_2', 'benchmark_quarters', 'comparing_frac_gt_lt', 'counting_hops_for_division', 'counting_hops_not_ticks', 'deci_add_to_model', 'deci_break_tenths_hundredths', 'deci_building_tenths', 'deci_compare_no_models', 'deci_forgot_decimal_point', 'deci_hops_instead_ticks', 'deci_hundredths_vs_tenths', 'deci_incorrect_inequality', 'deci_placing_decimal_points', 'deci_point_location_correct', 'deci_tens_vs_tenths', 'deci_understanding_gt_lt', 'determine_the_frac_part', 'dragging_to_add', 'dragging_to_add_3_circles', 'equally_sized_parts', 'fraction_of_set', 'hops_vs_ticks', 'how_to_model', 'identifying_gt_lt', 'inequality_symbol', 'inverts_numerator_denominator', 'measuring_tools', 'misplaced_fraction_part_nline', 'mixed_number_quotient', 'mixed_numbers_on_number_line', 'modeled_incorrect_comparison', 'modeled_incorrect_numerator', 'modeling_fraction_division', 'modulo_ans', 'multiplication', 'multiplying_whole_by_proper', 'nline_as_whole', 'nline_restart_one', 'numerator_off_by_one_nline', 'only_tenths_entered', 'orange_tick', 'partially_drawn_parts', 'partitioning_number_line', 'recognizing_the_whole', 'simplify_with_common_denom', 'simplifying_answers_nline', 'simplifying_bars_2', 'simplifying_fractions', 'simplifying_mixed_numbers', 'simplifying_mixed_numbers_2', 'simplifying_subtraction', 'simplifying_with_bars', 'starting_from_0_nline', 'using_bars_in_division', 'using_correct_piece', 'wrong_number_parts']\n"
     ]
    }
   ],
   "source": [
    "print (sorted(list(df_traits.columns)))"
   ]
  },
  {
   "cell_type": "code",
   "execution_count": 108,
   "metadata": {
    "collapsed": false
   },
   "outputs": [],
   "source": [
    "temp = (sorted(list(df_traits.columns)))\n",
    "for idx, x in enumerate(temp):\n",
    "    if idx > 0:\n",
    "        if x == temp[idx - 1]:\n",
    "            print (x)"
   ]
  },
  {
   "cell_type": "code",
   "execution_count": 109,
   "metadata": {
    "collapsed": false
   },
   "outputs": [],
   "source": [
    "#df_traits_norm = (df_traits - df_traits.mean()) / (df_traits.max() - df_traits.min())\n",
    "df_traits_norm = (df_traits  / (df_traits.sum()) )"
   ]
  },
  {
   "cell_type": "code",
   "execution_count": 110,
   "metadata": {
    "collapsed": false
   },
   "outputs": [],
   "source": [
    "df_traits_norm = df_traits_norm.applymap( lambda x: 0 if x < 0 else x)"
   ]
  },
  {
   "cell_type": "code",
   "execution_count": 111,
   "metadata": {
    "collapsed": false
   },
   "outputs": [],
   "source": [
    "#df_traits_norm"
   ]
  },
  {
   "cell_type": "code",
   "execution_count": 112,
   "metadata": {
    "collapsed": false
   },
   "outputs": [
    {
     "data": {
      "text/plain": [
       "<matplotlib.axes._subplots.AxesSubplot at 0x120172f28>"
      ]
     },
     "execution_count": 112,
     "metadata": {},
     "output_type": "execute_result"
    },
    {
     "data": {
      "image/png": "[encoded data removed]",
      "text/plain": [
       "<matplotlib.figure.Figure at 0x1206d6a58>"
      ]
     },
     "metadata": {},
     "output_type": "display_data"
    }
   ],
   "source": [
    "fig = plt.figure(figsize=(18.5, 16))\n",
    "cmap = sns.cubehelix_palette(light=.95, as_cmap=True)\n",
    "sns.heatmap(df_traits_norm, cmap=cmap,  linewidths=.5)\n",
    "\n",
    "#sns.heatmap(df_traits_norm, cmap=\"YlGnBu\",  linewidths=.5)"
   ]
  },
  {
   "cell_type": "code",
   "execution_count": 113,
   "metadata": {
    "collapsed": false
   },
   "outputs": [
    {
     "data": {
      "text/plain": [
       "(100, 58)"
      ]
     },
     "execution_count": 113,
     "metadata": {},
     "output_type": "execute_result"
    }
   ],
   "source": [
    "df_traits_norm.shape"
   ]
  },
  {
   "cell_type": "code",
   "execution_count": 114,
   "metadata": {
    "collapsed": false
   },
   "outputs": [],
   "source": [
    "fig.savefig('heat_map_100_2.png')\n"
   ]
  },
  {
   "cell_type": "code",
   "execution_count": 115,
   "metadata": {
    "collapsed": false
   },
   "outputs": [],
   "source": [
    "\n",
    "#df_traits.plot.bar(stacked=True, figsize=(18.5, 16), legend=False)"
   ]
  },
  {
   "cell_type": "code",
   "execution_count": null,
   "metadata": {
    "collapsed": true
   },
   "outputs": [],
   "source": []
  },
  {
   "cell_type": "code",
   "execution_count": 116,
   "metadata": {
    "collapsed": true
   },
   "outputs": [],
   "source": [
    "df_traits.to_csv('cluster_100.csv')"
   ]
  },
  {
   "cell_type": "code",
   "execution_count": null,
   "metadata": {
    "collapsed": true
   },
   "outputs": [],
   "source": []
  },
  {
   "cell_type": "code",
   "execution_count": 117,
   "metadata": {
    "collapsed": false
   },
   "outputs": [],
   "source": [
    "df_traits2 = pd.concat([df3['percent_prob_correct'].groupby(df3['cluster_100']).describe(), df_traits], axis=1)"
   ]
  },
  {
   "cell_type": "code",
   "execution_count": null,
   "metadata": {
    "collapsed": true
   },
   "outputs": [],
   "source": []
  },
  {
   "cell_type": "code",
   "execution_count": 118,
   "metadata": {
    "collapsed": false
   },
   "outputs": [],
   "source": [
    "df_traits2.to_csv('cluster_100_plus_correct.csv')"
   ]
  },
  {
   "cell_type": "code",
   "execution_count": 119,
   "metadata": {
    "collapsed": false
   },
   "outputs": [],
   "source": [
    "df_traits_dict = df_traits.to_dict(orient='dict')"
   ]
  },
  {
   "cell_type": "code",
   "execution_count": 120,
   "metadata": {
    "collapsed": false,
    "scrolled": true
   },
   "outputs": [],
   "source": [
    "#df_traits_dict"
   ]
  },
  {
   "cell_type": "code",
   "execution_count": 121,
   "metadata": {
    "collapsed": false
   },
   "outputs": [],
   "source": [
    "df_traits_dict2 = {}\n",
    "cluster_with_no_trait = list(np.arange(100))\n",
    "cluster_with_lt_10_trait = list(np.arange(100))"
   ]
  },
  {
   "cell_type": "code",
   "execution_count": null,
   "metadata": {
    "collapsed": true
   },
   "outputs": [],
   "source": []
  },
  {
   "cell_type": "code",
   "execution_count": 122,
   "metadata": {
    "collapsed": false
   },
   "outputs": [],
   "source": [
    "for trait in df_traits_dict:\n",
    "    #print (idx, trait)\n",
    "    df_traits_dict2[trait] = {}\n",
    "    for cluster in df_traits_dict[trait]:\n",
    "        #print (trait, cluster, df_traits_dict[trait][cluster])\n",
    "        if  df_traits_dict[trait][cluster] > 0:\n",
    "            df_traits_dict2[trait][cluster] = df_traits_dict[trait][cluster]\n",
    "            if cluster in cluster_with_no_trait:\n",
    "                cluster_with_no_trait.remove(cluster)\n",
    "            if  df_traits_dict[trait][cluster] > 9:\n",
    "                if cluster in cluster_with_lt_10_trait:\n",
    "                    cluster_with_lt_10_trait.remove(cluster)"
   ]
  },
  {
   "cell_type": "code",
   "execution_count": 123,
   "metadata": {
    "collapsed": false,
    "scrolled": false
   },
   "outputs": [
    {
     "name": "stdout",
     "output_type": "stream",
     "text": [
      "{'area_model': {15: 4, 85: 12}, 'benchmark_1_2': {82: 8}, 'benchmark_quarters': {82: 66}, 'comparing_frac_gt_lt': {2: 1, 7: 1, 15: 482, 17: 26, 39: 1, 41: 2, 51: 2, 53: 8, 55: 2, 64: 2, 76: 1, 88: 5, 93: 1, 98: 8}, 'counting_hops_for_division': {0: 36}, 'counting_hops_not_ticks': {94: 892}, 'deci_add_to_model': {85: 113}, 'deci_break_tenths_hundredths': {85: 255}, 'deci_building_tenths': {85: 46}, 'deci_compare_no_models': {8: 1, 25: 1, 83: 1, 85: 156}, 'deci_forgot_decimal_point': {15: 38, 85: 236}, 'deci_hops_instead_ticks': {0: 2, 20: 1, 28: 78, 51: 1, 58: 7, 70: 1, 82: 184}, 'deci_hundredths_vs_tenths': {85: 244}, 'deci_incorrect_inequality': {85: 1282}, 'deci_placing_decimal_points': {30: 405, 85: 3}, 'deci_point_location_correct': {0: 2, 7: 1, 28: 82, 39: 1, 58: 6, 61: 1, 70: 1, 82: 11}, 'deci_tens_vs_tenths': {85: 317}, 'deci_understanding_gt_lt': {85: 1425}, 'determine_the_frac_part': {25: 4, 26: 1, 60: 5, 79: 1, 87: 6}, 'dragging_to_add': {0: 19, 4: 1, 8: 8, 10: 47, 11: 15, 13: 59, 15: 13, 16: 1, 19: 12, 25: 2, 31: 62, 32: 72, 33: 127, 40: 32, 43: 93, 49: 99, 54: 6, 59: 23, 60: 15, 64: 26, 77: 22, 79: 189, 80: 8, 81: 4, 87: 1}, 'dragging_to_add_3_circles': {0: 8, 10: 26, 13: 23, 31: 57, 32: 7, 33: 57, 43: 40, 49: 8, 66: 66}, 'equally_sized_parts': {3: 1, 30: 679}, 'fraction_of_set': {71: 222}, 'hops_vs_ticks': {94: 220}, 'how_to_model': {4: 21, 8: 38, 10: 81, 11: 197, 13: 12, 15: 67, 16: 1, 19: 329, 24: 9, 25: 81, 26: 611, 31: 18, 32: 4, 33: 91, 40: 22, 43: 314, 44: 2, 49: 280, 54: 191, 59: 72, 60: 38, 63: 2, 64: 613, 66: 10, 69: 2, 77: 256, 78: 171, 80: 15, 81: 70, 83: 896, 84: 205, 87: 623, 92: 6}, 'identifying_gt_lt': {15: 2806}, 'inequality_symbol': {2: 1, 7: 1, 12: 1, 17: 27, 23: 1, 25: 1, 27: 2, 33: 2, 35: 3, 36: 5, 51: 11, 52: 1, 53: 16, 54: 2, 55: 7, 62: 1, 65: 4, 67: 6, 76: 1, 87: 4, 88: 2, 89: 1, 90: 675, 93: 4, 98: 9}, 'inverts_numerator_denominator': {1: 5, 2: 5, 3: 1121, 4: 3, 7: 3, 8: 6, 12: 6, 13: 2, 15: 2342, 17: 114, 20: 15, 21: 180, 22: 6, 23: 8, 24: 1, 25: 2, 27: 1, 31: 1, 33: 1, 36: 17, 37: 15, 39: 4, 41: 1, 47: 24, 49: 4, 51: 65, 52: 1, 53: 53, 54: 1, 55: 32, 57: 1, 59: 2, 60: 2, 61: 5, 62: 8, 63: 1, 64: 1, 65: 9, 67: 36, 68: 11, 70: 6, 71: 360, 72: 1, 73: 51, 76: 5, 77: 2, 80: 4, 81: 1, 83: 3, 87: 1, 88: 5, 89: 1, 93: 39, 98: 40, 99: 4}, 'measuring_tools': {23: 3, 28: 328, 51: 3, 56: 1, 58: 47, 67: 2, 70: 1, 75: 43, 88: 6, 89: 1, 91: 20, 93: 4}, 'misplaced_fraction_part_nline': {0: 286, 48: 194}, 'mixed_number_quotient': {71: 5}, 'mixed_numbers_on_number_line': {0: 83}, 'modeled_incorrect_comparison': {1: 26, 5: 1, 7: 35, 12: 4, 15: 7, 20: 3, 23: 16, 27: 146, 29: 35, 36: 27, 37: 2, 47: 19, 51: 2, 55: 111, 57: 1, 61: 20, 62: 4, 65: 29, 67: 63, 68: 9, 70: 9, 73: 17, 74: 84, 89: 2, 93: 1}, 'modeled_incorrect_numerator': {1: 26, 5: 1, 7: 35, 12: 4, 15: 7, 20: 3, 23: 16, 27: 146, 29: 35, 36: 27, 37: 2, 47: 19, 51: 2, 55: 111, 57: 1, 61: 20, 62: 4, 65: 29, 67: 63, 68: 9, 70: 9, 73: 17, 74: 84, 89: 2, 93: 1}, 'modeling_fraction_division': {2: 1, 17: 1, 41: 1, 53: 1}, 'modulo_ans': {0: 8}, 'multiplication': {0: 95, 15: 26}, 'multiplying_whole_by_proper': {13: 40, 15: 3, 24: 5, 31: 40, 32: 41, 40: 18, 54: 9, 60: 9, 66: 15}, 'nline_as_whole': {0: 15, 28: 107, 51: 2, 53: 3, 55: 3, 58: 51, 67: 2, 70: 1, 82: 141}, 'nline_restart_one': {0: 10, 28: 107, 51: 2, 53: 3, 55: 3, 58: 51, 67: 2, 70: 1, 82: 35}, 'numerator_off_by_one_nline': {0: 8}, 'only_tenths_entered': {7: 2, 28: 106, 58: 15, 82: 1, 85: 7}, 'orange_tick': {23: 3, 28: 328, 51: 3, 56: 1, 58: 47, 67: 2, 70: 1, 75: 43, 88: 6, 89: 1, 91: 20, 93: 4}, 'partially_drawn_parts': {3: 1, 30: 679}, 'partitioning_number_line': {94: 398}, 'recognizing_the_whole': {4: 3, 8: 8, 11: 24, 15: 24, 16: 1, 19: 27, 24: 2, 25: 21, 26: 31, 31: 3, 33: 5, 34: 974, 40: 5, 59: 3, 60: 47, 63: 16, 64: 33, 66: 2, 80: 6, 81: 40, 83: 27, 84: 3, 87: 2}, 'simplify_with_common_denom': {0: 242, 17: 6, 25: 2, 43: 1, 51: 7, 53: 2, 55: 1, 60: 1, 67: 4, 88: 5, 93: 1, 96: 16, 98: 1}, 'simplifying_answers_nline': {0: 286, 48: 135}, 'simplifying_bars_2': {0: 11, 12: 4, 20: 31, 29: 7, 36: 53, 37: 5, 42: 2, 47: 6, 55: 39, 61: 9, 62: 77, 65: 3, 67: 8, 68: 4, 73: 21}, 'simplifying_fractions': {0: 71, 8: 3, 15: 9, 25: 8, 31: 1, 33: 1, 54: 3, 65: 1, 87: 5}, 'simplifying_mixed_numbers': {0: 27, 4: 1, 8: 8, 10: 72, 11: 13, 13: 82, 15: 9, 16: 1, 19: 12, 25: 1, 31: 119, 32: 76, 33: 182, 40: 32, 43: 127, 49: 98, 54: 4, 60: 15, 64: 13, 66: 66, 77: 21, 79: 136, 80: 8, 81: 4}, 'simplifying_mixed_numbers_2': {0: 90, 8: 2, 19: 4, 24: 1, 25: 1, 31: 3, 32: 6, 41: 1, 44: 1, 60: 3, 87: 2}, 'simplifying_subtraction': {0: 6, 8: 1, 13: 13, 24: 7, 31: 51, 32: 50, 40: 2, 49: 17, 60: 16, 66: 29}, 'simplifying_with_bars': {1: 2, 5: 1, 12: 6, 20: 29, 27: 26, 36: 14, 55: 33, 61: 18, 62: 49, 65: 12, 67: 7, 68: 12, 70: 12, 72: 1}, 'starting_from_0_nline': {48: 953, 94: 94}, 'using_bars_in_division': {5: 1, 7: 1, 36: 1, 42: 1, 51: 3, 55: 3, 62: 3, 67: 1, 68: 2, 70: 4}, 'using_correct_piece': {1: 1, 2: 1, 7: 10, 12: 1, 18: 16, 23: 1, 27: 16, 29: 24, 36: 4, 38: 1, 42: 9, 47: 1, 53: 12, 55: 14, 57: 3, 61: 1, 65: 2, 67: 8, 70: 1, 89: 3}, 'wrong_number_parts': {94: 398}}\n"
     ]
    }
   ],
   "source": [
    "print (df_traits_dict2)"
   ]
  },
  {
   "cell_type": "code",
   "execution_count": 124,
   "metadata": {
    "collapsed": false
   },
   "outputs": [
    {
     "data": {
      "text/plain": [
       "([6, 9, 14, 45, 46, 50, 86, 95, 97],)"
      ]
     },
     "execution_count": 124,
     "metadata": {},
     "output_type": "execute_result"
    }
   ],
   "source": [
    "cluster_with_no_trait, "
   ]
  },
  {
   "cell_type": "code",
   "execution_count": 125,
   "metadata": {
    "collapsed": false
   },
   "outputs": [
    {
     "data": {
      "text/plain": [
       "9"
      ]
     },
     "execution_count": 125,
     "metadata": {},
     "output_type": "execute_result"
    }
   ],
   "source": [
    "len(cluster_with_no_trait)"
   ]
  },
  {
   "cell_type": "code",
   "execution_count": 126,
   "metadata": {
    "collapsed": false
   },
   "outputs": [
    {
     "data": {
      "text/plain": [
       "31"
      ]
     },
     "execution_count": 126,
     "metadata": {},
     "output_type": "execute_result"
    }
   ],
   "source": [
    "len(cluster_with_lt_10_trait)"
   ]
  },
  {
   "cell_type": "code",
   "execution_count": 127,
   "metadata": {
    "collapsed": false
   },
   "outputs": [],
   "source": [
    "x = list(df_traits.index)"
   ]
  },
  {
   "cell_type": "code",
   "execution_count": 128,
   "metadata": {
    "collapsed": false
   },
   "outputs": [
    {
     "data": {
      "text/plain": [
       "(100, 58)"
      ]
     },
     "execution_count": 128,
     "metadata": {},
     "output_type": "execute_result"
    }
   ],
   "source": [
    "df_traits.shape"
   ]
  },
  {
   "cell_type": "code",
   "execution_count": 129,
   "metadata": {
    "collapsed": false
   },
   "outputs": [],
   "source": [
    "y = df_traits.sum(axis=1)"
   ]
  },
  {
   "cell_type": "code",
   "execution_count": 130,
   "metadata": {
    "collapsed": false
   },
   "outputs": [
    {
     "data": {
      "text/plain": [
       "cluster_100\n",
       "0     1305\n",
       "1       60\n",
       "2        9\n",
       "3     1123\n",
       "4       29\n",
       "5        4\n",
       "6        0\n",
       "7       89\n",
       "8       75\n",
       "9        0\n",
       "10     226\n",
       "11     249\n",
       "12      26\n",
       "13     231\n",
       "14       0\n",
       "15    5837\n",
       "16       4\n",
       "17     174\n",
       "18      16\n",
       "19     384\n",
       "20      82\n",
       "21     180\n",
       "22       6\n",
       "23      48\n",
       "24      25\n",
       "25     124\n",
       "26     643\n",
       "27     337\n",
       "28    1136\n",
       "29     101\n",
       "      ... \n",
       "70      47\n",
       "71     587\n",
       "72       2\n",
       "73     106\n",
       "74     168\n",
       "75      86\n",
       "76       7\n",
       "77     301\n",
       "78     171\n",
       "79     326\n",
       "80      41\n",
       "81     119\n",
       "82     446\n",
       "83     927\n",
       "84     208\n",
       "85    4096\n",
       "86       0\n",
       "87     644\n",
       "88      29\n",
       "89      11\n",
       "90     675\n",
       "91      40\n",
       "92       6\n",
       "93      55\n",
       "94    2002\n",
       "95       0\n",
       "96      16\n",
       "97       0\n",
       "98      58\n",
       "99       4\n",
       "Length: 100, dtype: int64"
      ]
     },
     "execution_count": 130,
     "metadata": {},
     "output_type": "execute_result"
    }
   ],
   "source": [
    "y"
   ]
  },
  {
   "cell_type": "code",
   "execution_count": 131,
   "metadata": {
    "collapsed": false
   },
   "outputs": [
    {
     "data": {
      "text/plain": [
       "<Container object of 100 artists>"
      ]
     },
     "execution_count": 131,
     "metadata": {},
     "output_type": "execute_result"
    },
    {
     "data": {
      "image/png": "[encoded data removed]",
      "text/plain": [
       "<matplotlib.figure.Figure at 0x121312978>"
      ]
     },
     "metadata": {},
     "output_type": "display_data"
    }
   ],
   "source": [
    "\n",
    "plt.bar( x, y)\n"
   ]
  },
  {
   "cell_type": "code",
   "execution_count": 132,
   "metadata": {
    "collapsed": false
   },
   "outputs": [
    {
     "data": {
      "text/plain": [
       "<matplotlib.text.Text at 0x121b55390>"
      ]
     },
     "execution_count": 132,
     "metadata": {},
     "output_type": "execute_result"
    },
    {
     "data": {
      "image/png": "[encoded data removed]",
      "text/plain": [
       "<matplotlib.figure.Figure at 0x121a41128>"
      ]
     },
     "metadata": {},
     "output_type": "display_data"
    }
   ],
   "source": [
    "fig, ax = plt.subplots()\n",
    "\n",
    "rects1 = ax.bar(x, y, color='b')\n",
    "ax.set_xlabel('Cluster number')\n",
    "ax.set_ylabel('Responses with trait at this cluster')\n",
    "ax.set_title('Traits per cluster')\n",
    "\n"
   ]
  },
  {
   "cell_type": "code",
   "execution_count": 133,
   "metadata": {
    "collapsed": false
   },
   "outputs": [],
   "source": [
    "counts_per_cluster = np.bincount(km.labels_)"
   ]
  },
  {
   "cell_type": "code",
   "execution_count": 134,
   "metadata": {
    "collapsed": false
   },
   "outputs": [
    {
     "name": "stdout",
     "output_type": "stream",
     "text": [
      "[ 2730   757   647  1122   246   446    13   514   341   425   276   835\n",
      "  1013   284   251 14179   285  1817    38  1302   135  2290   379   317\n",
      "   125  2597  1265   858  2328  1025  2235   470   483   636  2293   581\n",
      "   345   628    80   431   283   651   262   736   138  1837   855   302\n",
      "  3968   622   269  1053   637  1042   500  1016   622   262  1149   283\n",
      "   481   457   333   921  1399  1069   149  1006   374    53   197  1840\n",
      "    70   247  1903  1143   470   580   346   747   303   583  1246  1487\n",
      "   284  7886    72  1963   414   539   926   272    39   721  4290     1\n",
      "   199   717   374   390]\n"
     ]
    }
   ],
   "source": [
    "print (counts_per_cluster)"
   ]
  },
  {
   "cell_type": "code",
   "execution_count": 135,
   "metadata": {
    "collapsed": false
   },
   "outputs": [],
   "source": [
    "counts_per_cluster = list(counts_per_cluster)"
   ]
  },
  {
   "cell_type": "code",
   "execution_count": 136,
   "metadata": {
    "collapsed": false
   },
   "outputs": [],
   "source": [
    "counts_per_cluster = [x for x in counts_per_cluster if x != 0]"
   ]
  },
  {
   "cell_type": "code",
   "execution_count": 137,
   "metadata": {
    "collapsed": true
   },
   "outputs": [],
   "source": [
    "counts_per_cluster = np.array(counts_per_cluster)"
   ]
  },
  {
   "cell_type": "code",
   "execution_count": 138,
   "metadata": {
    "collapsed": false
   },
   "outputs": [],
   "source": [
    "y1 = y / counts_per_cluster"
   ]
  },
  {
   "cell_type": "code",
   "execution_count": 139,
   "metadata": {
    "collapsed": false
   },
   "outputs": [],
   "source": [
    "#y"
   ]
  },
  {
   "cell_type": "code",
   "execution_count": null,
   "metadata": {
    "collapsed": true
   },
   "outputs": [],
   "source": []
  },
  {
   "cell_type": "code",
   "execution_count": null,
   "metadata": {
    "collapsed": true
   },
   "outputs": [],
   "source": []
  },
  {
   "cell_type": "code",
   "execution_count": null,
   "metadata": {
    "collapsed": true
   },
   "outputs": [],
   "source": []
  },
  {
   "cell_type": "code",
   "execution_count": 140,
   "metadata": {
    "collapsed": false
   },
   "outputs": [
    {
     "data": {
      "text/plain": [
       "<matplotlib.text.Text at 0x122385630>"
      ]
     },
     "execution_count": 140,
     "metadata": {},
     "output_type": "execute_result"
    },
    {
     "data": {
      "image/png": "[encoded data removed]",
      "text/plain": [
       "<matplotlib.figure.Figure at 0x1219ebcf8>"
      ]
     },
     "metadata": {},
     "output_type": "display_data"
    }
   ],
   "source": [
    "fig, ax = plt.subplots()\n",
    "\n",
    "rects1 = ax.bar(x, y1, color='b')\n",
    "ax.set_xlabel('Cluster number')\n",
    "ax.set_ylabel('Responses with trait at this cluster/ total response at cluster')\n",
    "ax.set_title('Traits per cluster')"
   ]
  },
  {
   "cell_type": "code",
   "execution_count": 141,
   "metadata": {
    "collapsed": true
   },
   "outputs": [],
   "source": [
    "df_traits2p = df_traits2.copy()"
   ]
  },
  {
   "cell_type": "code",
   "execution_count": 142,
   "metadata": {
    "collapsed": false
   },
   "outputs": [],
   "source": [
    "df_traits2p['num_correct_true'] = df3.groupby('cluster_100')['correct'].apply(lambda x: (x==True).sum())"
   ]
  },
  {
   "cell_type": "code",
   "execution_count": 143,
   "metadata": {
    "collapsed": true
   },
   "outputs": [],
   "source": [
    "df_traits2p['percent_correct_true'] = (df_traits2p['num_correct_true']/df_traits2p['count'])*100.0"
   ]
  },
  {
   "cell_type": "code",
   "execution_count": 144,
   "metadata": {
    "collapsed": false
   },
   "outputs": [],
   "source": [
    "df_traits2p.drop('num_correct_true', axis=1, inplace=True)"
   ]
  },
  {
   "cell_type": "code",
   "execution_count": 145,
   "metadata": {
    "collapsed": false
   },
   "outputs": [],
   "source": [
    "#df_traits2p"
   ]
  },
  {
   "cell_type": "code",
   "execution_count": 146,
   "metadata": {
    "collapsed": false
   },
   "outputs": [],
   "source": [
    "#df_traits2"
   ]
  },
  {
   "cell_type": "code",
   "execution_count": 147,
   "metadata": {
    "collapsed": true
   },
   "outputs": [],
   "source": [
    "df_percent_prob_correct = df_traits2['mean']"
   ]
  },
  {
   "cell_type": "code",
   "execution_count": 148,
   "metadata": {
    "collapsed": false
   },
   "outputs": [
    {
     "data": {
      "text/plain": [
       "<matplotlib.axes._subplots.AxesSubplot at 0x122494400>"
      ]
     },
     "execution_count": 148,
     "metadata": {},
     "output_type": "execute_result"
    },
    {
     "data": {
      "image/png": "[encoded data removed]",
      "text/plain": [
       "<matplotlib.figure.Figure at 0x122ae1cc0>"
      ]
     },
     "metadata": {},
     "output_type": "display_data"
    }
   ],
   "source": [
    "df_percent_prob_correct.plot.bar(figsize=(17,12), title='Percent problems correct in a lesson per cluster')"
   ]
  },
  {
   "cell_type": "code",
   "execution_count": 149,
   "metadata": {
    "collapsed": false
   },
   "outputs": [],
   "source": [
    "df_percent_correct_true = df_traits2p['percent_correct_true']"
   ]
  },
  {
   "cell_type": "code",
   "execution_count": 150,
   "metadata": {
    "collapsed": false
   },
   "outputs": [
    {
     "data": {
      "text/plain": [
       "<matplotlib.axes._subplots.AxesSubplot at 0x122d5a4e0>"
      ]
     },
     "execution_count": 150,
     "metadata": {},
     "output_type": "execute_result"
    },
    {
     "data": {
      "image/png": "[encoded data removed]",
      "text/plain": [
       "<matplotlib.figure.Figure at 0x12135cb00>"
      ]
     },
     "metadata": {},
     "output_type": "display_data"
    }
   ],
   "source": [
    "df_percent_correct_true.plot.bar(figsize=(17,12), title='Percent correct=True per cluster')"
   ]
  },
  {
   "cell_type": "code",
   "execution_count": 151,
   "metadata": {
    "collapsed": true
   },
   "outputs": [],
   "source": [
    "df_sample_size = df_traits2p['count']"
   ]
  },
  {
   "cell_type": "code",
   "execution_count": 152,
   "metadata": {
    "collapsed": false
   },
   "outputs": [
    {
     "data": {
      "text/plain": [
       "<matplotlib.axes._subplots.AxesSubplot at 0x117be4f98>"
      ]
     },
     "execution_count": 152,
     "metadata": {},
     "output_type": "execute_result"
    },
    {
     "data": {
      "image/png": "[encoded data removed]",
      "text/plain": [
       "<matplotlib.figure.Figure at 0x122d472e8>"
      ]
     },
     "metadata": {},
     "output_type": "display_data"
    }
   ],
   "source": [
    "df_sample_size.plot.bar(figsize=(17,12), title='Samples per cluster, 100K data points')"
   ]
  },
  {
   "cell_type": "code",
   "execution_count": null,
   "metadata": {
    "collapsed": true
   },
   "outputs": [],
   "source": []
  },
  {
   "cell_type": "code",
   "execution_count": 153,
   "metadata": {
    "collapsed": false
   },
   "outputs": [],
   "source": [
    "df_trait_dict = df_traits.transpose().to_dict()"
   ]
  },
  {
   "cell_type": "code",
   "execution_count": 154,
   "metadata": {
    "collapsed": false
   },
   "outputs": [],
   "source": [
    "df_trait_dict_new = defaultdict()\n",
    "for cluster in df_trait_dict:\n",
    "    # print (cluster,df_trait_dict[cluster])\n",
    "    df_trait_dict_new[cluster] = defaultdict()\n",
    "    for trait in df_trait_dict[cluster]:\n",
    "        # print (trait, df_trait_dict[cluster][trait])\n",
    "        if df_trait_dict[cluster][trait] != 0:\n",
    "            df_trait_dict_new[cluster][trait] = df_trait_dict[cluster][trait]\n",
    "        "
   ]
  },
  {
   "cell_type": "code",
   "execution_count": 155,
   "metadata": {
    "collapsed": false
   },
   "outputs": [],
   "source": [
    "#df_trait_dict_new"
   ]
  },
  {
   "cell_type": "code",
   "execution_count": 156,
   "metadata": {
    "collapsed": false
   },
   "outputs": [],
   "source": [
    "sums = df_traits.sum()"
   ]
  },
  {
   "cell_type": "code",
   "execution_count": 157,
   "metadata": {
    "collapsed": false
   },
   "outputs": [],
   "source": [
    "df_traits_pct = df_traits/sums * 100.0"
   ]
  },
  {
   "cell_type": "code",
   "execution_count": 158,
   "metadata": {
    "collapsed": false
   },
   "outputs": [
    {
     "data": {
      "text/plain": [
       "<matplotlib.text.Text at 0x11bdfeac8>"
      ]
     },
     "execution_count": 158,
     "metadata": {},
     "output_type": "execute_result"
    },
    {
     "data": {
      "image/png": "[encoded data removed]",
      "text/plain": [
       "<matplotlib.figure.Figure at 0x118c81390>"
      ]
     },
     "metadata": {},
     "output_type": "display_data"
    }
   ],
   "source": [
    "ax = df_traits_pct.plot.bar(stacked=True, figsize=(18.5, 16), legend=False, title='Per Trait (Color is Trait) percent (of 100%) at Each Cluster')\n",
    "ax.set_ylabel(\"Percent (of 100) of trait\")"
   ]
  },
  {
   "cell_type": "code",
   "execution_count": null,
   "metadata": {
    "collapsed": true
   },
   "outputs": [],
   "source": []
  },
  {
   "cell_type": "code",
   "execution_count": 159,
   "metadata": {
    "collapsed": false
   },
   "outputs": [],
   "source": [
    "df_traits_pct_dict = df_traits_pct.transpose().to_dict()"
   ]
  },
  {
   "cell_type": "code",
   "execution_count": 160,
   "metadata": {
    "collapsed": false
   },
   "outputs": [],
   "source": [
    "df_traits_pct_dict_new = defaultdict()"
   ]
  },
  {
   "cell_type": "code",
   "execution_count": 161,
   "metadata": {
    "collapsed": false
   },
   "outputs": [],
   "source": [
    "for cluster in df_traits_pct_dict:\n",
    "    #print (cluster,df_traits_pct_dict[cluster])\n",
    "    df_traits_pct_dict_new[cluster] = defaultdict()\n",
    "    for trait in df_traits_pct_dict[cluster]:\n",
    "        # print (trait, df_traits_pct_dict[cluster][trait])\n",
    "        if df_traits_pct_dict[cluster][trait] > 5:\n",
    "            df_traits_pct_dict_new[cluster][trait] = df_traits_pct_dict[cluster][trait]\n",
    "        "
   ]
  },
  {
   "cell_type": "code",
   "execution_count": 162,
   "metadata": {
    "collapsed": false,
    "scrolled": false
   },
   "outputs": [
    {
     "name": "stdout",
     "output_type": "stream",
     "text": [
      "Cluster 0 -- count of samples in this cluster 2730.0\n",
      " -- counting_hops_for_division : 100.0\n",
      " -- misplaced_fraction_part_nline : 59.6\n",
      " -- mixed_numbers_on_number_line : 100.0\n",
      " -- modulo_ans : 100.0\n",
      " -- multiplication : 78.5\n",
      " -- numerator_off_by_one_nline : 100.0\n",
      " -- simplify_with_common_denom : 83.7\n",
      " -- simplifying_answers_nline : 67.9\n",
      " -- simplifying_fractions : 69.6\n",
      " -- simplifying_mixed_numbers_2 : 78.9\n",
      "Cluster 1 -- count of samples in this cluster 757.0\n",
      "None\n",
      "Cluster 2 -- count of samples in this cluster 647.0\n",
      " -- modeling_fraction_division : 25.0\n",
      "Cluster 3 -- count of samples in this cluster 1122.0\n",
      " -- inverts_numerator_denominator : 24.2\n",
      "Cluster 4 -- count of samples in this cluster 246.0\n",
      "None\n",
      "Cluster 5 -- count of samples in this cluster 446.0\n",
      "None\n",
      "Cluster 6 -- count of samples in this cluster 13.0\n",
      "None\n",
      "Cluster 7 -- count of samples in this cluster 514.0\n",
      " -- modeled_incorrect_comparison : 5.2\n",
      " -- modeled_incorrect_numerator : 5.2\n",
      " -- using_correct_piece : 7.8\n",
      "Cluster 8 -- count of samples in this cluster 341.0\n",
      "None\n",
      "Cluster 9 -- count of samples in this cluster 425.0\n",
      "None\n",
      "Cluster 10 -- count of samples in this cluster 276.0\n",
      " -- dragging_to_add_3_circles : 8.9\n",
      " -- simplifying_mixed_numbers : 6.4\n",
      "Cluster 11 -- count of samples in this cluster 835.0\n",
      "None\n",
      "Cluster 12 -- count of samples in this cluster 1013.0\n",
      "None\n",
      "Cluster 13 -- count of samples in this cluster 284.0\n",
      " -- dragging_to_add : 6.2\n",
      " -- dragging_to_add_3_circles : 7.9\n",
      " -- multiplying_whole_by_proper : 22.2\n",
      " -- simplifying_mixed_numbers : 7.3\n",
      " -- simplifying_subtraction : 6.8\n",
      "Cluster 14 -- count of samples in this cluster 251.0\n",
      "None\n",
      "Cluster 15 -- count of samples in this cluster 14179.0\n",
      " -- area_model : 25.0\n",
      " -- comparing_frac_gt_lt : 88.9\n",
      " -- deci_forgot_decimal_point : 13.9\n",
      " -- identifying_gt_lt : 100.0\n",
      " -- inverts_numerator_denominator : 50.5\n",
      " -- multiplication : 21.5\n",
      " -- simplifying_fractions : 8.8\n",
      "Cluster 16 -- count of samples in this cluster 285.0\n",
      "None\n",
      "Cluster 17 -- count of samples in this cluster 1817.0\n",
      " -- modeling_fraction_division : 25.0\n",
      "Cluster 18 -- count of samples in this cluster 38.0\n",
      " -- using_correct_piece : 12.4\n",
      "Cluster 19 -- count of samples in this cluster 1302.0\n",
      " -- how_to_model : 6.2\n",
      "Cluster 20 -- count of samples in this cluster 135.0\n",
      " -- simplifying_bars_2 : 11.1\n",
      " -- simplifying_with_bars : 13.1\n",
      "Cluster 21 -- count of samples in this cluster 2290.0\n",
      "None\n",
      "Cluster 22 -- count of samples in this cluster 379.0\n",
      "None\n",
      "Cluster 23 -- count of samples in this cluster 317.0\n",
      "None\n",
      "Cluster 24 -- count of samples in this cluster 125.0\n",
      "None\n",
      "Cluster 25 -- count of samples in this cluster 2597.0\n",
      " -- determine_the_frac_part : 23.5\n",
      " -- simplifying_fractions : 7.8\n",
      "Cluster 26 -- count of samples in this cluster 1265.0\n",
      " -- determine_the_frac_part : 5.9\n",
      " -- how_to_model : 11.4\n",
      "Cluster 27 -- count of samples in this cluster 858.0\n",
      " -- modeled_incorrect_comparison : 21.7\n",
      " -- modeled_incorrect_numerator : 21.7\n",
      " -- simplifying_with_bars : 11.7\n",
      " -- using_correct_piece : 12.4\n",
      "Cluster 28 -- count of samples in this cluster 2328.0\n",
      " -- deci_hops_instead_ticks : 28.5\n",
      " -- deci_point_location_correct : 78.1\n",
      " -- measuring_tools : 71.5\n",
      " -- nline_as_whole : 32.9\n",
      " -- nline_restart_one : 50.0\n",
      " -- only_tenths_entered : 80.9\n",
      " -- orange_tick : 71.5\n",
      "Cluster 29 -- count of samples in this cluster 1025.0\n",
      " -- modeled_incorrect_comparison : 5.2\n",
      " -- modeled_incorrect_numerator : 5.2\n",
      " -- using_correct_piece : 18.6\n",
      "Cluster 30 -- count of samples in this cluster 2235.0\n",
      " -- deci_placing_decimal_points : 99.3\n",
      " -- equally_sized_parts : 99.9\n",
      " -- partially_drawn_parts : 99.9\n",
      "Cluster 31 -- count of samples in this cluster 470.0\n",
      " -- dragging_to_add : 6.5\n",
      " -- dragging_to_add_3_circles : 19.5\n",
      " -- multiplying_whole_by_proper : 22.2\n",
      " -- simplifying_mixed_numbers : 10.6\n",
      " -- simplifying_subtraction : 26.6\n",
      "Cluster 32 -- count of samples in this cluster 483.0\n",
      " -- dragging_to_add : 7.5\n",
      " -- multiplying_whole_by_proper : 22.8\n",
      " -- simplifying_mixed_numbers : 6.7\n",
      " -- simplifying_mixed_numbers_2 : 5.3\n",
      " -- simplifying_subtraction : 26.0\n",
      "Cluster 33 -- count of samples in this cluster 636.0\n",
      " -- dragging_to_add : 13.3\n",
      " -- dragging_to_add_3_circles : 19.5\n",
      " -- simplifying_mixed_numbers : 16.1\n",
      "Cluster 34 -- count of samples in this cluster 2293.0\n",
      " -- recognizing_the_whole : 74.5\n",
      "Cluster 35 -- count of samples in this cluster 581.0\n",
      "None\n",
      "Cluster 36 -- count of samples in this cluster 345.0\n",
      " -- simplifying_bars_2 : 18.9\n",
      " -- simplifying_with_bars : 6.3\n",
      "Cluster 37 -- count of samples in this cluster 628.0\n",
      "None\n",
      "Cluster 38 -- count of samples in this cluster 80.0\n",
      "None\n",
      "Cluster 39 -- count of samples in this cluster 431.0\n",
      "None\n",
      "Cluster 40 -- count of samples in this cluster 283.0\n",
      " -- multiplying_whole_by_proper : 10.0\n",
      "Cluster 41 -- count of samples in this cluster 651.0\n",
      " -- modeling_fraction_division : 25.0\n",
      "Cluster 42 -- count of samples in this cluster 262.0\n",
      " -- using_correct_piece : 7.0\n",
      "Cluster 43 -- count of samples in this cluster 736.0\n",
      " -- dragging_to_add : 9.7\n",
      " -- dragging_to_add_3_circles : 13.7\n",
      " -- how_to_model : 5.9\n",
      " -- simplifying_mixed_numbers : 11.3\n",
      "Cluster 44 -- count of samples in this cluster 138.0\n",
      "None\n",
      "Cluster 45 -- count of samples in this cluster 1837.0\n",
      "None\n",
      "Cluster 46 -- count of samples in this cluster 855.0\n",
      "None\n",
      "Cluster 47 -- count of samples in this cluster 302.0\n",
      "None\n",
      "Cluster 48 -- count of samples in this cluster 3968.0\n",
      " -- misplaced_fraction_part_nline : 40.4\n",
      " -- simplifying_answers_nline : 32.1\n",
      " -- starting_from_0_nline : 91.0\n",
      "Cluster 49 -- count of samples in this cluster 622.0\n",
      " -- dragging_to_add : 10.4\n",
      " -- how_to_model : 5.2\n",
      " -- simplifying_mixed_numbers : 8.7\n",
      " -- simplifying_subtraction : 8.9\n",
      "Cluster 50 -- count of samples in this cluster 269.0\n",
      "None\n",
      "Cluster 51 -- count of samples in this cluster 1053.0\n",
      " -- using_bars_in_division : 15.0\n",
      "Cluster 52 -- count of samples in this cluster 637.0\n",
      "None\n",
      "Cluster 53 -- count of samples in this cluster 1042.0\n",
      " -- modeling_fraction_division : 25.0\n",
      " -- using_correct_piece : 9.3\n",
      "Cluster 54 -- count of samples in this cluster 500.0\n",
      "None\n",
      "Cluster 55 -- count of samples in this cluster 1016.0\n",
      " -- modeled_incorrect_comparison : 16.5\n",
      " -- modeled_incorrect_numerator : 16.5\n",
      " -- simplifying_bars_2 : 13.9\n",
      " -- simplifying_with_bars : 14.9\n",
      " -- using_bars_in_division : 15.0\n",
      " -- using_correct_piece : 10.9\n",
      "Cluster 56 -- count of samples in this cluster 622.0\n",
      "None\n",
      "Cluster 57 -- count of samples in this cluster 262.0\n",
      "None\n",
      "Cluster 58 -- count of samples in this cluster 1149.0\n",
      " -- deci_point_location_correct : 5.7\n",
      " -- measuring_tools : 10.2\n",
      " -- nline_as_whole : 15.7\n",
      " -- nline_restart_one : 23.8\n",
      " -- only_tenths_entered : 11.5\n",
      " -- orange_tick : 10.2\n",
      "Cluster 59 -- count of samples in this cluster 283.0\n",
      "None\n",
      "Cluster 60 -- count of samples in this cluster 481.0\n",
      " -- determine_the_frac_part : 29.4\n",
      " -- simplifying_subtraction : 8.3\n",
      "Cluster 61 -- count of samples in this cluster 457.0\n",
      " -- simplifying_with_bars : 8.1\n",
      "Cluster 62 -- count of samples in this cluster 333.0\n",
      " -- simplifying_bars_2 : 27.5\n",
      " -- simplifying_with_bars : 22.1\n",
      " -- using_bars_in_division : 15.0\n",
      "Cluster 63 -- count of samples in this cluster 921.0\n",
      "None\n",
      "Cluster 64 -- count of samples in this cluster 1399.0\n",
      " -- how_to_model : 11.5\n",
      "Cluster 65 -- count of samples in this cluster 1069.0\n",
      " -- simplifying_with_bars : 5.4\n",
      "Cluster 66 -- count of samples in this cluster 149.0\n",
      " -- dragging_to_add_3_circles : 22.6\n",
      " -- multiplying_whole_by_proper : 8.3\n",
      " -- simplifying_mixed_numbers : 5.9\n",
      " -- simplifying_subtraction : 15.1\n",
      "Cluster 67 -- count of samples in this cluster 1006.0\n",
      " -- modeled_incorrect_comparison : 9.4\n",
      " -- modeled_incorrect_numerator : 9.4\n",
      " -- using_correct_piece : 6.2\n",
      "Cluster 68 -- count of samples in this cluster 374.0\n",
      " -- simplifying_with_bars : 5.4\n",
      " -- using_bars_in_division : 10.0\n",
      "Cluster 69 -- count of samples in this cluster 53.0\n",
      "None\n",
      "Cluster 70 -- count of samples in this cluster 197.0\n",
      " -- simplifying_with_bars : 5.4\n",
      " -- using_bars_in_division : 20.0\n",
      "Cluster 71 -- count of samples in this cluster 1840.0\n",
      " -- fraction_of_set : 100.0\n",
      " -- inverts_numerator_denominator : 7.8\n",
      " -- mixed_number_quotient : 100.0\n",
      "Cluster 72 -- count of samples in this cluster 70.0\n",
      "None\n",
      "Cluster 73 -- count of samples in this cluster 247.0\n",
      " -- simplifying_bars_2 : 7.5\n",
      "Cluster 74 -- count of samples in this cluster 1903.0\n",
      " -- modeled_incorrect_comparison : 12.5\n",
      " -- modeled_incorrect_numerator : 12.5\n",
      "Cluster 75 -- count of samples in this cluster 1143.0\n",
      " -- measuring_tools : 9.4\n",
      " -- orange_tick : 9.4\n",
      "Cluster 76 -- count of samples in this cluster 470.0\n",
      "None\n",
      "Cluster 77 -- count of samples in this cluster 580.0\n",
      "None\n",
      "Cluster 78 -- count of samples in this cluster 346.0\n",
      "None\n",
      "Cluster 79 -- count of samples in this cluster 747.0\n",
      " -- determine_the_frac_part : 5.9\n",
      " -- dragging_to_add : 19.8\n",
      " -- simplifying_mixed_numbers : 12.1\n",
      "Cluster 80 -- count of samples in this cluster 303.0\n",
      "None\n",
      "Cluster 81 -- count of samples in this cluster 583.0\n",
      "None\n",
      "Cluster 82 -- count of samples in this cluster 1246.0\n",
      " -- benchmark_1_2 : 100.0\n",
      " -- benchmark_quarters : 100.0\n",
      " -- deci_hops_instead_ticks : 67.2\n",
      " -- deci_point_location_correct : 10.5\n",
      " -- nline_as_whole : 43.4\n",
      " -- nline_restart_one : 16.4\n",
      "Cluster 83 -- count of samples in this cluster 1487.0\n",
      " -- how_to_model : 16.8\n",
      "Cluster 84 -- count of samples in this cluster 284.0\n",
      "None\n",
      "Cluster 85 -- count of samples in this cluster 7886.0\n",
      " -- area_model : 75.0\n",
      " -- deci_add_to_model : 100.0\n",
      " -- deci_break_tenths_hundredths : 100.0\n",
      " -- deci_building_tenths : 100.0\n",
      " -- deci_compare_no_models : 98.1\n",
      " -- deci_forgot_decimal_point : 86.1\n",
      " -- deci_hundredths_vs_tenths : 100.0\n",
      " -- deci_incorrect_inequality : 100.0\n",
      " -- deci_tens_vs_tenths : 100.0\n",
      " -- deci_understanding_gt_lt : 100.0\n",
      " -- only_tenths_entered : 5.3\n",
      "Cluster 86 -- count of samples in this cluster 72.0\n",
      "None\n",
      "Cluster 87 -- count of samples in this cluster 1963.0\n",
      " -- determine_the_frac_part : 35.3\n",
      " -- how_to_model : 11.6\n",
      "Cluster 88 -- count of samples in this cluster 414.0\n",
      "None\n",
      "Cluster 89 -- count of samples in this cluster 539.0\n",
      "None\n",
      "Cluster 90 -- count of samples in this cluster 926.0\n",
      " -- inequality_symbol : 85.7\n",
      "Cluster 91 -- count of samples in this cluster 272.0\n",
      "None\n",
      "Cluster 92 -- count of samples in this cluster 39.0\n",
      "None\n",
      "Cluster 93 -- count of samples in this cluster 721.0\n",
      "None\n",
      "Cluster 94 -- count of samples in this cluster 4290.0\n",
      " -- counting_hops_not_ticks : 100.0\n",
      " -- hops_vs_ticks : 100.0\n",
      " -- partitioning_number_line : 100.0\n",
      " -- starting_from_0_nline : 9.0\n",
      " -- wrong_number_parts : 100.0\n",
      "Cluster 95 -- count of samples in this cluster 1.0\n",
      "None\n",
      "Cluster 96 -- count of samples in this cluster 199.0\n",
      " -- simplify_with_common_denom : 5.5\n",
      "Cluster 97 -- count of samples in this cluster 717.0\n",
      "None\n",
      "Cluster 98 -- count of samples in this cluster 374.0\n",
      "None\n",
      "Cluster 99 -- count of samples in this cluster 390.0\n",
      "None\n"
     ]
    }
   ],
   "source": [
    "for key in df_traits_pct_dict_new:\n",
    "    print (\"Cluster {0} -- count of samples in this cluster {1}\".format(key, df_traits2.iloc[key]['count']))\n",
    "    if len(df_traits_pct_dict_new[key]) < 1:\n",
    "        print (\"None\")\n",
    "    else:\n",
    "        for trait in df_traits_pct_dict_new[key]:\n",
    "            print (' -- ' + str(trait) + ' : '  + \"{0:.1f}\".format(df_traits_pct_dict_new[key][trait]))"
   ]
  },
  {
   "cell_type": "code",
   "execution_count": null,
   "metadata": {
    "collapsed": true
   },
   "outputs": [],
   "source": []
  },
  {
   "cell_type": "code",
   "execution_count": null,
   "metadata": {
    "collapsed": true
   },
   "outputs": [],
   "source": []
  },
  {
   "cell_type": "code",
   "execution_count": null,
   "metadata": {
    "collapsed": true
   },
   "outputs": [],
   "source": []
  },
  {
   "cell_type": "code",
   "execution_count": null,
   "metadata": {
    "collapsed": true
   },
   "outputs": [],
   "source": []
  }
 ],
 "metadata": {
  "anaconda-cloud": {},
  "kernelspec": {
   "display_name": "Python [conda env:hwenv]",
   "language": "python",
   "name": "conda-env-hwenv-py"
  },
  "language_info": {
   "codemirror_mode": {
    "name": "ipython",
    "version": 3
   },
   "file_extension": ".py",
   "mimetype": "text/x-python",
   "name": "python",
   "nbconvert_exporter": "python",
   "pygments_lexer": "ipython3",
   "version": "3.6.2"
  }
 },
 "nbformat": 4,
 "nbformat_minor": 1
}
