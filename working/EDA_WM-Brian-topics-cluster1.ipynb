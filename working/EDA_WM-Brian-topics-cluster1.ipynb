{
 "cells": [
  {
   "cell_type": "code",
   "execution_count": 1,
   "metadata": {
    "collapsed": false
   },
   "outputs": [],
   "source": [
    "import pymongo\n",
    "import pandas as pd\n",
    "import numpy as np\n",
    "\n",
    "from pymongo import MongoClient\n",
    "from bson.objectid import ObjectId\n",
    "\n",
    "import datetime\n",
    "\n",
    "import matplotlib.pyplot as plt\n",
    "\n",
    "from collections import defaultdict\n",
    "\n",
    "\n",
    "%matplotlib inline\n",
    "import json\n",
    "plt.style.use('ggplot')\n",
    "\n",
    "import seaborn as sns\n",
    "\n",
    "from math import log10, floor"
   ]
  },
  {
   "cell_type": "code",
   "execution_count": 2,
   "metadata": {
    "collapsed": false
   },
   "outputs": [
    {
     "name": "stdout",
     "output_type": "stream",
     "text": [
      "Setup db access\n"
     ]
    }
   ],
   "source": [
    "## Connect to local DB\n",
    "\n",
    "client = MongoClient('localhost', 27017)\n",
    "print (\"Setup db access\")"
   ]
  },
  {
   "cell_type": "code",
   "execution_count": 3,
   "metadata": {
    "collapsed": false
   },
   "outputs": [],
   "source": [
    "#\n",
    "# Get collections from mongodb\n",
    "#\n",
    "#db = client.my_test_db\n",
    "db = client.test\n"
   ]
  },
  {
   "cell_type": "code",
   "execution_count": 4,
   "metadata": {
    "collapsed": true
   },
   "outputs": [],
   "source": [
    "chunk = 100000\n",
    "start = 0\n",
    "end = start + chunk"
   ]
  },
  {
   "cell_type": "code",
   "execution_count": 5,
   "metadata": {
    "collapsed": true
   },
   "outputs": [],
   "source": [
    "reponses = db.anon_student_task_responses.find()[start:end]"
   ]
  },
  {
   "cell_type": "code",
   "execution_count": 6,
   "metadata": {
    "collapsed": false
   },
   "outputs": [],
   "source": [
    "df_responses = pd.DataFrame(list(reponses))"
   ]
  },
  {
   "cell_type": "code",
   "execution_count": 7,
   "metadata": {
    "collapsed": false
   },
   "outputs": [
    {
     "name": "stdout",
     "output_type": "stream",
     "text": [
      "                        _id               behavioral_traits  bonus  correct  \\\n",
      "0  5a00f1739100de1a390000d0                              []  False     True   \n",
      "1  5a00f1739100de1a390000d5  [measuring_tools, orange_tick]  False     True   \n",
      "2  5a00f1739100de1a390000d9                              []  False     True   \n",
      "3  5a00f1739100de1a390000dc                              []  False     True   \n",
      "4  5a00f1739100de1a390000df                              []  False     True   \n",
      "\n",
      "       diff          id  incomplete         lesson  \\\n",
      "0  0.000000  nvrm82_9Yv       False       nline_1b   \n",
      "1  0.563288  jVG3p9f-20       False       nline_1b   \n",
      "2  0.601043  _NUUDSBMum       False  equivalence_0   \n",
      "3  0.686276  B6HmMEMpoL       False  equivalence_0   \n",
      "4  0.642014  IYWiIP26on       False  equivalence_0   \n",
      "\n",
      "                                       level_summary  \\\n",
      "0  {'entered': True, 'path': 'nline_1b', 'lm_stat...   \n",
      "1  {'entered': True, 'path': 'nline_1b', 'lm_stat...   \n",
      "2  {'subject': 'fractions', 'unit_name': 'frac_eq...   \n",
      "3  {'subject': 'fractions', 'unit_name': 'frac_eq...   \n",
      "4  {'subject': 'fractions', 'unit_name': 'frac_eq...   \n",
      "\n",
      "                                         problem_set    ...     \\\n",
      "0  lessons/fractions/lesson13_1/part_a/media/prob...    ...      \n",
      "1  lessons/fractions/lesson13_1/part_b/media/prob...    ...      \n",
      "2  lessons/fractions/lesson22_4/part_a/media/prob...    ...      \n",
      "3  lessons/fractions/lesson22_4/part_a/media/prob...    ...      \n",
      "4  lessons/fractions/lesson22_4/part_b/media/prob...    ...      \n",
      "\n",
      "                                      screenshot_url second_try  \\\n",
      "0  http://woot_math_cub.s3.amazonaws.com/ss/73538...      False   \n",
      "1  http://woot_math_cub.s3.amazonaws.com/ss/73538...      False   \n",
      "2  http://woot_math_cub.s3.amazonaws.com/ss/50253...      False   \n",
      "3  http://woot_math_cub.s3.amazonaws.com/ss/50253...      False   \n",
      "4  http://woot_math_cub.s3.amazonaws.com/ss/50253...      False   \n",
      "\n",
      "                             session_id  \\\n",
      "0  efaa1ff0-47dc-4eab-89f1-93d6b76de5a5   \n",
      "1  efaa1ff0-47dc-4eab-89f1-93d6b76de5a5   \n",
      "2  c258e462-a7e8-411a-bfa8-7d949a8a9a79   \n",
      "3  c258e462-a7e8-411a-bfa8-7d949a8a9a79   \n",
      "4  c258e462-a7e8-411a-bfa8-7d949a8a9a79   \n",
      "\n",
      "                                             student            sublesson  \\\n",
      "0  {'school_id': 'U4U2K7E1', 'grade': '3', 'secti...       nline_1b.parta   \n",
      "1  {'school_id': 'U4U2K7E1', 'grade': '3', 'secti...       nline_1b.partb   \n",
      "2  {'student_id': 'J3N5Q2O0C5', 'grade': '4', 'se...  equivalence_0.parta   \n",
      "3  {'student_id': 'J3N5Q2O0C5', 'grade': '4', 'se...  equivalence_0.parta   \n",
      "4  {'student_id': 'J3N5Q2O0C5', 'grade': '4', 'se...  equivalence_0.partb   \n",
      "\n",
      "              t time_spent     timestamp  \\\n",
      "0  1.470065e+12    43677.0  1.470065e+12   \n",
      "1  1.470065e+12    24239.0  1.470065e+12   \n",
      "2  1.470065e+12    19765.0  1.470065e+12   \n",
      "3  1.470065e+12     7236.0  1.470065e+12   \n",
      "4  1.470065e+12     4808.0  1.470065e+12   \n",
      "\n",
      "                                                 txt untouched  \n",
      "0  Use the 1/2 pieces to figure out how far the d...     False  \n",
      "1  Drag the panda to 4/4 of a yard from the start...     False  \n",
      "2  Model how many eighths are equal to one fourth...     False  \n",
      "3  Model how many halves are equal to four eighth...     False  \n",
      "4  Cameron ate  4/8  of a pizza.\\nCover the pizza...     False  \n",
      "\n",
      "[5 rows x 27 columns]\n"
     ]
    }
   ],
   "source": [
    "print (df_responses.head())"
   ]
  },
  {
   "cell_type": "code",
   "execution_count": null,
   "metadata": {
    "collapsed": false
   },
   "outputs": [],
   "source": []
  },
  {
   "cell_type": "code",
   "execution_count": 8,
   "metadata": {
    "collapsed": true
   },
   "outputs": [],
   "source": [
    "df2 = df_responses.join(pd.DataFrame(df_responses[\"student\"].to_dict()).T)"
   ]
  },
  {
   "cell_type": "code",
   "execution_count": 9,
   "metadata": {
    "collapsed": true
   },
   "outputs": [],
   "source": [
    "df2 = df2.join(pd.DataFrame(df2['level_summary'].to_dict()).T)"
   ]
  },
  {
   "cell_type": "code",
   "execution_count": 10,
   "metadata": {
    "collapsed": true
   },
   "outputs": [],
   "source": [
    "df2 = df2.join(pd.DataFrame(df2['problems'].to_dict()).T)"
   ]
  },
  {
   "cell_type": "code",
   "execution_count": 11,
   "metadata": {
    "collapsed": false
   },
   "outputs": [],
   "source": [
    "df3  = df2.copy()"
   ]
  },
  {
   "cell_type": "code",
   "execution_count": null,
   "metadata": {
    "collapsed": true
   },
   "outputs": [],
   "source": []
  },
  {
   "cell_type": "code",
   "execution_count": 12,
   "metadata": {
    "collapsed": false
   },
   "outputs": [
    {
     "name": "stdout",
     "output_type": "stream",
     "text": [
      "Index(['_id', 'behavioral_traits', 'bonus', 'correct', 'diff', 'id',\n",
      "       'incomplete', 'lesson', 'level_summary', 'problem_set',\n",
      "       'problem_set_id', 'problem_set_subspace', 'qual_id',\n",
      "       'randomly_selected', 'response', 'response_idx', 'retried',\n",
      "       'screenshot_url', 'second_try', 'session_id', 'student', 'sublesson',\n",
      "       't', 'time_spent', 'timestamp', 'txt', 'untouched'],\n",
      "      dtype='object')\n"
     ]
    }
   ],
   "source": [
    "## Look act columns\n",
    "print (df_responses.columns)"
   ]
  },
  {
   "cell_type": "code",
   "execution_count": 13,
   "metadata": {
    "collapsed": false
   },
   "outputs": [
    {
     "name": "stdout",
     "output_type": "stream",
     "text": [
      "100000 Number of entries\n"
     ]
    }
   ],
   "source": [
    "## How many data samples\n",
    "print (len(df_responses), \"Number of entries\")"
   ]
  },
  {
   "cell_type": "code",
   "execution_count": 14,
   "metadata": {
    "collapsed": true
   },
   "outputs": [],
   "source": [
    "## Make 'description' a feature wih important words mapped"
   ]
  },
  {
   "cell_type": "code",
   "execution_count": 15,
   "metadata": {
    "collapsed": false
   },
   "outputs": [
    {
     "data": {
      "text/plain": [
       "Index(['_id', 'behavioral_traits', 'bonus', 'correct', 'diff', 'id',\n",
       "       'incomplete', 'lesson', 'level_summary', 'problem_set',\n",
       "       'problem_set_id', 'problem_set_subspace', 'qual_id',\n",
       "       'randomly_selected', 'response', 'response_idx', 'retried',\n",
       "       'screenshot_url', 'second_try', 'session_id', 'student', 'sublesson',\n",
       "       't', 'time_spent', 'timestamp', 'txt', 'untouched', 'grade',\n",
       "       'mvt_group', 'mvt_group_code', 'school_id', 'section_id', 'student_id',\n",
       "       'blank_slate_mastery', 'description', 'entered', 'lesson_type',\n",
       "       'lm_stats', 'mastery', 'name', 'path', 'problems', 'stars', 'subject',\n",
       "       't_elapsed', 'time_entered', 'time_exited', 'title', 'type',\n",
       "       'unit_name', 'unit_rank', 'nretry_right', 'nretry_wrong', 'nright',\n",
       "       'ntotal', 'nuntouched', 'nwrong'],\n",
       "      dtype='object')"
      ]
     },
     "execution_count": 15,
     "metadata": {},
     "output_type": "execute_result"
    }
   ],
   "source": [
    "df3.columns"
   ]
  },
  {
   "cell_type": "code",
   "execution_count": 16,
   "metadata": {
    "collapsed": false
   },
   "outputs": [],
   "source": [
    "df3['percent_correct'] = df3['nright'].astype(float) / df3['ntotal']"
   ]
  },
  {
   "cell_type": "code",
   "execution_count": null,
   "metadata": {
    "collapsed": true
   },
   "outputs": [],
   "source": []
  },
  {
   "cell_type": "code",
   "execution_count": 17,
   "metadata": {
    "collapsed": false
   },
   "outputs": [
    {
     "data": {
      "text/plain": [
       "_id                                              5a00f1739100de1a390000d0\n",
       "behavioral_traits                                                      []\n",
       "bonus                                                               False\n",
       "correct                                                              True\n",
       "diff                                                                    0\n",
       "id                                                             nvrm82_9Yv\n",
       "incomplete                                                          False\n",
       "lesson                                                           nline_1b\n",
       "level_summary           {'entered': True, 'path': 'nline_1b', 'lm_stat...\n",
       "problem_set             lessons/fractions/lesson13_1/part_a/media/prob...\n",
       "problem_set_id                                                 _Pd6uU3viE\n",
       "problem_set_subspace                                                parta\n",
       "qual_id                                       _Pd6uU3viE.parta.nvrm82_9Yv\n",
       "randomly_selected                                                   False\n",
       "response                {'fraction_cblock_chains': [{'right': 442, 'su...\n",
       "response_idx                                                            0\n",
       "retried                                                               NaN\n",
       "screenshot_url          http://woot_math_cub.s3.amazonaws.com/ss/73538...\n",
       "second_try                                                          False\n",
       "session_id                           efaa1ff0-47dc-4eab-89f1-93d6b76de5a5\n",
       "student                 {'school_id': 'U4U2K7E1', 'grade': '3', 'secti...\n",
       "sublesson                                                  nline_1b.parta\n",
       "t                                                             1.47006e+12\n",
       "time_spent                                                          43677\n",
       "timestamp                                                     1.47006e+12\n",
       "txt                     Use the 1/2 pieces to figure out how far the d...\n",
       "untouched                                                           False\n",
       "grade                                                                   3\n",
       "mvt_group                                                             NaN\n",
       "mvt_group_code                                                        NaN\n",
       "school_id                                                        U4U2K7E1\n",
       "section_id                                                       C0Z5U5B2\n",
       "student_id                                                     U8T3K5I3A7\n",
       "blank_slate_mastery     {'std_dev': 0.34480277948866417, 'mean': 0.761...\n",
       "description             In the first part of this lesson, student part...\n",
       "entered                                                              True\n",
       "lesson_type                                                             l\n",
       "lm_stats                {'last_update': 1470064457093.0, 'lesson_name'...\n",
       "mastery                 {'std_dev': 0.16389859255739028, 'mean': -0.02...\n",
       "name                                                             nline_1b\n",
       "path                                                             nline_1b\n",
       "problems                {'nretry_right': 0, 'nuntouched': 0, 'ntotal':...\n",
       "stars                                             {'old': 0, 'earned': 3}\n",
       "subject                                                         fractions\n",
       "t_elapsed                                                          416692\n",
       "time_entered                                                  1.47006e+12\n",
       "time_exited                                                   1.47006e+12\n",
       "title                                        Partitioning the Number Line\n",
       "type                                                               lesson\n",
       "unit_name                                                    frac_nline_1\n",
       "unit_rank                                                               1\n",
       "nretry_right                                                            0\n",
       "nretry_wrong                                                            0\n",
       "nright                                                                  9\n",
       "ntotal                                                                  9\n",
       "nuntouched                                                              0\n",
       "nwrong                                                                  0\n",
       "percent_correct                                                         1\n",
       "Name: 0, dtype: object"
      ]
     },
     "execution_count": 17,
     "metadata": {},
     "output_type": "execute_result"
    }
   ],
   "source": [
    "df3.iloc[0]"
   ]
  },
  {
   "cell_type": "code",
   "execution_count": 20,
   "metadata": {
    "collapsed": false,
    "scrolled": false
   },
   "outputs": [
    {
     "data": {
      "text/plain": [
       "'\\nfor idx in range(100):\\n    print (\\'index\"\\', idx)\\n    print (df3.iloc[idx][\\'lesson\\'])\\n    print (df3.iloc[idx][\\'response\\'])\\n'"
      ]
     },
     "execution_count": 20,
     "metadata": {},
     "output_type": "execute_result"
    }
   ],
   "source": [
    "'''\n",
    "for idx in range(100):\n",
    "    print ('index\"', idx)\n",
    "    print (df3.iloc[idx]['lesson'])\n",
    "    print (df3.iloc[idx]['response'])\n",
    "'''"
   ]
  },
  {
   "cell_type": "code",
   "execution_count": null,
   "metadata": {
    "collapsed": true
   },
   "outputs": [],
   "source": []
  },
  {
   "cell_type": "code",
   "execution_count": 21,
   "metadata": {
    "collapsed": true
   },
   "outputs": [],
   "source": [
    "def stringify_response(resp):\n",
    "    my_val = str(resp).replace(\"': \",\"_\")\n",
    "    my_val = my_val.replace(\"_{\",\" \")\n",
    "    my_val = my_val.replace(\"_[\",\", \")\n",
    "    for c in [']','[','{','}',\"'\",\"\",\",\"]:\n",
    "        my_val = my_val.replace(c,'')\n",
    "    return my_val\n"
   ]
  },
  {
   "cell_type": "code",
   "execution_count": 22,
   "metadata": {
    "collapsed": false
   },
   "outputs": [
    {
     "data": {
      "text/plain": [
       "'fraction_cblock_chains right_442 sum numerator_1 denominator_2 __as3_type_Fraction pieces 1/2 left_97 lcm_sum numerator_1 denominator_2 __as3_type_Fraction plain_image_groups total_1 url_assets/cms/wootmath_fractions/number_line/markers/end_marker_noline.swf total_1 url_assets/cms/wootmath_fractions/number_line/markers/start_marker.swf total_1 url_assets/cms/wootmath_fractions/number_line/objects/dog.swf total_1 url_assets/cms/wootmath_fractions/number_line/objects/cat_dog_trail.swf den_2 fraction_input_value_1/2 num_1 fraction_cblock_total_count_1 numberline_associations  fraction_cblock_counts 1/2_1 fraction_cblock_containment  whole_'"
      ]
     },
     "execution_count": 22,
     "metadata": {},
     "output_type": "execute_result"
    }
   ],
   "source": [
    "stringify_response(df3.iloc[0]['response'])"
   ]
  },
  {
   "cell_type": "code",
   "execution_count": 23,
   "metadata": {
    "collapsed": false
   },
   "outputs": [],
   "source": [
    "df3['response_str'] = df3['response'].apply(stringify_response)"
   ]
  },
  {
   "cell_type": "code",
   "execution_count": 24,
   "metadata": {
    "collapsed": false
   },
   "outputs": [
    {
     "name": "stdout",
     "output_type": "stream",
     "text": [
      "0 fraction_cblock_chains right_442 sum numerator_1 denominator_2 __as3_type_Fraction pieces 1/2 left_97 lcm_sum numerator_1 denominator_2 __as3_type_Fraction plain_image_groups total_1 url_assets/cms/wootmath_fractions/number_line/markers/end_marker_noline.swf total_1 url_assets/cms/wootmath_fractions/number_line/markers/start_marker.swf total_1 url_assets/cms/wootmath_fractions/number_line/objects/dog.swf total_1 url_assets/cms/wootmath_fractions/number_line/objects/cat_dog_trail.swf den_2 fraction_input_value_1/2 num_1 fraction_cblock_total_count_1 numberline_associations  fraction_cblock_counts 1/2_1 fraction_cblock_containment  whole_\n",
      "1 fraction_cblock_total_count_4 plain_image_groups total_1 url_assets/cms/wootmath_fractions/number_line/objects/panda.swf total_1 url_assets/cms/wootmath_fractions/number_line/markers/start_marker.swf input_4 fraction_cblock_chains right_856 sum numerator_1 denominator_1 __as3_type_Fraction pieces 1/4 1/4 1/4 1/4 left_165 lcm_sum numerator_4 denominator_4 __as3_type_Fraction numberline_associations obj_value_None position_720.6521739130434 pos_value_1.0009451795841209 obj_name_object fraction_cblock_counts 1/4_4 fraction_cblock_containment \n",
      "2 fraction_cblock_chains left_176 lcm_sum numerator_2 denominator_8 __as3_type_Fraction right_348 pieces 1/8 1/8 sum numerator_1 denominator_4 __as3_type_Fraction left_590 lcm_sum numerator_1 denominator_6 __as3_type_Fraction right_705 pieces 1/6 sum numerator_1 denominator_6 __as3_type_Fraction left_176 lcm_sum numerator_1 denominator_4 __as3_type_Fraction right_348 pieces 1/4 sum numerator_1 denominator_4 __as3_type_Fraction left_176 lcm_sum numerator_1 denominator_1 __as3_type_Fraction right_866 pieces 1 sum numerator_1 denominator_1 __as3_type_Fraction fraction_cblock_total_count_5 fraction_cblock_counts 1_1 1/8_2 1/6_1 1/4_1 fraction_cblock_containment piece0 lcm_sum numerator_2 denominator_8 __as3_type_Fraction homogenous_True pieces 1/8 1/8 sum numerator_1 denominator_4 __as3_type_Fraction\n",
      "3 fraction_cblock_chains left_176 lcm_sum numerator_1 denominator_2 __as3_type_Fraction right_521 pieces 1/2 sum numerator_1 denominator_2 __as3_type_Fraction left_176 lcm_sum numerator_4 denominator_8 __as3_type_Fraction right_521 pieces 1/8 1/8 1/8 1/8 sum numerator_1 denominator_2 __as3_type_Fraction left_176 lcm_sum numerator_1 denominator_1 __as3_type_Fraction right_866 pieces 1 sum numerator_1 denominator_1 __as3_type_Fraction fraction_cblock_total_count_6 fraction_cblock_counts 1_1 1/2_1 1/8_4 fraction_cblock_containment Fraction 1/2 lcm_sum numerator_4 denominator_8 __as3_type_Fraction homogenous_True pieces 1/8 1/8 1/8 1/8 sum numerator_1 denominator_2 __as3_type_Fraction\n",
      "4 fraction_circle_containment Fraction 1/2 lcm_sum numerator_4 denominator_8 __as3_type_Fraction homogenous_True pieces 1/8 1/8 1/8 1/8 sum numerator_1 denominator_2 __as3_type_Fraction fraction_circle_total_count_6 fraction_circle_groups x_512 y_300 scale_0.9999999999999991 pieces 1/2 1/8 1/8 1/8 1/8 1 chains right_180 pieces 1/8 1/8 1/8 1/8 left_0 fraction_circle_counts 1_1 1/2_1 1/8_4\n",
      "5 image_object_groups total_6 on_3 url_assets/objects/singles/watch.swf off_3\n",
      "6 None\n",
      "7 None\n",
      "8 fraction_circle_groups x_512 scale_1 chains pieces 1/8 1/8 1/8 1/8 left_0 right_180 pieces 1/8 1/8 1/8 1/8 1/2 1 y_300 fraction_circle_containment piece_0 sum denominator_2 numerator_1 __as3_type_Fraction homogenous_True pieces 1/8 1/8 1/8 1/8 lcm_sum denominator_8 numerator_4 __as3_type_Fraction fraction_circle_counts 1_1 1/2_1 1/8_4 fraction_circle_total_count_6\n",
      "9 fraction_circle_groups x_512 scale_0.9999999999999994 chains pieces 1/8 1/8 1/8 1/8 left_0 right_180 pieces 1/2 1/8 1/8 1/8 1/8 1 y_300 fraction_circle_containment Fraction 1/2 sum denominator_2 numerator_1 __as3_type_Fraction homogenous_True pieces 1/8 1/8 1/8 1/8 lcm_sum denominator_8 numerator_4 __as3_type_Fraction fraction_circle_counts 1_1 1/2_1 1/8_4 fraction_circle_total_count_6\n",
      "10 fraction_circle_groups x_512 scale_0.9999999999999993 chains pieces 1/4 1/4 left_0 right_180 pieces 1/2 1/4 1/4 1 y_300 fraction_circle_containment Fraction 1/2 sum denominator_2 numerator_1 __as3_type_Fraction homogenous_True pieces 1/4 1/4 lcm_sum denominator_4 numerator_2 __as3_type_Fraction fraction_circle_counts 1_1 1/2_1 1/4_2 fraction_circle_total_count_4\n",
      "11 radio_choice_C radio_group_problem choice_C text_3/6 radio_text_3/6\n",
      "12 fraction_cblock_chains sum denominator_10 numerator_1 __as3_type_Fraction lcm_sum denominator_10 numerator_1 __as3_type_Fraction pieces 1/10 left_1024 right_1458 sum denominator_5 numerator_1 __as3_type_Fraction lcm_sum denominator_10 numerator_2 __as3_type_Fraction pieces 1/10 1/10 left_1024 right_1297 sum denominator_10 numerator_1 __as3_type_Fraction lcm_sum denominator_10 numerator_1 __as3_type_Fraction pieces 1/10 left_1024 right_1531 sum denominator_10 numerator_1 __as3_type_Fraction lcm_sum denominator_10 numerator_1 __as3_type_Fraction pieces 1/10 left_1024 right_1214 sum denominator_10 numerator_1 __as3_type_Fraction lcm_sum denominator_10 numerator_1 __as3_type_Fraction pieces 1/10 left_1024 right_1424 sum denominator_5 numerator_2 __as3_type_Fraction lcm_sum denominator_10 numerator_4 __as3_type_Fraction pieces 1/10 1/10 1/10 1/10 left_544 right_820 sum denominator_84 numerator_73 __as3_type_Fraction lcm_sum denominator_84 numerator_73 __as3_type_Fraction pieces 1/7 1/7 1/6 1/6 1/4 left_1001 right_1272 sum denominator_35 numerator_17 __as3_type_Fraction lcm_sum denominator_35 numerator_17 __as3_type_Fraction pieces 1/7 1/7 1/5 left_981 right_1316 sum denominator_28 numerator_11 __as3_type_Fraction lcm_sum denominator_28 numerator_11 __as3_type_Fraction pieces 1/7 1/4 left_1001 right_1272 sum denominator_7 numerator_1 __as3_type_Fraction lcm_sum denominator_7 numerator_1 __as3_type_Fraction pieces 1/7 left_1024 right_1300 sum denominator_7 numerator_1 __as3_type_Fraction lcm_sum denominator_7 numerator_1 __as3_type_Fraction pieces 1/7 left_1024 right_1248 sum denominator_6 numerator_1 __as3_type_Fraction lcm_sum denominator_6 numerator_1 __as3_type_Fraction pieces 1/6 left_1024 right_1316 sum denominator_6 numerator_1 __as3_type_Fraction lcm_sum denominator_6 numerator_1 __as3_type_Fraction pieces 1/6 left_1024 right_1387 sum denominator_6 numerator_1 __as3_type_Fraction lcm_sum denominator_6 numerator_1 __as3_type_Fraction pieces 1/6 left_1024 right_1220 sum denominator_6 numerator_1 __as3_type_Fraction lcm_sum denominator_6 numerator_1 __as3_type_Fraction pieces 1/6 left_1024 right_1387 sum denominator_5 numerator_1 __as3_type_Fraction lcm_sum denominator_5 numerator_1 __as3_type_Fraction pieces 1/5 left_1024 right_1358 sum denominator_5 numerator_3 __as3_type_Fraction lcm_sum denominator_5 numerator_3 __as3_type_Fraction pieces 1/5 1/5 1/5 left_1024 right_1337 sum denominator_2 numerator_1 __as3_type_Fraction lcm_sum denominator_4 numerator_2 __as3_type_Fraction pieces 1/4 1/4 left_1024 right_1523 sum denominator_4 numerator_1 __as3_type_Fraction lcm_sum denominator_4 numerator_1 __as3_type_Fraction pieces 1/4 left_1024 right_1272 sum denominator_4 numerator_1 __as3_type_Fraction lcm_sum denominator_4 numerator_1 __as3_type_Fraction pieces 1/4 left_1024 right_1358 sum denominator_2 numerator_1 __as3_type_Fraction lcm_sum denominator_2 numerator_1 __as3_type_Fraction pieces 1/2 left_1024 right_1531 sum denominator_2 numerator_1 __as3_type_Fraction lcm_sum denominator_4 numerator_2 __as3_type_Fraction pieces 1/4 1/4 left_1024 right_1389 sum denominator_4 numerator_1 __as3_type_Fraction lcm_sum denominator_4 numerator_1 __as3_type_Fraction pieces 1/4 left_1024 right_1216 sum denominator_4 numerator_1 __as3_type_Fraction lcm_sum denominator_4 numerator_1 __as3_type_Fraction pieces 1/4 left_1024 right_1351 sum denominator_1 numerator_1 __as3_type_Fraction lcm_sum denominator_1 numerator_1 __as3_type_Fraction pieces 1 left_1024 right_2045 sum denominator_1 numerator_1 __as3_type_Fraction lcm_sum denominator_1 numerator_1 __as3_type_Fraction pieces 1 left_130 right_820 fraction_cblock_containment bar1 sum denominator_5 numerator_2 __as3_type_Fraction homogenous_True pieces 1/10 1/10 1/10 1/10 lcm_sum denominator_10 numerator_4 __as3_type_Fraction Fraction 1/4 sum denominator_5 numerator_1 __as3_type_Fraction homogenous_True pieces 1/5 lcm_sum denominator_5 numerator_1 __as3_type_Fraction Fraction 1 sum denominator_10 numerator_1 __as3_type_Fraction homogenous_True pieces 1/10 lcm_sum denominator_10 numerator_1 __as3_type_Fraction fraction_cblock_total_count_41 fraction_cblock_counts 1_2 1/7_7 1/4_10 1/6_6 1/5_5 1/2_1 1/10_10\n",
      "13 whole_ fraction_input_value_4/6 fraction_cblock_chains sum denominator_3 numerator_2 __as3_type_Fraction lcm_sum denominator_6 numerator_4 __as3_type_Fraction pieces 1/6 1/6 1/6 1/6 left_96 right_522 fraction_cblock_containment  num_4 plain_image_groups total_1 url_assets/cms/wootmath_fractions/number_line/markers/end_marker.swf total_1 url_assets/cms/wootmath_fractions/number_line/markers/start_marker.swf total_1 url_assets/cms/wootmath_fractions/number_line/objects/beetle.swf total_1 url_assets/cms/wootmath_fractions/number_line/objects/beetle_trail.swf numberline_associations  den_6 fraction_cblock_total_count_4 fraction_cblock_counts 1/6_4\n",
      "14 plain_image_groups total_1 url_assets/cms/wootmath_fractions/number_line/objects/panda.swf total_1 url_assets/cms/wootmath_fractions/number_line/markers/start_marker.swf fraction_cblock_containment  input_8 numberline_associations position_634 pos_value_0.8753623188405797 obj_name_object obj_value_None fraction_cblock_chains sum denominator_8 numerator_7 __as3_type_Fraction lcm_sum denominator_8 numerator_7 __as3_type_Fraction pieces 1/8 1/8 1/8 1/8 1/8 1/8 1/8 left_165 right_769 fraction_cblock_total_count_7 fraction_cblock_counts 1/8_7\n",
      "15 numberline_associations  input_8\n",
      "16 numberline_associations position_580.5 pos_value_0.9972826086956521 obj_name_answer_text obj_value_3/3 input_\n",
      "17 plain_image_groups total_1 url_assets/cms/wootmath_fractions/number_line/objects/shark.swf total_1 url_assets/cms/wootmath_fractions/number_line/markers/start_marker.swf fraction_cblock_containment  input_6 numberline_associations position_722 pos_value_1.0028985507246377 obj_name_object obj_value_None fraction_cblock_chains sum denominator_1 numerator_1 __as3_type_Fraction lcm_sum denominator_6 numerator_6 __as3_type_Fraction pieces 1/6 1/6 1/6 1/6 1/6 1/6 left_165 right_856 fraction_cblock_total_count_6 fraction_cblock_counts 1/6_6\n",
      "18 whole_ fraction_input_value_1/3 fraction_cblock_chains sum denominator_1 numerator_1 __as3_type_Fraction lcm_sum denominator_3 numerator_3 __as3_type_Fraction pieces 1/3 1/3 1/3 left_96 right_657 fraction_cblock_containment  num_1 plain_image_groups total_1 url_assets/cms/wootmath_fractions/number_line/markers/end_marker.swf total_1 url_assets/cms/wootmath_fractions/number_line/markers/start_marker.swf total_1 url_assets/cms/wootmath_fractions/number_line/objects/snail.swf total_1 url_assets/cms/wootmath_fractions/number_line/objects/snail_trail.swf numberline_associations  den_3 fraction_cblock_total_count_3 fraction_cblock_counts 1/3_3\n",
      "19 whole_ fraction_input_value_3/4 fraction_cblock_chains sum denominator_4 numerator_3 __as3_type_Fraction lcm_sum denominator_4 numerator_3 __as3_type_Fraction pieces 1/4 1/4 1/4 left_96 right_545 fraction_cblock_containment  num_3 plain_image_groups total_1 url_assets/cms/wootmath_fractions/number_line/markers/end_marker_noline.swf total_1 url_assets/cms/wootmath_fractions/number_line/markers/start_marker.swf total_1 url_assets/cms/wootmath_fractions/number_line/objects/dog.swf total_1 url_assets/cms/wootmath_fractions/number_line/objects/cat_dog_trail.swf numberline_associations  den_4 fraction_cblock_total_count_3 fraction_cblock_counts 1/4_3\n"
     ]
    }
   ],
   "source": [
    "for idx in range(20):\n",
    "    print (idx, df3['response_str'].iloc[idx])"
   ]
  },
  {
   "cell_type": "code",
   "execution_count": 25,
   "metadata": {
    "collapsed": false
   },
   "outputs": [
    {
     "data": {
      "text/plain": [
       "Index(['_id', 'behavioral_traits', 'bonus', 'correct', 'diff', 'id',\n",
       "       'incomplete', 'lesson', 'level_summary', 'problem_set',\n",
       "       'problem_set_id', 'problem_set_subspace', 'qual_id',\n",
       "       'randomly_selected', 'response', 'response_idx', 'retried',\n",
       "       'screenshot_url', 'second_try', 'session_id', 'student', 'sublesson',\n",
       "       't', 'time_spent', 'timestamp', 'txt', 'untouched', 'grade',\n",
       "       'mvt_group', 'mvt_group_code', 'school_id', 'section_id', 'student_id',\n",
       "       'blank_slate_mastery', 'description', 'entered', 'lesson_type',\n",
       "       'lm_stats', 'mastery', 'name', 'path', 'problems', 'stars', 'subject',\n",
       "       't_elapsed', 'time_entered', 'time_exited', 'title', 'type',\n",
       "       'unit_name', 'unit_rank', 'nretry_right', 'nretry_wrong', 'nright',\n",
       "       'ntotal', 'nuntouched', 'nwrong', 'percent_correct', 'response_str'],\n",
       "      dtype='object')"
      ]
     },
     "execution_count": 25,
     "metadata": {},
     "output_type": "execute_result"
    }
   ],
   "source": [
    "df3.columns"
   ]
  },
  {
   "cell_type": "code",
   "execution_count": 26,
   "metadata": {
    "collapsed": false
   },
   "outputs": [],
   "source": [
    "## In Response:\n",
    "### convert K, V, and all K_V into words in a text doc\n",
    "### Then add text\n",
    "### The add description\n"
   ]
  },
  {
   "cell_type": "code",
   "execution_count": 27,
   "metadata": {
    "collapsed": false
   },
   "outputs": [],
   "source": [
    "def make_string_from_list(key, elem_list):\n",
    "    # Append key to each item in list\n",
    "    ans = ''\n",
    "    for elem in elem_list:\n",
    "        ans += key + '_' + elem \n",
    "        \n",
    "        \n",
    "\n",
    "        \n",
    "    \n",
    "\n",
    "def make_string(elem, key=None, top=True):\n",
    "    ans = ''\n",
    "    if not elem:\n",
    "        return ans\n",
    "    if top:\n",
    "        top = False\n",
    "        top_keys = []\n",
    "        for idx in range(len(elem.keys())):\n",
    "            top_keys.append(True)\n",
    "            \n",
    "    for idx, key in enumerate(elem.keys()):\n",
    "        if top_keys[idx]:\n",
    "            top = True\n",
    "            top_keys[idx] = False\n",
    "            ans += ' '\n",
    "        else:\n",
    "            top = False\n",
    "        #print ('ans = ', ans)\n",
    "        #print (type(elem[key]))\n",
    "        if type(elem[key]) is str or\\\n",
    "                type(elem[key]) is int:\n",
    "            #print ('add value', elem[key])\n",
    "            value = str(elem[key])\n",
    "            #ans += key + '_' + value + ' ' + value + ' '\n",
    "            ans += key + '_' + value\n",
    "        elif type(elem[key]) is list:\n",
    "            #print ('add list', elem[key])\n",
    "            temp_elem = dict()\n",
    "            for item in elem[key]:\n",
    "                temp_elem[key] = item\n",
    "                ans += make_string(temp_elem, top) \n",
    "        elif type(elem[key]) is dict:\n",
    "            #print ('add dict', elem[key])\n",
    "            for item_key in elem[key].keys():\n",
    "                temp_elem = dict()\n",
    "                temp_elem[item_key] = elem[key][item_key]\n",
    "                ans += key + '_' + make_string(temp_elem, top)\n",
    "        elif type(elem[key]) is float:\n",
    "            #print ('add dict', elem[key])\n",
    "            sig = 2\n",
    "            value = elem[key]\n",
    "            value = round(value, sig-int(\n",
    "            floor(log10(abs(value))))-1)\n",
    "            value = str(value)\n",
    "            #ans += key + '_' + value + ' ' + value + ' '\n",
    "            ans += key + '_' + value + ' '\n",
    "        # ans += ' ' + key + ' '\n",
    "        #print ('not handled', elem[key])\n",
    "     \n",
    "        \n",
    "    return ans\n",
    "        \n",
    "            \n",
    "            "
   ]
  },
  {
   "cell_type": "code",
   "execution_count": 28,
   "metadata": {
    "collapsed": false
   },
   "outputs": [],
   "source": [
    "df3['response_doc'] = df3['response'].map(make_string)"
   ]
  },
  {
   "cell_type": "code",
   "execution_count": 29,
   "metadata": {
    "collapsed": false
   },
   "outputs": [],
   "source": [
    "df3['response_doc'] = df3['response_doc'].map(lambda x: x + ' ')"
   ]
  },
  {
   "cell_type": "code",
   "execution_count": 30,
   "metadata": {
    "collapsed": false
   },
   "outputs": [],
   "source": [
    "df3['response_doc'] = df3['response_doc'] + df3['txt'] "
   ]
  },
  {
   "cell_type": "code",
   "execution_count": 31,
   "metadata": {
    "collapsed": false
   },
   "outputs": [],
   "source": [
    "df3['response_doc'] = df3['response_doc'].map(lambda x: x + ' ')"
   ]
  },
  {
   "cell_type": "code",
   "execution_count": 32,
   "metadata": {
    "collapsed": true
   },
   "outputs": [],
   "source": [
    "df3['response_doc'] = df3['response_doc'] +  df3['description']"
   ]
  },
  {
   "cell_type": "code",
   "execution_count": 33,
   "metadata": {
    "collapsed": false
   },
   "outputs": [],
   "source": [
    "df3['response_doc'] = df3['response_doc'].map(lambda x: x.replace(\"\\n\", \"\"))"
   ]
  },
  {
   "cell_type": "code",
   "execution_count": 34,
   "metadata": {
    "collapsed": true
   },
   "outputs": [],
   "source": [
    "df3['response_doc'] = df3['response_doc'].map(lambda x: x.replace(\"?\", \" \"))"
   ]
  },
  {
   "cell_type": "code",
   "execution_count": 35,
   "metadata": {
    "collapsed": false
   },
   "outputs": [
    {
     "data": {
      "text/plain": [
       "\" radio_group_mc2_ choice_Aradio_group_mc2_ text_Yes radio_group_mc1_ choice_Bradio_group_mc1_ text_No  plain_image_groups_ url_assets/cms/wootmath_fractions/equal_parts/sixths/sixth_15.swfplain_image_groups_ total_1 plain_image_groups_ url_assets/cms/wootmath_fractions/equal_parts/sixths/sixth_06.swfplain_image_groups_ total_1 Do these shapes have 5/6 shaded Answer: [object Object] Students deepen their understanding of fractions by identifying area models that are divided into equal parts and those that aren't. \""
      ]
     },
     "execution_count": 35,
     "metadata": {},
     "output_type": "execute_result"
    }
   ],
   "source": [
    "df3.iloc[100]['response_doc']"
   ]
  },
  {
   "cell_type": "code",
   "execution_count": 36,
   "metadata": {
    "collapsed": false
   },
   "outputs": [
    {
     "data": {
      "text/plain": [
       "{'plain_image_groups': [{'total': 1,\n",
       "   'url': 'assets/cms/wootmath_fractions/equal_parts/sixths/sixth_15.swf'},\n",
       "  {'total': 1,\n",
       "   'url': 'assets/cms/wootmath_fractions/equal_parts/sixths/sixth_06.swf'}],\n",
       " 'radio_group_mc1': {'choice': 'B', 'text': 'No'},\n",
       " 'radio_group_mc2': {'choice': 'A', 'text': 'Yes'}}"
      ]
     },
     "execution_count": 36,
     "metadata": {},
     "output_type": "execute_result"
    }
   ],
   "source": [
    "df3.iloc[100]['response']"
   ]
  },
  {
   "cell_type": "code",
   "execution_count": 37,
   "metadata": {
    "collapsed": false,
    "scrolled": false
   },
   "outputs": [
    {
     "name": "stdout",
     "output_type": "stream",
     "text": [
      "0   fraction_cblock_chains_ right_442fraction_cblock_chains_ sum_ numerator_1sum_ denominator_2sum_ __as3_type_Fractionfraction_cblock_chains_  pieces_1/2fraction_cblock_chains_ left_97fraction_cblock_chains_ lcm_sum_ numerator_1lcm_sum_ denominator_2lcm_sum_ __as3_type_Fraction  plain_image_groups_ total_1plain_image_groups_ url_assets/cms/wootmath_fractions/number_line/markers/end_marker_noline.swf plain_image_groups_ total_1plain_image_groups_ url_assets/cms/wootmath_fractions/number_line/markers/start_marker.swf plain_image_groups_ total_1plain_image_groups_ url_assets/cms/wootmath_fractions/number_line/objects/dog.swf plain_image_groups_ total_1plain_image_groups_ url_assets/cms/wootmath_fractions/number_line/objects/cat_dog_trail.swf den_2 fraction_input_value_1/2 num_1 fraction_cblock_total_count_1   fraction_cblock_counts_ 1/2_1  whole_ Use the 1/2 pieces to figure out how far the dog traveled.Answer: 1/2 In the first part of this lesson, student partition the number line into the number of given pieces to determine how far the bug traveled. In the second part of the lesson students partition the number line and then drag the bug to the given location.\n",
      "1  fraction_cblock_total_count_4  plain_image_groups_ total_1plain_image_groups_ url_assets/cms/wootmath_fractions/number_line/objects/panda.swf plain_image_groups_ total_1plain_image_groups_ url_assets/cms/wootmath_fractions/number_line/markers/start_marker.swf input_4  fraction_cblock_chains_ right_856fraction_cblock_chains_ sum_ numerator_1sum_ denominator_1sum_ __as3_type_Fractionfraction_cblock_chains_  pieces_1/4 pieces_1/4 pieces_1/4 pieces_1/4fraction_cblock_chains_ left_165fraction_cblock_chains_ lcm_sum_ numerator_4lcm_sum_ denominator_4lcm_sum_ __as3_type_Fraction   numberline_associations_ numberline_associations_ position_720.0 numberline_associations_ pos_value_1.0 numberline_associations_ obj_name_object fraction_cblock_counts_ 1/4_4  Drag the panda to 4/4 of a yard from the start.Answer: 4/4 In the first part of this lesson, student partition the number line into the number of given pieces to determine how far the bug traveled. In the second part of the lesson students partition the number line and then drag the bug to the given location.\n",
      "2   fraction_cblock_chains_ left_176fraction_cblock_chains_ lcm_sum_ numerator_2lcm_sum_ denominator_8lcm_sum_ __as3_type_Fractionfraction_cblock_chains_ right_348fraction_cblock_chains_  pieces_1/8 pieces_1/8fraction_cblock_chains_ sum_ numerator_1sum_ denominator_4sum_ __as3_type_Fraction fraction_cblock_chains_ left_590fraction_cblock_chains_ lcm_sum_ numerator_1lcm_sum_ denominator_6lcm_sum_ __as3_type_Fractionfraction_cblock_chains_ right_705fraction_cblock_chains_  pieces_1/6fraction_cblock_chains_ sum_ numerator_1sum_ denominator_6sum_ __as3_type_Fraction fraction_cblock_chains_ left_176fraction_cblock_chains_ lcm_sum_ numerator_1lcm_sum_ denominator_4lcm_sum_ __as3_type_Fractionfraction_cblock_chains_ right_348fraction_cblock_chains_  pieces_1/4fraction_cblock_chains_ sum_ numerator_1sum_ denominator_4sum_ __as3_type_Fraction fraction_cblock_chains_ left_176fraction_cblock_chains_ lcm_sum_ numerator_1lcm_sum_ denominator_1lcm_sum_ __as3_type_Fractionfraction_cblock_chains_ right_866fraction_cblock_chains_  pieces_1fraction_cblock_chains_ sum_ numerator_1sum_ denominator_1sum_ __as3_type_Fraction fraction_cblock_total_count_5 fraction_cblock_counts_ 1_1fraction_cblock_counts_ 1/8_2fraction_cblock_counts_ 1/6_1fraction_cblock_counts_ 1/4_1 fraction_cblock_containment_ piece0_ lcm_sum_ numerator_2lcm_sum_ denominator_8lcm_sum_ __as3_type_Fractionpiece0_ piece0_  pieces_1/8 pieces_1/8piece0_ sum_ numerator_1sum_ denominator_4sum_ __as3_type_Fraction Model how many eighths are equal to one fourth.Answer: 2 In this lesson, students use visual fraction models to determine simple equivalent fractions in real world contexts.\n",
      "3   fraction_cblock_chains_ left_176fraction_cblock_chains_ lcm_sum_ numerator_1lcm_sum_ denominator_2lcm_sum_ __as3_type_Fractionfraction_cblock_chains_ right_521fraction_cblock_chains_  pieces_1/2fraction_cblock_chains_ sum_ numerator_1sum_ denominator_2sum_ __as3_type_Fraction fraction_cblock_chains_ left_176fraction_cblock_chains_ lcm_sum_ numerator_4lcm_sum_ denominator_8lcm_sum_ __as3_type_Fractionfraction_cblock_chains_ right_521fraction_cblock_chains_  pieces_1/8 pieces_1/8 pieces_1/8 pieces_1/8fraction_cblock_chains_ sum_ numerator_1sum_ denominator_2sum_ __as3_type_Fraction fraction_cblock_chains_ left_176fraction_cblock_chains_ lcm_sum_ numerator_1lcm_sum_ denominator_1lcm_sum_ __as3_type_Fractionfraction_cblock_chains_ right_866fraction_cblock_chains_  pieces_1fraction_cblock_chains_ sum_ numerator_1sum_ denominator_1sum_ __as3_type_Fraction fraction_cblock_total_count_6 fraction_cblock_counts_ 1_1fraction_cblock_counts_ 1/2_1fraction_cblock_counts_ 1/8_4 fraction_cblock_containment_ [Fraction] 1/2_ lcm_sum_ numerator_4lcm_sum_ denominator_8lcm_sum_ __as3_type_Fraction[Fraction] 1/2_ [Fraction] 1/2_  pieces_1/8 pieces_1/8 pieces_1/8 pieces_1/8[Fraction] 1/2_ sum_ numerator_1sum_ denominator_2sum_ __as3_type_Fraction Model how many halves are equal to four eighths.Answer: 1 In this lesson, students use visual fraction models to determine simple equivalent fractions in real world contexts.\n",
      "4  fraction_circle_containment_ [Fraction] 1/2_ lcm_sum_ numerator_4lcm_sum_ denominator_8lcm_sum_ __as3_type_Fraction[Fraction] 1/2_ [Fraction] 1/2_  pieces_1/8 pieces_1/8 pieces_1/8 pieces_1/8[Fraction] 1/2_ sum_ numerator_1sum_ denominator_2sum_ __as3_type_Fraction fraction_circle_total_count_6  fraction_circle_groups_ x_512fraction_circle_groups_ y_300fraction_circle_groups_ scale_1.0 fraction_circle_groups_  pieces_1/2 pieces_1/8 pieces_1/8 pieces_1/8 pieces_1/8 pieces_1fraction_circle_groups_  chains_ right_180chains_  pieces_1/8 pieces_1/8 pieces_1/8 pieces_1/8chains_ left_0 fraction_circle_counts_ 1_1fraction_circle_counts_ 1/2_1fraction_circle_counts_ 1/8_4 Cameron ate  4/8  of a pizza.Cover the pizza to model how many halves of a pizza he ate.Answer: 1 In this lesson, students use visual fraction models to determine simple equivalent fractions in real world contexts.\n",
      "5   image_object_groups_ total_6image_object_groups_ on_3image_object_groups_ url_assets/objects/singles/watch.swfimage_object_groups_ off_3 Shade 1/2 of the 6 watches.Answer: 1/2 A review of material from earlier lessons. The following topics were selected for review: One Fourth of Shapes and Sets - Supplemental 1; One Fourth of Shapes and Sets; and Equivalent Fractions in Partitioning Sets.\n",
      "6  Shade 1/4 of the circle.answer={:n=>3, :d=>12} A review of material from earlier lessons. The following topics were selected for review: One Fourth of Shapes and Sets - Supplemental 1; One Fourth of Shapes and Sets; and Equivalent Fractions in Partitioning Sets.\n",
      "7  Shade 1/3 of the rectangle.answer={:n=>2, :d=>6} A review of material from earlier lessons. The following topics were selected for review: One Third of Shapes and Sets; One Fourth of Shapes and Sets; and Equivalent Fractions in Partitioning Sets.\n",
      "8   fraction_circle_groups_ x_512fraction_circle_groups_ scale_1fraction_circle_groups_  chains_  pieces_1/8 pieces_1/8 pieces_1/8 pieces_1/8chains_ left_0chains_ right_180fraction_circle_groups_  pieces_1/8 pieces_1/8 pieces_1/8 pieces_1/8 pieces_1/2 pieces_1fraction_circle_groups_ y_300 fraction_circle_containment_ piece_0_ sum_ denominator_2sum_ numerator_1sum_ __as3_type_Fractionpiece_0_ piece_0_  pieces_1/8 pieces_1/8 pieces_1/8 pieces_1/8piece_0_ lcm_sum_ denominator_8lcm_sum_ numerator_4lcm_sum_ __as3_type_Fraction fraction_circle_counts_ 1_1fraction_circle_counts_ 1/2_1fraction_circle_counts_ 1/8_4 fraction_circle_total_count_6 Drag one eighth pieces to cover all of the  1/2  piece.Answer: 4 In this lesson, students learn to relate fraction pieces to each other by covering one fraction exactly with another.\n",
      "9   fraction_circle_groups_ x_512fraction_circle_groups_ scale_1.0 fraction_circle_groups_  chains_  pieces_1/8 pieces_1/8 pieces_1/8 pieces_1/8chains_ left_0chains_ right_180fraction_circle_groups_  pieces_1/2 pieces_1/8 pieces_1/8 pieces_1/8 pieces_1/8 pieces_1fraction_circle_groups_ y_300 fraction_circle_containment_ [Fraction] 1/2_ sum_ denominator_2sum_ numerator_1sum_ __as3_type_Fraction[Fraction] 1/2_ [Fraction] 1/2_  pieces_1/8 pieces_1/8 pieces_1/8 pieces_1/8[Fraction] 1/2_ lcm_sum_ denominator_8lcm_sum_ numerator_4lcm_sum_ __as3_type_Fraction fraction_circle_counts_ 1_1fraction_circle_counts_ 1/2_1fraction_circle_counts_ 1/8_4 fraction_circle_total_count_6 Drag one half pieces to cover all of the  4/8  shown.Answer: 1 In this lesson, students learn to relate fraction pieces to each other by covering one fraction exactly with another.\n",
      "10   fraction_circle_groups_ x_512fraction_circle_groups_ scale_1.0 fraction_circle_groups_  chains_  pieces_1/4 pieces_1/4chains_ left_0chains_ right_180fraction_circle_groups_  pieces_1/2 pieces_1/4 pieces_1/4 pieces_1fraction_circle_groups_ y_300 fraction_circle_containment_ [Fraction] 1/2_ sum_ denominator_2sum_ numerator_1sum_ __as3_type_Fraction[Fraction] 1/2_ [Fraction] 1/2_  pieces_1/4 pieces_1/4[Fraction] 1/2_ lcm_sum_ denominator_4lcm_sum_ numerator_2lcm_sum_ __as3_type_Fraction fraction_circle_counts_ 1_1fraction_circle_counts_ 1/2_1fraction_circle_counts_ 1/4_2 fraction_circle_total_count_4 Drag one half pieces to cover all of the  2/4  shown.Answer: 1 In this lesson, students learn to relate fraction pieces to each other by covering one fraction exactly with another.\n",
      "11  radio_choice_C radio_group_problem_ choice_Cradio_group_problem_ text_3/6 radio_text_3/6 What fraction has 6 as the denominator  () 6/7 () 4/5 () 3/6Answer: 3/6 Students identify the numerator and denominator of given fractions.\n",
      "12   fraction_cblock_chains_ sum_ denominator_10sum_ numerator_1sum_ __as3_type_Fractionfraction_cblock_chains_ lcm_sum_ denominator_10lcm_sum_ numerator_1lcm_sum_ __as3_type_Fractionfraction_cblock_chains_  pieces_1/10fraction_cblock_chains_ left_1024fraction_cblock_chains_ right_1458 fraction_cblock_chains_ sum_ denominator_5sum_ numerator_1sum_ __as3_type_Fractionfraction_cblock_chains_ lcm_sum_ denominator_10lcm_sum_ numerator_2lcm_sum_ __as3_type_Fractionfraction_cblock_chains_  pieces_1/10 pieces_1/10fraction_cblock_chains_ left_1024fraction_cblock_chains_ right_1297 fraction_cblock_chains_ sum_ denominator_10sum_ numerator_1sum_ __as3_type_Fractionfraction_cblock_chains_ lcm_sum_ denominator_10lcm_sum_ numerator_1lcm_sum_ __as3_type_Fractionfraction_cblock_chains_  pieces_1/10fraction_cblock_chains_ left_1024fraction_cblock_chains_ right_1531 fraction_cblock_chains_ sum_ denominator_10sum_ numerator_1sum_ __as3_type_Fractionfraction_cblock_chains_ lcm_sum_ denominator_10lcm_sum_ numerator_1lcm_sum_ __as3_type_Fractionfraction_cblock_chains_  pieces_1/10fraction_cblock_chains_ left_1024fraction_cblock_chains_ right_1214 fraction_cblock_chains_ sum_ denominator_10sum_ numerator_1sum_ __as3_type_Fractionfraction_cblock_chains_ lcm_sum_ denominator_10lcm_sum_ numerator_1lcm_sum_ __as3_type_Fractionfraction_cblock_chains_  pieces_1/10fraction_cblock_chains_ left_1024fraction_cblock_chains_ right_1424 fraction_cblock_chains_ sum_ denominator_5sum_ numerator_2sum_ __as3_type_Fractionfraction_cblock_chains_ lcm_sum_ denominator_10lcm_sum_ numerator_4lcm_sum_ __as3_type_Fractionfraction_cblock_chains_  pieces_1/10 pieces_1/10 pieces_1/10 pieces_1/10fraction_cblock_chains_ left_544fraction_cblock_chains_ right_820 fraction_cblock_chains_ sum_ denominator_84sum_ numerator_73sum_ __as3_type_Fractionfraction_cblock_chains_ lcm_sum_ denominator_84lcm_sum_ numerator_73lcm_sum_ __as3_type_Fractionfraction_cblock_chains_  pieces_1/7 pieces_1/7 pieces_1/6 pieces_1/6 pieces_1/4fraction_cblock_chains_ left_1001fraction_cblock_chains_ right_1272 fraction_cblock_chains_ sum_ denominator_35sum_ numerator_17sum_ __as3_type_Fractionfraction_cblock_chains_ lcm_sum_ denominator_35lcm_sum_ numerator_17lcm_sum_ __as3_type_Fractionfraction_cblock_chains_  pieces_1/7 pieces_1/7 pieces_1/5fraction_cblock_chains_ left_981fraction_cblock_chains_ right_1316 fraction_cblock_chains_ sum_ denominator_28sum_ numerator_11sum_ __as3_type_Fractionfraction_cblock_chains_ lcm_sum_ denominator_28lcm_sum_ numerator_11lcm_sum_ __as3_type_Fractionfraction_cblock_chains_  pieces_1/7 pieces_1/4fraction_cblock_chains_ left_1001fraction_cblock_chains_ right_1272 fraction_cblock_chains_ sum_ denominator_7sum_ numerator_1sum_ __as3_type_Fractionfraction_cblock_chains_ lcm_sum_ denominator_7lcm_sum_ numerator_1lcm_sum_ __as3_type_Fractionfraction_cblock_chains_  pieces_1/7fraction_cblock_chains_ left_1024fraction_cblock_chains_ right_1300 fraction_cblock_chains_ sum_ denominator_7sum_ numerator_1sum_ __as3_type_Fractionfraction_cblock_chains_ lcm_sum_ denominator_7lcm_sum_ numerator_1lcm_sum_ __as3_type_Fractionfraction_cblock_chains_  pieces_1/7fraction_cblock_chains_ left_1024fraction_cblock_chains_ right_1248 fraction_cblock_chains_ sum_ denominator_6sum_ numerator_1sum_ __as3_type_Fractionfraction_cblock_chains_ lcm_sum_ denominator_6lcm_sum_ numerator_1lcm_sum_ __as3_type_Fractionfraction_cblock_chains_  pieces_1/6fraction_cblock_chains_ left_1024fraction_cblock_chains_ right_1316 fraction_cblock_chains_ sum_ denominator_6sum_ numerator_1sum_ __as3_type_Fractionfraction_cblock_chains_ lcm_sum_ denominator_6lcm_sum_ numerator_1lcm_sum_ __as3_type_Fractionfraction_cblock_chains_  pieces_1/6fraction_cblock_chains_ left_1024fraction_cblock_chains_ right_1387 fraction_cblock_chains_ sum_ denominator_6sum_ numerator_1sum_ __as3_type_Fractionfraction_cblock_chains_ lcm_sum_ denominator_6lcm_sum_ numerator_1lcm_sum_ __as3_type_Fractionfraction_cblock_chains_  pieces_1/6fraction_cblock_chains_ left_1024fraction_cblock_chains_ right_1220 fraction_cblock_chains_ sum_ denominator_6sum_ numerator_1sum_ __as3_type_Fractionfraction_cblock_chains_ lcm_sum_ denominator_6lcm_sum_ numerator_1lcm_sum_ __as3_type_Fractionfraction_cblock_chains_  pieces_1/6fraction_cblock_chains_ left_1024fraction_cblock_chains_ right_1387 fraction_cblock_chains_ sum_ denominator_5sum_ numerator_1sum_ __as3_type_Fractionfraction_cblock_chains_ lcm_sum_ denominator_5lcm_sum_ numerator_1lcm_sum_ __as3_type_Fractionfraction_cblock_chains_  pieces_1/5fraction_cblock_chains_ left_1024fraction_cblock_chains_ right_1358 fraction_cblock_chains_ sum_ denominator_5sum_ numerator_3sum_ __as3_type_Fractionfraction_cblock_chains_ lcm_sum_ denominator_5lcm_sum_ numerator_3lcm_sum_ __as3_type_Fractionfraction_cblock_chains_  pieces_1/5 pieces_1/5 pieces_1/5fraction_cblock_chains_ left_1024fraction_cblock_chains_ right_1337 fraction_cblock_chains_ sum_ denominator_2sum_ numerator_1sum_ __as3_type_Fractionfraction_cblock_chains_ lcm_sum_ denominator_4lcm_sum_ numerator_2lcm_sum_ __as3_type_Fractionfraction_cblock_chains_  pieces_1/4 pieces_1/4fraction_cblock_chains_ left_1024fraction_cblock_chains_ right_1523 fraction_cblock_chains_ sum_ denominator_4sum_ numerator_1sum_ __as3_type_Fractionfraction_cblock_chains_ lcm_sum_ denominator_4lcm_sum_ numerator_1lcm_sum_ __as3_type_Fractionfraction_cblock_chains_  pieces_1/4fraction_cblock_chains_ left_1024fraction_cblock_chains_ right_1272 fraction_cblock_chains_ sum_ denominator_4sum_ numerator_1sum_ __as3_type_Fractionfraction_cblock_chains_ lcm_sum_ denominator_4lcm_sum_ numerator_1lcm_sum_ __as3_type_Fractionfraction_cblock_chains_  pieces_1/4fraction_cblock_chains_ left_1024fraction_cblock_chains_ right_1358 fraction_cblock_chains_ sum_ denominator_2sum_ numerator_1sum_ __as3_type_Fractionfraction_cblock_chains_ lcm_sum_ denominator_2lcm_sum_ numerator_1lcm_sum_ __as3_type_Fractionfraction_cblock_chains_  pieces_1/2fraction_cblock_chains_ left_1024fraction_cblock_chains_ right_1531 fraction_cblock_chains_ sum_ denominator_2sum_ numerator_1sum_ __as3_type_Fractionfraction_cblock_chains_ lcm_sum_ denominator_4lcm_sum_ numerator_2lcm_sum_ __as3_type_Fractionfraction_cblock_chains_  pieces_1/4 pieces_1/4fraction_cblock_chains_ left_1024fraction_cblock_chains_ right_1389 fraction_cblock_chains_ sum_ denominator_4sum_ numerator_1sum_ __as3_type_Fractionfraction_cblock_chains_ lcm_sum_ denominator_4lcm_sum_ numerator_1lcm_sum_ __as3_type_Fractionfraction_cblock_chains_  pieces_1/4fraction_cblock_chains_ left_1024fraction_cblock_chains_ right_1216 fraction_cblock_chains_ sum_ denominator_4sum_ numerator_1sum_ __as3_type_Fractionfraction_cblock_chains_ lcm_sum_ denominator_4lcm_sum_ numerator_1lcm_sum_ __as3_type_Fractionfraction_cblock_chains_  pieces_1/4fraction_cblock_chains_ left_1024fraction_cblock_chains_ right_1351 fraction_cblock_chains_ sum_ denominator_1sum_ numerator_1sum_ __as3_type_Fractionfraction_cblock_chains_ lcm_sum_ denominator_1lcm_sum_ numerator_1lcm_sum_ __as3_type_Fractionfraction_cblock_chains_  pieces_1fraction_cblock_chains_ left_1024fraction_cblock_chains_ right_2045 fraction_cblock_chains_ sum_ denominator_1sum_ numerator_1sum_ __as3_type_Fractionfraction_cblock_chains_ lcm_sum_ denominator_1lcm_sum_ numerator_1lcm_sum_ __as3_type_Fractionfraction_cblock_chains_  pieces_1fraction_cblock_chains_ left_130fraction_cblock_chains_ right_820 fraction_cblock_containment_ bar1_ sum_ denominator_5sum_ numerator_2sum_ __as3_type_Fractionbar1_ bar1_  pieces_1/10 pieces_1/10 pieces_1/10 pieces_1/10bar1_ lcm_sum_ denominator_10lcm_sum_ numerator_4lcm_sum_ __as3_type_Fractionfraction_cblock_containment_ [Fraction] 1/4_ sum_ denominator_5sum_ numerator_1sum_ __as3_type_Fraction[Fraction] 1/4_ [Fraction] 1/4_  pieces_1/5[Fraction] 1/4_ lcm_sum_ denominator_5lcm_sum_ numerator_1lcm_sum_ __as3_type_Fractionfraction_cblock_containment_ [Fraction] 1_ sum_ denominator_10sum_ numerator_1sum_ __as3_type_Fraction[Fraction] 1_ [Fraction] 1_  pieces_1/10[Fraction] 1_ lcm_sum_ denominator_10lcm_sum_ numerator_1lcm_sum_ __as3_type_Fraction fraction_cblock_total_count_41 fraction_cblock_counts_ 1_2fraction_cblock_counts_ 1/7_7fraction_cblock_counts_ 1/4_10fraction_cblock_counts_ 1/6_6fraction_cblock_counts_ 1/5_5fraction_cblock_counts_ 1/2_1fraction_cblock_counts_ 1/10_10 Model 4/10 on the black bar using the fraction pieces below.Answer: [object Object] Students identify the numerator and denominator of given fractions.\n",
      "13  whole_ fraction_input_value_4/6  fraction_cblock_chains_ sum_ denominator_3sum_ numerator_2sum_ __as3_type_Fractionfraction_cblock_chains_ lcm_sum_ denominator_6lcm_sum_ numerator_4lcm_sum_ __as3_type_Fractionfraction_cblock_chains_  pieces_1/6 pieces_1/6 pieces_1/6 pieces_1/6fraction_cblock_chains_ left_96fraction_cblock_chains_ right_522  num_4  plain_image_groups_ total_1plain_image_groups_ url_assets/cms/wootmath_fractions/number_line/markers/end_marker.swf plain_image_groups_ total_1plain_image_groups_ url_assets/cms/wootmath_fractions/number_line/markers/start_marker.swf plain_image_groups_ total_1plain_image_groups_ url_assets/cms/wootmath_fractions/number_line/objects/beetle.swf plain_image_groups_ total_1plain_image_groups_ url_assets/cms/wootmath_fractions/number_line/objects/beetle_trail.swf   den_6 fraction_cblock_total_count_4 fraction_cblock_counts_ 1/6_4 Use the 1/6 pieces to figure out how far the beetle traveled.Answer: 4/6 In the first part of this lesson, student partition the number line into the number of given pieces to determine how far the bug traveled. In the second part of the lesson students partition the number line and then drag the bug to the given location.\n",
      "14   plain_image_groups_ total_1plain_image_groups_ url_assets/cms/wootmath_fractions/number_line/objects/panda.swf plain_image_groups_ total_1plain_image_groups_ url_assets/cms/wootmath_fractions/number_line/markers/start_marker.swf  input_8   numberline_associations_ position_634numberline_associations_ pos_value_0.88 numberline_associations_ obj_name_objectnumberline_associations_   fraction_cblock_chains_ sum_ denominator_8sum_ numerator_7sum_ __as3_type_Fractionfraction_cblock_chains_ lcm_sum_ denominator_8lcm_sum_ numerator_7lcm_sum_ __as3_type_Fractionfraction_cblock_chains_  pieces_1/8 pieces_1/8 pieces_1/8 pieces_1/8 pieces_1/8 pieces_1/8 pieces_1/8fraction_cblock_chains_ left_165fraction_cblock_chains_ right_769 fraction_cblock_total_count_7 fraction_cblock_counts_ 1/8_7 Drag the panda to 7/8 of a yard from the start.Answer: 7/8 In the first part of this lesson, student partition the number line into the number of given pieces to determine how far the bug traveled. In the second part of the lesson students partition the number line and then drag the bug to the given location.\n",
      "15    input_8 One yard on the number line is divided intoAnswer: sixths In the first part of this lesson, student partition the number line into the number of given pieces to determine how far the bug traveled. In the second part of the lesson students partition the number line and then drag the bug to the given location.\n",
      "16    numberline_associations_ position_580.0 numberline_associations_ pos_value_1.0 numberline_associations_ obj_name_answer_textnumberline_associations_ obj_value_3/3 input_ Drag the fraction to its correct location on the number line.Answer: 3/3 In this lesson, students learn how to place unit and non-unit fraction on a number line.\n",
      "17   plain_image_groups_ total_1plain_image_groups_ url_assets/cms/wootmath_fractions/number_line/objects/shark.swf plain_image_groups_ total_1plain_image_groups_ url_assets/cms/wootmath_fractions/number_line/markers/start_marker.swf  input_6   numberline_associations_ position_722numberline_associations_ pos_value_1.0 numberline_associations_ obj_name_objectnumberline_associations_   fraction_cblock_chains_ sum_ denominator_1sum_ numerator_1sum_ __as3_type_Fractionfraction_cblock_chains_ lcm_sum_ denominator_6lcm_sum_ numerator_6lcm_sum_ __as3_type_Fractionfraction_cblock_chains_  pieces_1/6 pieces_1/6 pieces_1/6 pieces_1/6 pieces_1/6 pieces_1/6fraction_cblock_chains_ left_165fraction_cblock_chains_ right_856 fraction_cblock_total_count_6 fraction_cblock_counts_ 1/6_6 Drag the shark to 1/6 of a yard from the start.Answer: 1/6 A review of material from earlier lessons. The following topics were selected for review: Introducing 1/b on the Number Line; Partitioning the Number Line; and Labeling  Number Lines\n",
      "18  whole_ fraction_input_value_1/3  fraction_cblock_chains_ sum_ denominator_1sum_ numerator_1sum_ __as3_type_Fractionfraction_cblock_chains_ lcm_sum_ denominator_3lcm_sum_ numerator_3lcm_sum_ __as3_type_Fractionfraction_cblock_chains_  pieces_1/3 pieces_1/3 pieces_1/3fraction_cblock_chains_ left_96fraction_cblock_chains_ right_657  num_1  plain_image_groups_ total_1plain_image_groups_ url_assets/cms/wootmath_fractions/number_line/markers/end_marker.swf plain_image_groups_ total_1plain_image_groups_ url_assets/cms/wootmath_fractions/number_line/markers/start_marker.swf plain_image_groups_ total_1plain_image_groups_ url_assets/cms/wootmath_fractions/number_line/objects/snail.swf plain_image_groups_ total_1plain_image_groups_ url_assets/cms/wootmath_fractions/number_line/objects/snail_trail.swf   den_3 fraction_cblock_total_count_3 fraction_cblock_counts_ 1/3_3 Use the 1/3 pieces to figure out how far the snail traveled.Answer: 3/3 A review of material from earlier lessons. The following topics were selected for review: Introducing 1/b on the Number Line; Partitioning the Number Line; and Labeling  Number Lines\n",
      "19  whole_ fraction_input_value_3/4  fraction_cblock_chains_ sum_ denominator_4sum_ numerator_3sum_ __as3_type_Fractionfraction_cblock_chains_ lcm_sum_ denominator_4lcm_sum_ numerator_3lcm_sum_ __as3_type_Fractionfraction_cblock_chains_  pieces_1/4 pieces_1/4 pieces_1/4fraction_cblock_chains_ left_96fraction_cblock_chains_ right_545  num_3  plain_image_groups_ total_1plain_image_groups_ url_assets/cms/wootmath_fractions/number_line/markers/end_marker_noline.swf plain_image_groups_ total_1plain_image_groups_ url_assets/cms/wootmath_fractions/number_line/markers/start_marker.swf plain_image_groups_ total_1plain_image_groups_ url_assets/cms/wootmath_fractions/number_line/objects/dog.swf plain_image_groups_ total_1plain_image_groups_ url_assets/cms/wootmath_fractions/number_line/objects/cat_dog_trail.swf   den_4 fraction_cblock_total_count_3 fraction_cblock_counts_ 1/4_3 Use the 1/4 pieces to figure out how far the dog traveled.Answer: 3/4 A review of material from earlier lessons. The following topics were selected for review: Introducing 1/b on the Number Line; Partitioning the Number Line; and Labeling  Number Lines\n"
     ]
    }
   ],
   "source": [
    "for idx in range(20):\n",
    "    print (idx, df3['response_doc'].iloc[idx])"
   ]
  },
  {
   "cell_type": "code",
   "execution_count": 38,
   "metadata": {
    "collapsed": false
   },
   "outputs": [],
   "source": [
    "df3['response_doc'] = df3['response_doc'].map( lambda x: x + ' ' + \" \".join(x.split('/')) if '/' in x else x)"
   ]
  },
  {
   "cell_type": "code",
   "execution_count": 39,
   "metadata": {
    "collapsed": false
   },
   "outputs": [
    {
     "data": {
      "text/plain": [
       "\" radio_group_mc2_ choice_Aradio_group_mc2_ text_Yes radio_group_mc1_ choice_Bradio_group_mc1_ text_No  plain_image_groups_ url_assets/cms/wootmath_fractions/equal_parts/sixths/sixth_15.swfplain_image_groups_ total_1 plain_image_groups_ url_assets/cms/wootmath_fractions/equal_parts/sixths/sixth_06.swfplain_image_groups_ total_1 Do these shapes have 5/6 shaded Answer: [object Object] Students deepen their understanding of fractions by identifying area models that are divided into equal parts and those that aren't.   radio_group_mc2_ choice_Aradio_group_mc2_ text_Yes radio_group_mc1_ choice_Bradio_group_mc1_ text_No  plain_image_groups_ url_assets cms wootmath_fractions equal_parts sixths sixth_15.swfplain_image_groups_ total_1 plain_image_groups_ url_assets cms wootmath_fractions equal_parts sixths sixth_06.swfplain_image_groups_ total_1 Do these shapes have 5 6 shaded Answer: [object Object] Students deepen their understanding of fractions by identifying area models that are divided into equal parts and those that aren't. \""
      ]
     },
     "execution_count": 39,
     "metadata": {},
     "output_type": "execute_result"
    }
   ],
   "source": [
    "df3.iloc[100]['response_doc']"
   ]
  },
  {
   "cell_type": "code",
   "execution_count": 40,
   "metadata": {
    "collapsed": true
   },
   "outputs": [],
   "source": [
    "df3['response_doc'] = df3['response_doc'].map( lambda x: x.replace('[',' '))\n",
    "df3['response_doc'] = df3['response_doc'].map( lambda x: x.replace(']',' '))"
   ]
  },
  {
   "cell_type": "code",
   "execution_count": 41,
   "metadata": {
    "collapsed": false
   },
   "outputs": [
    {
     "data": {
      "text/plain": [
       "\" radio_group_mc2_ choice_Aradio_group_mc2_ text_Yes radio_group_mc1_ choice_Bradio_group_mc1_ text_No  plain_image_groups_ url_assets/cms/wootmath_fractions/equal_parts/sixths/sixth_15.swfplain_image_groups_ total_1 plain_image_groups_ url_assets/cms/wootmath_fractions/equal_parts/sixths/sixth_06.swfplain_image_groups_ total_1 Do these shapes have 5/6 shaded Answer:  object Object  Students deepen their understanding of fractions by identifying area models that are divided into equal parts and those that aren't.   radio_group_mc2_ choice_Aradio_group_mc2_ text_Yes radio_group_mc1_ choice_Bradio_group_mc1_ text_No  plain_image_groups_ url_assets cms wootmath_fractions equal_parts sixths sixth_15.swfplain_image_groups_ total_1 plain_image_groups_ url_assets cms wootmath_fractions equal_parts sixths sixth_06.swfplain_image_groups_ total_1 Do these shapes have 5 6 shaded Answer:  object Object  Students deepen their understanding of fractions by identifying area models that are divided into equal parts and those that aren't. \""
      ]
     },
     "execution_count": 41,
     "metadata": {},
     "output_type": "execute_result"
    }
   ],
   "source": [
    "df3.iloc[100]['response_doc']"
   ]
  },
  {
   "cell_type": "code",
   "execution_count": 42,
   "metadata": {
    "collapsed": true
   },
   "outputs": [],
   "source": [
    "docs = list(df3['response_doc'])"
   ]
  },
  {
   "cell_type": "code",
   "execution_count": 43,
   "metadata": {
    "collapsed": true
   },
   "outputs": [],
   "source": [
    "from time import time\n",
    "\n",
    "from sklearn.feature_extraction.text import TfidfVectorizer, CountVectorizer\n",
    "from sklearn.decomposition import NMF, LatentDirichletAllocation"
   ]
  },
  {
   "cell_type": "code",
   "execution_count": 44,
   "metadata": {
    "collapsed": true
   },
   "outputs": [],
   "source": [
    "data_samples = docs"
   ]
  },
  {
   "cell_type": "code",
   "execution_count": 45,
   "metadata": {
    "collapsed": true
   },
   "outputs": [],
   "source": [
    "n_features = 1000\n",
    "n_samples = len(data_samples)\n",
    "n_topics = 10\n",
    "n_top_words = 20"
   ]
  },
  {
   "cell_type": "code",
   "execution_count": 46,
   "metadata": {
    "collapsed": false
   },
   "outputs": [
    {
     "name": "stdout",
     "output_type": "stream",
     "text": [
      "Extracting tf-idf features for NMF...\n"
     ]
    }
   ],
   "source": [
    "print(\"Extracting tf-idf features for NMF...\")\n",
    "tfidf_vectorizer = TfidfVectorizer(max_df=0.95, min_df=2,\n",
    "                                   max_features=n_features,\n",
    "                                   stop_words='english')"
   ]
  },
  {
   "cell_type": "code",
   "execution_count": 47,
   "metadata": {
    "collapsed": false
   },
   "outputs": [
    {
     "name": "stdout",
     "output_type": "stream",
     "text": [
      "done in 14.377s.\n"
     ]
    }
   ],
   "source": [
    "t0 = time()\n",
    "tfidf = tfidf_vectorizer.fit_transform(data_samples)\n",
    "print(\"done in %0.3fs.\" % (time() - t0))\n"
   ]
  },
  {
   "cell_type": "code",
   "execution_count": 48,
   "metadata": {
    "collapsed": false
   },
   "outputs": [
    {
     "name": "stdout",
     "output_type": "stream",
     "text": [
      "Extracting tf features for LDA...\n",
      "done in 14.297s.\n"
     ]
    }
   ],
   "source": [
    "print(\"Extracting tf features for LDA...\")\n",
    "tf_vectorizer = CountVectorizer(max_df=0.95, min_df=2,\n",
    "                                max_features=n_features,\n",
    "                                stop_words='english')\n",
    "t0 = time()\n",
    "tf = tf_vectorizer.fit_transform(data_samples)\n",
    "print(\"done in %0.3fs.\" % (time() - t0))\n"
   ]
  },
  {
   "cell_type": "code",
   "execution_count": 49,
   "metadata": {
    "collapsed": false
   },
   "outputs": [
    {
     "name": "stdout",
     "output_type": "stream",
     "text": [
      "Fitting the NMF model with tf-idf features, n_samples=100000 and n_features=1000...\n",
      "done in 15.776s.\n"
     ]
    }
   ],
   "source": [
    "# Fit the NMF model\n",
    "print(\"Fitting the NMF model with tf-idf features, \"\n",
    "      \"n_samples=%d and n_features=%d...\"\n",
    "      % (n_samples, n_features))\n",
    "t0 = time()\n",
    "nmf = NMF(n_components=n_topics, random_state=1,\n",
    "          alpha=.1, l1_ratio=.5).fit(tfidf)\n",
    "print(\"done in %0.3fs.\" % (time() - t0))"
   ]
  },
  {
   "cell_type": "code",
   "execution_count": 50,
   "metadata": {
    "collapsed": true
   },
   "outputs": [],
   "source": [
    "def print_top_words(model, feature_names, n_top_words):\n",
    "    for topic_idx, topic in enumerate(model.components_):\n",
    "        print(\"Topic #%d:\" % topic_idx)\n",
    "        print(\" \".join([feature_names[i]\n",
    "                        for i in topic.argsort()[:-n_top_words - 1:-1]]))\n",
    "    print()"
   ]
  },
  {
   "cell_type": "code",
   "execution_count": 51,
   "metadata": {
    "collapsed": false
   },
   "outputs": [
    {
     "name": "stdout",
     "output_type": "stream",
     "text": [
      "\n",
      "Topics in NMF model:\n",
      "Topic #0:\n",
      "__as3_type_fractionfraction_cblock_chains_ fraction_cblock_chains_ sum_ lcm_sum_ numerator_1lcm_sum_ numerator_1sum_ pieces_1 __as3_type_fraction denominator_1sum_ denominator_1lcm_sum_ pieces_1fraction_cblock_chains_ left_175fraction_cblock_chains_ bar1_ bar fraction_cblock_counts_ fraction_cblock_containment_ denominator_2sum_ denominator_4lcm_sum_ denominator_8lcm_sum_ denominator_8sum_\n",
      "Topic #1:\n",
      "pieces_1 fraction_circle_groups_ fraction chains_ scale_0 1_ pieces_1fraction_circle_groups_ 2_ fraction_circle_containment_ __as3_type_fraction 15 lcm_sum_ sum_ fraction_circle_counts_ pieces scale_1 1_1fraction_circle_counts_ circle y_300fraction_circle_groups_ unit1_\n",
      "Topic #2:\n",
      "cms wootmath_fractions plain_image_groups_ url_assets number_line swf total_1plain_image_groups_ markers objects_v2 objects traveled start_marker distance swfplain_image_groups_ total_1 line juice real world represent\n",
      "Topic #3:\n",
      "common numerators having comparison denominators match fraction_input_value_ input_a_ shade correct choose compare fraction fractions students input_ true make circle bar\n",
      "Topic #4:\n",
      "grid tenths model object 1x10 hundredths decimal build visual notation models decimals shading answer introduced students using shown input_ 10x10\n",
      "Topic #5:\n",
      "fraction_circle_groups_ names piece pieces relative unit given lesson object students half goal fraction fourth circle y_350 naming need limited flexible\n",
      "Topic #6:\n",
      "numberline_associations_ line number location drag pos_value_0 label correct mile mixed pos_value_1 students obj_value_ interval fraction numbers yard answer length improper\n",
      "Topic #7:\n",
      "12 pieces_1 denominator_12lcm_sum_ 12chains_ 12fraction_cblock_chains_ 3_ denominator_12sum_ reds den_12 fraction models lesson 11 12fraction_circle_groups_ review addition 4_ bitmap_text_inputs_ bitmap_text_interp_ fractions\n",
      "Topic #8:\n",
      "10 denominator_10lcm_sum_ pieces_1 10fraction_cblock_chains_ den_10 denominator_10sum_ denominator_5sum_ 10chains_ using parts lesson models addition purples symbols visual set complete fractional students\n",
      "Topic #9:\n",
      "order fractions common denominator greatest numerator boxes arrange drag review strategies aways whole_ benchmark variety students ordering fraction answer using\n",
      "\n"
     ]
    }
   ],
   "source": [
    "print(\"\\nTopics in NMF model:\")\n",
    "tfidf_feature_names = tfidf_vectorizer.get_feature_names()\n",
    "print_top_words(nmf, tfidf_feature_names, n_top_words)"
   ]
  },
  {
   "cell_type": "code",
   "execution_count": 52,
   "metadata": {
    "collapsed": false
   },
   "outputs": [
    {
     "name": "stdout",
     "output_type": "stream",
     "text": [
      "Fitting LDA models with tf features, n_samples=100000 and n_features=1000...\n"
     ]
    },
    {
     "name": "stderr",
     "output_type": "stream",
     "text": [
      "/Users/brianmckean/anaconda2/envs/hwenv/lib/python3.6/site-packages/sklearn/decomposition/online_lda.py:294: DeprecationWarning: n_topics has been renamed to n_components in version 0.19 and will be removed in 0.21\n",
      "  DeprecationWarning)\n"
     ]
    },
    {
     "name": "stdout",
     "output_type": "stream",
     "text": [
      "done in 150.299s.\n"
     ]
    }
   ],
   "source": [
    "print(\"Fitting LDA models with tf features, \"\n",
    "      \"n_samples=%d and n_features=%d...\"\n",
    "      % (n_samples, n_features))\n",
    "lda = LatentDirichletAllocation(n_topics=n_topics, max_iter=5,\n",
    "                                learning_method='online',\n",
    "                                learning_offset=50.,\n",
    "                                random_state=0)\n",
    "t0 = time()\n",
    "lda.fit(tf)\n",
    "print(\"done in %0.3fs.\" % (time() - t0))"
   ]
  },
  {
   "cell_type": "code",
   "execution_count": 53,
   "metadata": {
    "collapsed": false
   },
   "outputs": [
    {
     "name": "stdout",
     "output_type": "stream",
     "text": [
      "\n",
      "Topics in LDA model:\n",
      "Topic #0:\n",
      "pieces_1 12 fraction 10 15 __as3_type_fraction fraction_circle_groups_ pieces sum_ lcm_sum_ 1_ chains_ 2_ circle numerator_1sum_ fraction_circle_containment_ answer fraction_circle_counts_ scale_1 students\n",
      "Topic #1:\n",
      "url_assets plain_image_groups_ wootmath_fractions cms swf number_line total_1plain_image_groups_ markers objects traveled start_marker objects_v2 line number distance answer students fraction use far\n",
      "Topic #2:\n",
      "review whole_ answer fraction fractions lessons earlier selected following topics material mixed students ordering enter fraction_input_value_1 num_1 lesson form fractional\n",
      "Topic #3:\n",
      "students answer fractions using models numerator denominator correct visual model lesson comparison input_ benchmark grid compare equivalent choose fraction notation\n",
      "Topic #4:\n",
      "common fraction fractions students order denominators numerators math answer comparison compare correct bitmap_text_interp_ bitmap_text_inputs_ having enter fraction_input_value_ choose input_a_ amounts\n",
      "Topic #5:\n",
      "__as3_type_fractionfraction_cblock_chains_ pieces_1 lcm_sum_ sum_ numerator_1sum_ fraction_cblock_chains_ numerator_1lcm_sum_ __as3_type_fraction denominator_1sum_ pieces_1fraction_cblock_chains_ denominator_1lcm_sum_ denominator_8lcm_sum_ fractions left_175fraction_cblock_chains_ fraction_cblock_counts_ denominator_8sum_ denominator_4sum_ 8fraction_cblock_chains_ denominator_4lcm_sum_ denominator_2sum_\n",
      "Topic #6:\n",
      "pieces_1 fraction_circle_groups_ scale_0 sum_ lcm_sum_ chains_ pieces_1fraction_circle_groups_ numerator_1sum_ unit1_ fraction_circle_containment_ unit2_ fraction_circle_counts_ lesson answer __as3_type_fractionunit1_ denominator_8lcm_sum_ __as3_type_fractionunit2_ __as3_type_fractionfraction_circle_containment_ __as3_type_fraction denominator_6lcm_sum_\n",
      "Topic #7:\n",
      "pieces_1 fraction sum_ lcm_sum_ __as3_type_fraction bar model __as3_type_fractionfraction_cblock_chains_ numerator_1sum_ fraction_cblock_chains_ bar1_ pieces left_130fraction_cblock_chains_ students object black size numerator_1lcm_sum_ names denominator_1sum_\n",
      "Topic #8:\n",
      "number numberline_associations_ line students drag answer fraction url_assets plain_image_groups_ location cms wootmath_fractions swfplain_image_groups_ total_1 total_1plain_image_groups_ swf pos_value_0 world real mile\n",
      "Topic #9:\n",
      "fraction_circle_groups_ pieces_1 students piece pieces lesson relative fraction names unit answer goal given scale_1 scale_0 fraction_circle_counts_ half circle fourth object\n",
      "\n"
     ]
    }
   ],
   "source": [
    "print(\"\\nTopics in LDA model:\")\n",
    "tf_feature_names = tf_vectorizer.get_feature_names()\n",
    "print_top_words(lda, tf_feature_names, n_top_words)"
   ]
  },
  {
   "cell_type": "code",
   "execution_count": 54,
   "metadata": {
    "collapsed": true
   },
   "outputs": [],
   "source": [
    "n_features = 1000\n",
    "n_samples = len(data_samples)\n",
    "n_topics = 100\n",
    "n_top_words = 20"
   ]
  },
  {
   "cell_type": "code",
   "execution_count": 55,
   "metadata": {
    "collapsed": false
   },
   "outputs": [
    {
     "ename": "SyntaxError",
     "evalue": "positional argument follows keyword argument (<ipython-input-55-efb0327faec2>, line 5)",
     "output_type": "error",
     "traceback": [
      "\u001b[0;36m  File \u001b[0;32m\"<ipython-input-55-efb0327faec2>\"\u001b[0;36m, line \u001b[0;32m5\u001b[0m\n\u001b[0;31m    ngram_range(1,4))\u001b[0m\n\u001b[0m    ^\u001b[0m\n\u001b[0;31mSyntaxError\u001b[0m\u001b[0;31m:\u001b[0m positional argument follows keyword argument\n"
     ]
    }
   ],
   "source": [
    "print(\"Extracting tf-idf features for NMF...\")\n",
    "tfidf_vectorizer = TfidfVectorizer(max_df=0.95, min_df=2,\n",
    "                                   max_features=n_features,\n",
    "                                   stop_words='english',\n",
    "                                      ngram_range(1,4))\n",
    "t0 = time()\n",
    "tfidf_matrix = tfidf_vectorizer.fit_transform(data_samples)\n",
    "print(\"done in %0.3fs.\" % (time() - t0))\n",
    "\n",
    "\n",
    "print(\"Extracting tf features for LDA...\")\n",
    "tf_vectorizer = CountVectorizer(max_df=0.95, min_df=2,\n",
    "                                max_features=n_features,\n",
    "                                stop_words='english')\n",
    "t0 = time()\n",
    "tf = tf_vectorizer.fit_transform(data_samples)\n",
    "print(\"done in %0.3fs.\" % (time() - t0))\n"
   ]
  },
  {
   "cell_type": "code",
   "execution_count": null,
   "metadata": {
    "collapsed": false
   },
   "outputs": [],
   "source": [
    "print(\"\\nTopics in NMF model:\")\n",
    "tfidf_feature_names = tfidf_vectorizer.get_feature_names()\n",
    "print_top_words(nmf, tfidf_feature_names, n_top_words)\n",
    "\n"
   ]
  },
  {
   "cell_type": "code",
   "execution_count": null,
   "metadata": {
    "collapsed": false,
    "scrolled": false
   },
   "outputs": [],
   "source": [
    "print(\"Fitting LDA models with tf features, \"\n",
    "      \"n_samples=%d and n_features=%d...\"\n",
    "      % (n_samples, n_features))\n",
    "lda = LatentDirichletAllocation(n_topics=n_topics, max_iter=5,\n",
    "                                learning_method='online',\n",
    "                                learning_offset=50.,\n",
    "                                random_state=0)\n",
    "t0 = time()\n",
    "lda.fit(tf)\n",
    "print(\"done in %0.3fs.\" % (time() - t0))\n",
    "print(\"\\nTopics in LDA model:\")\n",
    "tf_feature_names = tf_vectorizer.get_feature_names()\n",
    "print_top_words(lda, tf_feature_names, n_top_words)"
   ]
  },
  {
   "cell_type": "code",
   "execution_count": null,
   "metadata": {
    "collapsed": true
   },
   "outputs": [],
   "source": [
    "from sklearn.cluster import KMeans\n",
    "\n",
    "num_clusters = 5\n",
    "\n",
    "km = KMeans(n_clusters=num_clusters)\n",
    "\n",
    "%time km.fit(tfidf_matrix)\n",
    "\n",
    "clusters = km.labels_.tolist()"
   ]
  },
  {
   "cell_type": "code",
   "execution_count": null,
   "metadata": {
    "collapsed": true
   },
   "outputs": [],
   "source": [
    "from sklearn.externals import joblib\n",
    "\n",
    "#uncomment the below to save your model \n",
    "#since I've already run my model I am loading from the pickle\n",
    "\n",
    "joblib.dump(km,  'doc_cluster.pkl')\n",
    "\n",
    "km = joblib.load('doc_cluster.pkl')\n",
    "clusters = km.labels_.tolist()"
   ]
  },
  {
   "cell_type": "code",
   "execution_count": null,
   "metadata": {
    "collapsed": true
   },
   "outputs": [],
   "source": []
  }
 ],
 "metadata": {
  "anaconda-cloud": {},
  "kernelspec": {
   "display_name": "Python [conda env:hwenv]",
   "language": "python",
   "name": "conda-env-hwenv-py"
  },
  "language_info": {
   "codemirror_mode": {
    "name": "ipython",
    "version": 3
   },
   "file_extension": ".py",
   "mimetype": "text/x-python",
   "name": "python",
   "nbconvert_exporter": "python",
   "pygments_lexer": "ipython3",
   "version": "3.6.2"
  }
 },
 "nbformat": 4,
 "nbformat_minor": 1
}
